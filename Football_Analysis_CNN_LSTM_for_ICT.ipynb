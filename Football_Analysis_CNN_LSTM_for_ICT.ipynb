{
  "nbformat": 4,
  "nbformat_minor": 0,
  "metadata": {
    "colab": {
      "provenance": [],
      "gpuType": "T4"
    },
    "kernelspec": {
      "name": "python3",
      "display_name": "Python 3"
    },
    "language_info": {
      "name": "python"
    },
    "accelerator": "GPU"
  },
  "cells": [
    {
      "cell_type": "code",
      "execution_count": 1,
      "metadata": {
        "colab": {
          "base_uri": "https://localhost:8080/"
        },
        "id": "8YQHvumv5LRV",
        "outputId": "243cd2ee-4753-49ae-d751-07789136aca1"
      },
      "outputs": [
        {
          "output_type": "stream",
          "name": "stdout",
          "text": [
            "Requirement already satisfied: tensorflow in /usr/local/lib/python3.10/dist-packages (2.15.0)\n",
            "Requirement already satisfied: opencv-contrib-python in /usr/local/lib/python3.10/dist-packages (4.8.0.76)\n",
            "Collecting youtube-dl\n",
            "  Downloading youtube_dl-2021.12.17-py2.py3-none-any.whl (1.9 MB)\n",
            "\u001b[2K     \u001b[90m━━━━━━━━━━━━━━━━━━━━━━━━━━━━━━━━━━━━━━━━\u001b[0m \u001b[32m1.9/1.9 MB\u001b[0m \u001b[31m13.2 MB/s\u001b[0m eta \u001b[36m0:00:00\u001b[0m\n",
            "\u001b[?25hRequirement already satisfied: moviepy in /usr/local/lib/python3.10/dist-packages (1.0.3)\n",
            "Requirement already satisfied: pydot in /usr/local/lib/python3.10/dist-packages (1.4.2)\n",
            "Requirement already satisfied: absl-py>=1.0.0 in /usr/local/lib/python3.10/dist-packages (from tensorflow) (1.4.0)\n",
            "Requirement already satisfied: astunparse>=1.6.0 in /usr/local/lib/python3.10/dist-packages (from tensorflow) (1.6.3)\n",
            "Requirement already satisfied: flatbuffers>=23.5.26 in /usr/local/lib/python3.10/dist-packages (from tensorflow) (24.3.25)\n",
            "Requirement already satisfied: gast!=0.5.0,!=0.5.1,!=0.5.2,>=0.2.1 in /usr/local/lib/python3.10/dist-packages (from tensorflow) (0.5.4)\n",
            "Requirement already satisfied: google-pasta>=0.1.1 in /usr/local/lib/python3.10/dist-packages (from tensorflow) (0.2.0)\n",
            "Requirement already satisfied: h5py>=2.9.0 in /usr/local/lib/python3.10/dist-packages (from tensorflow) (3.9.0)\n",
            "Requirement already satisfied: libclang>=13.0.0 in /usr/local/lib/python3.10/dist-packages (from tensorflow) (18.1.1)\n",
            "Requirement already satisfied: ml-dtypes~=0.2.0 in /usr/local/lib/python3.10/dist-packages (from tensorflow) (0.2.0)\n",
            "Requirement already satisfied: numpy<2.0.0,>=1.23.5 in /usr/local/lib/python3.10/dist-packages (from tensorflow) (1.25.2)\n",
            "Requirement already satisfied: opt-einsum>=2.3.2 in /usr/local/lib/python3.10/dist-packages (from tensorflow) (3.3.0)\n",
            "Requirement already satisfied: packaging in /usr/local/lib/python3.10/dist-packages (from tensorflow) (24.0)\n",
            "Requirement already satisfied: protobuf!=4.21.0,!=4.21.1,!=4.21.2,!=4.21.3,!=4.21.4,!=4.21.5,<5.0.0dev,>=3.20.3 in /usr/local/lib/python3.10/dist-packages (from tensorflow) (3.20.3)\n",
            "Requirement already satisfied: setuptools in /usr/local/lib/python3.10/dist-packages (from tensorflow) (67.7.2)\n",
            "Requirement already satisfied: six>=1.12.0 in /usr/local/lib/python3.10/dist-packages (from tensorflow) (1.16.0)\n",
            "Requirement already satisfied: termcolor>=1.1.0 in /usr/local/lib/python3.10/dist-packages (from tensorflow) (2.4.0)\n",
            "Requirement already satisfied: typing-extensions>=3.6.6 in /usr/local/lib/python3.10/dist-packages (from tensorflow) (4.11.0)\n",
            "Requirement already satisfied: wrapt<1.15,>=1.11.0 in /usr/local/lib/python3.10/dist-packages (from tensorflow) (1.14.1)\n",
            "Requirement already satisfied: tensorflow-io-gcs-filesystem>=0.23.1 in /usr/local/lib/python3.10/dist-packages (from tensorflow) (0.36.0)\n",
            "Requirement already satisfied: grpcio<2.0,>=1.24.3 in /usr/local/lib/python3.10/dist-packages (from tensorflow) (1.62.1)\n",
            "Requirement already satisfied: tensorboard<2.16,>=2.15 in /usr/local/lib/python3.10/dist-packages (from tensorflow) (2.15.2)\n",
            "Requirement already satisfied: tensorflow-estimator<2.16,>=2.15.0 in /usr/local/lib/python3.10/dist-packages (from tensorflow) (2.15.0)\n",
            "Requirement already satisfied: keras<2.16,>=2.15.0 in /usr/local/lib/python3.10/dist-packages (from tensorflow) (2.15.0)\n",
            "Requirement already satisfied: decorator<5.0,>=4.0.2 in /usr/local/lib/python3.10/dist-packages (from moviepy) (4.4.2)\n",
            "Requirement already satisfied: tqdm<5.0,>=4.11.2 in /usr/local/lib/python3.10/dist-packages (from moviepy) (4.66.2)\n",
            "Requirement already satisfied: requests<3.0,>=2.8.1 in /usr/local/lib/python3.10/dist-packages (from moviepy) (2.31.0)\n",
            "Requirement already satisfied: proglog<=1.0.0 in /usr/local/lib/python3.10/dist-packages (from moviepy) (0.1.10)\n",
            "Requirement already satisfied: imageio<3.0,>=2.5 in /usr/local/lib/python3.10/dist-packages (from moviepy) (2.31.6)\n",
            "Requirement already satisfied: imageio-ffmpeg>=0.2.0 in /usr/local/lib/python3.10/dist-packages (from moviepy) (0.4.9)\n",
            "Requirement already satisfied: pyparsing>=2.1.4 in /usr/local/lib/python3.10/dist-packages (from pydot) (3.1.2)\n",
            "Requirement already satisfied: wheel<1.0,>=0.23.0 in /usr/local/lib/python3.10/dist-packages (from astunparse>=1.6.0->tensorflow) (0.43.0)\n",
            "Requirement already satisfied: pillow<10.1.0,>=8.3.2 in /usr/local/lib/python3.10/dist-packages (from imageio<3.0,>=2.5->moviepy) (9.4.0)\n",
            "Requirement already satisfied: charset-normalizer<4,>=2 in /usr/local/lib/python3.10/dist-packages (from requests<3.0,>=2.8.1->moviepy) (3.3.2)\n",
            "Requirement already satisfied: idna<4,>=2.5 in /usr/local/lib/python3.10/dist-packages (from requests<3.0,>=2.8.1->moviepy) (3.7)\n",
            "Requirement already satisfied: urllib3<3,>=1.21.1 in /usr/local/lib/python3.10/dist-packages (from requests<3.0,>=2.8.1->moviepy) (2.0.7)\n",
            "Requirement already satisfied: certifi>=2017.4.17 in /usr/local/lib/python3.10/dist-packages (from requests<3.0,>=2.8.1->moviepy) (2024.2.2)\n",
            "Requirement already satisfied: google-auth<3,>=1.6.3 in /usr/local/lib/python3.10/dist-packages (from tensorboard<2.16,>=2.15->tensorflow) (2.27.0)\n",
            "Requirement already satisfied: google-auth-oauthlib<2,>=0.5 in /usr/local/lib/python3.10/dist-packages (from tensorboard<2.16,>=2.15->tensorflow) (1.2.0)\n",
            "Requirement already satisfied: markdown>=2.6.8 in /usr/local/lib/python3.10/dist-packages (from tensorboard<2.16,>=2.15->tensorflow) (3.6)\n",
            "Requirement already satisfied: tensorboard-data-server<0.8.0,>=0.7.0 in /usr/local/lib/python3.10/dist-packages (from tensorboard<2.16,>=2.15->tensorflow) (0.7.2)\n",
            "Requirement already satisfied: werkzeug>=1.0.1 in /usr/local/lib/python3.10/dist-packages (from tensorboard<2.16,>=2.15->tensorflow) (3.0.2)\n",
            "Requirement already satisfied: cachetools<6.0,>=2.0.0 in /usr/local/lib/python3.10/dist-packages (from google-auth<3,>=1.6.3->tensorboard<2.16,>=2.15->tensorflow) (5.3.3)\n",
            "Requirement already satisfied: pyasn1-modules>=0.2.1 in /usr/local/lib/python3.10/dist-packages (from google-auth<3,>=1.6.3->tensorboard<2.16,>=2.15->tensorflow) (0.4.0)\n",
            "Requirement already satisfied: rsa<5,>=3.1.4 in /usr/local/lib/python3.10/dist-packages (from google-auth<3,>=1.6.3->tensorboard<2.16,>=2.15->tensorflow) (4.9)\n",
            "Requirement already satisfied: requests-oauthlib>=0.7.0 in /usr/local/lib/python3.10/dist-packages (from google-auth-oauthlib<2,>=0.5->tensorboard<2.16,>=2.15->tensorflow) (1.3.1)\n",
            "Requirement already satisfied: MarkupSafe>=2.1.1 in /usr/local/lib/python3.10/dist-packages (from werkzeug>=1.0.1->tensorboard<2.16,>=2.15->tensorflow) (2.1.5)\n",
            "Requirement already satisfied: pyasn1<0.7.0,>=0.4.6 in /usr/local/lib/python3.10/dist-packages (from pyasn1-modules>=0.2.1->google-auth<3,>=1.6.3->tensorboard<2.16,>=2.15->tensorflow) (0.6.0)\n",
            "Requirement already satisfied: oauthlib>=3.0.0 in /usr/local/lib/python3.10/dist-packages (from requests-oauthlib>=0.7.0->google-auth-oauthlib<2,>=0.5->tensorboard<2.16,>=2.15->tensorflow) (3.2.2)\n",
            "Installing collected packages: youtube-dl\n",
            "Successfully installed youtube-dl-2021.12.17\n"
          ]
        }
      ],
      "source": [
        "!pip install tensorflow opencv-contrib-python youtube-dl moviepy pydot"
      ]
    },
    {
      "cell_type": "code",
      "source": [
        "!pip install pafy"
      ],
      "metadata": {
        "colab": {
          "base_uri": "https://localhost:8080/"
        },
        "id": "A3xaq9KI5jRY",
        "outputId": "3bc2d509-dad3-4247-c46f-5bfdf787e950"
      },
      "execution_count": 2,
      "outputs": [
        {
          "output_type": "stream",
          "name": "stdout",
          "text": [
            "Collecting pafy\n",
            "  Downloading pafy-0.5.5-py2.py3-none-any.whl (35 kB)\n",
            "Installing collected packages: pafy\n",
            "Successfully installed pafy-0.5.5\n"
          ]
        }
      ]
    },
    {
      "cell_type": "code",
      "source": [
        "from google.colab import drive\n",
        "drive.mount('/content/drive')"
      ],
      "metadata": {
        "colab": {
          "base_uri": "https://localhost:8080/"
        },
        "id": "bgcIVeBKqBPg",
        "outputId": "b5a59e97-a831-4567-c917-e7134271b06e"
      },
      "execution_count": 3,
      "outputs": [
        {
          "output_type": "stream",
          "name": "stdout",
          "text": [
            "Mounted at /content/drive\n"
          ]
        }
      ]
    },
    {
      "cell_type": "code",
      "source": [
        "!unzip -q '/content/drive/MyDrive/football match action video dataset/dataset.zip'"
      ],
      "metadata": {
        "id": "k91YIS9Y9SvB"
      },
      "execution_count": 4,
      "outputs": []
    },
    {
      "cell_type": "code",
      "source": [
        "# Import the required libraries.\n",
        "import os\n",
        "from os import path\n",
        "import cv2\n",
        "import pafy\n",
        "# import math\n",
        "import random\n",
        "import numpy as np\n",
        "import pandas as pd\n",
        "import datetime as dt\n",
        "import tensorflow as tf\n",
        "from collections import deque\n",
        "import matplotlib.pyplot as plt\n",
        "import moviepy.editor as mp\n",
        "\n",
        "%matplotlib inline\n",
        "\n",
        "from sklearn.model_selection import train_test_split\n",
        "\n",
        "from tensorflow.keras.layers import *\n",
        "from tensorflow.keras.models import Sequential\n",
        "from tensorflow.keras.utils import to_categorical\n",
        "from tensorflow.keras.callbacks import EarlyStopping\n",
        "from tensorflow.keras.utils import plot_model"
      ],
      "metadata": {
        "id": "IldvWbEh5N_c"
      },
      "execution_count": 127,
      "outputs": []
    },
    {
      "cell_type": "code",
      "source": [
        "seed_constant = 27\n",
        "np.random.seed(seed_constant)\n",
        "random.seed(seed_constant)\n",
        "tf.random.set_seed(seed_constant)"
      ],
      "metadata": {
        "id": "T_4-WTGl5XB9"
      },
      "execution_count": 6,
      "outputs": []
    },
    {
      "cell_type": "code",
      "source": [
        "# Get the names of all classes/categories in dataset.\n",
        "all_classes_names = os.listdir('/content/dataset')"
      ],
      "metadata": {
        "id": "2nzSmJA05xJU"
      },
      "execution_count": 7,
      "outputs": []
    },
    {
      "cell_type": "markdown",
      "source": [
        "Data preprocessing"
      ],
      "metadata": {
        "id": "fPLn3HDiBDvM"
      }
    },
    {
      "cell_type": "code",
      "source": [
        "IMAGE_HEIGHT , IMAGE_WIDTH = 64, 64\n",
        "SEQUENCE_LENGTH = 20\n",
        "\n",
        "DATASET_DIR = '/content/dataset'\n",
        "\n",
        "CLASSES_LIST = [\"goal\", \"happy\", \"losses\"]"
      ],
      "metadata": {
        "id": "vxfy4FRcAbR0"
      },
      "execution_count": 8,
      "outputs": []
    },
    {
      "cell_type": "code",
      "source": [
        "def frames_extraction(video_path):\n",
        "\n",
        "    frames_list = []\n",
        "    video_reader = cv2.VideoCapture(video_path)\n",
        "    video_frames_count = int(video_reader.get(cv2.CAP_PROP_FRAME_COUNT))\n",
        "    skip_frames_window = max(int(video_frames_count/SEQUENCE_LENGTH), 1)\n",
        "\n",
        "    for frame_counter in range(SEQUENCE_LENGTH):\n",
        "        video_reader.set(cv2.CAP_PROP_POS_FRAMES, frame_counter * skip_frames_window)\n",
        "        success, frame = video_reader.read()\n",
        "\n",
        "        if not success:\n",
        "            break\n",
        "\n",
        "        resized_frame = cv2.resize(frame, (IMAGE_HEIGHT, IMAGE_WIDTH))\n",
        "        normalized_frame = resized_frame / 255\n",
        "        frames_list.append(normalized_frame)\n",
        "\n",
        "    video_reader.release()\n",
        "\n",
        "    return frames_list"
      ],
      "metadata": {
        "id": "naCxW6HmBIy3"
      },
      "execution_count": 9,
      "outputs": []
    },
    {
      "cell_type": "code",
      "source": [
        "def create_dataset():\n",
        "\n",
        "    features = []\n",
        "    labels = []\n",
        "    video_files_paths = []\n",
        "\n",
        "    for class_index, class_name in enumerate(CLASSES_LIST):\n",
        "        print(f'Extracting Data of Class: {class_name}')\n",
        "\n",
        "        files_list = os.listdir(os.path.join(DATASET_DIR, class_name))\n",
        "\n",
        "        for file_name in files_list:\n",
        "\n",
        "            video_file_path = os.path.join(DATASET_DIR, class_name, file_name)\n",
        "\n",
        "\n",
        "            frames = frames_extraction(video_file_path)\n",
        "\n",
        "            if len(frames) == SEQUENCE_LENGTH:\n",
        "\n",
        "                features.append(frames)\n",
        "                labels.append(class_index)\n",
        "                video_files_paths.append(video_file_path)\n",
        "\n",
        "    features = np.asarray(features)\n",
        "    labels = np.array(labels)\n",
        "\n",
        "    return features, labels, video_files_paths"
      ],
      "metadata": {
        "id": "0KdXSBRXBru3"
      },
      "execution_count": 10,
      "outputs": []
    },
    {
      "cell_type": "code",
      "source": [
        "# Create the dataset.\n",
        "features, labels, video_files_paths = create_dataset()"
      ],
      "metadata": {
        "id": "oEZSBTO7B9Dj",
        "colab": {
          "base_uri": "https://localhost:8080/"
        },
        "outputId": "7e0ce6cb-d1d9-4390-b329-1ea21757d352"
      },
      "execution_count": 11,
      "outputs": [
        {
          "output_type": "stream",
          "name": "stdout",
          "text": [
            "Extracting Data of Class: goal\n",
            "Extracting Data of Class: happy\n",
            "Extracting Data of Class: losses\n"
          ]
        }
      ]
    },
    {
      "cell_type": "code",
      "source": [
        "# convert labels into one-hot-encoded vectors\n",
        "one_hot_encoded_labels = to_categorical(labels)"
      ],
      "metadata": {
        "id": "29-LwRZTB_FL"
      },
      "execution_count": 12,
      "outputs": []
    },
    {
      "cell_type": "markdown",
      "source": [
        "Model construction"
      ],
      "metadata": {
        "id": "EGDkhQmPCloe"
      }
    },
    {
      "cell_type": "code",
      "source": [
        "# Split the Data into Train ( 75% ) and Test Set ( 25% ).\n",
        "features_train, features_test, labels_train, labels_test = train_test_split(features, one_hot_encoded_labels,\n",
        "                                                                            test_size = 0.25, shuffle = True,\n",
        "                                                                            random_state = seed_constant)"
      ],
      "metadata": {
        "id": "9mMkdUsRCkD3"
      },
      "execution_count": 13,
      "outputs": []
    },
    {
      "cell_type": "code",
      "source": [
        "def create_convlstm_model():\n",
        "    '''\n",
        "    This function will construct a convlstm model for our goal,\n",
        "     red card and tackling classification task.\n",
        "    '''\n",
        "    model = Sequential()\n",
        "\n",
        "    model.add(ConvLSTM2D(filters = 4, kernel_size = (3, 3), activation = 'tanh',data_format = \"channels_last\",\n",
        "                         recurrent_dropout=0.2, return_sequences=True, input_shape = (SEQUENCE_LENGTH,\n",
        "                                                                                      IMAGE_HEIGHT, IMAGE_WIDTH, 3)))\n",
        "\n",
        "    model.add(MaxPooling3D(pool_size=(1, 2, 2), padding='same', data_format='channels_last'))\n",
        "    model.add(TimeDistributed(Dropout(0.2)))\n",
        "\n",
        "    model.add(ConvLSTM2D(filters = 8, kernel_size = (3, 3), activation = 'tanh', data_format = \"channels_last\",\n",
        "                         recurrent_dropout=0.2, return_sequences=True))\n",
        "\n",
        "    model.add(MaxPooling3D(pool_size=(1, 2, 2), padding='same', data_format='channels_last'))\n",
        "    model.add(TimeDistributed(Dropout(0.2)))\n",
        "\n",
        "    model.add(ConvLSTM2D(filters = 14, kernel_size = (3, 3), activation = 'tanh', data_format = \"channels_last\",\n",
        "                         recurrent_dropout=0.2, return_sequences=True))\n",
        "\n",
        "    model.add(MaxPooling3D(pool_size=(1, 2, 2), padding='same', data_format='channels_last'))\n",
        "    model.add(TimeDistributed(Dropout(0.2)))\n",
        "\n",
        "    model.add(ConvLSTM2D(filters = 16, kernel_size = (3, 3), activation = 'tanh', data_format = \"channels_last\",\n",
        "                         recurrent_dropout=0.2, return_sequences=True))\n",
        "\n",
        "    model.add(MaxPooling3D(pool_size=(1, 2, 2), padding='same', data_format='channels_last'))\n",
        "    #model.add(TimeDistributed(Dropout(0.2)))\n",
        "\n",
        "    model.add(Flatten())\n",
        "\n",
        "    model.add(Dense(len(CLASSES_LIST), activation = \"softmax\"))\n",
        "\n",
        "    model.summary()\n",
        "\n",
        "    return model"
      ],
      "metadata": {
        "id": "YDlMtvqUCsQl"
      },
      "execution_count": 14,
      "outputs": []
    },
    {
      "cell_type": "code",
      "source": [
        "# Construct the required convlstm model.\n",
        "convlstm_model = create_convlstm_model()"
      ],
      "metadata": {
        "id": "Oa7Y5ieUCv8p",
        "colab": {
          "base_uri": "https://localhost:8080/"
        },
        "outputId": "4771d21b-a203-457b-f8b2-6af8125749ca"
      },
      "execution_count": 15,
      "outputs": [
        {
          "output_type": "stream",
          "name": "stdout",
          "text": [
            "Model: \"sequential\"\n",
            "_________________________________________________________________\n",
            " Layer (type)                Output Shape              Param #   \n",
            "=================================================================\n",
            " conv_lstm2d (ConvLSTM2D)    (None, 20, 62, 62, 4)     1024      \n",
            "                                                                 \n",
            " max_pooling3d (MaxPooling3  (None, 20, 31, 31, 4)     0         \n",
            " D)                                                              \n",
            "                                                                 \n",
            " time_distributed (TimeDist  (None, 20, 31, 31, 4)     0         \n",
            " ributed)                                                        \n",
            "                                                                 \n",
            " conv_lstm2d_1 (ConvLSTM2D)  (None, 20, 29, 29, 8)     3488      \n",
            "                                                                 \n",
            " max_pooling3d_1 (MaxPoolin  (None, 20, 15, 15, 8)     0         \n",
            " g3D)                                                            \n",
            "                                                                 \n",
            " time_distributed_1 (TimeDi  (None, 20, 15, 15, 8)     0         \n",
            " stributed)                                                      \n",
            "                                                                 \n",
            " conv_lstm2d_2 (ConvLSTM2D)  (None, 20, 13, 13, 14)    11144     \n",
            "                                                                 \n",
            " max_pooling3d_2 (MaxPoolin  (None, 20, 7, 7, 14)      0         \n",
            " g3D)                                                            \n",
            "                                                                 \n",
            " time_distributed_2 (TimeDi  (None, 20, 7, 7, 14)      0         \n",
            " stributed)                                                      \n",
            "                                                                 \n",
            " conv_lstm2d_3 (ConvLSTM2D)  (None, 20, 5, 5, 16)      17344     \n",
            "                                                                 \n",
            " max_pooling3d_3 (MaxPoolin  (None, 20, 3, 3, 16)      0         \n",
            " g3D)                                                            \n",
            "                                                                 \n",
            " flatten (Flatten)           (None, 2880)              0         \n",
            "                                                                 \n",
            " dense (Dense)               (None, 3)                 8643      \n",
            "                                                                 \n",
            "=================================================================\n",
            "Total params: 41643 (162.67 KB)\n",
            "Trainable params: 41643 (162.67 KB)\n",
            "Non-trainable params: 0 (0.00 Byte)\n",
            "_________________________________________________________________\n"
          ]
        }
      ]
    },
    {
      "cell_type": "code",
      "source": [
        "# Create an Instance of Early Stopping Callback\n",
        "early_stopping_callback = EarlyStopping(monitor = 'val_loss', patience = 10, mode = 'min', restore_best_weights = True)\n",
        "\n",
        "convlstm_model.compile(loss = 'categorical_crossentropy', optimizer = 'Adam', metrics = [\"accuracy\"])\n",
        "\n",
        "convlstm_model_training_history = convlstm_model.fit(x = features_train, y = labels_train, epochs = 50, batch_size = 4,\n",
        "                                                     shuffle = True, validation_split = 0.2,\n",
        "                                                     callbacks = [early_stopping_callback])"
      ],
      "metadata": {
        "id": "XPlblYRiC5ly",
        "colab": {
          "base_uri": "https://localhost:8080/"
        },
        "outputId": "365c1e17-49dd-4993-a94a-69c3ded38694"
      },
      "execution_count": 16,
      "outputs": [
        {
          "output_type": "stream",
          "name": "stdout",
          "text": [
            "Epoch 1/50\n",
            "7/7 [==============================] - 21s 653ms/step - loss: 1.1020 - accuracy: 0.3333 - val_loss: 1.0614 - val_accuracy: 0.4286\n",
            "Epoch 2/50\n",
            "7/7 [==============================] - 2s 300ms/step - loss: 1.1033 - accuracy: 0.4074 - val_loss: 0.9803 - val_accuracy: 0.4286\n",
            "Epoch 3/50\n",
            "7/7 [==============================] - 2s 311ms/step - loss: 1.1071 - accuracy: 0.5185 - val_loss: 1.0863 - val_accuracy: 0.2857\n",
            "Epoch 4/50\n",
            "7/7 [==============================] - 2s 313ms/step - loss: 1.0649 - accuracy: 0.7037 - val_loss: 1.0675 - val_accuracy: 0.5714\n",
            "Epoch 5/50\n",
            "7/7 [==============================] - 3s 433ms/step - loss: 1.0312 - accuracy: 0.5556 - val_loss: 0.9778 - val_accuracy: 0.4286\n",
            "Epoch 6/50\n",
            "7/7 [==============================] - 3s 354ms/step - loss: 0.9234 - accuracy: 0.4815 - val_loss: 0.8719 - val_accuracy: 0.5714\n",
            "Epoch 7/50\n",
            "7/7 [==============================] - 2s 293ms/step - loss: 0.7702 - accuracy: 0.6667 - val_loss: 0.8115 - val_accuracy: 0.7143\n",
            "Epoch 8/50\n",
            "7/7 [==============================] - 2s 294ms/step - loss: 0.6387 - accuracy: 0.7407 - val_loss: 0.9790 - val_accuracy: 0.5714\n",
            "Epoch 9/50\n",
            "7/7 [==============================] - 2s 305ms/step - loss: 0.3508 - accuracy: 0.8519 - val_loss: 0.9745 - val_accuracy: 0.5714\n",
            "Epoch 10/50\n",
            "7/7 [==============================] - 2s 301ms/step - loss: 0.3299 - accuracy: 0.9259 - val_loss: 1.0139 - val_accuracy: 0.5714\n",
            "Epoch 11/50\n",
            "7/7 [==============================] - 4s 611ms/step - loss: 0.2003 - accuracy: 0.9259 - val_loss: 1.0685 - val_accuracy: 0.7143\n",
            "Epoch 12/50\n",
            "7/7 [==============================] - 2s 312ms/step - loss: 0.0740 - accuracy: 0.9630 - val_loss: 1.3018 - val_accuracy: 0.7143\n",
            "Epoch 13/50\n",
            "7/7 [==============================] - 2s 294ms/step - loss: 0.3973 - accuracy: 0.7778 - val_loss: 1.2865 - val_accuracy: 0.7143\n",
            "Epoch 14/50\n",
            "7/7 [==============================] - 2s 297ms/step - loss: 0.7076 - accuracy: 0.7037 - val_loss: 0.6703 - val_accuracy: 0.7143\n",
            "Epoch 15/50\n",
            "7/7 [==============================] - 2s 296ms/step - loss: 0.4140 - accuracy: 0.8148 - val_loss: 0.9018 - val_accuracy: 0.5714\n",
            "Epoch 16/50\n",
            "7/7 [==============================] - 3s 395ms/step - loss: 0.2117 - accuracy: 0.8889 - val_loss: 1.0252 - val_accuracy: 0.7143\n",
            "Epoch 17/50\n",
            "7/7 [==============================] - 3s 392ms/step - loss: 0.1656 - accuracy: 0.9259 - val_loss: 1.5500 - val_accuracy: 0.5714\n",
            "Epoch 18/50\n",
            "7/7 [==============================] - 3s 450ms/step - loss: 0.1847 - accuracy: 0.9630 - val_loss: 1.5963 - val_accuracy: 0.5714\n",
            "Epoch 19/50\n",
            "7/7 [==============================] - 2s 309ms/step - loss: 0.2805 - accuracy: 0.9259 - val_loss: 1.4340 - val_accuracy: 0.7143\n",
            "Epoch 20/50\n",
            "7/7 [==============================] - 2s 308ms/step - loss: 0.1949 - accuracy: 0.9630 - val_loss: 1.7547 - val_accuracy: 0.5714\n",
            "Epoch 21/50\n",
            "7/7 [==============================] - 2s 339ms/step - loss: 0.1446 - accuracy: 0.9630 - val_loss: 1.2828 - val_accuracy: 0.7143\n",
            "Epoch 22/50\n",
            "7/7 [==============================] - 3s 449ms/step - loss: 0.1265 - accuracy: 0.9630 - val_loss: 1.3933 - val_accuracy: 0.5714\n",
            "Epoch 23/50\n",
            "7/7 [==============================] - 2s 296ms/step - loss: 0.1129 - accuracy: 0.9630 - val_loss: 1.5849 - val_accuracy: 0.5714\n",
            "Epoch 24/50\n",
            "7/7 [==============================] - 2s 308ms/step - loss: 0.1141 - accuracy: 0.9630 - val_loss: 1.4991 - val_accuracy: 0.5714\n"
          ]
        }
      ]
    },
    {
      "cell_type": "code",
      "source": [
        "# Evaluating the trained model.\n",
        "model_evaluation_history = convlstm_model.evaluate(features_test, labels_test)"
      ],
      "metadata": {
        "id": "SSLDt5W5C8Ip",
        "colab": {
          "base_uri": "https://localhost:8080/"
        },
        "outputId": "8bf14bff-0e9d-4018-962f-2e872a853cde"
      },
      "execution_count": 17,
      "outputs": [
        {
          "output_type": "stream",
          "name": "stdout",
          "text": [
            "1/1 [==============================] - 0s 421ms/step - loss: 0.6739 - accuracy: 0.6667\n"
          ]
        }
      ]
    },
    {
      "cell_type": "code",
      "source": [],
      "metadata": {
        "id": "swqVV1OjwngM"
      },
      "execution_count": 17,
      "outputs": []
    },
    {
      "cell_type": "code",
      "source": [
        "'''we will be saving model with date and time info for easiness sake.\n",
        "'''\n",
        "# Getting the loss and accuracy from model_evaluation_history.\n",
        "model_evaluation_loss, model_evaluation_accuracy = model_evaluation_history\n",
        "\n",
        "date_time_format = '%Y_%m_%d__%H_%M_%S'\n",
        "current_date_time_dt = dt.datetime.now()\n",
        "current_date_time_string = dt.datetime.strftime(current_date_time_dt, date_time_format)\n",
        "\n",
        "model_file_name = f'convlstm_model___Date_Time_{current_date_time_string}___Loss_{model_evaluation_loss}___Accuracy_{model_evaluation_accuracy}.keras'\n",
        "\n",
        "# Saving the Model.\n",
        "convlstm_model.save(model_file_name)"
      ],
      "metadata": {
        "id": "iC9iFbaWC8xm"
      },
      "execution_count": 18,
      "outputs": []
    },
    {
      "cell_type": "markdown",
      "source": [
        "Plotting the accuracy and loss (training and validation )"
      ],
      "metadata": {
        "id": "zMOKH6Y8cbN2"
      }
    },
    {
      "cell_type": "code",
      "source": [
        "def plot_metric(model_training_history, metric_name_1, metric_name_2, plot_name):\n",
        "    '''\n",
        "    This function will plot the metrics passed to it in a graph.\n",
        "    Args:\n",
        "        model_training_history: A history object containing a record of training and validation\n",
        "                                loss values and metrics values at successive epochs\n",
        "        metric_name_1:          The name of the first metric that needs to be plotted in the graph.\n",
        "        metric_name_2:          The name of the second metric that needs to be plotted in the graph.\n",
        "        plot_name:              The title of the graph.\n",
        "    '''\n",
        "\n",
        "    # Get metric values using metric names as identifiers.\n",
        "    metric_value_1 = model_training_history.history[metric_name_1]\n",
        "    metric_value_2 = model_training_history.history[metric_name_2]\n",
        "\n",
        "    epochs = range(len(metric_value_1))\n",
        "\n",
        "    plt.plot(epochs, metric_value_1, 'blue', label = metric_name_1)\n",
        "    plt.plot(epochs, metric_value_2, 'red', label = metric_name_2)\n",
        "    plt.title(str(plot_name))\n",
        "    plt.legend()"
      ],
      "metadata": {
        "id": "S5nziYOoDUBg"
      },
      "execution_count": 19,
      "outputs": []
    },
    {
      "cell_type": "code",
      "source": [
        "# Visualizing the training and validation loss metrices.\n",
        "plot_metric(convlstm_model_training_history, 'loss', 'val_loss', 'Total Loss vs Total Validation Loss')"
      ],
      "metadata": {
        "id": "lrKrwbE3OPjk",
        "colab": {
          "base_uri": "https://localhost:8080/",
          "height": 452
        },
        "outputId": "8df6325a-ca1d-414d-8289-59f2b9612a75"
      },
      "execution_count": 20,
      "outputs": [
        {
          "output_type": "display_data",
          "data": {
            "text/plain": [
              "<Figure size 640x480 with 1 Axes>"
            ],
            "image/png": "[encoded data removed]"
          },
          "metadata": {}
        }
      ]
    },
    {
      "cell_type": "code",
      "source": [
        "# Visualizing the training and validation accuracy metrices.\n",
        "plot_metric(convlstm_model_training_history, 'accuracy', 'val_accuracy', 'Total Accuracy vs Total Validation Accuracy')"
      ],
      "metadata": {
        "id": "jH8ljI7vOSOu",
        "colab": {
          "base_uri": "https://localhost:8080/",
          "height": 452
        },
        "outputId": "0834228f-21a1-4e1c-98fd-789c78bb49c1"
      },
      "execution_count": 21,
      "outputs": [
        {
          "output_type": "display_data",
          "data": {
            "text/plain": [
              "<Figure size 640x480 with 1 Axes>"
            ],
            "image/png": "[encoded data removed]"
          },
          "metadata": {}
        }
      ]
    },
    {
      "cell_type": "code",
      "source": [],
      "metadata": {
        "id": "rmAgOrvwC-5w"
      },
      "execution_count": 21,
      "outputs": []
    },
    {
      "cell_type": "markdown",
      "source": [
        "Testing our model with an actual football highlights video"
      ],
      "metadata": {
        "id": "DUZ3faeGt7gi"
      }
    },
    {
      "cell_type": "code",
      "source": [
        "# Getting the test Video's path .\n",
        "file_path = '/content/drive/MyDrive/Football analysis videos ICT/Giroud header wins it! _ England v France _ FIFA World Cup Qatar 2022.mp4'"
      ],
      "metadata": {
        "id": "1GmXfp-GOWSG"
      },
      "execution_count": 71,
      "outputs": []
    },
    {
      "cell_type": "code",
      "source": [
        "reader = cv2.VideoCapture(file_path)"
      ],
      "metadata": {
        "id": "HoaUAJgDPAF9"
      },
      "execution_count": 72,
      "outputs": []
    },
    {
      "cell_type": "code",
      "source": [
        "fps_org = reader.get(cv2.CAP_PROP_FPS)"
      ],
      "metadata": {
        "id": "Id4VVJsqPEUo"
      },
      "execution_count": 73,
      "outputs": []
    },
    {
      "cell_type": "code",
      "source": [
        "frames_list = []"
      ],
      "metadata": {
        "id": "N3oTudQoPJKr"
      },
      "execution_count": 74,
      "outputs": []
    },
    {
      "cell_type": "code",
      "source": [
        "IMAGE_HEIGHT , IMAGE_WIDTH = 64, 64"
      ],
      "metadata": {
        "id": "iZkhdTlsPJN4"
      },
      "execution_count": 75,
      "outputs": []
    },
    {
      "cell_type": "code",
      "source": [
        "dim = (IMAGE_HEIGHT , IMAGE_WIDTH)"
      ],
      "metadata": {
        "id": "dmInD7rfPJR6"
      },
      "execution_count": 76,
      "outputs": []
    },
    {
      "cell_type": "code",
      "source": [
        "ret = True"
      ],
      "metadata": {
        "id": "xgzXnq_zPJUZ"
      },
      "execution_count": 77,
      "outputs": []
    },
    {
      "cell_type": "code",
      "source": [
        "while ret:\n",
        "  ret , img = reader.read()\n",
        "  if not ret:\n",
        "    break\n",
        "  image = cv2.resize(img,dim)\n",
        "  norm = image / 255\n",
        "  arr = np.array(norm)\n",
        "  frames_list.append(arr)"
      ],
      "metadata": {
        "id": "rp6Jd9WlPJXY"
      },
      "execution_count": 78,
      "outputs": []
    },
    {
      "cell_type": "code",
      "source": [
        "reader.release()"
      ],
      "metadata": {
        "id": "R5GrV4EHPJaY"
      },
      "execution_count": 79,
      "outputs": []
    },
    {
      "cell_type": "code",
      "source": [
        "frames_list[0]"
      ],
      "metadata": {
        "colab": {
          "base_uri": "https://localhost:8080/"
        },
        "id": "ifbad1oXPz23",
        "outputId": "e8dcf5c5-6c33-46a7-8374-e792b81ac3b9"
      },
      "execution_count": 80,
      "outputs": [
        {
          "output_type": "execute_result",
          "data": {
            "text/plain": [
              "array([[[0.        , 0.        , 0.        ],\n",
              "        [0.        , 0.        , 0.        ],\n",
              "        [0.        , 0.        , 0.        ],\n",
              "        ...,\n",
              "        [0.        , 0.        , 0.00392157],\n",
              "        [0.        , 0.        , 0.01568627],\n",
              "        [0.        , 0.        , 0.04705882]],\n",
              "\n",
              "       [[0.        , 0.        , 0.        ],\n",
              "        [0.        , 0.        , 0.        ],\n",
              "        [0.        , 0.        , 0.        ],\n",
              "        ...,\n",
              "        [0.        , 0.        , 0.00392157],\n",
              "        [0.        , 0.        , 0.00392157],\n",
              "        [0.00392157, 0.        , 0.01568627]],\n",
              "\n",
              "       [[0.        , 0.        , 0.        ],\n",
              "        [0.        , 0.        , 0.        ],\n",
              "        [0.        , 0.        , 0.        ],\n",
              "        ...,\n",
              "        [0.        , 0.        , 0.00392157],\n",
              "        [0.        , 0.        , 0.00392157],\n",
              "        [0.        , 0.        , 0.01176471]],\n",
              "\n",
              "       ...,\n",
              "\n",
              "       [[0.01568627, 0.10980392, 0.10196078],\n",
              "        [0.05098039, 0.0627451 , 0.08235294],\n",
              "        [0.10196078, 0.09803922, 0.1372549 ],\n",
              "        ...,\n",
              "        [0.00392157, 0.        , 0.00784314],\n",
              "        [0.01176471, 0.00784314, 0.01568627],\n",
              "        [0.00392157, 0.00392157, 0.00392157]],\n",
              "\n",
              "       [[0.01176471, 0.10588235, 0.09803922],\n",
              "        [0.09803922, 0.10980392, 0.12941176],\n",
              "        [0.03529412, 0.03529412, 0.09019608],\n",
              "        ...,\n",
              "        [0.00392157, 0.        , 0.00784314],\n",
              "        [0.00392157, 0.        , 0.00784314],\n",
              "        [0.        , 0.        , 0.        ]],\n",
              "\n",
              "       [[0.        , 0.10588235, 0.09019608],\n",
              "        [0.09019608, 0.12156863, 0.12156863],\n",
              "        [0.1254902 , 0.1254902 , 0.18039216],\n",
              "        ...,\n",
              "        [0.00392157, 0.        , 0.00784314],\n",
              "        [0.        , 0.        , 0.        ],\n",
              "        [0.        , 0.        , 0.        ]]])"
            ]
          },
          "metadata": {},
          "execution_count": 80
        }
      ]
    },
    {
      "cell_type": "code",
      "source": [
        "from google.colab.patches import cv2_imshow\n",
        "cv2_imshow(frames_list[2445])"
      ],
      "metadata": {
        "colab": {
          "base_uri": "https://localhost:8080/",
          "height": 81
        },
        "id": "1Eq_D8jqPz6m",
        "outputId": "88c228b6-db8f-48a6-d248-4c540b3800c3"
      },
      "execution_count": 81,
      "outputs": [
        {
          "output_type": "display_data",
          "data": {
            "text/plain": [
              "<PIL.Image.Image image mode=RGB size=64x64>"
            ],
            "image/png": "[encoded data removed]"
          },
          "metadata": {}
        }
      ]
    },
    {
      "cell_type": "code",
      "source": [
        "len(frames_list)"
      ],
      "metadata": {
        "colab": {
          "base_uri": "https://localhost:8080/"
        },
        "id": "0RjbvU05PWiA",
        "outputId": "1bf7077f-6d75-41c3-a312-d4ce0a466ef8"
      },
      "execution_count": 82,
      "outputs": [
        {
          "output_type": "execute_result",
          "data": {
            "text/plain": [
              "3193"
            ]
          },
          "metadata": {},
          "execution_count": 82
        }
      ]
    },
    {
      "cell_type": "markdown",
      "source": [
        "Preprocessing the test video"
      ],
      "metadata": {
        "id": "THSJ1Lm4dC1i"
      }
    },
    {
      "cell_type": "code",
      "source": [
        "''' As you can see the clips we preprocessed and fed into our convlstm2D model were short clips of 20 frames each\n",
        "    They were 20 frames chosen at equal intervals from clips of around 2 secs\n",
        "    (in 2 seconds at 30 fps of the original video it would mean 60 frames per video clip)'''"
      ],
      "metadata": {
        "colab": {
          "base_uri": "https://localhost:8080/",
          "height": 53
        },
        "id": "DeB3PbjHdHgn",
        "outputId": "9a90b127-4918-4fca-a65b-248af05beab1"
      },
      "execution_count": 83,
      "outputs": [
        {
          "output_type": "execute_result",
          "data": {
            "text/plain": [
              "' As you can see the clips we preprocessed and fed into our convlstm2D model were short clips of 20 frames each\\n    They were 20 frames chosen at equal intervals from clips of around 2 secs\\n    (in 2 seconds at 30 fps of the original video it would mean 60 frames per video clip)'"
            ],
            "application/vnd.google.colaboratory.intrinsic+json": {
              "type": "string"
            }
          },
          "metadata": {},
          "execution_count": 83
        }
      ]
    },
    {
      "cell_type": "code",
      "source": [
        "#thus we are preparing clips of 60 frames each(converted to 20 frames like above)"
      ],
      "metadata": {
        "id": "Mv2VIvq4d_s_"
      },
      "execution_count": 84,
      "outputs": []
    },
    {
      "cell_type": "code",
      "source": [
        "#we will be running our model on each of these clips and locating where an event happened."
      ],
      "metadata": {
        "id": "PO_9O80deVuU"
      },
      "execution_count": 85,
      "outputs": []
    },
    {
      "cell_type": "code",
      "source": [
        "#a confidence threshold of 0.7 is added to locate only moments where the model is very sure an event happened"
      ],
      "metadata": {
        "id": "2_dz9P3wegnw"
      },
      "execution_count": 86,
      "outputs": []
    },
    {
      "cell_type": "code",
      "source": [
        "frame_limit = 60"
      ],
      "metadata": {
        "id": "Xo0QvbjsPWku"
      },
      "execution_count": 87,
      "outputs": []
    },
    {
      "cell_type": "code",
      "source": [
        "tmp_lst =[]"
      ],
      "metadata": {
        "id": "o2Q9lV6kPWrx"
      },
      "execution_count": 88,
      "outputs": []
    },
    {
      "cell_type": "code",
      "source": [
        "for i in range(round(len(frames_list)/frame_limit)):\n",
        "  tmp_lst.append(frames_list[i*frame_limit:(i+1)*frame_limit])"
      ],
      "metadata": {
        "id": "-ZaiOwwiPWvQ"
      },
      "execution_count": 89,
      "outputs": []
    },
    {
      "cell_type": "code",
      "source": [
        "len(tmp_lst)"
      ],
      "metadata": {
        "colab": {
          "base_uri": "https://localhost:8080/"
        },
        "id": "jYW_NzIbPf_c",
        "outputId": "b02a41c9-8aee-4525-96a4-6ed650f14eec"
      },
      "execution_count": 90,
      "outputs": [
        {
          "output_type": "execute_result",
          "data": {
            "text/plain": [
              "53"
            ]
          },
          "metadata": {},
          "execution_count": 90
        }
      ]
    },
    {
      "cell_type": "code",
      "source": [
        "len(tmp_lst[0])"
      ],
      "metadata": {
        "colab": {
          "base_uri": "https://localhost:8080/"
        },
        "id": "GatyKTrkPgaA",
        "outputId": "91668e9c-bda1-4a33-8a0c-2a7a0d90d093"
      },
      "execution_count": 91,
      "outputs": [
        {
          "output_type": "execute_result",
          "data": {
            "text/plain": [
              "60"
            ]
          },
          "metadata": {},
          "execution_count": 91
        }
      ]
    },
    {
      "cell_type": "code",
      "source": [
        "sequence_length = 20"
      ],
      "metadata": {
        "id": "Cub_4g6sPgcy"
      },
      "execution_count": 92,
      "outputs": []
    },
    {
      "cell_type": "code",
      "source": [
        "frame_skipper = frame_limit/sequence_length"
      ],
      "metadata": {
        "id": "aA4o3UpiPj_p"
      },
      "execution_count": 93,
      "outputs": []
    },
    {
      "cell_type": "code",
      "source": [
        "preprocessed_clips_list = []"
      ],
      "metadata": {
        "id": "lxHGbHkwPkCd"
      },
      "execution_count": 94,
      "outputs": []
    },
    {
      "cell_type": "code",
      "source": [
        "for i in range(len(tmp_lst)):\n",
        "  frame_lst = []\n",
        "  for k in range(len(tmp_lst[i])):\n",
        "    if k%frame_skipper==0:\n",
        "      frame_lst.append(tmp_lst[i][k])\n",
        "  arr1 = np.array(frame_lst)\n",
        "  preprocessed_clips_list.append(arr1)"
      ],
      "metadata": {
        "id": "TgDfyuqzPkE-"
      },
      "execution_count": 95,
      "outputs": []
    },
    {
      "cell_type": "code",
      "source": [
        "preprocessed_clips_list[0].shape"
      ],
      "metadata": {
        "colab": {
          "base_uri": "https://localhost:8080/"
        },
        "id": "A1q_dzwSPkH8",
        "outputId": "b81ad3c9-c255-4ae1-baf5-821b5290fc70"
      },
      "execution_count": 96,
      "outputs": [
        {
          "output_type": "execute_result",
          "data": {
            "text/plain": [
              "(20, 64, 64, 3)"
            ]
          },
          "metadata": {},
          "execution_count": 96
        }
      ]
    },
    {
      "cell_type": "code",
      "source": [
        "len(preprocessed_clips_list)"
      ],
      "metadata": {
        "colab": {
          "base_uri": "https://localhost:8080/"
        },
        "id": "ifwwytIJPkK8",
        "outputId": "ba7334fa-8ec7-4bd2-e867-6353eb96ac8d"
      },
      "execution_count": 97,
      "outputs": [
        {
          "output_type": "execute_result",
          "data": {
            "text/plain": [
              "53"
            ]
          },
          "metadata": {},
          "execution_count": 97
        }
      ]
    },
    {
      "cell_type": "code",
      "source": [
        "preprocessed_clips_list[0].shape"
      ],
      "metadata": {
        "colab": {
          "base_uri": "https://localhost:8080/"
        },
        "id": "vRHCnaSzPtER",
        "outputId": "0b0d4c1b-94ad-4e16-f830-fc801950b49b"
      },
      "execution_count": 98,
      "outputs": [
        {
          "output_type": "execute_result",
          "data": {
            "text/plain": [
              "(20, 64, 64, 3)"
            ]
          },
          "metadata": {},
          "execution_count": 98
        }
      ]
    },
    {
      "cell_type": "code",
      "source": [
        "predictions = []\n",
        "confidence = []"
      ],
      "metadata": {
        "id": "tDnpo-AlSsCB"
      },
      "execution_count": 99,
      "outputs": []
    },
    {
      "cell_type": "code",
      "source": [
        "for i in range(len(preprocessed_clips_list)):\n",
        "  predicted_labels_probabilities = convlstm_model.predict(np.expand_dims(preprocessed_clips_list[i], axis = 0))[0]\n",
        "  predicted_label = np.argmax(predicted_labels_probabilities)\n",
        "  confidence.append(predicted_labels_probabilities[predicted_label])\n",
        "  predictions.append(predicted_label)\n"
      ],
      "metadata": {
        "colab": {
          "base_uri": "https://localhost:8080/"
        },
        "id": "BDAoD5AHRkBh",
        "outputId": "46105e52-81b6-4d4f-e5fb-68d01e700839"
      },
      "execution_count": 100,
      "outputs": [
        {
          "output_type": "stream",
          "name": "stdout",
          "text": [
            "1/1 [==============================] - 0s 57ms/step\n",
            "1/1 [==============================] - 0s 56ms/step\n",
            "1/1 [==============================] - 0s 57ms/step\n",
            "1/1 [==============================] - 0s 57ms/step\n",
            "1/1 [==============================] - 0s 57ms/step\n",
            "1/1 [==============================] - 0s 60ms/step\n",
            "1/1 [==============================] - 0s 56ms/step\n",
            "1/1 [==============================] - 0s 62ms/step\n",
            "1/1 [==============================] - 0s 80ms/step\n",
            "1/1 [==============================] - 0s 59ms/step\n",
            "1/1 [==============================] - 0s 59ms/step\n",
            "1/1 [==============================] - 0s 56ms/step\n",
            "1/1 [==============================] - 0s 58ms/step\n",
            "1/1 [==============================] - 0s 61ms/step\n",
            "1/1 [==============================] - 0s 62ms/step\n",
            "1/1 [==============================] - 0s 59ms/step\n",
            "1/1 [==============================] - 0s 59ms/step\n",
            "1/1 [==============================] - 0s 57ms/step\n",
            "1/1 [==============================] - 0s 57ms/step\n",
            "1/1 [==============================] - 0s 58ms/step\n",
            "1/1 [==============================] - 0s 67ms/step\n",
            "1/1 [==============================] - 0s 58ms/step\n",
            "1/1 [==============================] - 0s 58ms/step\n",
            "1/1 [==============================] - 0s 63ms/step\n",
            "1/1 [==============================] - 0s 58ms/step\n",
            "1/1 [==============================] - 0s 58ms/step\n",
            "1/1 [==============================] - 0s 58ms/step\n",
            "1/1 [==============================] - 0s 60ms/step\n",
            "1/1 [==============================] - 0s 57ms/step\n",
            "1/1 [==============================] - 0s 68ms/step\n",
            "1/1 [==============================] - 0s 58ms/step\n",
            "1/1 [==============================] - 0s 60ms/step\n",
            "1/1 [==============================] - 0s 57ms/step\n",
            "1/1 [==============================] - 0s 56ms/step\n",
            "1/1 [==============================] - 0s 58ms/step\n",
            "1/1 [==============================] - 0s 60ms/step\n",
            "1/1 [==============================] - 0s 63ms/step\n",
            "1/1 [==============================] - 0s 57ms/step\n",
            "1/1 [==============================] - 0s 64ms/step\n",
            "1/1 [==============================] - 0s 58ms/step\n",
            "1/1 [==============================] - 0s 57ms/step\n",
            "1/1 [==============================] - 0s 61ms/step\n",
            "1/1 [==============================] - 0s 58ms/step\n",
            "1/1 [==============================] - 0s 58ms/step\n",
            "1/1 [==============================] - 0s 79ms/step\n",
            "1/1 [==============================] - 0s 55ms/step\n",
            "1/1 [==============================] - 0s 58ms/step\n",
            "1/1 [==============================] - 0s 57ms/step\n",
            "1/1 [==============================] - 0s 57ms/step\n",
            "1/1 [==============================] - 0s 59ms/step\n",
            "1/1 [==============================] - 0s 64ms/step\n",
            "1/1 [==============================] - 0s 62ms/step\n",
            "1/1 [==============================] - 0s 62ms/step\n"
          ]
        }
      ]
    },
    {
      "cell_type": "code",
      "source": [
        "predicted_labels_probabilitiesww = convlstm_model.predict(np.expand_dims(preprocessed_clips_list[0], axis = 0))[0]"
      ],
      "metadata": {
        "colab": {
          "base_uri": "https://localhost:8080/"
        },
        "id": "jeLF-wYkTI3a",
        "outputId": "5d285f82-a099-4540-d931-f37014e7839d"
      },
      "execution_count": 101,
      "outputs": [
        {
          "output_type": "stream",
          "name": "stdout",
          "text": [
            "1/1 [==============================] - 0s 59ms/step\n"
          ]
        }
      ]
    },
    {
      "cell_type": "code",
      "source": [
        "predicted_labels_probabilitiesww"
      ],
      "metadata": {
        "colab": {
          "base_uri": "https://localhost:8080/"
        },
        "id": "zcDu18aBTTyG",
        "outputId": "5147a47c-0364-4a73-8213-41a78c9ee763"
      },
      "execution_count": 102,
      "outputs": [
        {
          "output_type": "execute_result",
          "data": {
            "text/plain": [
              "array([0.00172064, 0.1551237 , 0.8431557 ], dtype=float32)"
            ]
          },
          "metadata": {},
          "execution_count": 102
        }
      ]
    },
    {
      "cell_type": "code",
      "source": [
        "predictions[0]"
      ],
      "metadata": {
        "colab": {
          "base_uri": "https://localhost:8080/"
        },
        "id": "1jky69oXTWHW",
        "outputId": "ac8e842f-7379-423a-e9a7-3aec2c1f75da"
      },
      "execution_count": 103,
      "outputs": [
        {
          "output_type": "execute_result",
          "data": {
            "text/plain": [
              "2"
            ]
          },
          "metadata": {},
          "execution_count": 103
        }
      ]
    },
    {
      "cell_type": "code",
      "source": [
        "confidence"
      ],
      "metadata": {
        "colab": {
          "base_uri": "https://localhost:8080/"
        },
        "id": "lABHfDYGTegg",
        "outputId": "8131a10f-dc8b-4270-c2e7-80ebb0583538"
      },
      "execution_count": 104,
      "outputs": [
        {
          "output_type": "execute_result",
          "data": {
            "text/plain": [
              "[0.8431557,\n",
              " 0.5546328,\n",
              " 0.6154704,\n",
              " 0.6226228,\n",
              " 0.6755712,\n",
              " 0.65855944,\n",
              " 0.97332937,\n",
              " 0.8922388,\n",
              " 0.4984213,\n",
              " 0.75394183,\n",
              " 0.723092,\n",
              " 0.62245196,\n",
              " 0.6433743,\n",
              " 0.5633416,\n",
              " 0.57891977,\n",
              " 0.5433867,\n",
              " 0.7079477,\n",
              " 0.7179658,\n",
              " 0.7002005,\n",
              " 0.69326824,\n",
              " 0.66212887,\n",
              " 0.6435068,\n",
              " 0.71144706,\n",
              " 0.97439176,\n",
              " 0.5952924,\n",
              " 0.6902204,\n",
              " 0.6546056,\n",
              " 0.633566,\n",
              " 0.6151006,\n",
              " 0.71134824,\n",
              " 0.67673117,\n",
              " 0.68167907,\n",
              " 0.7469187,\n",
              " 0.71381587,\n",
              " 0.7157521,\n",
              " 0.58393383,\n",
              " 0.5147198,\n",
              " 0.9192078,\n",
              " 0.73622966,\n",
              " 0.7509266,\n",
              " 0.704448,\n",
              " 0.6404422,\n",
              " 0.5255608,\n",
              " 0.64085144,\n",
              " 0.65792644,\n",
              " 0.47228733,\n",
              " 0.72336894,\n",
              " 0.85105723,\n",
              " 0.55652,\n",
              " 0.8561337,\n",
              " 0.9932904,\n",
              " 0.90756136,\n",
              " 0.90938514]"
            ]
          },
          "metadata": {},
          "execution_count": 104
        }
      ]
    },
    {
      "cell_type": "code",
      "source": [
        "conf_arr = np.array(confidence)"
      ],
      "metadata": {
        "id": "fG08O5lRo2XN"
      },
      "execution_count": 105,
      "outputs": []
    },
    {
      "cell_type": "code",
      "source": [
        "#locating clips where an event is predicted with more than 0.7 confidence"
      ],
      "metadata": {
        "id": "8tD06XaXfPpV"
      },
      "execution_count": 106,
      "outputs": []
    },
    {
      "cell_type": "code",
      "source": [
        "indices = np.where(conf_arr>0.7)[0]"
      ],
      "metadata": {
        "id": "3NtnYKppUWDd"
      },
      "execution_count": 107,
      "outputs": []
    },
    {
      "cell_type": "code",
      "source": [
        "indices #array of clip indices where an even happened above 0.7 confidence"
      ],
      "metadata": {
        "colab": {
          "base_uri": "https://localhost:8080/"
        },
        "id": "t46FiRNfoumm",
        "outputId": "2c16fe43-bcbf-40f2-fc4d-d591ed4aef3a"
      },
      "execution_count": 108,
      "outputs": [
        {
          "output_type": "execute_result",
          "data": {
            "text/plain": [
              "array([ 0,  6,  7,  9, 10, 16, 17, 18, 22, 23, 29, 32, 33, 34, 37, 38, 39,\n",
              "       40, 46, 47, 49, 50, 51, 52])"
            ]
          },
          "metadata": {},
          "execution_count": 108
        }
      ]
    },
    {
      "cell_type": "code",
      "source": [
        "event_label = np.array(predictions) #creating an array of predictions"
      ],
      "metadata": {
        "id": "9dO4lkZwo_jT"
      },
      "execution_count": 109,
      "outputs": []
    },
    {
      "cell_type": "code",
      "source": [
        "event_label.shape"
      ],
      "metadata": {
        "colab": {
          "base_uri": "https://localhost:8080/"
        },
        "id": "Jc2efqcgqZdx",
        "outputId": "55f23f35-8050-44fc-bc5e-c71963f3ca14"
      },
      "execution_count": 110,
      "outputs": [
        {
          "output_type": "execute_result",
          "data": {
            "text/plain": [
              "(53,)"
            ]
          },
          "metadata": {},
          "execution_count": 110
        }
      ]
    },
    {
      "cell_type": "code",
      "source": [
        "indices.shape"
      ],
      "metadata": {
        "colab": {
          "base_uri": "https://localhost:8080/"
        },
        "id": "NuMCrbaRqic6",
        "outputId": "dfc7d102-3fff-4ea9-8963-49ac73b5e4a6"
      },
      "execution_count": 111,
      "outputs": [
        {
          "output_type": "execute_result",
          "data": {
            "text/plain": [
              "(24,)"
            ]
          },
          "metadata": {},
          "execution_count": 111
        }
      ]
    },
    {
      "cell_type": "code",
      "source": [
        "labels_of_events = np.take(event_label,indices) #creating a sorted array with predictions corresponding to an event"
      ],
      "metadata": {
        "id": "V7rm3LPcqogL"
      },
      "execution_count": 112,
      "outputs": []
    },
    {
      "cell_type": "code",
      "source": [
        "labels_of_events.shape"
      ],
      "metadata": {
        "colab": {
          "base_uri": "https://localhost:8080/"
        },
        "id": "xzEi-u_sr3s0",
        "outputId": "ace03966-d35c-4e76-df60-50ff06d6e272"
      },
      "execution_count": 113,
      "outputs": [
        {
          "output_type": "execute_result",
          "data": {
            "text/plain": [
              "(24,)"
            ]
          },
          "metadata": {},
          "execution_count": 113
        }
      ]
    },
    {
      "cell_type": "code",
      "source": [
        "#creating a dataframe with clip index and its corresponding prediction label"
      ],
      "metadata": {
        "id": "0idD5MTKhMv2"
      },
      "execution_count": 114,
      "outputs": []
    },
    {
      "cell_type": "code",
      "source": [
        "df = pd.DataFrame(indices,columns=['event_index'])"
      ],
      "metadata": {
        "id": "RAEQtTnRr5II"
      },
      "execution_count": 115,
      "outputs": []
    },
    {
      "cell_type": "code",
      "source": [
        "df['predictions'] = labels_of_events"
      ],
      "metadata": {
        "id": "YHeP4e5hsVqF"
      },
      "execution_count": 116,
      "outputs": []
    },
    {
      "cell_type": "code",
      "source": [
        "df"
      ],
      "metadata": {
        "colab": {
          "base_uri": "https://localhost:8080/",
          "height": 802
        },
        "id": "OYe7LNQssiQK",
        "outputId": "c17960f8-3c46-4b55-a96d-ba906d4357c1"
      },
      "execution_count": 117,
      "outputs": [
        {
          "output_type": "execute_result",
          "data": {
            "text/plain": [
              "    event_index  predictions\n",
              "0             0            2\n",
              "1             6            1\n",
              "2             7            2\n",
              "3             9            0\n",
              "4            10            0\n",
              "5            16            0\n",
              "6            17            0\n",
              "7            18            0\n",
              "8            22            0\n",
              "9            23            1\n",
              "10           29            0\n",
              "11           32            0\n",
              "12           33            0\n",
              "13           34            0\n",
              "14           37            1\n",
              "15           38            1\n",
              "16           39            0\n",
              "17           40            0\n",
              "18           46            0\n",
              "19           47            1\n",
              "20           49            1\n",
              "21           50            2\n",
              "22           51            2\n",
              "23           52            2"
            ],
            "text/html": [
              "\n",
              "  <div id=\"df-45084b5f-2d95-40b0-bc1c-1204836e7843\" class=\"colab-df-container\">\n",
              "    <div>\n",
              "<style scoped>\n",
              "    .dataframe tbody tr th:only-of-type {\n",
              "        vertical-align: middle;\n",
              "    }\n",
              "\n",
              "    .dataframe tbody tr th {\n",
              "        vertical-align: top;\n",
              "    }\n",
              "\n",
              "    .dataframe thead th {\n",
              "        text-align: right;\n",
              "    }\n",
              "</style>\n",
              "<table border=\"1\" class=\"dataframe\">\n",
              "  <thead>\n",
              "    <tr style=\"text-align: right;\">\n",
              "      <th></th>\n",
              "      <th>event_index</th>\n",
              "      <th>predictions</th>\n",
              "    </tr>\n",
              "  </thead>\n",
              "  <tbody>\n",
              "    <tr>\n",
              "      <th>0</th>\n",
              "      <td>0</td>\n",
              "      <td>2</td>\n",
              "    </tr>\n",
              "    <tr>\n",
              "      <th>1</th>\n",
              "      <td>6</td>\n",
              "      <td>1</td>\n",
              "    </tr>\n",
              "    <tr>\n",
              "      <th>2</th>\n",
              "      <td>7</td>\n",
              "      <td>2</td>\n",
              "    </tr>\n",
              "    <tr>\n",
              "      <th>3</th>\n",
              "      <td>9</td>\n",
              "      <td>0</td>\n",
              "    </tr>\n",
              "    <tr>\n",
              "      <th>4</th>\n",
              "      <td>10</td>\n",
              "      <td>0</td>\n",
              "    </tr>\n",
              "    <tr>\n",
              "      <th>5</th>\n",
              "      <td>16</td>\n",
              "      <td>0</td>\n",
              "    </tr>\n",
              "    <tr>\n",
              "      <th>6</th>\n",
              "      <td>17</td>\n",
              "      <td>0</td>\n",
              "    </tr>\n",
              "    <tr>\n",
              "      <th>7</th>\n",
              "      <td>18</td>\n",
              "      <td>0</td>\n",
              "    </tr>\n",
              "    <tr>\n",
              "      <th>8</th>\n",
              "      <td>22</td>\n",
              "      <td>0</td>\n",
              "    </tr>\n",
              "    <tr>\n",
              "      <th>9</th>\n",
              "      <td>23</td>\n",
              "      <td>1</td>\n",
              "    </tr>\n",
              "    <tr>\n",
              "      <th>10</th>\n",
              "      <td>29</td>\n",
              "      <td>0</td>\n",
              "    </tr>\n",
              "    <tr>\n",
              "      <th>11</th>\n",
              "      <td>32</td>\n",
              "      <td>0</td>\n",
              "    </tr>\n",
              "    <tr>\n",
              "      <th>12</th>\n",
              "      <td>33</td>\n",
              "      <td>0</td>\n",
              "    </tr>\n",
              "    <tr>\n",
              "      <th>13</th>\n",
              "      <td>34</td>\n",
              "      <td>0</td>\n",
              "    </tr>\n",
              "    <tr>\n",
              "      <th>14</th>\n",
              "      <td>37</td>\n",
              "      <td>1</td>\n",
              "    </tr>\n",
              "    <tr>\n",
              "      <th>15</th>\n",
              "      <td>38</td>\n",
              "      <td>1</td>\n",
              "    </tr>\n",
              "    <tr>\n",
              "      <th>16</th>\n",
              "      <td>39</td>\n",
              "      <td>0</td>\n",
              "    </tr>\n",
              "    <tr>\n",
              "      <th>17</th>\n",
              "      <td>40</td>\n",
              "      <td>0</td>\n",
              "    </tr>\n",
              "    <tr>\n",
              "      <th>18</th>\n",
              "      <td>46</td>\n",
              "      <td>0</td>\n",
              "    </tr>\n",
              "    <tr>\n",
              "      <th>19</th>\n",
              "      <td>47</td>\n",
              "      <td>1</td>\n",
              "    </tr>\n",
              "    <tr>\n",
              "      <th>20</th>\n",
              "      <td>49</td>\n",
              "      <td>1</td>\n",
              "    </tr>\n",
              "    <tr>\n",
              "      <th>21</th>\n",
              "      <td>50</td>\n",
              "      <td>2</td>\n",
              "    </tr>\n",
              "    <tr>\n",
              "      <th>22</th>\n",
              "      <td>51</td>\n",
              "      <td>2</td>\n",
              "    </tr>\n",
              "    <tr>\n",
              "      <th>23</th>\n",
              "      <td>52</td>\n",
              "      <td>2</td>\n",
              "    </tr>\n",
              "  </tbody>\n",
              "</table>\n",
              "</div>\n",
              "    <div class=\"colab-df-buttons\">\n",
              "\n",
              "  <div class=\"colab-df-container\">\n",
              "    <button class=\"colab-df-convert\" onclick=\"convertToInteractive('df-45084b5f-2d95-40b0-bc1c-1204836e7843')\"\n",
              "            title=\"Convert this dataframe to an interactive table.\"\n",
              "            style=\"display:none;\">\n",
              "\n",
              "  <svg xmlns=\"http://www.w3.org/2000/svg\" height=\"24px\" viewBox=\"0 -960 960 960\">\n",
              "    <path d=\"M120-120v-720h720v720H120Zm60-500h600v-160H180v160Zm220 220h160v-160H400v160Zm0 220h160v-160H400v160ZM180-400h160v-160H180v160Zm440 0h160v-160H620v160ZM180-180h160v-160H180v160Zm440 0h160v-160H620v160Z\"/>\n",
              "  </svg>\n",
              "    </button>\n",
              "\n",
              "  <style>\n",
              "    .colab-df-container {\n",
              "      display:flex;\n",
              "      gap: 12px;\n",
              "    }\n",
              "\n",
              "    .colab-df-convert {\n",
              "      background-color: #E8F0FE;\n",
              "      border: none;\n",
              "      border-radius: 50%;\n",
              "      cursor: pointer;\n",
              "      display: none;\n",
              "      fill: #1967D2;\n",
              "      height: 32px;\n",
              "      padding: 0 0 0 0;\n",
              "      width: 32px;\n",
              "    }\n",
              "\n",
              "    .colab-df-convert:hover {\n",
              "      background-color: #E2EBFA;\n",
              "      box-shadow: 0px 1px 2px rgba(60, 64, 67, 0.3), 0px 1px 3px 1px rgba(60, 64, 67, 0.15);\n",
              "      fill: #174EA6;\n",
              "    }\n",
              "\n",
              "    .colab-df-buttons div {\n",
              "      margin-bottom: 4px;\n",
              "    }\n",
              "\n",
              "    [theme=dark] .colab-df-convert {\n",
              "      background-color: #3B4455;\n",
              "      fill: #D2E3FC;\n",
              "    }\n",
              "\n",
              "    [theme=dark] .colab-df-convert:hover {\n",
              "      background-color: #434B5C;\n",
              "      box-shadow: 0px 1px 3px 1px rgba(0, 0, 0, 0.15);\n",
              "      filter: drop-shadow(0px 1px 2px rgba(0, 0, 0, 0.3));\n",
              "      fill: #FFFFFF;\n",
              "    }\n",
              "  </style>\n",
              "\n",
              "    <script>\n",
              "      const buttonEl =\n",
              "        document.querySelector('#df-45084b5f-2d95-40b0-bc1c-1204836e7843 button.colab-df-convert');\n",
              "      buttonEl.style.display =\n",
              "        google.colab.kernel.accessAllowed ? 'block' : 'none';\n",
              "\n",
              "      async function convertToInteractive(key) {\n",
              "        const element = document.querySelector('#df-45084b5f-2d95-40b0-bc1c-1204836e7843');\n",
              "        const dataTable =\n",
              "          await google.colab.kernel.invokeFunction('convertToInteractive',\n",
              "                                                    [key], {});\n",
              "        if (!dataTable) return;\n",
              "\n",
              "        const docLinkHtml = 'Like what you see? Visit the ' +\n",
              "          '<a target=\"_blank\" href=https://colab.research.google.com/notebooks/data_table.ipynb>data table notebook</a>'\n",
              "          + ' to learn more about interactive tables.';\n",
              "        element.innerHTML = '';\n",
              "        dataTable['output_type'] = 'display_data';\n",
              "        await google.colab.output.renderOutput(dataTable, element);\n",
              "        const docLink = document.createElement('div');\n",
              "        docLink.innerHTML = docLinkHtml;\n",
              "        element.appendChild(docLink);\n",
              "      }\n",
              "    </script>\n",
              "  </div>\n",
              "\n",
              "\n",
              "<div id=\"df-6915c11f-cf83-4345-9e6e-ec1a61608619\">\n",
              "  <button class=\"colab-df-quickchart\" onclick=\"quickchart('df-6915c11f-cf83-4345-9e6e-ec1a61608619')\"\n",
              "            title=\"Suggest charts\"\n",
              "            style=\"display:none;\">\n",
              "\n",
              "<svg xmlns=\"http://www.w3.org/2000/svg\" height=\"24px\"viewBox=\"0 0 24 24\"\n",
              "     width=\"24px\">\n",
              "    <g>\n",
              "        <path d=\"M19 3H5c-1.1 0-2 .9-2 2v14c0 1.1.9 2 2 2h14c1.1 0 2-.9 2-2V5c0-1.1-.9-2-2-2zM9 17H7v-7h2v7zm4 0h-2V7h2v10zm4 0h-2v-4h2v4z\"/>\n",
              "    </g>\n",
              "</svg>\n",
              "  </button>\n",
              "\n",
              "<style>\n",
              "  .colab-df-quickchart {\n",
              "      --bg-color: #E8F0FE;\n",
              "      --fill-color: #1967D2;\n",
              "      --hover-bg-color: #E2EBFA;\n",
              "      --hover-fill-color: #174EA6;\n",
              "      --disabled-fill-color: #AAA;\n",
              "      --disabled-bg-color: #DDD;\n",
              "  }\n",
              "\n",
              "  [theme=dark] .colab-df-quickchart {\n",
              "      --bg-color: #3B4455;\n",
              "      --fill-color: #D2E3FC;\n",
              "      --hover-bg-color: #434B5C;\n",
              "      --hover-fill-color: #FFFFFF;\n",
              "      --disabled-bg-color: #3B4455;\n",
              "      --disabled-fill-color: #666;\n",
              "  }\n",
              "\n",
              "  .colab-df-quickchart {\n",
              "    background-color: var(--bg-color);\n",
              "    border: none;\n",
              "    border-radius: 50%;\n",
              "    cursor: pointer;\n",
              "    display: none;\n",
              "    fill: var(--fill-color);\n",
              "    height: 32px;\n",
              "    padding: 0;\n",
              "    width: 32px;\n",
              "  }\n",
              "\n",
              "  .colab-df-quickchart:hover {\n",
              "    background-color: var(--hover-bg-color);\n",
              "    box-shadow: 0 1px 2px rgba(60, 64, 67, 0.3), 0 1px 3px 1px rgba(60, 64, 67, 0.15);\n",
              "    fill: var(--button-hover-fill-color);\n",
              "  }\n",
              "\n",
              "  .colab-df-quickchart-complete:disabled,\n",
              "  .colab-df-quickchart-complete:disabled:hover {\n",
              "    background-color: var(--disabled-bg-color);\n",
              "    fill: var(--disabled-fill-color);\n",
              "    box-shadow: none;\n",
              "  }\n",
              "\n",
              "  .colab-df-spinner {\n",
              "    border: 2px solid var(--fill-color);\n",
              "    border-color: transparent;\n",
              "    border-bottom-color: var(--fill-color);\n",
              "    animation:\n",
              "      spin 1s steps(1) infinite;\n",
              "  }\n",
              "\n",
              "  @keyframes spin {\n",
              "    0% {\n",
              "      border-color: transparent;\n",
              "      border-bottom-color: var(--fill-color);\n",
              "      border-left-color: var(--fill-color);\n",
              "    }\n",
              "    20% {\n",
              "      border-color: transparent;\n",
              "      border-left-color: var(--fill-color);\n",
              "      border-top-color: var(--fill-color);\n",
              "    }\n",
              "    30% {\n",
              "      border-color: transparent;\n",
              "      border-left-color: var(--fill-color);\n",
              "      border-top-color: var(--fill-color);\n",
              "      border-right-color: var(--fill-color);\n",
              "    }\n",
              "    40% {\n",
              "      border-color: transparent;\n",
              "      border-right-color: var(--fill-color);\n",
              "      border-top-color: var(--fill-color);\n",
              "    }\n",
              "    60% {\n",
              "      border-color: transparent;\n",
              "      border-right-color: var(--fill-color);\n",
              "    }\n",
              "    80% {\n",
              "      border-color: transparent;\n",
              "      border-right-color: var(--fill-color);\n",
              "      border-bottom-color: var(--fill-color);\n",
              "    }\n",
              "    90% {\n",
              "      border-color: transparent;\n",
              "      border-bottom-color: var(--fill-color);\n",
              "    }\n",
              "  }\n",
              "</style>\n",
              "\n",
              "  <script>\n",
              "    async function quickchart(key) {\n",
              "      const quickchartButtonEl =\n",
              "        document.querySelector('#' + key + ' button');\n",
              "      quickchartButtonEl.disabled = true;  // To prevent multiple clicks.\n",
              "      quickchartButtonEl.classList.add('colab-df-spinner');\n",
              "      try {\n",
              "        const charts = await google.colab.kernel.invokeFunction(\n",
              "            'suggestCharts', [key], {});\n",
              "      } catch (error) {\n",
              "        console.error('Error during call to suggestCharts:', error);\n",
              "      }\n",
              "      quickchartButtonEl.classList.remove('colab-df-spinner');\n",
              "      quickchartButtonEl.classList.add('colab-df-quickchart-complete');\n",
              "    }\n",
              "    (() => {\n",
              "      let quickchartButtonEl =\n",
              "        document.querySelector('#df-6915c11f-cf83-4345-9e6e-ec1a61608619 button');\n",
              "      quickchartButtonEl.style.display =\n",
              "        google.colab.kernel.accessAllowed ? 'block' : 'none';\n",
              "    })();\n",
              "  </script>\n",
              "</div>\n",
              "\n",
              "  <div id=\"id_f3f56c2d-4d2f-4618-bafa-5971ec0ec8e0\">\n",
              "    <style>\n",
              "      .colab-df-generate {\n",
              "        background-color: #E8F0FE;\n",
              "        border: none;\n",
              "        border-radius: 50%;\n",
              "        cursor: pointer;\n",
              "        display: none;\n",
              "        fill: #1967D2;\n",
              "        height: 32px;\n",
              "        padding: 0 0 0 0;\n",
              "        width: 32px;\n",
              "      }\n",
              "\n",
              "      .colab-df-generate:hover {\n",
              "        background-color: #E2EBFA;\n",
              "        box-shadow: 0px 1px 2px rgba(60, 64, 67, 0.3), 0px 1px 3px 1px rgba(60, 64, 67, 0.15);\n",
              "        fill: #174EA6;\n",
              "      }\n",
              "\n",
              "      [theme=dark] .colab-df-generate {\n",
              "        background-color: #3B4455;\n",
              "        fill: #D2E3FC;\n",
              "      }\n",
              "\n",
              "      [theme=dark] .colab-df-generate:hover {\n",
              "        background-color: #434B5C;\n",
              "        box-shadow: 0px 1px 3px 1px rgba(0, 0, 0, 0.15);\n",
              "        filter: drop-shadow(0px 1px 2px rgba(0, 0, 0, 0.3));\n",
              "        fill: #FFFFFF;\n",
              "      }\n",
              "    </style>\n",
              "    <button class=\"colab-df-generate\" onclick=\"generateWithVariable('df')\"\n",
              "            title=\"Generate code using this dataframe.\"\n",
              "            style=\"display:none;\">\n",
              "\n",
              "  <svg xmlns=\"http://www.w3.org/2000/svg\" height=\"24px\"viewBox=\"0 0 24 24\"\n",
              "       width=\"24px\">\n",
              "    <path d=\"M7,19H8.4L18.45,9,17,7.55,7,17.6ZM5,21V16.75L18.45,3.32a2,2,0,0,1,2.83,0l1.4,1.43a1.91,1.91,0,0,1,.58,1.4,1.91,1.91,0,0,1-.58,1.4L9.25,21ZM18.45,9,17,7.55Zm-12,3A5.31,5.31,0,0,0,4.9,8.1,5.31,5.31,0,0,0,1,6.5,5.31,5.31,0,0,0,4.9,4.9,5.31,5.31,0,0,0,6.5,1,5.31,5.31,0,0,0,8.1,4.9,5.31,5.31,0,0,0,12,6.5,5.46,5.46,0,0,0,6.5,12Z\"/>\n",
              "  </svg>\n",
              "    </button>\n",
              "    <script>\n",
              "      (() => {\n",
              "      const buttonEl =\n",
              "        document.querySelector('#id_f3f56c2d-4d2f-4618-bafa-5971ec0ec8e0 button.colab-df-generate');\n",
              "      buttonEl.style.display =\n",
              "        google.colab.kernel.accessAllowed ? 'block' : 'none';\n",
              "\n",
              "      buttonEl.onclick = () => {\n",
              "        google.colab.notebook.generateWithVariable('df');\n",
              "      }\n",
              "      })();\n",
              "    </script>\n",
              "  </div>\n",
              "\n",
              "    </div>\n",
              "  </div>\n"
            ],
            "application/vnd.google.colaboratory.intrinsic+json": {
              "type": "dataframe",
              "variable_name": "df",
              "summary": "{\n  \"name\": \"df\",\n  \"rows\": 24,\n  \"fields\": [\n    {\n      \"column\": \"event_index\",\n      \"properties\": {\n        \"dtype\": \"number\",\n        \"std\": 16,\n        \"min\": 0,\n        \"max\": 52,\n        \"num_unique_values\": 24,\n        \"samples\": [\n          22,\n          39,\n          0\n        ],\n        \"semantic_type\": \"\",\n        \"description\": \"\"\n      }\n    },\n    {\n      \"column\": \"predictions\",\n      \"properties\": {\n        \"dtype\": \"number\",\n        \"std\": 0,\n        \"min\": 0,\n        \"max\": 2,\n        \"num_unique_values\": 3,\n        \"samples\": [\n          2,\n          1,\n          0\n        ],\n        \"semantic_type\": \"\",\n        \"description\": \"\"\n      }\n    }\n  ]\n}"
            }
          },
          "metadata": {},
          "execution_count": 117
        }
      ]
    },
    {
      "cell_type": "code",
      "source": [
        "fps_org #fps of original test video"
      ],
      "metadata": {
        "id": "bC337FlvtOrU",
        "colab": {
          "base_uri": "https://localhost:8080/"
        },
        "outputId": "260e5c55-cdbd-4e56-ee0f-fa4a6e5fda62"
      },
      "execution_count": 118,
      "outputs": [
        {
          "output_type": "execute_result",
          "data": {
            "text/plain": [
              "25.0"
            ]
          },
          "metadata": {},
          "execution_count": 118
        }
      ]
    },
    {
      "cell_type": "code",
      "source": [
        "'''\n",
        "keywords;\n",
        "index_no: index of clip where the event happened\n",
        "frame_limit: 60 (no of frames of original video we clubbed together)\n",
        "fps_org: fps of the original test video\n",
        "\n",
        "Thus the time(in sec) of the event clip in the original video\n",
        "based on the index no of clip would be;\n",
        "\n",
        "moment = index_no*frame_limit/fps_org'''"
      ],
      "metadata": {
        "id": "RxVjSXEBVluO",
        "colab": {
          "base_uri": "https://localhost:8080/",
          "height": 70
        },
        "outputId": "4b499a30-e732-4f96-9632-d3173848a7e4"
      },
      "execution_count": 119,
      "outputs": [
        {
          "output_type": "execute_result",
          "data": {
            "text/plain": [
              "'\\nkeywords;\\nindex_no: index of clip where the event happened\\nframe_limit: 60 (no of frames of original video we clubbed together)\\nfps_org: fps of the original test video\\n\\nThus the time(in sec) of the event clip in the original video\\nbased on the index no of clip would be;\\n\\nmoment = index_no*frame_limit/fps_org'"
            ],
            "application/vnd.google.colaboratory.intrinsic+json": {
              "type": "string"
            }
          },
          "metadata": {},
          "execution_count": 119
        }
      ]
    },
    {
      "cell_type": "code",
      "source": [
        "'''\n",
        "Thus we can extract a clip using moviepy,\n",
        " starting 5 secs before the event moment and\n",
        " ending 5 secs after the event moment;\n",
        "by defining the below variables:\n",
        "\n",
        "start_time = moment - 5\n",
        "end_time = moment + 5\n",
        "\n",
        " '''"
      ],
      "metadata": {
        "id": "P2mhvFhUWsDU",
        "colab": {
          "base_uri": "https://localhost:8080/",
          "height": 53
        },
        "outputId": "4b8cf1d5-7a67-4fba-bb72-d3843ff9df4a"
      },
      "execution_count": 120,
      "outputs": [
        {
          "output_type": "execute_result",
          "data": {
            "text/plain": [
              "'\\nThus we can extract a clip using moviepy,\\n starting 5 secs before the event moment and\\n ending 5 secs after the event moment;\\nby defining the below variables:\\n\\nstart_time = moment - 5\\nend_time = moment + 5\\n\\n '"
            ],
            "application/vnd.google.colaboratory.intrinsic+json": {
              "type": "string"
            }
          },
          "metadata": {},
          "execution_count": 120
        }
      ]
    },
    {
      "cell_type": "code",
      "source": [
        "max_time = len(frames_list)/fps_org #ending time of the original test video"
      ],
      "metadata": {
        "id": "0D_dwBGqIcbF"
      },
      "execution_count": 121,
      "outputs": []
    },
    {
      "cell_type": "markdown",
      "source": [
        "Video Extraction using Moviepy"
      ],
      "metadata": {
        "id": "5SaLw6wPlCFs"
      }
    },
    {
      "cell_type": "code",
      "source": [
        "#creating a folder for storing 3 class folders\n",
        "os.mkdir('/content/classified_moments')"
      ],
      "metadata": {
        "id": "f_v0MGbKLQNc"
      },
      "execution_count": 122,
      "outputs": []
    },
    {
      "cell_type": "code",
      "source": [
        "# creating folders for storing clips of each corresponding classes\n",
        "\n",
        "os.mkdir('/content/classified_moments/Goal')\n",
        "os.mkdir('/content/classified_moments/Happy')\n",
        "os.mkdir('/content/classified_moments/Loss')"
      ],
      "metadata": {
        "id": "zO3KnpgdIyGz"
      },
      "execution_count": 123,
      "outputs": []
    },
    {
      "cell_type": "code",
      "source": [
        "df.head(8)"
      ],
      "metadata": {
        "colab": {
          "base_uri": "https://localhost:8080/",
          "height": 300
        },
        "id": "w3Qy20l9NqvK",
        "outputId": "87f9d931-c1cf-4182-fee3-ca9f29636728"
      },
      "execution_count": 124,
      "outputs": [
        {
          "output_type": "execute_result",
          "data": {
            "text/plain": [
              "   event_index  predictions\n",
              "0            0            2\n",
              "1            6            1\n",
              "2            7            2\n",
              "3            9            0\n",
              "4           10            0\n",
              "5           16            0\n",
              "6           17            0\n",
              "7           18            0"
            ],
            "text/html": [
              "\n",
              "  <div id=\"df-402b6ddd-a9d5-4ee5-940b-158102483bd5\" class=\"colab-df-container\">\n",
              "    <div>\n",
              "<style scoped>\n",
              "    .dataframe tbody tr th:only-of-type {\n",
              "        vertical-align: middle;\n",
              "    }\n",
              "\n",
              "    .dataframe tbody tr th {\n",
              "        vertical-align: top;\n",
              "    }\n",
              "\n",
              "    .dataframe thead th {\n",
              "        text-align: right;\n",
              "    }\n",
              "</style>\n",
              "<table border=\"1\" class=\"dataframe\">\n",
              "  <thead>\n",
              "    <tr style=\"text-align: right;\">\n",
              "      <th></th>\n",
              "      <th>event_index</th>\n",
              "      <th>predictions</th>\n",
              "    </tr>\n",
              "  </thead>\n",
              "  <tbody>\n",
              "    <tr>\n",
              "      <th>0</th>\n",
              "      <td>0</td>\n",
              "      <td>2</td>\n",
              "    </tr>\n",
              "    <tr>\n",
              "      <th>1</th>\n",
              "      <td>6</td>\n",
              "      <td>1</td>\n",
              "    </tr>\n",
              "    <tr>\n",
              "      <th>2</th>\n",
              "      <td>7</td>\n",
              "      <td>2</td>\n",
              "    </tr>\n",
              "    <tr>\n",
              "      <th>3</th>\n",
              "      <td>9</td>\n",
              "      <td>0</td>\n",
              "    </tr>\n",
              "    <tr>\n",
              "      <th>4</th>\n",
              "      <td>10</td>\n",
              "      <td>0</td>\n",
              "    </tr>\n",
              "    <tr>\n",
              "      <th>5</th>\n",
              "      <td>16</td>\n",
              "      <td>0</td>\n",
              "    </tr>\n",
              "    <tr>\n",
              "      <th>6</th>\n",
              "      <td>17</td>\n",
              "      <td>0</td>\n",
              "    </tr>\n",
              "    <tr>\n",
              "      <th>7</th>\n",
              "      <td>18</td>\n",
              "      <td>0</td>\n",
              "    </tr>\n",
              "  </tbody>\n",
              "</table>\n",
              "</div>\n",
              "    <div class=\"colab-df-buttons\">\n",
              "\n",
              "  <div class=\"colab-df-container\">\n",
              "    <button class=\"colab-df-convert\" onclick=\"convertToInteractive('df-402b6ddd-a9d5-4ee5-940b-158102483bd5')\"\n",
              "            title=\"Convert this dataframe to an interactive table.\"\n",
              "            style=\"display:none;\">\n",
              "\n",
              "  <svg xmlns=\"http://www.w3.org/2000/svg\" height=\"24px\" viewBox=\"0 -960 960 960\">\n",
              "    <path d=\"M120-120v-720h720v720H120Zm60-500h600v-160H180v160Zm220 220h160v-160H400v160Zm0 220h160v-160H400v160ZM180-400h160v-160H180v160Zm440 0h160v-160H620v160ZM180-180h160v-160H180v160Zm440 0h160v-160H620v160Z\"/>\n",
              "  </svg>\n",
              "    </button>\n",
              "\n",
              "  <style>\n",
              "    .colab-df-container {\n",
              "      display:flex;\n",
              "      gap: 12px;\n",
              "    }\n",
              "\n",
              "    .colab-df-convert {\n",
              "      background-color: #E8F0FE;\n",
              "      border: none;\n",
              "      border-radius: 50%;\n",
              "      cursor: pointer;\n",
              "      display: none;\n",
              "      fill: #1967D2;\n",
              "      height: 32px;\n",
              "      padding: 0 0 0 0;\n",
              "      width: 32px;\n",
              "    }\n",
              "\n",
              "    .colab-df-convert:hover {\n",
              "      background-color: #E2EBFA;\n",
              "      box-shadow: 0px 1px 2px rgba(60, 64, 67, 0.3), 0px 1px 3px 1px rgba(60, 64, 67, 0.15);\n",
              "      fill: #174EA6;\n",
              "    }\n",
              "\n",
              "    .colab-df-buttons div {\n",
              "      margin-bottom: 4px;\n",
              "    }\n",
              "\n",
              "    [theme=dark] .colab-df-convert {\n",
              "      background-color: #3B4455;\n",
              "      fill: #D2E3FC;\n",
              "    }\n",
              "\n",
              "    [theme=dark] .colab-df-convert:hover {\n",
              "      background-color: #434B5C;\n",
              "      box-shadow: 0px 1px 3px 1px rgba(0, 0, 0, 0.15);\n",
              "      filter: drop-shadow(0px 1px 2px rgba(0, 0, 0, 0.3));\n",
              "      fill: #FFFFFF;\n",
              "    }\n",
              "  </style>\n",
              "\n",
              "    <script>\n",
              "      const buttonEl =\n",
              "        document.querySelector('#df-402b6ddd-a9d5-4ee5-940b-158102483bd5 button.colab-df-convert');\n",
              "      buttonEl.style.display =\n",
              "        google.colab.kernel.accessAllowed ? 'block' : 'none';\n",
              "\n",
              "      async function convertToInteractive(key) {\n",
              "        const element = document.querySelector('#df-402b6ddd-a9d5-4ee5-940b-158102483bd5');\n",
              "        const dataTable =\n",
              "          await google.colab.kernel.invokeFunction('convertToInteractive',\n",
              "                                                    [key], {});\n",
              "        if (!dataTable) return;\n",
              "\n",
              "        const docLinkHtml = 'Like what you see? Visit the ' +\n",
              "          '<a target=\"_blank\" href=https://colab.research.google.com/notebooks/data_table.ipynb>data table notebook</a>'\n",
              "          + ' to learn more about interactive tables.';\n",
              "        element.innerHTML = '';\n",
              "        dataTable['output_type'] = 'display_data';\n",
              "        await google.colab.output.renderOutput(dataTable, element);\n",
              "        const docLink = document.createElement('div');\n",
              "        docLink.innerHTML = docLinkHtml;\n",
              "        element.appendChild(docLink);\n",
              "      }\n",
              "    </script>\n",
              "  </div>\n",
              "\n",
              "\n",
              "<div id=\"df-ca500bbe-d71e-494f-81eb-94e8aee862ce\">\n",
              "  <button class=\"colab-df-quickchart\" onclick=\"quickchart('df-ca500bbe-d71e-494f-81eb-94e8aee862ce')\"\n",
              "            title=\"Suggest charts\"\n",
              "            style=\"display:none;\">\n",
              "\n",
              "<svg xmlns=\"http://www.w3.org/2000/svg\" height=\"24px\"viewBox=\"0 0 24 24\"\n",
              "     width=\"24px\">\n",
              "    <g>\n",
              "        <path d=\"M19 3H5c-1.1 0-2 .9-2 2v14c0 1.1.9 2 2 2h14c1.1 0 2-.9 2-2V5c0-1.1-.9-2-2-2zM9 17H7v-7h2v7zm4 0h-2V7h2v10zm4 0h-2v-4h2v4z\"/>\n",
              "    </g>\n",
              "</svg>\n",
              "  </button>\n",
              "\n",
              "<style>\n",
              "  .colab-df-quickchart {\n",
              "      --bg-color: #E8F0FE;\n",
              "      --fill-color: #1967D2;\n",
              "      --hover-bg-color: #E2EBFA;\n",
              "      --hover-fill-color: #174EA6;\n",
              "      --disabled-fill-color: #AAA;\n",
              "      --disabled-bg-color: #DDD;\n",
              "  }\n",
              "\n",
              "  [theme=dark] .colab-df-quickchart {\n",
              "      --bg-color: #3B4455;\n",
              "      --fill-color: #D2E3FC;\n",
              "      --hover-bg-color: #434B5C;\n",
              "      --hover-fill-color: #FFFFFF;\n",
              "      --disabled-bg-color: #3B4455;\n",
              "      --disabled-fill-color: #666;\n",
              "  }\n",
              "\n",
              "  .colab-df-quickchart {\n",
              "    background-color: var(--bg-color);\n",
              "    border: none;\n",
              "    border-radius: 50%;\n",
              "    cursor: pointer;\n",
              "    display: none;\n",
              "    fill: var(--fill-color);\n",
              "    height: 32px;\n",
              "    padding: 0;\n",
              "    width: 32px;\n",
              "  }\n",
              "\n",
              "  .colab-df-quickchart:hover {\n",
              "    background-color: var(--hover-bg-color);\n",
              "    box-shadow: 0 1px 2px rgba(60, 64, 67, 0.3), 0 1px 3px 1px rgba(60, 64, 67, 0.15);\n",
              "    fill: var(--button-hover-fill-color);\n",
              "  }\n",
              "\n",
              "  .colab-df-quickchart-complete:disabled,\n",
              "  .colab-df-quickchart-complete:disabled:hover {\n",
              "    background-color: var(--disabled-bg-color);\n",
              "    fill: var(--disabled-fill-color);\n",
              "    box-shadow: none;\n",
              "  }\n",
              "\n",
              "  .colab-df-spinner {\n",
              "    border: 2px solid var(--fill-color);\n",
              "    border-color: transparent;\n",
              "    border-bottom-color: var(--fill-color);\n",
              "    animation:\n",
              "      spin 1s steps(1) infinite;\n",
              "  }\n",
              "\n",
              "  @keyframes spin {\n",
              "    0% {\n",
              "      border-color: transparent;\n",
              "      border-bottom-color: var(--fill-color);\n",
              "      border-left-color: var(--fill-color);\n",
              "    }\n",
              "    20% {\n",
              "      border-color: transparent;\n",
              "      border-left-color: var(--fill-color);\n",
              "      border-top-color: var(--fill-color);\n",
              "    }\n",
              "    30% {\n",
              "      border-color: transparent;\n",
              "      border-left-color: var(--fill-color);\n",
              "      border-top-color: var(--fill-color);\n",
              "      border-right-color: var(--fill-color);\n",
              "    }\n",
              "    40% {\n",
              "      border-color: transparent;\n",
              "      border-right-color: var(--fill-color);\n",
              "      border-top-color: var(--fill-color);\n",
              "    }\n",
              "    60% {\n",
              "      border-color: transparent;\n",
              "      border-right-color: var(--fill-color);\n",
              "    }\n",
              "    80% {\n",
              "      border-color: transparent;\n",
              "      border-right-color: var(--fill-color);\n",
              "      border-bottom-color: var(--fill-color);\n",
              "    }\n",
              "    90% {\n",
              "      border-color: transparent;\n",
              "      border-bottom-color: var(--fill-color);\n",
              "    }\n",
              "  }\n",
              "</style>\n",
              "\n",
              "  <script>\n",
              "    async function quickchart(key) {\n",
              "      const quickchartButtonEl =\n",
              "        document.querySelector('#' + key + ' button');\n",
              "      quickchartButtonEl.disabled = true;  // To prevent multiple clicks.\n",
              "      quickchartButtonEl.classList.add('colab-df-spinner');\n",
              "      try {\n",
              "        const charts = await google.colab.kernel.invokeFunction(\n",
              "            'suggestCharts', [key], {});\n",
              "      } catch (error) {\n",
              "        console.error('Error during call to suggestCharts:', error);\n",
              "      }\n",
              "      quickchartButtonEl.classList.remove('colab-df-spinner');\n",
              "      quickchartButtonEl.classList.add('colab-df-quickchart-complete');\n",
              "    }\n",
              "    (() => {\n",
              "      let quickchartButtonEl =\n",
              "        document.querySelector('#df-ca500bbe-d71e-494f-81eb-94e8aee862ce button');\n",
              "      quickchartButtonEl.style.display =\n",
              "        google.colab.kernel.accessAllowed ? 'block' : 'none';\n",
              "    })();\n",
              "  </script>\n",
              "</div>\n",
              "\n",
              "    </div>\n",
              "  </div>\n"
            ],
            "application/vnd.google.colaboratory.intrinsic+json": {
              "type": "dataframe",
              "variable_name": "df",
              "summary": "{\n  \"name\": \"df\",\n  \"rows\": 24,\n  \"fields\": [\n    {\n      \"column\": \"event_index\",\n      \"properties\": {\n        \"dtype\": \"number\",\n        \"std\": 16,\n        \"min\": 0,\n        \"max\": 52,\n        \"num_unique_values\": 24,\n        \"samples\": [\n          22,\n          39,\n          0\n        ],\n        \"semantic_type\": \"\",\n        \"description\": \"\"\n      }\n    },\n    {\n      \"column\": \"predictions\",\n      \"properties\": {\n        \"dtype\": \"number\",\n        \"std\": 0,\n        \"min\": 0,\n        \"max\": 2,\n        \"num_unique_values\": 3,\n        \"samples\": [\n          2,\n          1,\n          0\n        ],\n        \"semantic_type\": \"\",\n        \"description\": \"\"\n      }\n    }\n  ]\n}"
            }
          },
          "metadata": {},
          "execution_count": 124
        }
      ]
    },
    {
      "cell_type": "code",
      "source": [
        "'''\n",
        "To prevent value error;\n",
        " in case the starting time(moment -5 sec) is less than the begining of the original test video\n",
        " or\n",
        " in case the ending time(moment + 5 sec) is greater than the ending time of the original test video,\n",
        " I have written the extraction part as below\n",
        " '''"
      ],
      "metadata": {
        "id": "p4z7FWX6kTD2",
        "colab": {
          "base_uri": "https://localhost:8080/",
          "height": 53
        },
        "outputId": "dcf26d2d-af49-4601-984c-b1038a0f130d"
      },
      "execution_count": 125,
      "outputs": [
        {
          "output_type": "execute_result",
          "data": {
            "text/plain": [
              "'\\nTo prevent value error;\\n in case the starting time(moment -5 sec) is less than the begining of the original test video\\n or\\n in case the ending time(moment + 5 sec) is greater than the ending time of the original test video,\\n I have written the extraction part as below\\n '"
            ],
            "application/vnd.google.colaboratory.intrinsic+json": {
              "type": "string"
            }
          },
          "metadata": {},
          "execution_count": 125
        }
      ]
    },
    {
      "cell_type": "code",
      "source": [
        "for i in range(len(df['predictions'])):\n",
        "  index = df['event_index'][i]\n",
        "  moment = index*frame_limit/fps_org\n",
        "  start_time = moment - 5\n",
        "  end_time = moment + 5\n",
        "  clip = mp.VideoFileClip('/content/drive/MyDrive/Football analysis videos ICT/Giroud header wins it! _ England v France _ FIFA World Cup Qatar 2022.mp4')\n",
        "  if df['predictions'][i] == 0:\n",
        "  # Create a cropped subclip that starts at {start_time} seconds and ends at {end_time} seconds if event is Goal\n",
        "    # Create a cropped subclip after checking for out of time extractions\n",
        "    if start_time < 0:\n",
        "      start_time = 0\n",
        "      cropped_clip = clip.subclip(start_time, end_time)\n",
        "      cropped_clip.write_videofile(f\"/content/classified_moments/Goal/goal{i}.mp4\")\n",
        "    if end_time > max_time:\n",
        "      end_time = max_time\n",
        "      cropped_clip = clip.subclip(start_time, end_time)\n",
        "      cropped_clip.write_videofile(f\"/content/classified_moments/Goal/goal{i}.mp4\")\n",
        "    else:\n",
        "      cropped_clip = clip.subclip(start_time, end_time)\n",
        "      cropped_clip.write_videofile(f\"/content/classified_moments/Goal/goal{i}.mp4\")\n",
        "  if df['predictions'][i] == 1:\n",
        "  # Create a cropped subclip that starts at {start_time} seconds and ends at {end_time} seconds if event is Happy\n",
        "    if start_time < 0:\n",
        "      start_time = 0\n",
        "      cropped_clip = clip.subclip(start_time, end_time)\n",
        "      cropped_clip.write_videofile(f\"/content/classified_moments/Happy/happy{i}.mp4\")\n",
        "    if end_time > max_time:\n",
        "      end_time = max_time\n",
        "      cropped_clip = clip.subclip(start_time, end_time)\n",
        "      cropped_clip.write_videofile(f\"/content/classified_moments/Happy/happy{i}.mp4\")\n",
        "    else:\n",
        "      cropped_clip = clip.subclip(start_time, end_time)\n",
        "      cropped_clip.write_videofile(f\"/content/classified_moments/Happy/happy{i}.mp4\")\n",
        "  if df['predictions'][i] == 2:\n",
        "  # Create a cropped subclip that starts at {start_time} seconds and ends at {end_time} seconds if event is Loss\n",
        "    if start_time < 0:\n",
        "      start_time = 0\n",
        "      cropped_clip = clip.subclip(start_time, end_time)\n",
        "      cropped_clip.write_videofile(f\"/content/classified_moments/Loss/loss{i}.mp4\")\n",
        "    if end_time > max_time:\n",
        "      end_time = max_time\n",
        "      cropped_clip = clip.subclip(start_time, end_time)\n",
        "      cropped_clip.write_videofile(f\"/content/classified_moments/Loss/loss{i}.mp4\")\n",
        "    else:\n",
        "      cropped_clip = clip.subclip(start_time, end_time)\n",
        "      cropped_clip.write_videofile(f\"/content/classified_moments/Loss/loss{i}.mp4\")"
      ],
      "metadata": {
        "colab": {
          "base_uri": "https://localhost:8080/"
        },
        "id": "1h4NUKuwGmbA",
        "outputId": "3e1dada9-6ef3-4fa3-c970-f98ad57adb18"
      },
      "execution_count": 129,
      "outputs": [
        {
          "output_type": "stream",
          "name": "stdout",
          "text": [
            "Moviepy - Building video /content/classified_moments/Loss/loss0.mp4.\n",
            "MoviePy - Writing audio in loss0TEMP_MPY_wvf_snd.mp3\n"
          ]
        },
        {
          "output_type": "stream",
          "name": "stderr",
          "text": []
        },
        {
          "output_type": "stream",
          "name": "stdout",
          "text": [
            "MoviePy - Done.\n",
            "Moviepy - Writing video /content/classified_moments/Loss/loss0.mp4\n",
            "\n"
          ]
        },
        {
          "output_type": "stream",
          "name": "stderr",
          "text": []
        },
        {
          "output_type": "stream",
          "name": "stdout",
          "text": [
            "Moviepy - Done !\n",
            "Moviepy - video ready /content/classified_moments/Loss/loss0.mp4\n",
            "Moviepy - Building video /content/classified_moments/Loss/loss0.mp4.\n",
            "MoviePy - Writing audio in loss0TEMP_MPY_wvf_snd.mp3\n"
          ]
        },
        {
          "output_type": "stream",
          "name": "stderr",
          "text": []
        },
        {
          "output_type": "stream",
          "name": "stdout",
          "text": [
            "MoviePy - Done.\n",
            "Moviepy - Writing video /content/classified_moments/Loss/loss0.mp4\n",
            "\n"
          ]
        },
        {
          "output_type": "stream",
          "name": "stderr",
          "text": []
        },
        {
          "output_type": "stream",
          "name": "stdout",
          "text": [
            "Moviepy - Done !\n",
            "Moviepy - video ready /content/classified_moments/Loss/loss0.mp4\n",
            "Moviepy - Building video /content/classified_moments/Happy/happy1.mp4.\n",
            "MoviePy - Writing audio in happy1TEMP_MPY_wvf_snd.mp3\n"
          ]
        },
        {
          "output_type": "stream",
          "name": "stderr",
          "text": []
        },
        {
          "output_type": "stream",
          "name": "stdout",
          "text": [
            "MoviePy - Done.\n",
            "Moviepy - Writing video /content/classified_moments/Happy/happy1.mp4\n",
            "\n"
          ]
        },
        {
          "output_type": "stream",
          "name": "stderr",
          "text": []
        },
        {
          "output_type": "stream",
          "name": "stdout",
          "text": [
            "Moviepy - Done !\n",
            "Moviepy - video ready /content/classified_moments/Happy/happy1.mp4\n",
            "Moviepy - Building video /content/classified_moments/Loss/loss2.mp4.\n",
            "MoviePy - Writing audio in loss2TEMP_MPY_wvf_snd.mp3\n"
          ]
        },
        {
          "output_type": "stream",
          "name": "stderr",
          "text": []
        },
        {
          "output_type": "stream",
          "name": "stdout",
          "text": [
            "MoviePy - Done.\n",
            "Moviepy - Writing video /content/classified_moments/Loss/loss2.mp4\n",
            "\n"
          ]
        },
        {
          "output_type": "stream",
          "name": "stderr",
          "text": []
        },
        {
          "output_type": "stream",
          "name": "stdout",
          "text": [
            "Moviepy - Done !\n",
            "Moviepy - video ready /content/classified_moments/Loss/loss2.mp4\n",
            "Moviepy - Building video /content/classified_moments/Goal/goal3.mp4.\n",
            "MoviePy - Writing audio in goal3TEMP_MPY_wvf_snd.mp3\n"
          ]
        },
        {
          "output_type": "stream",
          "name": "stderr",
          "text": []
        },
        {
          "output_type": "stream",
          "name": "stdout",
          "text": [
            "MoviePy - Done.\n",
            "Moviepy - Writing video /content/classified_moments/Goal/goal3.mp4\n",
            "\n"
          ]
        },
        {
          "output_type": "stream",
          "name": "stderr",
          "text": []
        },
        {
          "output_type": "stream",
          "name": "stdout",
          "text": [
            "Moviepy - Done !\n",
            "Moviepy - video ready /content/classified_moments/Goal/goal3.mp4\n",
            "Moviepy - Building video /content/classified_moments/Goal/goal4.mp4.\n",
            "MoviePy - Writing audio in goal4TEMP_MPY_wvf_snd.mp3\n"
          ]
        },
        {
          "output_type": "stream",
          "name": "stderr",
          "text": []
        },
        {
          "output_type": "stream",
          "name": "stdout",
          "text": [
            "MoviePy - Done.\n",
            "Moviepy - Writing video /content/classified_moments/Goal/goal4.mp4\n",
            "\n"
          ]
        },
        {
          "output_type": "stream",
          "name": "stderr",
          "text": []
        },
        {
          "output_type": "stream",
          "name": "stdout",
          "text": [
            "Moviepy - Done !\n",
            "Moviepy - video ready /content/classified_moments/Goal/goal4.mp4\n",
            "Moviepy - Building video /content/classified_moments/Goal/goal5.mp4.\n",
            "MoviePy - Writing audio in goal5TEMP_MPY_wvf_snd.mp3\n"
          ]
        },
        {
          "output_type": "stream",
          "name": "stderr",
          "text": []
        },
        {
          "output_type": "stream",
          "name": "stdout",
          "text": [
            "MoviePy - Done.\n",
            "Moviepy - Writing video /content/classified_moments/Goal/goal5.mp4\n",
            "\n"
          ]
        },
        {
          "output_type": "stream",
          "name": "stderr",
          "text": []
        },
        {
          "output_type": "stream",
          "name": "stdout",
          "text": [
            "Moviepy - Done !\n",
            "Moviepy - video ready /content/classified_moments/Goal/goal5.mp4\n",
            "Moviepy - Building video /content/classified_moments/Goal/goal6.mp4.\n",
            "MoviePy - Writing audio in goal6TEMP_MPY_wvf_snd.mp3\n"
          ]
        },
        {
          "output_type": "stream",
          "name": "stderr",
          "text": []
        },
        {
          "output_type": "stream",
          "name": "stdout",
          "text": [
            "MoviePy - Done.\n",
            "Moviepy - Writing video /content/classified_moments/Goal/goal6.mp4\n",
            "\n"
          ]
        },
        {
          "output_type": "stream",
          "name": "stderr",
          "text": []
        },
        {
          "output_type": "stream",
          "name": "stdout",
          "text": [
            "Moviepy - Done !\n",
            "Moviepy - video ready /content/classified_moments/Goal/goal6.mp4\n",
            "Moviepy - Building video /content/classified_moments/Goal/goal7.mp4.\n",
            "MoviePy - Writing audio in goal7TEMP_MPY_wvf_snd.mp3\n"
          ]
        },
        {
          "output_type": "stream",
          "name": "stderr",
          "text": []
        },
        {
          "output_type": "stream",
          "name": "stdout",
          "text": [
            "MoviePy - Done.\n",
            "Moviepy - Writing video /content/classified_moments/Goal/goal7.mp4\n",
            "\n"
          ]
        },
        {
          "output_type": "stream",
          "name": "stderr",
          "text": []
        },
        {
          "output_type": "stream",
          "name": "stdout",
          "text": [
            "Moviepy - Done !\n",
            "Moviepy - video ready /content/classified_moments/Goal/goal7.mp4\n",
            "Moviepy - Building video /content/classified_moments/Goal/goal8.mp4.\n",
            "MoviePy - Writing audio in goal8TEMP_MPY_wvf_snd.mp3\n"
          ]
        },
        {
          "output_type": "stream",
          "name": "stderr",
          "text": []
        },
        {
          "output_type": "stream",
          "name": "stdout",
          "text": [
            "MoviePy - Done.\n",
            "Moviepy - Writing video /content/classified_moments/Goal/goal8.mp4\n",
            "\n"
          ]
        },
        {
          "output_type": "stream",
          "name": "stderr",
          "text": []
        },
        {
          "output_type": "stream",
          "name": "stdout",
          "text": [
            "Moviepy - Done !\n",
            "Moviepy - video ready /content/classified_moments/Goal/goal8.mp4\n",
            "Moviepy - Building video /content/classified_moments/Happy/happy9.mp4.\n",
            "MoviePy - Writing audio in happy9TEMP_MPY_wvf_snd.mp3\n"
          ]
        },
        {
          "output_type": "stream",
          "name": "stderr",
          "text": []
        },
        {
          "output_type": "stream",
          "name": "stdout",
          "text": [
            "MoviePy - Done.\n",
            "Moviepy - Writing video /content/classified_moments/Happy/happy9.mp4\n",
            "\n"
          ]
        },
        {
          "output_type": "stream",
          "name": "stderr",
          "text": []
        },
        {
          "output_type": "stream",
          "name": "stdout",
          "text": [
            "Moviepy - Done !\n",
            "Moviepy - video ready /content/classified_moments/Happy/happy9.mp4\n",
            "Moviepy - Building video /content/classified_moments/Goal/goal10.mp4.\n",
            "MoviePy - Writing audio in goal10TEMP_MPY_wvf_snd.mp3\n"
          ]
        },
        {
          "output_type": "stream",
          "name": "stderr",
          "text": []
        },
        {
          "output_type": "stream",
          "name": "stdout",
          "text": [
            "MoviePy - Done.\n",
            "Moviepy - Writing video /content/classified_moments/Goal/goal10.mp4\n",
            "\n"
          ]
        },
        {
          "output_type": "stream",
          "name": "stderr",
          "text": []
        },
        {
          "output_type": "stream",
          "name": "stdout",
          "text": [
            "Moviepy - Done !\n",
            "Moviepy - video ready /content/classified_moments/Goal/goal10.mp4\n",
            "Moviepy - Building video /content/classified_moments/Goal/goal11.mp4.\n",
            "MoviePy - Writing audio in goal11TEMP_MPY_wvf_snd.mp3\n"
          ]
        },
        {
          "output_type": "stream",
          "name": "stderr",
          "text": []
        },
        {
          "output_type": "stream",
          "name": "stdout",
          "text": [
            "MoviePy - Done.\n",
            "Moviepy - Writing video /content/classified_moments/Goal/goal11.mp4\n",
            "\n"
          ]
        },
        {
          "output_type": "stream",
          "name": "stderr",
          "text": []
        },
        {
          "output_type": "stream",
          "name": "stdout",
          "text": [
            "Moviepy - Done !\n",
            "Moviepy - video ready /content/classified_moments/Goal/goal11.mp4\n",
            "Moviepy - Building video /content/classified_moments/Goal/goal12.mp4.\n",
            "MoviePy - Writing audio in goal12TEMP_MPY_wvf_snd.mp3\n"
          ]
        },
        {
          "output_type": "stream",
          "name": "stderr",
          "text": []
        },
        {
          "output_type": "stream",
          "name": "stdout",
          "text": [
            "MoviePy - Done.\n",
            "Moviepy - Writing video /content/classified_moments/Goal/goal12.mp4\n",
            "\n"
          ]
        },
        {
          "output_type": "stream",
          "name": "stderr",
          "text": []
        },
        {
          "output_type": "stream",
          "name": "stdout",
          "text": [
            "Moviepy - Done !\n",
            "Moviepy - video ready /content/classified_moments/Goal/goal12.mp4\n",
            "Moviepy - Building video /content/classified_moments/Goal/goal13.mp4.\n",
            "MoviePy - Writing audio in goal13TEMP_MPY_wvf_snd.mp3\n"
          ]
        },
        {
          "output_type": "stream",
          "name": "stderr",
          "text": []
        },
        {
          "output_type": "stream",
          "name": "stdout",
          "text": [
            "MoviePy - Done.\n",
            "Moviepy - Writing video /content/classified_moments/Goal/goal13.mp4\n",
            "\n"
          ]
        },
        {
          "output_type": "stream",
          "name": "stderr",
          "text": []
        },
        {
          "output_type": "stream",
          "name": "stdout",
          "text": [
            "Moviepy - Done !\n",
            "Moviepy - video ready /content/classified_moments/Goal/goal13.mp4\n",
            "Moviepy - Building video /content/classified_moments/Happy/happy14.mp4.\n",
            "MoviePy - Writing audio in happy14TEMP_MPY_wvf_snd.mp3\n"
          ]
        },
        {
          "output_type": "stream",
          "name": "stderr",
          "text": []
        },
        {
          "output_type": "stream",
          "name": "stdout",
          "text": [
            "MoviePy - Done.\n",
            "Moviepy - Writing video /content/classified_moments/Happy/happy14.mp4\n",
            "\n"
          ]
        },
        {
          "output_type": "stream",
          "name": "stderr",
          "text": []
        },
        {
          "output_type": "stream",
          "name": "stdout",
          "text": [
            "Moviepy - Done !\n",
            "Moviepy - video ready /content/classified_moments/Happy/happy14.mp4\n",
            "Moviepy - Building video /content/classified_moments/Happy/happy15.mp4.\n",
            "MoviePy - Writing audio in happy15TEMP_MPY_wvf_snd.mp3\n"
          ]
        },
        {
          "output_type": "stream",
          "name": "stderr",
          "text": []
        },
        {
          "output_type": "stream",
          "name": "stdout",
          "text": [
            "MoviePy - Done.\n",
            "Moviepy - Writing video /content/classified_moments/Happy/happy15.mp4\n",
            "\n"
          ]
        },
        {
          "output_type": "stream",
          "name": "stderr",
          "text": []
        },
        {
          "output_type": "stream",
          "name": "stdout",
          "text": [
            "Moviepy - Done !\n",
            "Moviepy - video ready /content/classified_moments/Happy/happy15.mp4\n",
            "Moviepy - Building video /content/classified_moments/Goal/goal16.mp4.\n",
            "MoviePy - Writing audio in goal16TEMP_MPY_wvf_snd.mp3\n"
          ]
        },
        {
          "output_type": "stream",
          "name": "stderr",
          "text": []
        },
        {
          "output_type": "stream",
          "name": "stdout",
          "text": [
            "MoviePy - Done.\n",
            "Moviepy - Writing video /content/classified_moments/Goal/goal16.mp4\n",
            "\n"
          ]
        },
        {
          "output_type": "stream",
          "name": "stderr",
          "text": []
        },
        {
          "output_type": "stream",
          "name": "stdout",
          "text": [
            "Moviepy - Done !\n",
            "Moviepy - video ready /content/classified_moments/Goal/goal16.mp4\n",
            "Moviepy - Building video /content/classified_moments/Goal/goal17.mp4.\n",
            "MoviePy - Writing audio in goal17TEMP_MPY_wvf_snd.mp3\n"
          ]
        },
        {
          "output_type": "stream",
          "name": "stderr",
          "text": []
        },
        {
          "output_type": "stream",
          "name": "stdout",
          "text": [
            "MoviePy - Done.\n",
            "Moviepy - Writing video /content/classified_moments/Goal/goal17.mp4\n",
            "\n"
          ]
        },
        {
          "output_type": "stream",
          "name": "stderr",
          "text": []
        },
        {
          "output_type": "stream",
          "name": "stdout",
          "text": [
            "Moviepy - Done !\n",
            "Moviepy - video ready /content/classified_moments/Goal/goal17.mp4\n",
            "Moviepy - Building video /content/classified_moments/Goal/goal18.mp4.\n",
            "MoviePy - Writing audio in goal18TEMP_MPY_wvf_snd.mp3\n"
          ]
        },
        {
          "output_type": "stream",
          "name": "stderr",
          "text": []
        },
        {
          "output_type": "stream",
          "name": "stdout",
          "text": [
            "MoviePy - Done.\n",
            "Moviepy - Writing video /content/classified_moments/Goal/goal18.mp4\n",
            "\n"
          ]
        },
        {
          "output_type": "stream",
          "name": "stderr",
          "text": []
        },
        {
          "output_type": "stream",
          "name": "stdout",
          "text": [
            "Moviepy - Done !\n",
            "Moviepy - video ready /content/classified_moments/Goal/goal18.mp4\n",
            "Moviepy - Building video /content/classified_moments/Happy/happy19.mp4.\n",
            "MoviePy - Writing audio in happy19TEMP_MPY_wvf_snd.mp3\n"
          ]
        },
        {
          "output_type": "stream",
          "name": "stderr",
          "text": []
        },
        {
          "output_type": "stream",
          "name": "stdout",
          "text": [
            "MoviePy - Done.\n",
            "Moviepy - Writing video /content/classified_moments/Happy/happy19.mp4\n",
            "\n"
          ]
        },
        {
          "output_type": "stream",
          "name": "stderr",
          "text": []
        },
        {
          "output_type": "stream",
          "name": "stdout",
          "text": [
            "Moviepy - Done !\n",
            "Moviepy - video ready /content/classified_moments/Happy/happy19.mp4\n",
            "Moviepy - Building video /content/classified_moments/Happy/happy20.mp4.\n",
            "MoviePy - Writing audio in happy20TEMP_MPY_wvf_snd.mp3\n"
          ]
        },
        {
          "output_type": "stream",
          "name": "stderr",
          "text": []
        },
        {
          "output_type": "stream",
          "name": "stdout",
          "text": [
            "MoviePy - Done.\n",
            "Moviepy - Writing video /content/classified_moments/Happy/happy20.mp4\n",
            "\n"
          ]
        },
        {
          "output_type": "stream",
          "name": "stderr",
          "text": []
        },
        {
          "output_type": "stream",
          "name": "stdout",
          "text": [
            "Moviepy - Done !\n",
            "Moviepy - video ready /content/classified_moments/Happy/happy20.mp4\n",
            "Moviepy - Building video /content/classified_moments/Loss/loss21.mp4.\n",
            "MoviePy - Writing audio in loss21TEMP_MPY_wvf_snd.mp3\n"
          ]
        },
        {
          "output_type": "stream",
          "name": "stderr",
          "text": []
        },
        {
          "output_type": "stream",
          "name": "stdout",
          "text": [
            "MoviePy - Done.\n",
            "Moviepy - Writing video /content/classified_moments/Loss/loss21.mp4\n",
            "\n"
          ]
        },
        {
          "output_type": "stream",
          "name": "stderr",
          "text": []
        },
        {
          "output_type": "stream",
          "name": "stdout",
          "text": [
            "Moviepy - Done !\n",
            "Moviepy - video ready /content/classified_moments/Loss/loss21.mp4\n",
            "Moviepy - Building video /content/classified_moments/Loss/loss22.mp4.\n",
            "MoviePy - Writing audio in loss22TEMP_MPY_wvf_snd.mp3\n"
          ]
        },
        {
          "output_type": "stream",
          "name": "stderr",
          "text": []
        },
        {
          "output_type": "stream",
          "name": "stdout",
          "text": [
            "MoviePy - Done.\n",
            "Moviepy - Writing video /content/classified_moments/Loss/loss22.mp4\n",
            "\n"
          ]
        },
        {
          "output_type": "stream",
          "name": "stderr",
          "text": []
        },
        {
          "output_type": "stream",
          "name": "stdout",
          "text": [
            "Moviepy - Done !\n",
            "Moviepy - video ready /content/classified_moments/Loss/loss22.mp4\n",
            "Moviepy - Building video /content/classified_moments/Loss/loss23.mp4.\n",
            "MoviePy - Writing audio in loss23TEMP_MPY_wvf_snd.mp3\n"
          ]
        },
        {
          "output_type": "stream",
          "name": "stderr",
          "text": []
        },
        {
          "output_type": "stream",
          "name": "stdout",
          "text": [
            "MoviePy - Done.\n",
            "Moviepy - Writing video /content/classified_moments/Loss/loss23.mp4\n",
            "\n"
          ]
        },
        {
          "output_type": "stream",
          "name": "stderr",
          "text": [
            "t:  98%|█████████▊| 195/199 [00:03<00:00, 51.51it/s, now=None]WARNING:py.warnings:/usr/local/lib/python3.10/dist-packages/moviepy/video/io/ffmpeg_reader.py:123: UserWarning: Warning: in file /content/drive/MyDrive/Football analysis videos ICT/Giroud header wins it! _ England v France _ FIFA World Cup Qatar 2022.mp4, 2764800 bytes wanted but 0 bytes read,at frame 3193/3194, at time 127.72/127.73 sec. Using the last valid frame instead.\n",
            "  warnings.warn(\"Warning: in file %s, \"%(self.filename)+\n",
            "\n"
          ]
        },
        {
          "output_type": "stream",
          "name": "stdout",
          "text": [
            "Moviepy - Done !\n",
            "Moviepy - video ready /content/classified_moments/Loss/loss23.mp4\n"
          ]
        }
      ]
    },
    {
      "cell_type": "code",
      "source": [
        "!zip -r classified_moments.zip classified_moments/"
      ],
      "metadata": {
        "colab": {
          "base_uri": "https://localhost:8080/"
        },
        "id": "102ctX2KN4mA",
        "outputId": "d6d8895d-622c-4266-eaf7-4cfaa8c676aa"
      },
      "execution_count": 130,
      "outputs": [
        {
          "output_type": "stream",
          "name": "stdout",
          "text": [
            "  adding: classified_moments/ (stored 0%)\n",
            "  adding: classified_moments/Happy/ (stored 0%)\n",
            "  adding: classified_moments/Happy/happy1.mp4 (deflated 0%)\n",
            "  adding: classified_moments/Happy/happy19.mp4 (deflated 0%)\n",
            "  adding: classified_moments/Happy/happy15.mp4 (deflated 0%)\n",
            "  adding: classified_moments/Happy/happy14.mp4 (deflated 0%)\n",
            "  adding: classified_moments/Happy/happy9.mp4 (deflated 0%)\n",
            "  adding: classified_moments/Happy/happy20.mp4 (deflated 2%)\n",
            "  adding: classified_moments/Loss/ (stored 0%)\n",
            "  adding: classified_moments/Loss/loss0.mp4 (deflated 1%)\n",
            "  adding: classified_moments/Loss/loss21.mp4 (deflated 3%)\n",
            "  adding: classified_moments/Loss/loss2.mp4 (deflated 0%)\n",
            "  adding: classified_moments/Loss/loss22.mp4 (deflated 7%)\n",
            "  adding: classified_moments/Loss/loss23.mp4 (deflated 28%)\n",
            "  adding: classified_moments/Goal/ (stored 0%)\n",
            "  adding: classified_moments/Goal/goal18.mp4 (deflated 0%)\n",
            "  adding: classified_moments/Goal/goal3.mp4 (deflated 0%)\n",
            "  adding: classified_moments/Goal/goal12.mp4 (deflated 0%)\n",
            "  adding: classified_moments/Goal/goal16.mp4 (deflated 0%)\n",
            "  adding: classified_moments/Goal/goal10.mp4 (deflated 0%)\n",
            "  adding: classified_moments/Goal/goal4.mp4 (deflated 0%)\n",
            "  adding: classified_moments/Goal/goal17.mp4 (deflated 0%)\n",
            "  adding: classified_moments/Goal/goal6.mp4 (deflated 0%)\n",
            "  adding: classified_moments/Goal/goal7.mp4 (deflated 0%)\n",
            "  adding: classified_moments/Goal/goal8.mp4 (deflated 0%)\n",
            "  adding: classified_moments/Goal/goal11.mp4 (deflated 0%)\n",
            "  adding: classified_moments/Goal/goal13.mp4 (deflated 0%)\n",
            "  adding: classified_moments/Goal/goal5.mp4 (deflated 0%)\n"
          ]
        }
      ]
    }
  ]
}