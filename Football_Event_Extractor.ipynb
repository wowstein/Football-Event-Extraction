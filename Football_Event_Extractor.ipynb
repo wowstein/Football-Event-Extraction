{
  "nbformat": 4,
  "nbformat_minor": 0,
  "metadata": {
    "colab": {
      "provenance": [],
      "gpuType": "T4"
    },
    "kernelspec": {
      "name": "python3",
      "display_name": "Python 3"
    },
    "language_info": {
      "name": "python"
    },
    "accelerator": "GPU"
  },
  "cells": [
    {
      "cell_type": "code",
      "execution_count": 63,
      "metadata": {
        "colab": {
          "base_uri": "https://localhost:8080/"
        },
        "id": "CuU0PdFe7biE",
        "outputId": "727b1c34-27a9-4117-880b-7bc882126f9f"
      },
      "outputs": [
        {
          "output_type": "stream",
          "name": "stdout",
          "text": [
            "Requirement already satisfied: tensorflow in /usr/local/lib/python3.10/dist-packages (2.15.0)\n",
            "Requirement already satisfied: opencv-contrib-python in /usr/local/lib/python3.10/dist-packages (4.8.0.76)\n",
            "Requirement already satisfied: youtube-dl in /usr/local/lib/python3.10/dist-packages (2021.12.17)\n",
            "Requirement already satisfied: moviepy in /usr/local/lib/python3.10/dist-packages (1.0.3)\n",
            "Requirement already satisfied: pydot in /usr/local/lib/python3.10/dist-packages (1.4.2)\n",
            "Requirement already satisfied: absl-py>=1.0.0 in /usr/local/lib/python3.10/dist-packages (from tensorflow) (1.4.0)\n",
            "Requirement already satisfied: astunparse>=1.6.0 in /usr/local/lib/python3.10/dist-packages (from tensorflow) (1.6.3)\n",
            "Requirement already satisfied: flatbuffers>=23.5.26 in /usr/local/lib/python3.10/dist-packages (from tensorflow) (24.3.25)\n",
            "Requirement already satisfied: gast!=0.5.0,!=0.5.1,!=0.5.2,>=0.2.1 in /usr/local/lib/python3.10/dist-packages (from tensorflow) (0.5.4)\n",
            "Requirement already satisfied: google-pasta>=0.1.1 in /usr/local/lib/python3.10/dist-packages (from tensorflow) (0.2.0)\n",
            "Requirement already satisfied: h5py>=2.9.0 in /usr/local/lib/python3.10/dist-packages (from tensorflow) (3.9.0)\n",
            "Requirement already satisfied: libclang>=13.0.0 in /usr/local/lib/python3.10/dist-packages (from tensorflow) (18.1.1)\n",
            "Requirement already satisfied: ml-dtypes~=0.2.0 in /usr/local/lib/python3.10/dist-packages (from tensorflow) (0.2.0)\n",
            "Requirement already satisfied: numpy<2.0.0,>=1.23.5 in /usr/local/lib/python3.10/dist-packages (from tensorflow) (1.25.2)\n",
            "Requirement already satisfied: opt-einsum>=2.3.2 in /usr/local/lib/python3.10/dist-packages (from tensorflow) (3.3.0)\n",
            "Requirement already satisfied: packaging in /usr/local/lib/python3.10/dist-packages (from tensorflow) (24.0)\n",
            "Requirement already satisfied: protobuf!=4.21.0,!=4.21.1,!=4.21.2,!=4.21.3,!=4.21.4,!=4.21.5,<5.0.0dev,>=3.20.3 in /usr/local/lib/python3.10/dist-packages (from tensorflow) (3.20.3)\n",
            "Requirement already satisfied: setuptools in /usr/local/lib/python3.10/dist-packages (from tensorflow) (67.7.2)\n",
            "Requirement already satisfied: six>=1.12.0 in /usr/local/lib/python3.10/dist-packages (from tensorflow) (1.16.0)\n",
            "Requirement already satisfied: termcolor>=1.1.0 in /usr/local/lib/python3.10/dist-packages (from tensorflow) (2.4.0)\n",
            "Requirement already satisfied: typing-extensions>=3.6.6 in /usr/local/lib/python3.10/dist-packages (from tensorflow) (4.11.0)\n",
            "Requirement already satisfied: wrapt<1.15,>=1.11.0 in /usr/local/lib/python3.10/dist-packages (from tensorflow) (1.14.1)\n",
            "Requirement already satisfied: tensorflow-io-gcs-filesystem>=0.23.1 in /usr/local/lib/python3.10/dist-packages (from tensorflow) (0.36.0)\n",
            "Requirement already satisfied: grpcio<2.0,>=1.24.3 in /usr/local/lib/python3.10/dist-packages (from tensorflow) (1.62.1)\n",
            "Requirement already satisfied: tensorboard<2.16,>=2.15 in /usr/local/lib/python3.10/dist-packages (from tensorflow) (2.15.2)\n",
            "Requirement already satisfied: tensorflow-estimator<2.16,>=2.15.0 in /usr/local/lib/python3.10/dist-packages (from tensorflow) (2.15.0)\n",
            "Requirement already satisfied: keras<2.16,>=2.15.0 in /usr/local/lib/python3.10/dist-packages (from tensorflow) (2.15.0)\n",
            "Requirement already satisfied: decorator<5.0,>=4.0.2 in /usr/local/lib/python3.10/dist-packages (from moviepy) (4.4.2)\n",
            "Requirement already satisfied: tqdm<5.0,>=4.11.2 in /usr/local/lib/python3.10/dist-packages (from moviepy) (4.66.2)\n",
            "Requirement already satisfied: requests<3.0,>=2.8.1 in /usr/local/lib/python3.10/dist-packages (from moviepy) (2.31.0)\n",
            "Requirement already satisfied: proglog<=1.0.0 in /usr/local/lib/python3.10/dist-packages (from moviepy) (0.1.10)\n",
            "Requirement already satisfied: imageio<3.0,>=2.5 in /usr/local/lib/python3.10/dist-packages (from moviepy) (2.31.6)\n",
            "Requirement already satisfied: imageio-ffmpeg>=0.2.0 in /usr/local/lib/python3.10/dist-packages (from moviepy) (0.4.9)\n",
            "Requirement already satisfied: pyparsing>=2.1.4 in /usr/local/lib/python3.10/dist-packages (from pydot) (3.1.2)\n",
            "Requirement already satisfied: wheel<1.0,>=0.23.0 in /usr/local/lib/python3.10/dist-packages (from astunparse>=1.6.0->tensorflow) (0.43.0)\n",
            "Requirement already satisfied: pillow<10.1.0,>=8.3.2 in /usr/local/lib/python3.10/dist-packages (from imageio<3.0,>=2.5->moviepy) (9.4.0)\n",
            "Requirement already satisfied: charset-normalizer<4,>=2 in /usr/local/lib/python3.10/dist-packages (from requests<3.0,>=2.8.1->moviepy) (3.3.2)\n",
            "Requirement already satisfied: idna<4,>=2.5 in /usr/local/lib/python3.10/dist-packages (from requests<3.0,>=2.8.1->moviepy) (3.7)\n",
            "Requirement already satisfied: urllib3<3,>=1.21.1 in /usr/local/lib/python3.10/dist-packages (from requests<3.0,>=2.8.1->moviepy) (2.0.7)\n",
            "Requirement already satisfied: certifi>=2017.4.17 in /usr/local/lib/python3.10/dist-packages (from requests<3.0,>=2.8.1->moviepy) (2024.2.2)\n",
            "Requirement already satisfied: google-auth<3,>=1.6.3 in /usr/local/lib/python3.10/dist-packages (from tensorboard<2.16,>=2.15->tensorflow) (2.27.0)\n",
            "Requirement already satisfied: google-auth-oauthlib<2,>=0.5 in /usr/local/lib/python3.10/dist-packages (from tensorboard<2.16,>=2.15->tensorflow) (1.2.0)\n",
            "Requirement already satisfied: markdown>=2.6.8 in /usr/local/lib/python3.10/dist-packages (from tensorboard<2.16,>=2.15->tensorflow) (3.6)\n",
            "Requirement already satisfied: tensorboard-data-server<0.8.0,>=0.7.0 in /usr/local/lib/python3.10/dist-packages (from tensorboard<2.16,>=2.15->tensorflow) (0.7.2)\n",
            "Requirement already satisfied: werkzeug>=1.0.1 in /usr/local/lib/python3.10/dist-packages (from tensorboard<2.16,>=2.15->tensorflow) (3.0.2)\n",
            "Requirement already satisfied: cachetools<6.0,>=2.0.0 in /usr/local/lib/python3.10/dist-packages (from google-auth<3,>=1.6.3->tensorboard<2.16,>=2.15->tensorflow) (5.3.3)\n",
            "Requirement already satisfied: pyasn1-modules>=0.2.1 in /usr/local/lib/python3.10/dist-packages (from google-auth<3,>=1.6.3->tensorboard<2.16,>=2.15->tensorflow) (0.4.0)\n",
            "Requirement already satisfied: rsa<5,>=3.1.4 in /usr/local/lib/python3.10/dist-packages (from google-auth<3,>=1.6.3->tensorboard<2.16,>=2.15->tensorflow) (4.9)\n",
            "Requirement already satisfied: requests-oauthlib>=0.7.0 in /usr/local/lib/python3.10/dist-packages (from google-auth-oauthlib<2,>=0.5->tensorboard<2.16,>=2.15->tensorflow) (1.3.1)\n",
            "Requirement already satisfied: MarkupSafe>=2.1.1 in /usr/local/lib/python3.10/dist-packages (from werkzeug>=1.0.1->tensorboard<2.16,>=2.15->tensorflow) (2.1.5)\n",
            "Requirement already satisfied: pyasn1<0.7.0,>=0.4.6 in /usr/local/lib/python3.10/dist-packages (from pyasn1-modules>=0.2.1->google-auth<3,>=1.6.3->tensorboard<2.16,>=2.15->tensorflow) (0.6.0)\n",
            "Requirement already satisfied: oauthlib>=3.0.0 in /usr/local/lib/python3.10/dist-packages (from requests-oauthlib>=0.7.0->google-auth-oauthlib<2,>=0.5->tensorboard<2.16,>=2.15->tensorflow) (3.2.2)\n"
          ]
        }
      ],
      "source": [
        "!pip install tensorflow opencv-contrib-python youtube-dl moviepy pydot"
      ]
    },
    {
      "cell_type": "code",
      "source": [
        "!pip install pafy"
      ],
      "metadata": {
        "colab": {
          "base_uri": "https://localhost:8080/"
        },
        "id": "8kcLfLzG7f6m",
        "outputId": "3cc8090b-dd77-4708-b557-563b3f687c7c"
      },
      "execution_count": 64,
      "outputs": [
        {
          "output_type": "stream",
          "name": "stdout",
          "text": [
            "Requirement already satisfied: pafy in /usr/local/lib/python3.10/dist-packages (0.5.5)\n"
          ]
        }
      ]
    },
    {
      "cell_type": "code",
      "source": [
        "from google.colab import drive\n",
        "drive.mount('/content/drive')"
      ],
      "metadata": {
        "colab": {
          "base_uri": "https://localhost:8080/"
        },
        "id": "TNm_ebLp7h5b",
        "outputId": "ef53de15-47ab-4c3c-9223-3a1dea1ca8f3"
      },
      "execution_count": 65,
      "outputs": [
        {
          "output_type": "stream",
          "name": "stdout",
          "text": [
            "Drive already mounted at /content/drive; to attempt to forcibly remount, call drive.mount(\"/content/drive\", force_remount=True).\n"
          ]
        }
      ]
    },
    {
      "cell_type": "code",
      "source": [
        "# Import the required libraries.\n",
        "import os\n",
        "from os import path\n",
        "import cv2\n",
        "import pafy\n",
        "import math\n",
        "import random\n",
        "import numpy as np\n",
        "import pandas as pd\n",
        "from keras.saving import load_model\n",
        "import moviepy.editor as mp"
      ],
      "metadata": {
        "id": "VuaTfPMd7mjF"
      },
      "execution_count": 66,
      "outputs": []
    },
    {
      "cell_type": "code",
      "source": [
        "#loading created model\n",
        "convlstm_model = load_model('/content/convlstm_model___Date_Time_2024_02_23__07_39_38___Loss_0.7323020100593567___Accuracy_0.75.keras')"
      ],
      "metadata": {
        "id": "I8YsJufr__Ka"
      },
      "execution_count": 67,
      "outputs": []
    },
    {
      "cell_type": "code",
      "source": [
        "IMAGE_HEIGHT , IMAGE_WIDTH = 64, 64\n",
        "SEQUENCE_LENGTH = 20\n",
        "\n",
        "DATASET_DIR = '/content/dataset'\n",
        "\n",
        "CLASSES_LIST = [\"goal\", \"happy\", \"losses\"]"
      ],
      "metadata": {
        "id": "pnoz-4GO7zL4"
      },
      "execution_count": 68,
      "outputs": []
    },
    {
      "cell_type": "code",
      "source": [
        "# Getting the test Video's path .\n",
        "file_path = '/content/drive/MyDrive/Football analysis videos ICT/Giroud header wins it! _ England v France _ FIFA World Cup Qatar 2022.mp4'"
      ],
      "metadata": {
        "id": "4FTcOD1e7z7s"
      },
      "execution_count": 69,
      "outputs": []
    },
    {
      "cell_type": "code",
      "source": [
        "reader = cv2.VideoCapture(file_path)"
      ],
      "metadata": {
        "id": "g5Sflp6l747R"
      },
      "execution_count": 70,
      "outputs": []
    },
    {
      "cell_type": "code",
      "source": [
        "fps_org = reader.get(cv2.CAP_PROP_FPS)"
      ],
      "metadata": {
        "id": "hLonZsbQ77N-"
      },
      "execution_count": 71,
      "outputs": []
    },
    {
      "cell_type": "code",
      "source": [
        "frames_list = []"
      ],
      "metadata": {
        "id": "RpNdMbI777Re"
      },
      "execution_count": 72,
      "outputs": []
    },
    {
      "cell_type": "code",
      "source": [
        "IMAGE_HEIGHT , IMAGE_WIDTH = 64, 64"
      ],
      "metadata": {
        "id": "okc8zAjU77UO"
      },
      "execution_count": 73,
      "outputs": []
    },
    {
      "cell_type": "code",
      "source": [
        "dim = (IMAGE_HEIGHT , IMAGE_WIDTH)"
      ],
      "metadata": {
        "id": "dfIHEhZl77XO"
      },
      "execution_count": 74,
      "outputs": []
    },
    {
      "cell_type": "code",
      "source": [
        "ret = True"
      ],
      "metadata": {
        "id": "DGvwn20977Z-"
      },
      "execution_count": 75,
      "outputs": []
    },
    {
      "cell_type": "code",
      "source": [
        "while ret:\n",
        "  ret , img = reader.read()\n",
        "  if not ret:\n",
        "    break\n",
        "  image = cv2.resize(img,dim)\n",
        "  norm = image / 255\n",
        "  arr = np.array(norm)\n",
        "  frames_list.append(arr)"
      ],
      "metadata": {
        "id": "fjlOO5ST77cu"
      },
      "execution_count": 76,
      "outputs": []
    },
    {
      "cell_type": "code",
      "source": [
        "reader.release()"
      ],
      "metadata": {
        "id": "6oMDRsoc77fO"
      },
      "execution_count": 77,
      "outputs": []
    },
    {
      "cell_type": "code",
      "source": [
        "frames_list[0]"
      ],
      "metadata": {
        "colab": {
          "base_uri": "https://localhost:8080/"
        },
        "id": "vj2IeZXI77hu",
        "outputId": "4d78f615-76d3-4f9f-8a09-c04a960b535e"
      },
      "execution_count": 78,
      "outputs": [
        {
          "output_type": "execute_result",
          "data": {
            "text/plain": [
              "array([[[0.        , 0.        , 0.        ],\n",
              "        [0.        , 0.        , 0.        ],\n",
              "        [0.        , 0.        , 0.        ],\n",
              "        ...,\n",
              "        [0.        , 0.        , 0.00392157],\n",
              "        [0.        , 0.        , 0.01568627],\n",
              "        [0.        , 0.        , 0.04705882]],\n",
              "\n",
              "       [[0.        , 0.        , 0.        ],\n",
              "        [0.        , 0.        , 0.        ],\n",
              "        [0.        , 0.        , 0.        ],\n",
              "        ...,\n",
              "        [0.        , 0.        , 0.00392157],\n",
              "        [0.        , 0.        , 0.00392157],\n",
              "        [0.00392157, 0.        , 0.01568627]],\n",
              "\n",
              "       [[0.        , 0.        , 0.        ],\n",
              "        [0.        , 0.        , 0.        ],\n",
              "        [0.        , 0.        , 0.        ],\n",
              "        ...,\n",
              "        [0.        , 0.        , 0.00392157],\n",
              "        [0.        , 0.        , 0.00392157],\n",
              "        [0.        , 0.        , 0.01176471]],\n",
              "\n",
              "       ...,\n",
              "\n",
              "       [[0.01568627, 0.10980392, 0.10196078],\n",
              "        [0.05098039, 0.0627451 , 0.08235294],\n",
              "        [0.10196078, 0.09803922, 0.1372549 ],\n",
              "        ...,\n",
              "        [0.00392157, 0.        , 0.00784314],\n",
              "        [0.01176471, 0.00784314, 0.01568627],\n",
              "        [0.00392157, 0.00392157, 0.00392157]],\n",
              "\n",
              "       [[0.01176471, 0.10588235, 0.09803922],\n",
              "        [0.09803922, 0.10980392, 0.12941176],\n",
              "        [0.03529412, 0.03529412, 0.09019608],\n",
              "        ...,\n",
              "        [0.00392157, 0.        , 0.00784314],\n",
              "        [0.00392157, 0.        , 0.00784314],\n",
              "        [0.        , 0.        , 0.        ]],\n",
              "\n",
              "       [[0.        , 0.10588235, 0.09019608],\n",
              "        [0.09019608, 0.12156863, 0.12156863],\n",
              "        [0.1254902 , 0.1254902 , 0.18039216],\n",
              "        ...,\n",
              "        [0.00392157, 0.        , 0.00784314],\n",
              "        [0.        , 0.        , 0.        ],\n",
              "        [0.        , 0.        , 0.        ]]])"
            ]
          },
          "metadata": {},
          "execution_count": 78
        }
      ]
    },
    {
      "cell_type": "code",
      "source": [
        "from google.colab.patches import cv2_imshow\n",
        "cv2_imshow(frames_list[2445])"
      ],
      "metadata": {
        "colab": {
          "base_uri": "https://localhost:8080/",
          "height": 81
        },
        "id": "zzJsciLe8JlU",
        "outputId": "9d29d9a6-2054-4208-960a-e7fffc37830a"
      },
      "execution_count": 79,
      "outputs": [
        {
          "output_type": "display_data",
          "data": {
            "text/plain": [
              "<PIL.Image.Image image mode=RGB size=64x64>"
            ],
            "image/png": "[encoded data removed]"
          },
          "metadata": {}
        }
      ]
    },
    {
      "cell_type": "code",
      "source": [
        "len(frames_list)"
      ],
      "metadata": {
        "colab": {
          "base_uri": "https://localhost:8080/"
        },
        "id": "vB3Z9qol8Jpq",
        "outputId": "be97d815-56b6-4411-c079-8d2f14addda4"
      },
      "execution_count": 80,
      "outputs": [
        {
          "output_type": "execute_result",
          "data": {
            "text/plain": [
              "3193"
            ]
          },
          "metadata": {},
          "execution_count": 80
        }
      ]
    },
    {
      "cell_type": "markdown",
      "source": [
        "Preprocessing the test video"
      ],
      "metadata": {
        "id": "woV36-1y8QBE"
      }
    },
    {
      "cell_type": "code",
      "source": [
        "''' As you can see the clips we preprocessed and fed into our convlstm2D model were short clips of 20 frames each\n",
        "    They were 20 frames chosen at equal intervals from clips of around 2 secs\n",
        "    (in 2 seconds at 30 fps of the original video it would mean 60 frames per video clip)'''"
      ],
      "metadata": {
        "colab": {
          "base_uri": "https://localhost:8080/",
          "height": 53
        },
        "id": "q6-6Qcph8JsJ",
        "outputId": "46c3b382-b63b-43cb-d9d1-c1a60b18f021"
      },
      "execution_count": 81,
      "outputs": [
        {
          "output_type": "execute_result",
          "data": {
            "text/plain": [
              "' As you can see the clips we preprocessed and fed into our convlstm2D model were short clips of 20 frames each\\n    They were 20 frames chosen at equal intervals from clips of around 2 secs\\n    (in 2 seconds at 30 fps of the original video it would mean 60 frames per video clip)'"
            ],
            "application/vnd.google.colaboratory.intrinsic+json": {
              "type": "string"
            }
          },
          "metadata": {},
          "execution_count": 81
        }
      ]
    },
    {
      "cell_type": "code",
      "source": [
        "#thus we are preparing clips of 60 frames each(converted to 20 frames like above)"
      ],
      "metadata": {
        "id": "uz5J4INo8Ju_"
      },
      "execution_count": 82,
      "outputs": []
    },
    {
      "cell_type": "code",
      "source": [
        "#we will be running our model on each of these clips and locating where an event happened."
      ],
      "metadata": {
        "id": "LTB4J6lb8Jxe"
      },
      "execution_count": 83,
      "outputs": []
    },
    {
      "cell_type": "code",
      "source": [
        "#a confidence threshold of 0.7 is added to locate only moments where the model is very sure an event happened"
      ],
      "metadata": {
        "id": "jhQEXxj28Jz-"
      },
      "execution_count": 84,
      "outputs": []
    },
    {
      "cell_type": "code",
      "source": [
        "frame_limit = 60"
      ],
      "metadata": {
        "id": "xz45gqzT8J2r"
      },
      "execution_count": 85,
      "outputs": []
    },
    {
      "cell_type": "code",
      "source": [
        "tmp_lst =[]"
      ],
      "metadata": {
        "id": "3Gilc4c98aXI"
      },
      "execution_count": 86,
      "outputs": []
    },
    {
      "cell_type": "code",
      "source": [
        "for i in range(math.floor(len(frames_list)/frame_limit)):\n",
        "  tmp_lst.append(frames_list[i*frame_limit:(i+1)*frame_limit])"
      ],
      "metadata": {
        "id": "IQhlhBi28aZ2"
      },
      "execution_count": 87,
      "outputs": []
    },
    {
      "cell_type": "code",
      "source": [
        "len(tmp_lst)"
      ],
      "metadata": {
        "colab": {
          "base_uri": "https://localhost:8080/"
        },
        "id": "TW4iBYpE8acV",
        "outputId": "c3a4951b-2251-47d6-8595-98ffb430c280"
      },
      "execution_count": 88,
      "outputs": [
        {
          "output_type": "execute_result",
          "data": {
            "text/plain": [
              "53"
            ]
          },
          "metadata": {},
          "execution_count": 88
        }
      ]
    },
    {
      "cell_type": "code",
      "source": [
        "len(tmp_lst[0])"
      ],
      "metadata": {
        "colab": {
          "base_uri": "https://localhost:8080/"
        },
        "id": "g1wo143l8afG",
        "outputId": "c7c650c2-21a5-4ed8-8b9a-b91fc9c61e8a"
      },
      "execution_count": 89,
      "outputs": [
        {
          "output_type": "execute_result",
          "data": {
            "text/plain": [
              "60"
            ]
          },
          "metadata": {},
          "execution_count": 89
        }
      ]
    },
    {
      "cell_type": "code",
      "source": [
        "sequence_length = 20"
      ],
      "metadata": {
        "id": "gU7W8JSb8ah6"
      },
      "execution_count": 90,
      "outputs": []
    },
    {
      "cell_type": "code",
      "source": [
        "frame_skipper = frame_limit/sequence_length"
      ],
      "metadata": {
        "id": "MNM2jTLA8akW"
      },
      "execution_count": 91,
      "outputs": []
    },
    {
      "cell_type": "code",
      "source": [
        "preprocessed_clips_list = []"
      ],
      "metadata": {
        "id": "bcwxX9fp8anG"
      },
      "execution_count": 92,
      "outputs": []
    },
    {
      "cell_type": "code",
      "source": [
        "for i in range(len(tmp_lst)):\n",
        "  frame_lst = []\n",
        "  for k in range(len(tmp_lst[i])):\n",
        "    if k%frame_skipper==0:\n",
        "      frame_lst.append(tmp_lst[i][k])\n",
        "  arr1 = np.array(frame_lst)\n",
        "  preprocessed_clips_list.append(arr1)"
      ],
      "metadata": {
        "id": "y7RmwnZk8apm"
      },
      "execution_count": 93,
      "outputs": []
    },
    {
      "cell_type": "code",
      "source": [
        "preprocessed_clips_list[0].shape"
      ],
      "metadata": {
        "colab": {
          "base_uri": "https://localhost:8080/"
        },
        "id": "_RrpmxBh8asH",
        "outputId": "0abfc6e2-207d-4c97-8655-f664d1d8d5e5"
      },
      "execution_count": 94,
      "outputs": [
        {
          "output_type": "execute_result",
          "data": {
            "text/plain": [
              "(20, 64, 64, 3)"
            ]
          },
          "metadata": {},
          "execution_count": 94
        }
      ]
    },
    {
      "cell_type": "code",
      "source": [
        "len(preprocessed_clips_list)"
      ],
      "metadata": {
        "colab": {
          "base_uri": "https://localhost:8080/"
        },
        "id": "I8Xw9dZU8auG",
        "outputId": "3c052eaf-b80b-404c-bbde-94630f134bff"
      },
      "execution_count": 95,
      "outputs": [
        {
          "output_type": "execute_result",
          "data": {
            "text/plain": [
              "53"
            ]
          },
          "metadata": {},
          "execution_count": 95
        }
      ]
    },
    {
      "cell_type": "code",
      "source": [
        "preprocessed_clips_list[0].shape"
      ],
      "metadata": {
        "colab": {
          "base_uri": "https://localhost:8080/"
        },
        "id": "mMoVPFOB8J5L",
        "outputId": "31d0446d-9bea-49a4-9867-0112dc181aee"
      },
      "execution_count": 96,
      "outputs": [
        {
          "output_type": "execute_result",
          "data": {
            "text/plain": [
              "(20, 64, 64, 3)"
            ]
          },
          "metadata": {},
          "execution_count": 96
        }
      ]
    },
    {
      "cell_type": "code",
      "source": [
        "predictions = []\n",
        "confidence = []"
      ],
      "metadata": {
        "id": "U0K2yjxY8J7q"
      },
      "execution_count": 97,
      "outputs": []
    },
    {
      "cell_type": "code",
      "source": [
        "for i in range(len(preprocessed_clips_list)):\n",
        "  predicted_labels_probabilities = convlstm_model.predict(np.expand_dims(preprocessed_clips_list[i], axis = 0))[0]\n",
        "  predicted_label = np.argmax(predicted_labels_probabilities)\n",
        "  confidence.append(predicted_labels_probabilities[predicted_label])\n",
        "  predictions.append(predicted_label)\n"
      ],
      "metadata": {
        "colab": {
          "base_uri": "https://localhost:8080/"
        },
        "id": "JUgB_9R08-DS",
        "outputId": "958bece9-fdbf-44c2-c45b-035f8e51e301"
      },
      "execution_count": 98,
      "outputs": [
        {
          "output_type": "stream",
          "name": "stdout",
          "text": [
            "1/1 [==============================] - 2s 2s/step\n",
            "1/1 [==============================] - 0s 60ms/step\n",
            "1/1 [==============================] - 0s 62ms/step\n",
            "1/1 [==============================] - 0s 60ms/step\n",
            "1/1 [==============================] - 0s 72ms/step\n",
            "1/1 [==============================] - 0s 65ms/step\n",
            "1/1 [==============================] - 0s 60ms/step\n",
            "1/1 [==============================] - 0s 59ms/step\n",
            "1/1 [==============================] - 0s 77ms/step\n",
            "1/1 [==============================] - 0s 59ms/step\n",
            "1/1 [==============================] - 0s 60ms/step\n",
            "1/1 [==============================] - 0s 57ms/step\n",
            "1/1 [==============================] - 0s 59ms/step\n",
            "1/1 [==============================] - 0s 58ms/step\n",
            "1/1 [==============================] - 0s 58ms/step\n",
            "1/1 [==============================] - 0s 63ms/step\n",
            "1/1 [==============================] - 0s 57ms/step\n",
            "1/1 [==============================] - 0s 61ms/step\n",
            "1/1 [==============================] - 0s 106ms/step\n",
            "1/1 [==============================] - 0s 152ms/step\n",
            "1/1 [==============================] - 0s 109ms/step\n",
            "1/1 [==============================] - 0s 116ms/step\n",
            "1/1 [==============================] - 0s 110ms/step\n",
            "1/1 [==============================] - 0s 127ms/step\n",
            "1/1 [==============================] - 0s 105ms/step\n",
            "1/1 [==============================] - 0s 121ms/step\n",
            "1/1 [==============================] - 0s 94ms/step\n",
            "1/1 [==============================] - 0s 94ms/step\n",
            "1/1 [==============================] - 0s 116ms/step\n",
            "1/1 [==============================] - 0s 98ms/step\n",
            "1/1 [==============================] - 0s 172ms/step\n",
            "1/1 [==============================] - 0s 175ms/step\n",
            "1/1 [==============================] - 0s 208ms/step\n",
            "1/1 [==============================] - 0s 255ms/step\n",
            "1/1 [==============================] - 0s 237ms/step\n",
            "1/1 [==============================] - 0s 266ms/step\n",
            "1/1 [==============================] - 0s 252ms/step\n",
            "1/1 [==============================] - 0s 239ms/step\n",
            "1/1 [==============================] - 0s 240ms/step\n",
            "1/1 [==============================] - 0s 377ms/step\n",
            "1/1 [==============================] - 0s 194ms/step\n",
            "1/1 [==============================] - 0s 215ms/step\n",
            "1/1 [==============================] - 0s 182ms/step\n",
            "1/1 [==============================] - 0s 226ms/step\n",
            "1/1 [==============================] - 0s 112ms/step\n",
            "1/1 [==============================] - 0s 169ms/step\n",
            "1/1 [==============================] - 0s 105ms/step\n",
            "1/1 [==============================] - 0s 104ms/step\n",
            "1/1 [==============================] - 0s 123ms/step\n",
            "1/1 [==============================] - 0s 115ms/step\n",
            "1/1 [==============================] - 0s 155ms/step\n",
            "1/1 [==============================] - 0s 205ms/step\n",
            "1/1 [==============================] - 0s 208ms/step\n"
          ]
        }
      ]
    },
    {
      "cell_type": "code",
      "source": [
        "predicted_labels_probabilitiesww = convlstm_model.predict(np.expand_dims(preprocessed_clips_list[0], axis = 0))[0]"
      ],
      "metadata": {
        "colab": {
          "base_uri": "https://localhost:8080/"
        },
        "id": "pRaQBaDc8-F4",
        "outputId": "46e693d7-b87c-48c6-d3ff-6c20b4e64183"
      },
      "execution_count": 99,
      "outputs": [
        {
          "output_type": "stream",
          "name": "stdout",
          "text": [
            "1/1 [==============================] - 0s 152ms/step\n"
          ]
        }
      ]
    },
    {
      "cell_type": "code",
      "source": [
        "predicted_labels_probabilitiesww"
      ],
      "metadata": {
        "colab": {
          "base_uri": "https://localhost:8080/"
        },
        "id": "mtFvbp9v8-Im",
        "outputId": "2fa782c1-8a02-423c-9846-77a400d64711"
      },
      "execution_count": 100,
      "outputs": [
        {
          "output_type": "execute_result",
          "data": {
            "text/plain": [
              "array([0.05974389, 0.3231769 , 0.6170792 ], dtype=float32)"
            ]
          },
          "metadata": {},
          "execution_count": 100
        }
      ]
    },
    {
      "cell_type": "code",
      "source": [
        "predictions[0]"
      ],
      "metadata": {
        "colab": {
          "base_uri": "https://localhost:8080/"
        },
        "id": "l5qq-c6F8-K3",
        "outputId": "93bb1e24-5b56-4cb1-ffe1-951505796e75"
      },
      "execution_count": 101,
      "outputs": [
        {
          "output_type": "execute_result",
          "data": {
            "text/plain": [
              "2"
            ]
          },
          "metadata": {},
          "execution_count": 101
        }
      ]
    },
    {
      "cell_type": "code",
      "source": [
        "confidence"
      ],
      "metadata": {
        "colab": {
          "base_uri": "https://localhost:8080/"
        },
        "id": "PYhmBuBM8-ND",
        "outputId": "2cc95a59-9082-40f2-bf33-52f508e9d553"
      },
      "execution_count": 102,
      "outputs": [
        {
          "output_type": "execute_result",
          "data": {
            "text/plain": [
              "[0.6170792,\n",
              " 0.5535761,\n",
              " 0.8230119,\n",
              " 0.8280055,\n",
              " 0.81057185,\n",
              " 0.43727013,\n",
              " 0.8286647,\n",
              " 0.6188945,\n",
              " 0.5872106,\n",
              " 0.84126836,\n",
              " 0.83376473,\n",
              " 0.63033587,\n",
              " 0.533908,\n",
              " 0.7144489,\n",
              " 0.8173551,\n",
              " 0.6478601,\n",
              " 0.46958825,\n",
              " 0.87327075,\n",
              " 0.8759422,\n",
              " 0.51678497,\n",
              " 0.65100884,\n",
              " 0.8133298,\n",
              " 0.8316135,\n",
              " 0.66230375,\n",
              " 0.6520343,\n",
              " 0.38579866,\n",
              " 0.61577094,\n",
              " 0.76442116,\n",
              " 0.5772628,\n",
              " 0.83386827,\n",
              " 0.8080626,\n",
              " 0.8086395,\n",
              " 0.8645586,\n",
              " 0.8206211,\n",
              " 0.7840978,\n",
              " 0.44404685,\n",
              " 0.5517215,\n",
              " 0.66016775,\n",
              " 0.60704625,\n",
              " 0.8737,\n",
              " 0.8627265,\n",
              " 0.47346562,\n",
              " 0.46325168,\n",
              " 0.810584,\n",
              " 0.79120654,\n",
              " 0.7380958,\n",
              " 0.8323524,\n",
              " 0.45203394,\n",
              " 0.58360744,\n",
              " 0.7727754,\n",
              " 0.737381,\n",
              " 0.7201914,\n",
              " 0.71135885]"
            ]
          },
          "metadata": {},
          "execution_count": 102
        }
      ]
    },
    {
      "cell_type": "code",
      "source": [
        "conf_arr = np.array(confidence)"
      ],
      "metadata": {
        "id": "GHX5uciP8-Py"
      },
      "execution_count": 103,
      "outputs": []
    },
    {
      "cell_type": "code",
      "source": [
        "#locating clips where an event is predicted with more than 0.7 confidence"
      ],
      "metadata": {
        "id": "kQweQf_09Onq"
      },
      "execution_count": 104,
      "outputs": []
    },
    {
      "cell_type": "code",
      "source": [
        "indices = np.where(conf_arr>0.7)[0]"
      ],
      "metadata": {
        "id": "zA7RZHdF9Ost"
      },
      "execution_count": 105,
      "outputs": []
    },
    {
      "cell_type": "code",
      "source": [
        "indices #array of clip indices where an even happened above 0.7 confidence"
      ],
      "metadata": {
        "colab": {
          "base_uri": "https://localhost:8080/"
        },
        "id": "ojL4gYpH9Ovb",
        "outputId": "83e7f6a9-1699-498c-c87c-86f31e63ed91"
      },
      "execution_count": 106,
      "outputs": [
        {
          "output_type": "execute_result",
          "data": {
            "text/plain": [
              "array([ 2,  3,  4,  6,  9, 10, 13, 14, 17, 18, 21, 22, 27, 29, 30, 31, 32,\n",
              "       33, 34, 39, 40, 43, 44, 45, 46, 49, 50, 51, 52])"
            ]
          },
          "metadata": {},
          "execution_count": 106
        }
      ]
    },
    {
      "cell_type": "code",
      "source": [
        "event_label = np.array(predictions) #creating an array of predictions"
      ],
      "metadata": {
        "id": "6EiahS6h9Ox8"
      },
      "execution_count": 107,
      "outputs": []
    },
    {
      "cell_type": "code",
      "source": [
        "event_label.shape"
      ],
      "metadata": {
        "colab": {
          "base_uri": "https://localhost:8080/"
        },
        "id": "M234wvBL9O0q",
        "outputId": "9293c9bf-fe95-4fd1-95d7-dd04dbddc5b6"
      },
      "execution_count": 108,
      "outputs": [
        {
          "output_type": "execute_result",
          "data": {
            "text/plain": [
              "(53,)"
            ]
          },
          "metadata": {},
          "execution_count": 108
        }
      ]
    },
    {
      "cell_type": "code",
      "source": [
        "indices.shape"
      ],
      "metadata": {
        "colab": {
          "base_uri": "https://localhost:8080/"
        },
        "id": "HHYOMuyR9O3L",
        "outputId": "a4adfcd9-e342-4fdd-84b6-5c4284b9592a"
      },
      "execution_count": 109,
      "outputs": [
        {
          "output_type": "execute_result",
          "data": {
            "text/plain": [
              "(29,)"
            ]
          },
          "metadata": {},
          "execution_count": 109
        }
      ]
    },
    {
      "cell_type": "code",
      "source": [
        "labels_of_events = np.take(event_label,indices) #creating a sorted array with predictions corresponding to an event"
      ],
      "metadata": {
        "id": "vReDDYLP9O5q"
      },
      "execution_count": 110,
      "outputs": []
    },
    {
      "cell_type": "code",
      "source": [
        "labels_of_events.shape"
      ],
      "metadata": {
        "colab": {
          "base_uri": "https://localhost:8080/"
        },
        "id": "FXNFyMsv9O8L",
        "outputId": "1388d2d9-441c-4ab3-944f-8f575ad7a27e"
      },
      "execution_count": 111,
      "outputs": [
        {
          "output_type": "execute_result",
          "data": {
            "text/plain": [
              "(29,)"
            ]
          },
          "metadata": {},
          "execution_count": 111
        }
      ]
    },
    {
      "cell_type": "code",
      "source": [
        "#creating a dataframe with clip index and its corresponding prediction label"
      ],
      "metadata": {
        "id": "QsbBRL4a9O-e"
      },
      "execution_count": 112,
      "outputs": []
    },
    {
      "cell_type": "code",
      "source": [
        "df = pd.DataFrame(indices,columns=['event_index'])"
      ],
      "metadata": {
        "id": "m3z_UOWK9cY0"
      },
      "execution_count": 113,
      "outputs": []
    },
    {
      "cell_type": "code",
      "source": [
        "df['predictions'] = labels_of_events"
      ],
      "metadata": {
        "id": "jRUaL7Tt9cbk"
      },
      "execution_count": 114,
      "outputs": []
    },
    {
      "cell_type": "code",
      "source": [
        "df"
      ],
      "metadata": {
        "colab": {
          "base_uri": "https://localhost:8080/",
          "height": 958
        },
        "id": "SRptm3A89ceE",
        "outputId": "4c1590bb-40f1-4ea2-c75c-191ceabf6fe0"
      },
      "execution_count": 115,
      "outputs": [
        {
          "output_type": "execute_result",
          "data": {
            "text/plain": [
              "    event_index  predictions\n",
              "0             2            0\n",
              "1             3            0\n",
              "2             4            0\n",
              "3             6            1\n",
              "4             9            0\n",
              "5            10            0\n",
              "6            13            0\n",
              "7            14            0\n",
              "8            17            0\n",
              "9            18            0\n",
              "10           21            0\n",
              "11           22            0\n",
              "12           27            0\n",
              "13           29            0\n",
              "14           30            0\n",
              "15           31            0\n",
              "16           32            0\n",
              "17           33            0\n",
              "18           34            0\n",
              "19           39            0\n",
              "20           40            0\n",
              "21           43            0\n",
              "22           44            0\n",
              "23           45            1\n",
              "24           46            0\n",
              "25           49            1\n",
              "26           50            2\n",
              "27           51            2\n",
              "28           52            2"
            ],
            "text/html": [
              "\n",
              "  <div id=\"df-87485a51-bee7-4fca-a547-c2f2e6b9dd0b\" class=\"colab-df-container\">\n",
              "    <div>\n",
              "<style scoped>\n",
              "    .dataframe tbody tr th:only-of-type {\n",
              "        vertical-align: middle;\n",
              "    }\n",
              "\n",
              "    .dataframe tbody tr th {\n",
              "        vertical-align: top;\n",
              "    }\n",
              "\n",
              "    .dataframe thead th {\n",
              "        text-align: right;\n",
              "    }\n",
              "</style>\n",
              "<table border=\"1\" class=\"dataframe\">\n",
              "  <thead>\n",
              "    <tr style=\"text-align: right;\">\n",
              "      <th></th>\n",
              "      <th>event_index</th>\n",
              "      <th>predictions</th>\n",
              "    </tr>\n",
              "  </thead>\n",
              "  <tbody>\n",
              "    <tr>\n",
              "      <th>0</th>\n",
              "      <td>2</td>\n",
              "      <td>0</td>\n",
              "    </tr>\n",
              "    <tr>\n",
              "      <th>1</th>\n",
              "      <td>3</td>\n",
              "      <td>0</td>\n",
              "    </tr>\n",
              "    <tr>\n",
              "      <th>2</th>\n",
              "      <td>4</td>\n",
              "      <td>0</td>\n",
              "    </tr>\n",
              "    <tr>\n",
              "      <th>3</th>\n",
              "      <td>6</td>\n",
              "      <td>1</td>\n",
              "    </tr>\n",
              "    <tr>\n",
              "      <th>4</th>\n",
              "      <td>9</td>\n",
              "      <td>0</td>\n",
              "    </tr>\n",
              "    <tr>\n",
              "      <th>5</th>\n",
              "      <td>10</td>\n",
              "      <td>0</td>\n",
              "    </tr>\n",
              "    <tr>\n",
              "      <th>6</th>\n",
              "      <td>13</td>\n",
              "      <td>0</td>\n",
              "    </tr>\n",
              "    <tr>\n",
              "      <th>7</th>\n",
              "      <td>14</td>\n",
              "      <td>0</td>\n",
              "    </tr>\n",
              "    <tr>\n",
              "      <th>8</th>\n",
              "      <td>17</td>\n",
              "      <td>0</td>\n",
              "    </tr>\n",
              "    <tr>\n",
              "      <th>9</th>\n",
              "      <td>18</td>\n",
              "      <td>0</td>\n",
              "    </tr>\n",
              "    <tr>\n",
              "      <th>10</th>\n",
              "      <td>21</td>\n",
              "      <td>0</td>\n",
              "    </tr>\n",
              "    <tr>\n",
              "      <th>11</th>\n",
              "      <td>22</td>\n",
              "      <td>0</td>\n",
              "    </tr>\n",
              "    <tr>\n",
              "      <th>12</th>\n",
              "      <td>27</td>\n",
              "      <td>0</td>\n",
              "    </tr>\n",
              "    <tr>\n",
              "      <th>13</th>\n",
              "      <td>29</td>\n",
              "      <td>0</td>\n",
              "    </tr>\n",
              "    <tr>\n",
              "      <th>14</th>\n",
              "      <td>30</td>\n",
              "      <td>0</td>\n",
              "    </tr>\n",
              "    <tr>\n",
              "      <th>15</th>\n",
              "      <td>31</td>\n",
              "      <td>0</td>\n",
              "    </tr>\n",
              "    <tr>\n",
              "      <th>16</th>\n",
              "      <td>32</td>\n",
              "      <td>0</td>\n",
              "    </tr>\n",
              "    <tr>\n",
              "      <th>17</th>\n",
              "      <td>33</td>\n",
              "      <td>0</td>\n",
              "    </tr>\n",
              "    <tr>\n",
              "      <th>18</th>\n",
              "      <td>34</td>\n",
              "      <td>0</td>\n",
              "    </tr>\n",
              "    <tr>\n",
              "      <th>19</th>\n",
              "      <td>39</td>\n",
              "      <td>0</td>\n",
              "    </tr>\n",
              "    <tr>\n",
              "      <th>20</th>\n",
              "      <td>40</td>\n",
              "      <td>0</td>\n",
              "    </tr>\n",
              "    <tr>\n",
              "      <th>21</th>\n",
              "      <td>43</td>\n",
              "      <td>0</td>\n",
              "    </tr>\n",
              "    <tr>\n",
              "      <th>22</th>\n",
              "      <td>44</td>\n",
              "      <td>0</td>\n",
              "    </tr>\n",
              "    <tr>\n",
              "      <th>23</th>\n",
              "      <td>45</td>\n",
              "      <td>1</td>\n",
              "    </tr>\n",
              "    <tr>\n",
              "      <th>24</th>\n",
              "      <td>46</td>\n",
              "      <td>0</td>\n",
              "    </tr>\n",
              "    <tr>\n",
              "      <th>25</th>\n",
              "      <td>49</td>\n",
              "      <td>1</td>\n",
              "    </tr>\n",
              "    <tr>\n",
              "      <th>26</th>\n",
              "      <td>50</td>\n",
              "      <td>2</td>\n",
              "    </tr>\n",
              "    <tr>\n",
              "      <th>27</th>\n",
              "      <td>51</td>\n",
              "      <td>2</td>\n",
              "    </tr>\n",
              "    <tr>\n",
              "      <th>28</th>\n",
              "      <td>52</td>\n",
              "      <td>2</td>\n",
              "    </tr>\n",
              "  </tbody>\n",
              "</table>\n",
              "</div>\n",
              "    <div class=\"colab-df-buttons\">\n",
              "\n",
              "  <div class=\"colab-df-container\">\n",
              "    <button class=\"colab-df-convert\" onclick=\"convertToInteractive('df-87485a51-bee7-4fca-a547-c2f2e6b9dd0b')\"\n",
              "            title=\"Convert this dataframe to an interactive table.\"\n",
              "            style=\"display:none;\">\n",
              "\n",
              "  <svg xmlns=\"http://www.w3.org/2000/svg\" height=\"24px\" viewBox=\"0 -960 960 960\">\n",
              "    <path d=\"M120-120v-720h720v720H120Zm60-500h600v-160H180v160Zm220 220h160v-160H400v160Zm0 220h160v-160H400v160ZM180-400h160v-160H180v160Zm440 0h160v-160H620v160ZM180-180h160v-160H180v160Zm440 0h160v-160H620v160Z\"/>\n",
              "  </svg>\n",
              "    </button>\n",
              "\n",
              "  <style>\n",
              "    .colab-df-container {\n",
              "      display:flex;\n",
              "      gap: 12px;\n",
              "    }\n",
              "\n",
              "    .colab-df-convert {\n",
              "      background-color: #E8F0FE;\n",
              "      border: none;\n",
              "      border-radius: 50%;\n",
              "      cursor: pointer;\n",
              "      display: none;\n",
              "      fill: #1967D2;\n",
              "      height: 32px;\n",
              "      padding: 0 0 0 0;\n",
              "      width: 32px;\n",
              "    }\n",
              "\n",
              "    .colab-df-convert:hover {\n",
              "      background-color: #E2EBFA;\n",
              "      box-shadow: 0px 1px 2px rgba(60, 64, 67, 0.3), 0px 1px 3px 1px rgba(60, 64, 67, 0.15);\n",
              "      fill: #174EA6;\n",
              "    }\n",
              "\n",
              "    .colab-df-buttons div {\n",
              "      margin-bottom: 4px;\n",
              "    }\n",
              "\n",
              "    [theme=dark] .colab-df-convert {\n",
              "      background-color: #3B4455;\n",
              "      fill: #D2E3FC;\n",
              "    }\n",
              "\n",
              "    [theme=dark] .colab-df-convert:hover {\n",
              "      background-color: #434B5C;\n",
              "      box-shadow: 0px 1px 3px 1px rgba(0, 0, 0, 0.15);\n",
              "      filter: drop-shadow(0px 1px 2px rgba(0, 0, 0, 0.3));\n",
              "      fill: #FFFFFF;\n",
              "    }\n",
              "  </style>\n",
              "\n",
              "    <script>\n",
              "      const buttonEl =\n",
              "        document.querySelector('#df-87485a51-bee7-4fca-a547-c2f2e6b9dd0b button.colab-df-convert');\n",
              "      buttonEl.style.display =\n",
              "        google.colab.kernel.accessAllowed ? 'block' : 'none';\n",
              "\n",
              "      async function convertToInteractive(key) {\n",
              "        const element = document.querySelector('#df-87485a51-bee7-4fca-a547-c2f2e6b9dd0b');\n",
              "        const dataTable =\n",
              "          await google.colab.kernel.invokeFunction('convertToInteractive',\n",
              "                                                    [key], {});\n",
              "        if (!dataTable) return;\n",
              "\n",
              "        const docLinkHtml = 'Like what you see? Visit the ' +\n",
              "          '<a target=\"_blank\" href=https://colab.research.google.com/notebooks/data_table.ipynb>data table notebook</a>'\n",
              "          + ' to learn more about interactive tables.';\n",
              "        element.innerHTML = '';\n",
              "        dataTable['output_type'] = 'display_data';\n",
              "        await google.colab.output.renderOutput(dataTable, element);\n",
              "        const docLink = document.createElement('div');\n",
              "        docLink.innerHTML = docLinkHtml;\n",
              "        element.appendChild(docLink);\n",
              "      }\n",
              "    </script>\n",
              "  </div>\n",
              "\n",
              "\n",
              "<div id=\"df-0bcc3c0f-7d91-4753-8104-222bb9327088\">\n",
              "  <button class=\"colab-df-quickchart\" onclick=\"quickchart('df-0bcc3c0f-7d91-4753-8104-222bb9327088')\"\n",
              "            title=\"Suggest charts\"\n",
              "            style=\"display:none;\">\n",
              "\n",
              "<svg xmlns=\"http://www.w3.org/2000/svg\" height=\"24px\"viewBox=\"0 0 24 24\"\n",
              "     width=\"24px\">\n",
              "    <g>\n",
              "        <path d=\"M19 3H5c-1.1 0-2 .9-2 2v14c0 1.1.9 2 2 2h14c1.1 0 2-.9 2-2V5c0-1.1-.9-2-2-2zM9 17H7v-7h2v7zm4 0h-2V7h2v10zm4 0h-2v-4h2v4z\"/>\n",
              "    </g>\n",
              "</svg>\n",
              "  </button>\n",
              "\n",
              "<style>\n",
              "  .colab-df-quickchart {\n",
              "      --bg-color: #E8F0FE;\n",
              "      --fill-color: #1967D2;\n",
              "      --hover-bg-color: #E2EBFA;\n",
              "      --hover-fill-color: #174EA6;\n",
              "      --disabled-fill-color: #AAA;\n",
              "      --disabled-bg-color: #DDD;\n",
              "  }\n",
              "\n",
              "  [theme=dark] .colab-df-quickchart {\n",
              "      --bg-color: #3B4455;\n",
              "      --fill-color: #D2E3FC;\n",
              "      --hover-bg-color: #434B5C;\n",
              "      --hover-fill-color: #FFFFFF;\n",
              "      --disabled-bg-color: #3B4455;\n",
              "      --disabled-fill-color: #666;\n",
              "  }\n",
              "\n",
              "  .colab-df-quickchart {\n",
              "    background-color: var(--bg-color);\n",
              "    border: none;\n",
              "    border-radius: 50%;\n",
              "    cursor: pointer;\n",
              "    display: none;\n",
              "    fill: var(--fill-color);\n",
              "    height: 32px;\n",
              "    padding: 0;\n",
              "    width: 32px;\n",
              "  }\n",
              "\n",
              "  .colab-df-quickchart:hover {\n",
              "    background-color: var(--hover-bg-color);\n",
              "    box-shadow: 0 1px 2px rgba(60, 64, 67, 0.3), 0 1px 3px 1px rgba(60, 64, 67, 0.15);\n",
              "    fill: var(--button-hover-fill-color);\n",
              "  }\n",
              "\n",
              "  .colab-df-quickchart-complete:disabled,\n",
              "  .colab-df-quickchart-complete:disabled:hover {\n",
              "    background-color: var(--disabled-bg-color);\n",
              "    fill: var(--disabled-fill-color);\n",
              "    box-shadow: none;\n",
              "  }\n",
              "\n",
              "  .colab-df-spinner {\n",
              "    border: 2px solid var(--fill-color);\n",
              "    border-color: transparent;\n",
              "    border-bottom-color: var(--fill-color);\n",
              "    animation:\n",
              "      spin 1s steps(1) infinite;\n",
              "  }\n",
              "\n",
              "  @keyframes spin {\n",
              "    0% {\n",
              "      border-color: transparent;\n",
              "      border-bottom-color: var(--fill-color);\n",
              "      border-left-color: var(--fill-color);\n",
              "    }\n",
              "    20% {\n",
              "      border-color: transparent;\n",
              "      border-left-color: var(--fill-color);\n",
              "      border-top-color: var(--fill-color);\n",
              "    }\n",
              "    30% {\n",
              "      border-color: transparent;\n",
              "      border-left-color: var(--fill-color);\n",
              "      border-top-color: var(--fill-color);\n",
              "      border-right-color: var(--fill-color);\n",
              "    }\n",
              "    40% {\n",
              "      border-color: transparent;\n",
              "      border-right-color: var(--fill-color);\n",
              "      border-top-color: var(--fill-color);\n",
              "    }\n",
              "    60% {\n",
              "      border-color: transparent;\n",
              "      border-right-color: var(--fill-color);\n",
              "    }\n",
              "    80% {\n",
              "      border-color: transparent;\n",
              "      border-right-color: var(--fill-color);\n",
              "      border-bottom-color: var(--fill-color);\n",
              "    }\n",
              "    90% {\n",
              "      border-color: transparent;\n",
              "      border-bottom-color: var(--fill-color);\n",
              "    }\n",
              "  }\n",
              "</style>\n",
              "\n",
              "  <script>\n",
              "    async function quickchart(key) {\n",
              "      const quickchartButtonEl =\n",
              "        document.querySelector('#' + key + ' button');\n",
              "      quickchartButtonEl.disabled = true;  // To prevent multiple clicks.\n",
              "      quickchartButtonEl.classList.add('colab-df-spinner');\n",
              "      try {\n",
              "        const charts = await google.colab.kernel.invokeFunction(\n",
              "            'suggestCharts', [key], {});\n",
              "      } catch (error) {\n",
              "        console.error('Error during call to suggestCharts:', error);\n",
              "      }\n",
              "      quickchartButtonEl.classList.remove('colab-df-spinner');\n",
              "      quickchartButtonEl.classList.add('colab-df-quickchart-complete');\n",
              "    }\n",
              "    (() => {\n",
              "      let quickchartButtonEl =\n",
              "        document.querySelector('#df-0bcc3c0f-7d91-4753-8104-222bb9327088 button');\n",
              "      quickchartButtonEl.style.display =\n",
              "        google.colab.kernel.accessAllowed ? 'block' : 'none';\n",
              "    })();\n",
              "  </script>\n",
              "</div>\n",
              "\n",
              "  <div id=\"id_69264cd8-e91d-4ffc-90cd-78963d949ddf\">\n",
              "    <style>\n",
              "      .colab-df-generate {\n",
              "        background-color: #E8F0FE;\n",
              "        border: none;\n",
              "        border-radius: 50%;\n",
              "        cursor: pointer;\n",
              "        display: none;\n",
              "        fill: #1967D2;\n",
              "        height: 32px;\n",
              "        padding: 0 0 0 0;\n",
              "        width: 32px;\n",
              "      }\n",
              "\n",
              "      .colab-df-generate:hover {\n",
              "        background-color: #E2EBFA;\n",
              "        box-shadow: 0px 1px 2px rgba(60, 64, 67, 0.3), 0px 1px 3px 1px rgba(60, 64, 67, 0.15);\n",
              "        fill: #174EA6;\n",
              "      }\n",
              "\n",
              "      [theme=dark] .colab-df-generate {\n",
              "        background-color: #3B4455;\n",
              "        fill: #D2E3FC;\n",
              "      }\n",
              "\n",
              "      [theme=dark] .colab-df-generate:hover {\n",
              "        background-color: #434B5C;\n",
              "        box-shadow: 0px 1px 3px 1px rgba(0, 0, 0, 0.15);\n",
              "        filter: drop-shadow(0px 1px 2px rgba(0, 0, 0, 0.3));\n",
              "        fill: #FFFFFF;\n",
              "      }\n",
              "    </style>\n",
              "    <button class=\"colab-df-generate\" onclick=\"generateWithVariable('df')\"\n",
              "            title=\"Generate code using this dataframe.\"\n",
              "            style=\"display:none;\">\n",
              "\n",
              "  <svg xmlns=\"http://www.w3.org/2000/svg\" height=\"24px\"viewBox=\"0 0 24 24\"\n",
              "       width=\"24px\">\n",
              "    <path d=\"M7,19H8.4L18.45,9,17,7.55,7,17.6ZM5,21V16.75L18.45,3.32a2,2,0,0,1,2.83,0l1.4,1.43a1.91,1.91,0,0,1,.58,1.4,1.91,1.91,0,0,1-.58,1.4L9.25,21ZM18.45,9,17,7.55Zm-12,3A5.31,5.31,0,0,0,4.9,8.1,5.31,5.31,0,0,0,1,6.5,5.31,5.31,0,0,0,4.9,4.9,5.31,5.31,0,0,0,6.5,1,5.31,5.31,0,0,0,8.1,4.9,5.31,5.31,0,0,0,12,6.5,5.46,5.46,0,0,0,6.5,12Z\"/>\n",
              "  </svg>\n",
              "    </button>\n",
              "    <script>\n",
              "      (() => {\n",
              "      const buttonEl =\n",
              "        document.querySelector('#id_69264cd8-e91d-4ffc-90cd-78963d949ddf button.colab-df-generate');\n",
              "      buttonEl.style.display =\n",
              "        google.colab.kernel.accessAllowed ? 'block' : 'none';\n",
              "\n",
              "      buttonEl.onclick = () => {\n",
              "        google.colab.notebook.generateWithVariable('df');\n",
              "      }\n",
              "      })();\n",
              "    </script>\n",
              "  </div>\n",
              "\n",
              "    </div>\n",
              "  </div>\n"
            ],
            "application/vnd.google.colaboratory.intrinsic+json": {
              "type": "dataframe",
              "variable_name": "df",
              "summary": "{\n  \"name\": \"df\",\n  \"rows\": 29,\n  \"fields\": [\n    {\n      \"column\": \"event_index\",\n      \"properties\": {\n        \"dtype\": \"number\",\n        \"std\": 16,\n        \"min\": 2,\n        \"max\": 52,\n        \"num_unique_values\": 29,\n        \"samples\": [\n          51,\n          32,\n          27\n        ],\n        \"semantic_type\": \"\",\n        \"description\": \"\"\n      }\n    },\n    {\n      \"column\": \"predictions\",\n      \"properties\": {\n        \"dtype\": \"number\",\n        \"std\": 0,\n        \"min\": 0,\n        \"max\": 2,\n        \"num_unique_values\": 3,\n        \"samples\": [\n          0,\n          1,\n          2\n        ],\n        \"semantic_type\": \"\",\n        \"description\": \"\"\n      }\n    }\n  ]\n}"
            }
          },
          "metadata": {},
          "execution_count": 115
        }
      ]
    },
    {
      "cell_type": "code",
      "source": [
        "fps_org #fps of original test video"
      ],
      "metadata": {
        "colab": {
          "base_uri": "https://localhost:8080/"
        },
        "id": "_e8c3eHs9cgj",
        "outputId": "faa5d6a8-b91e-45d7-997f-196f7da838fc"
      },
      "execution_count": 116,
      "outputs": [
        {
          "output_type": "execute_result",
          "data": {
            "text/plain": [
              "25.0"
            ]
          },
          "metadata": {},
          "execution_count": 116
        }
      ]
    },
    {
      "cell_type": "code",
      "source": [
        "'''\n",
        "keywords;\n",
        "index_no: index of clip where the event happened\n",
        "frame_limit: 60 (no of frames of original video we clubbed together)\n",
        "fps_org: fps of the original test video\n",
        "\n",
        "Thus the time(in sec) of the event clip in the original video\n",
        "based on the index no of clip would be;\n",
        "\n",
        "moment = index_no*frame_limit/fps_org'''"
      ],
      "metadata": {
        "colab": {
          "base_uri": "https://localhost:8080/",
          "height": 70
        },
        "id": "yzb4E0EC9cjR",
        "outputId": "86ea28b4-3bf5-48f7-b07e-f75f2807e9b2"
      },
      "execution_count": 117,
      "outputs": [
        {
          "output_type": "execute_result",
          "data": {
            "text/plain": [
              "'\\nkeywords;\\nindex_no: index of clip where the event happened\\nframe_limit: 60 (no of frames of original video we clubbed together)\\nfps_org: fps of the original test video\\n\\nThus the time(in sec) of the event clip in the original video\\nbased on the index no of clip would be;\\n\\nmoment = index_no*frame_limit/fps_org'"
            ],
            "application/vnd.google.colaboratory.intrinsic+json": {
              "type": "string"
            }
          },
          "metadata": {},
          "execution_count": 117
        }
      ]
    },
    {
      "cell_type": "code",
      "source": [
        "'''\n",
        "Thus we can extract a clip using moviepy,\n",
        " starting 5 secs before the event moment and\n",
        " ending 5 secs after the event moment;\n",
        "by defining the below variables:\n",
        "\n",
        "start_time = moment - 5\n",
        "end_time = moment + 5\n",
        "\n",
        " '''"
      ],
      "metadata": {
        "colab": {
          "base_uri": "https://localhost:8080/",
          "height": 53
        },
        "id": "QSCRX_zk9cly",
        "outputId": "45f6717f-d364-4625-c0b3-068f4d404e9a"
      },
      "execution_count": 118,
      "outputs": [
        {
          "output_type": "execute_result",
          "data": {
            "text/plain": [
              "'\\nThus we can extract a clip using moviepy,\\n starting 5 secs before the event moment and\\n ending 5 secs after the event moment;\\nby defining the below variables:\\n\\nstart_time = moment - 5\\nend_time = moment + 5\\n\\n '"
            ],
            "application/vnd.google.colaboratory.intrinsic+json": {
              "type": "string"
            }
          },
          "metadata": {},
          "execution_count": 118
        }
      ]
    },
    {
      "cell_type": "code",
      "source": [
        "max_time = len(frames_list)/fps_org #ending time of the original test video"
      ],
      "metadata": {
        "id": "fpiaVDLs9coD"
      },
      "execution_count": 119,
      "outputs": []
    },
    {
      "cell_type": "code",
      "source": [],
      "metadata": {
        "id": "C4iKeAgn9cqu"
      },
      "execution_count": 119,
      "outputs": []
    },
    {
      "cell_type": "markdown",
      "source": [
        "Video Extraction using Moviepy"
      ],
      "metadata": {
        "id": "rEDuSLPD91rc"
      }
    },
    {
      "cell_type": "code",
      "source": [
        "#creating a folder for storing 3 class folders\n",
        "os.mkdir('/content/classified_moments')"
      ],
      "metadata": {
        "id": "HErMjhyL9ctE"
      },
      "execution_count": 120,
      "outputs": []
    },
    {
      "cell_type": "code",
      "source": [
        "# creating folders for storing clips of each corresponding classes\n",
        "\n",
        "os.mkdir('/content/classified_moments/Goal')\n",
        "os.mkdir('/content/classified_moments/Happy')\n",
        "os.mkdir('/content/classified_moments/Loss')"
      ],
      "metadata": {
        "id": "bKpDgObq9cvi"
      },
      "execution_count": 121,
      "outputs": []
    },
    {
      "cell_type": "code",
      "source": [
        "df.head(8)"
      ],
      "metadata": {
        "colab": {
          "base_uri": "https://localhost:8080/",
          "height": 300
        },
        "id": "f0pOUFCh9PBL",
        "outputId": "b51e57bd-1c6c-467f-c3aa-a8be454c6cca"
      },
      "execution_count": 122,
      "outputs": [
        {
          "output_type": "execute_result",
          "data": {
            "text/plain": [
              "   event_index  predictions\n",
              "0            2            0\n",
              "1            3            0\n",
              "2            4            0\n",
              "3            6            1\n",
              "4            9            0\n",
              "5           10            0\n",
              "6           13            0\n",
              "7           14            0"
            ],
            "text/html": [
              "\n",
              "  <div id=\"df-b1216ca2-9dc2-48e5-ad3e-ec84ab4e0d39\" class=\"colab-df-container\">\n",
              "    <div>\n",
              "<style scoped>\n",
              "    .dataframe tbody tr th:only-of-type {\n",
              "        vertical-align: middle;\n",
              "    }\n",
              "\n",
              "    .dataframe tbody tr th {\n",
              "        vertical-align: top;\n",
              "    }\n",
              "\n",
              "    .dataframe thead th {\n",
              "        text-align: right;\n",
              "    }\n",
              "</style>\n",
              "<table border=\"1\" class=\"dataframe\">\n",
              "  <thead>\n",
              "    <tr style=\"text-align: right;\">\n",
              "      <th></th>\n",
              "      <th>event_index</th>\n",
              "      <th>predictions</th>\n",
              "    </tr>\n",
              "  </thead>\n",
              "  <tbody>\n",
              "    <tr>\n",
              "      <th>0</th>\n",
              "      <td>2</td>\n",
              "      <td>0</td>\n",
              "    </tr>\n",
              "    <tr>\n",
              "      <th>1</th>\n",
              "      <td>3</td>\n",
              "      <td>0</td>\n",
              "    </tr>\n",
              "    <tr>\n",
              "      <th>2</th>\n",
              "      <td>4</td>\n",
              "      <td>0</td>\n",
              "    </tr>\n",
              "    <tr>\n",
              "      <th>3</th>\n",
              "      <td>6</td>\n",
              "      <td>1</td>\n",
              "    </tr>\n",
              "    <tr>\n",
              "      <th>4</th>\n",
              "      <td>9</td>\n",
              "      <td>0</td>\n",
              "    </tr>\n",
              "    <tr>\n",
              "      <th>5</th>\n",
              "      <td>10</td>\n",
              "      <td>0</td>\n",
              "    </tr>\n",
              "    <tr>\n",
              "      <th>6</th>\n",
              "      <td>13</td>\n",
              "      <td>0</td>\n",
              "    </tr>\n",
              "    <tr>\n",
              "      <th>7</th>\n",
              "      <td>14</td>\n",
              "      <td>0</td>\n",
              "    </tr>\n",
              "  </tbody>\n",
              "</table>\n",
              "</div>\n",
              "    <div class=\"colab-df-buttons\">\n",
              "\n",
              "  <div class=\"colab-df-container\">\n",
              "    <button class=\"colab-df-convert\" onclick=\"convertToInteractive('df-b1216ca2-9dc2-48e5-ad3e-ec84ab4e0d39')\"\n",
              "            title=\"Convert this dataframe to an interactive table.\"\n",
              "            style=\"display:none;\">\n",
              "\n",
              "  <svg xmlns=\"http://www.w3.org/2000/svg\" height=\"24px\" viewBox=\"0 -960 960 960\">\n",
              "    <path d=\"M120-120v-720h720v720H120Zm60-500h600v-160H180v160Zm220 220h160v-160H400v160Zm0 220h160v-160H400v160ZM180-400h160v-160H180v160Zm440 0h160v-160H620v160ZM180-180h160v-160H180v160Zm440 0h160v-160H620v160Z\"/>\n",
              "  </svg>\n",
              "    </button>\n",
              "\n",
              "  <style>\n",
              "    .colab-df-container {\n",
              "      display:flex;\n",
              "      gap: 12px;\n",
              "    }\n",
              "\n",
              "    .colab-df-convert {\n",
              "      background-color: #E8F0FE;\n",
              "      border: none;\n",
              "      border-radius: 50%;\n",
              "      cursor: pointer;\n",
              "      display: none;\n",
              "      fill: #1967D2;\n",
              "      height: 32px;\n",
              "      padding: 0 0 0 0;\n",
              "      width: 32px;\n",
              "    }\n",
              "\n",
              "    .colab-df-convert:hover {\n",
              "      background-color: #E2EBFA;\n",
              "      box-shadow: 0px 1px 2px rgba(60, 64, 67, 0.3), 0px 1px 3px 1px rgba(60, 64, 67, 0.15);\n",
              "      fill: #174EA6;\n",
              "    }\n",
              "\n",
              "    .colab-df-buttons div {\n",
              "      margin-bottom: 4px;\n",
              "    }\n",
              "\n",
              "    [theme=dark] .colab-df-convert {\n",
              "      background-color: #3B4455;\n",
              "      fill: #D2E3FC;\n",
              "    }\n",
              "\n",
              "    [theme=dark] .colab-df-convert:hover {\n",
              "      background-color: #434B5C;\n",
              "      box-shadow: 0px 1px 3px 1px rgba(0, 0, 0, 0.15);\n",
              "      filter: drop-shadow(0px 1px 2px rgba(0, 0, 0, 0.3));\n",
              "      fill: #FFFFFF;\n",
              "    }\n",
              "  </style>\n",
              "\n",
              "    <script>\n",
              "      const buttonEl =\n",
              "        document.querySelector('#df-b1216ca2-9dc2-48e5-ad3e-ec84ab4e0d39 button.colab-df-convert');\n",
              "      buttonEl.style.display =\n",
              "        google.colab.kernel.accessAllowed ? 'block' : 'none';\n",
              "\n",
              "      async function convertToInteractive(key) {\n",
              "        const element = document.querySelector('#df-b1216ca2-9dc2-48e5-ad3e-ec84ab4e0d39');\n",
              "        const dataTable =\n",
              "          await google.colab.kernel.invokeFunction('convertToInteractive',\n",
              "                                                    [key], {});\n",
              "        if (!dataTable) return;\n",
              "\n",
              "        const docLinkHtml = 'Like what you see? Visit the ' +\n",
              "          '<a target=\"_blank\" href=https://colab.research.google.com/notebooks/data_table.ipynb>data table notebook</a>'\n",
              "          + ' to learn more about interactive tables.';\n",
              "        element.innerHTML = '';\n",
              "        dataTable['output_type'] = 'display_data';\n",
              "        await google.colab.output.renderOutput(dataTable, element);\n",
              "        const docLink = document.createElement('div');\n",
              "        docLink.innerHTML = docLinkHtml;\n",
              "        element.appendChild(docLink);\n",
              "      }\n",
              "    </script>\n",
              "  </div>\n",
              "\n",
              "\n",
              "<div id=\"df-fa5a64b8-3eb8-4725-94f8-d48b1c60d16c\">\n",
              "  <button class=\"colab-df-quickchart\" onclick=\"quickchart('df-fa5a64b8-3eb8-4725-94f8-d48b1c60d16c')\"\n",
              "            title=\"Suggest charts\"\n",
              "            style=\"display:none;\">\n",
              "\n",
              "<svg xmlns=\"http://www.w3.org/2000/svg\" height=\"24px\"viewBox=\"0 0 24 24\"\n",
              "     width=\"24px\">\n",
              "    <g>\n",
              "        <path d=\"M19 3H5c-1.1 0-2 .9-2 2v14c0 1.1.9 2 2 2h14c1.1 0 2-.9 2-2V5c0-1.1-.9-2-2-2zM9 17H7v-7h2v7zm4 0h-2V7h2v10zm4 0h-2v-4h2v4z\"/>\n",
              "    </g>\n",
              "</svg>\n",
              "  </button>\n",
              "\n",
              "<style>\n",
              "  .colab-df-quickchart {\n",
              "      --bg-color: #E8F0FE;\n",
              "      --fill-color: #1967D2;\n",
              "      --hover-bg-color: #E2EBFA;\n",
              "      --hover-fill-color: #174EA6;\n",
              "      --disabled-fill-color: #AAA;\n",
              "      --disabled-bg-color: #DDD;\n",
              "  }\n",
              "\n",
              "  [theme=dark] .colab-df-quickchart {\n",
              "      --bg-color: #3B4455;\n",
              "      --fill-color: #D2E3FC;\n",
              "      --hover-bg-color: #434B5C;\n",
              "      --hover-fill-color: #FFFFFF;\n",
              "      --disabled-bg-color: #3B4455;\n",
              "      --disabled-fill-color: #666;\n",
              "  }\n",
              "\n",
              "  .colab-df-quickchart {\n",
              "    background-color: var(--bg-color);\n",
              "    border: none;\n",
              "    border-radius: 50%;\n",
              "    cursor: pointer;\n",
              "    display: none;\n",
              "    fill: var(--fill-color);\n",
              "    height: 32px;\n",
              "    padding: 0;\n",
              "    width: 32px;\n",
              "  }\n",
              "\n",
              "  .colab-df-quickchart:hover {\n",
              "    background-color: var(--hover-bg-color);\n",
              "    box-shadow: 0 1px 2px rgba(60, 64, 67, 0.3), 0 1px 3px 1px rgba(60, 64, 67, 0.15);\n",
              "    fill: var(--button-hover-fill-color);\n",
              "  }\n",
              "\n",
              "  .colab-df-quickchart-complete:disabled,\n",
              "  .colab-df-quickchart-complete:disabled:hover {\n",
              "    background-color: var(--disabled-bg-color);\n",
              "    fill: var(--disabled-fill-color);\n",
              "    box-shadow: none;\n",
              "  }\n",
              "\n",
              "  .colab-df-spinner {\n",
              "    border: 2px solid var(--fill-color);\n",
              "    border-color: transparent;\n",
              "    border-bottom-color: var(--fill-color);\n",
              "    animation:\n",
              "      spin 1s steps(1) infinite;\n",
              "  }\n",
              "\n",
              "  @keyframes spin {\n",
              "    0% {\n",
              "      border-color: transparent;\n",
              "      border-bottom-color: var(--fill-color);\n",
              "      border-left-color: var(--fill-color);\n",
              "    }\n",
              "    20% {\n",
              "      border-color: transparent;\n",
              "      border-left-color: var(--fill-color);\n",
              "      border-top-color: var(--fill-color);\n",
              "    }\n",
              "    30% {\n",
              "      border-color: transparent;\n",
              "      border-left-color: var(--fill-color);\n",
              "      border-top-color: var(--fill-color);\n",
              "      border-right-color: var(--fill-color);\n",
              "    }\n",
              "    40% {\n",
              "      border-color: transparent;\n",
              "      border-right-color: var(--fill-color);\n",
              "      border-top-color: var(--fill-color);\n",
              "    }\n",
              "    60% {\n",
              "      border-color: transparent;\n",
              "      border-right-color: var(--fill-color);\n",
              "    }\n",
              "    80% {\n",
              "      border-color: transparent;\n",
              "      border-right-color: var(--fill-color);\n",
              "      border-bottom-color: var(--fill-color);\n",
              "    }\n",
              "    90% {\n",
              "      border-color: transparent;\n",
              "      border-bottom-color: var(--fill-color);\n",
              "    }\n",
              "  }\n",
              "</style>\n",
              "\n",
              "  <script>\n",
              "    async function quickchart(key) {\n",
              "      const quickchartButtonEl =\n",
              "        document.querySelector('#' + key + ' button');\n",
              "      quickchartButtonEl.disabled = true;  // To prevent multiple clicks.\n",
              "      quickchartButtonEl.classList.add('colab-df-spinner');\n",
              "      try {\n",
              "        const charts = await google.colab.kernel.invokeFunction(\n",
              "            'suggestCharts', [key], {});\n",
              "      } catch (error) {\n",
              "        console.error('Error during call to suggestCharts:', error);\n",
              "      }\n",
              "      quickchartButtonEl.classList.remove('colab-df-spinner');\n",
              "      quickchartButtonEl.classList.add('colab-df-quickchart-complete');\n",
              "    }\n",
              "    (() => {\n",
              "      let quickchartButtonEl =\n",
              "        document.querySelector('#df-fa5a64b8-3eb8-4725-94f8-d48b1c60d16c button');\n",
              "      quickchartButtonEl.style.display =\n",
              "        google.colab.kernel.accessAllowed ? 'block' : 'none';\n",
              "    })();\n",
              "  </script>\n",
              "</div>\n",
              "\n",
              "    </div>\n",
              "  </div>\n"
            ],
            "application/vnd.google.colaboratory.intrinsic+json": {
              "type": "dataframe",
              "variable_name": "df",
              "summary": "{\n  \"name\": \"df\",\n  \"rows\": 29,\n  \"fields\": [\n    {\n      \"column\": \"event_index\",\n      \"properties\": {\n        \"dtype\": \"number\",\n        \"std\": 16,\n        \"min\": 2,\n        \"max\": 52,\n        \"num_unique_values\": 29,\n        \"samples\": [\n          51,\n          32,\n          27\n        ],\n        \"semantic_type\": \"\",\n        \"description\": \"\"\n      }\n    },\n    {\n      \"column\": \"predictions\",\n      \"properties\": {\n        \"dtype\": \"number\",\n        \"std\": 0,\n        \"min\": 0,\n        \"max\": 2,\n        \"num_unique_values\": 3,\n        \"samples\": [\n          0,\n          1,\n          2\n        ],\n        \"semantic_type\": \"\",\n        \"description\": \"\"\n      }\n    }\n  ]\n}"
            }
          },
          "metadata": {},
          "execution_count": 122
        }
      ]
    },
    {
      "cell_type": "code",
      "source": [
        "'''\n",
        "To prevent value error;\n",
        " in case the starting time(moment -5 sec) is less than the begining of the original test video\n",
        " or\n",
        " in case the ending time(moment + 5 sec) is greater than the ending time of the original test video,\n",
        " I have written the extraction part as below\n",
        " '''"
      ],
      "metadata": {
        "colab": {
          "base_uri": "https://localhost:8080/",
          "height": 53
        },
        "id": "xwzokRkA97Bc",
        "outputId": "b5e2418d-995e-4940-f8af-e35c5f3a48fd"
      },
      "execution_count": 123,
      "outputs": [
        {
          "output_type": "execute_result",
          "data": {
            "text/plain": [
              "'\\nTo prevent value error;\\n in case the starting time(moment -5 sec) is less than the begining of the original test video\\n or\\n in case the ending time(moment + 5 sec) is greater than the ending time of the original test video,\\n I have written the extraction part as below\\n '"
            ],
            "application/vnd.google.colaboratory.intrinsic+json": {
              "type": "string"
            }
          },
          "metadata": {},
          "execution_count": 123
        }
      ]
    },
    {
      "cell_type": "code",
      "source": [
        "for i in range(len(df['predictions'])):\n",
        "  index = df['event_index'][i]\n",
        "  moment = index*frame_limit/fps_org\n",
        "  start_time = moment - 5\n",
        "  end_time = moment + 5\n",
        "  clip = mp.VideoFileClip(file_path)\n",
        "  if df['predictions'][i] == 0:\n",
        "  # Create a cropped subclip that starts at {start_time} seconds and ends at {end_time} seconds if event is Goal\n",
        "    # Create a cropped subclip after checking for out of time extractions\n",
        "    if start_time < 0:\n",
        "      start_time = 0\n",
        "      cropped_clip = clip.subclip(start_time, end_time)\n",
        "      cropped_clip.write_videofile(f\"/content/classified_moments/Goal/goal{i}.mp4\")\n",
        "    if end_time > max_time:\n",
        "      end_time = max_time\n",
        "      cropped_clip = clip.subclip(start_time, end_time)\n",
        "      cropped_clip.write_videofile(f\"/content/classified_moments/Goal/goal{i}.mp4\")\n",
        "    else:\n",
        "      cropped_clip = clip.subclip(start_time, end_time)\n",
        "      cropped_clip.write_videofile(f\"/content/classified_moments/Goal/goal{i}.mp4\")\n",
        "  if df['predictions'][i] == 1:\n",
        "  # Create a cropped subclip that starts at {start_time} seconds and ends at {end_time} seconds if event is Happy\n",
        "    if start_time < 0:\n",
        "      start_time = 0\n",
        "      cropped_clip = clip.subclip(start_time, end_time)\n",
        "      cropped_clip.write_videofile(f\"/content/classified_moments/Happy/happy{i}.mp4\")\n",
        "    if end_time > max_time:\n",
        "      end_time = max_time\n",
        "      cropped_clip = clip.subclip(start_time, end_time)\n",
        "      cropped_clip.write_videofile(f\"/content/classified_moments/Happy/happy{i}.mp4\")\n",
        "    else:\n",
        "      cropped_clip = clip.subclip(start_time, end_time)\n",
        "      cropped_clip.write_videofile(f\"/content/classified_moments/Happy/happy{i}.mp4\")\n",
        "  if df['predictions'][i] == 2:\n",
        "  # Create a cropped subclip that starts at {start_time} seconds and ends at {end_time} seconds if event is Loss\n",
        "    if start_time < 0:\n",
        "      start_time = 0\n",
        "      cropped_clip = clip.subclip(start_time, end_time)\n",
        "      cropped_clip.write_videofile(f\"/content/classified_moments/Loss/loss{i}.mp4\")\n",
        "    if end_time > max_time:\n",
        "      end_time = max_time\n",
        "      cropped_clip = clip.subclip(start_time, end_time)\n",
        "      cropped_clip.write_videofile(f\"/content/classified_moments/Loss/loss{i}.mp4\")\n",
        "    else:\n",
        "      cropped_clip = clip.subclip(start_time, end_time)\n",
        "      cropped_clip.write_videofile(f\"/content/classified_moments/Loss/loss{i}.mp4\")"
      ],
      "metadata": {
        "colab": {
          "base_uri": "https://localhost:8080/"
        },
        "id": "jrwXwXNm97EA",
        "outputId": "2d206147-475d-42ed-a02b-361a51228950"
      },
      "execution_count": 124,
      "outputs": [
        {
          "output_type": "stream",
          "name": "stderr",
          "text": [
            "t:  45%|████▌     | 113/250 [03:24<00:34,  3.93it/s, now=None]"
          ]
        },
        {
          "output_type": "stream",
          "name": "stdout",
          "text": [
            "Moviepy - Building video /content/classified_moments/Goal/goal0.mp4.\n",
            "MoviePy - Writing audio in goal0TEMP_MPY_wvf_snd.mp3\n"
          ]
        },
        {
          "output_type": "stream",
          "name": "stderr",
          "text": [
            "\n",
            "chunk:   0%|          | 0/217 [00:00<?, ?it/s, now=None]\u001b[A\n",
            "chunk:  45%|████▍     | 97/217 [00:00<00:00, 958.56it/s, now=None]\u001b[A\n",
            "chunk:  89%|████████▉ | 193/217 [00:00<00:00, 886.49it/s, now=None]\u001b[A\n",
            "t:  45%|████▌     | 113/250 [03:24<00:34,  3.93it/s, now=None]"
          ]
        },
        {
          "output_type": "stream",
          "name": "stdout",
          "text": [
            "MoviePy - Done.\n",
            "Moviepy - Writing video /content/classified_moments/Goal/goal0.mp4\n",
            "\n"
          ]
        },
        {
          "output_type": "stream",
          "name": "stderr",
          "text": [
            "\n",
            "t:   0%|          | 0/245 [00:00<?, ?it/s, now=None]\u001b[A\n",
            "t:   3%|▎         | 8/245 [00:00<00:03, 70.72it/s, now=None]\u001b[A\n",
            "t:   7%|▋         | 16/245 [00:00<00:03, 68.17it/s, now=None]\u001b[A\n",
            "t:  10%|█         | 25/245 [00:00<00:02, 75.10it/s, now=None]\u001b[A\n",
            "t:  13%|█▎        | 33/245 [00:00<00:02, 72.21it/s, now=None]\u001b[A\n",
            "t:  17%|█▋        | 41/245 [00:00<00:03, 67.70it/s, now=None]\u001b[A\n",
            "t:  20%|█▉        | 48/245 [00:00<00:03, 64.29it/s, now=None]\u001b[A\n",
            "t:  22%|██▏       | 55/245 [00:00<00:03, 62.30it/s, now=None]\u001b[A\n",
            "t:  25%|██▌       | 62/245 [00:01<00:06, 27.87it/s, now=None]\u001b[A\n",
            "t:  27%|██▋       | 67/245 [00:01<00:07, 22.37it/s, now=None]\u001b[A\n",
            "t:  29%|██▉       | 71/245 [00:02<00:08, 20.21it/s, now=None]\u001b[A\n",
            "t:  30%|███       | 74/245 [00:02<00:09, 18.28it/s, now=None]\u001b[A\n",
            "t:  31%|███▏      | 77/245 [00:02<00:10, 16.01it/s, now=None]\u001b[A\n",
            "t:  33%|███▎      | 80/245 [00:02<00:10, 15.46it/s, now=None]\u001b[A\n",
            "t:  34%|███▍      | 83/245 [00:02<00:09, 16.33it/s, now=None]\u001b[A\n",
            "t:  35%|███▍      | 85/245 [00:03<00:10, 14.64it/s, now=None]\u001b[A\n",
            "t:  36%|███▌      | 87/245 [00:03<00:10, 15.01it/s, now=None]\u001b[A\n",
            "t:  36%|███▋      | 89/245 [00:03<00:11, 13.33it/s, now=None]\u001b[A\n",
            "t:  38%|███▊      | 92/245 [00:03<00:12, 12.59it/s, now=None]\u001b[A\n",
            "t:  38%|███▊      | 94/245 [00:03<00:11, 13.19it/s, now=None]\u001b[A\n",
            "t:  39%|███▉      | 96/245 [00:04<00:12, 12.35it/s, now=None]\u001b[A\n",
            "t:  40%|████      | 98/245 [00:04<00:11, 12.68it/s, now=None]\u001b[A\n",
            "t:  41%|████      | 100/245 [00:04<00:11, 12.99it/s, now=None]\u001b[A\n",
            "t:  42%|████▏     | 102/245 [00:04<00:10, 13.99it/s, now=None]\u001b[A\n",
            "t:  42%|████▏     | 104/245 [00:04<00:11, 12.09it/s, now=None]\u001b[A\n",
            "t:  44%|████▎     | 107/245 [00:04<00:10, 13.42it/s, now=None]\u001b[A\n",
            "t:  44%|████▍     | 109/245 [00:04<00:10, 13.10it/s, now=None]\u001b[A\n",
            "t:  45%|████▌     | 111/245 [00:05<00:09, 13.82it/s, now=None]\u001b[A\n",
            "t:  46%|████▌     | 113/245 [00:05<00:10, 12.37it/s, now=None]\u001b[A\n",
            "t:  47%|████▋     | 115/245 [00:05<00:10, 12.41it/s, now=None]\u001b[A\n",
            "t:  48%|████▊     | 117/245 [00:05<00:10, 12.53it/s, now=None]\u001b[A\n",
            "t:  49%|████▊     | 119/245 [00:05<00:09, 13.90it/s, now=None]\u001b[A\n",
            "t:  49%|████▉     | 121/245 [00:05<00:09, 13.53it/s, now=None]\u001b[A\n",
            "t:  50%|█████     | 123/245 [00:06<00:08, 14.10it/s, now=None]\u001b[A\n",
            "t:  51%|█████     | 125/245 [00:06<00:09, 12.61it/s, now=None]\u001b[A\n",
            "t:  52%|█████▏    | 128/245 [00:06<00:09, 12.79it/s, now=None]\u001b[A\n",
            "t:  53%|█████▎    | 130/245 [00:06<00:09, 12.24it/s, now=None]\u001b[A\n",
            "t:  54%|█████▍    | 132/245 [00:06<00:09, 11.52it/s, now=None]\u001b[A\n",
            "t:  55%|█████▍    | 134/245 [00:07<00:09, 11.65it/s, now=None]\u001b[A\n",
            "t:  56%|█████▌    | 136/245 [00:07<00:11,  9.66it/s, now=None]\u001b[A\n",
            "t:  56%|█████▋    | 138/245 [00:07<00:12,  8.24it/s, now=None]\u001b[A\n",
            "t:  57%|█████▋    | 140/245 [00:07<00:11,  9.08it/s, now=None]\u001b[A\n",
            "t:  58%|█████▊    | 141/245 [00:08<00:13,  7.87it/s, now=None]\u001b[A\n",
            "t:  59%|█████▉    | 144/245 [00:08<00:10,  9.58it/s, now=None]\u001b[A\n",
            "t:  59%|█████▉    | 145/245 [00:08<00:11,  9.07it/s, now=None]\u001b[A\n",
            "t:  60%|██████    | 147/245 [00:08<00:10,  9.58it/s, now=None]\u001b[A\n",
            "t:  60%|██████    | 148/245 [00:08<00:10,  8.96it/s, now=None]\u001b[A\n",
            "t:  61%|██████    | 149/245 [00:08<00:12,  8.00it/s, now=None]\u001b[A\n",
            "t:  62%|██████▏   | 151/245 [00:09<00:10,  9.35it/s, now=None]\u001b[A\n",
            "t:  62%|██████▏   | 152/245 [00:09<00:10,  8.94it/s, now=None]\u001b[A\n",
            "t:  62%|██████▏   | 153/245 [00:09<00:10,  8.80it/s, now=None]\u001b[A\n",
            "t:  63%|██████▎   | 154/245 [00:09<00:10,  8.76it/s, now=None]\u001b[A\n",
            "t:  64%|██████▎   | 156/245 [00:09<00:09,  9.18it/s, now=None]\u001b[A\n",
            "t:  64%|██████▍   | 157/245 [00:09<00:12,  7.18it/s, now=None]\u001b[A\n",
            "t:  65%|██████▍   | 159/245 [00:09<00:09,  9.04it/s, now=None]\u001b[A\n",
            "t:  66%|██████▌   | 161/245 [00:10<00:09,  8.74it/s, now=None]\u001b[A\n",
            "t:  66%|██████▌   | 162/245 [00:10<00:09,  8.44it/s, now=None]\u001b[A\n",
            "t:  67%|██████▋   | 165/245 [00:10<00:09,  8.22it/s, now=None]\u001b[A\n",
            "t:  68%|██████▊   | 167/245 [00:10<00:08,  9.72it/s, now=None]\u001b[A\n",
            "t:  69%|██████▉   | 169/245 [00:11<00:09,  8.25it/s, now=None]\u001b[A\n",
            "t:  70%|██████▉   | 171/245 [00:11<00:07,  9.85it/s, now=None]\u001b[A\n",
            "t:  71%|███████   | 173/245 [00:11<00:08,  8.42it/s, now=None]\u001b[A\n",
            "t:  71%|███████▏  | 175/245 [00:11<00:08,  8.70it/s, now=None]\u001b[A\n",
            "t:  72%|███████▏  | 177/245 [00:11<00:06, 10.23it/s, now=None]\u001b[A\n",
            "t:  73%|███████▎  | 179/245 [00:12<00:06,  9.50it/s, now=None]\u001b[A\n",
            "t:  74%|███████▍  | 182/245 [00:12<00:06,  9.85it/s, now=None]\u001b[A\n",
            "t:  75%|███████▌  | 184/245 [00:12<00:06,  9.82it/s, now=None]\u001b[A\n",
            "t:  76%|███████▌  | 186/245 [00:12<00:05, 10.29it/s, now=None]\u001b[A\n",
            "t:  77%|███████▋  | 188/245 [00:13<00:05, 10.04it/s, now=None]\u001b[A\n",
            "t:  78%|███████▊  | 190/245 [00:13<00:04, 11.35it/s, now=None]\u001b[A\n",
            "t:  78%|███████▊  | 192/245 [00:13<00:04, 11.40it/s, now=None]\u001b[A\n",
            "t:  79%|███████▉  | 194/245 [00:13<00:03, 13.00it/s, now=None]\u001b[A\n",
            "t:  80%|████████  | 196/245 [00:13<00:03, 13.32it/s, now=None]\u001b[A\n",
            "t:  81%|████████  | 198/245 [00:13<00:03, 14.07it/s, now=None]\u001b[A\n",
            "t:  82%|████████▏ | 200/245 [00:13<00:03, 14.31it/s, now=None]\u001b[A\n",
            "t:  82%|████████▏ | 202/245 [00:13<00:02, 15.28it/s, now=None]\u001b[A\n",
            "t:  83%|████████▎ | 204/245 [00:14<00:02, 15.11it/s, now=None]\u001b[A\n",
            "t:  84%|████████▍ | 206/245 [00:14<00:02, 16.23it/s, now=None]\u001b[A\n",
            "t:  85%|████████▌ | 209/245 [00:14<00:02, 14.93it/s, now=None]\u001b[A\n",
            "t:  86%|████████▌ | 211/245 [00:14<00:02, 15.72it/s, now=None]\u001b[A\n",
            "t:  87%|████████▋ | 213/245 [00:14<00:02, 15.87it/s, now=None]\u001b[A\n",
            "t:  88%|████████▊ | 215/245 [00:14<00:01, 15.85it/s, now=None]\u001b[A\n",
            "t:  89%|████████▊ | 217/245 [00:14<00:01, 14.33it/s, now=None]\u001b[A\n",
            "t:  90%|████████▉ | 220/245 [00:15<00:01, 16.94it/s, now=None]\u001b[A\n",
            "t:  91%|█████████ | 222/245 [00:15<00:01, 14.10it/s, now=None]\u001b[A\n",
            "t:  92%|█████████▏| 225/245 [00:15<00:01, 15.50it/s, now=None]\u001b[A\n",
            "t:  93%|█████████▎| 227/245 [00:15<00:01, 14.47it/s, now=None]\u001b[A\n",
            "t:  93%|█████████▎| 229/245 [00:15<00:01, 15.19it/s, now=None]\u001b[A\n",
            "t:  94%|█████████▍| 231/245 [00:15<00:00, 15.92it/s, now=None]\u001b[A\n",
            "t:  95%|█████████▌| 233/245 [00:16<00:00, 13.59it/s, now=None]\u001b[A\n",
            "t:  96%|█████████▋| 236/245 [00:16<00:00, 13.52it/s, now=None]\u001b[A\n",
            "t:  97%|█████████▋| 238/245 [00:16<00:00, 14.64it/s, now=None]\u001b[A\n",
            "t:  98%|█████████▊| 241/245 [00:16<00:00, 15.04it/s, now=None]\u001b[A\n",
            "t:  99%|█████████▉| 243/245 [00:16<00:00, 14.11it/s, now=None]\u001b[A\n",
            "t:  45%|████▌     | 113/250 [03:45<00:34,  3.93it/s, now=None]"
          ]
        },
        {
          "output_type": "stream",
          "name": "stdout",
          "text": [
            "Moviepy - Done !\n",
            "Moviepy - video ready /content/classified_moments/Goal/goal0.mp4\n",
            "Moviepy - Building video /content/classified_moments/Goal/goal0.mp4.\n",
            "MoviePy - Writing audio in goal0TEMP_MPY_wvf_snd.mp3\n"
          ]
        },
        {
          "output_type": "stream",
          "name": "stderr",
          "text": [
            "\n",
            "chunk:   0%|          | 0/217 [00:00<?, ?it/s, now=None]\u001b[A\n",
            "chunk:  15%|█▌        | 33/217 [00:00<00:00, 329.33it/s, now=None]\u001b[A\n",
            "chunk:  52%|█████▏    | 113/217 [00:00<00:00, 604.49it/s, now=None]\u001b[A\n",
            "chunk:  90%|█████████ | 196/217 [00:00<00:00, 704.57it/s, now=None]\u001b[A\n",
            "t:  45%|████▌     | 113/250 [03:46<00:34,  3.93it/s, now=None]"
          ]
        },
        {
          "output_type": "stream",
          "name": "stdout",
          "text": [
            "MoviePy - Done.\n",
            "Moviepy - Writing video /content/classified_moments/Goal/goal0.mp4\n",
            "\n"
          ]
        },
        {
          "output_type": "stream",
          "name": "stderr",
          "text": [
            "\n",
            "t:   0%|          | 0/245 [00:00<?, ?it/s, now=None]\u001b[A\n",
            "t:   4%|▎         | 9/245 [00:00<00:02, 80.33it/s, now=None]\u001b[A\n",
            "t:   7%|▋         | 18/245 [00:00<00:02, 75.99it/s, now=None]\u001b[A\n",
            "t:  11%|█         | 26/245 [00:00<00:03, 68.19it/s, now=None]\u001b[A\n",
            "t:  14%|█▍        | 34/245 [00:00<00:03, 70.10it/s, now=None]\u001b[A\n",
            "t:  17%|█▋        | 42/245 [00:00<00:02, 72.38it/s, now=None]\u001b[A\n",
            "t:  20%|██        | 50/245 [00:00<00:02, 71.56it/s, now=None]\u001b[A\n",
            "t:  24%|██▎       | 58/245 [00:01<00:04, 38.25it/s, now=None]\u001b[A\n",
            "t:  26%|██▌       | 64/245 [00:01<00:07, 25.51it/s, now=None]\u001b[A\n",
            "t:  28%|██▊       | 69/245 [00:01<00:08, 21.25it/s, now=None]\u001b[A\n",
            "t:  30%|██▉       | 73/245 [00:02<00:10, 16.58it/s, now=None]\u001b[A\n",
            "t:  31%|███       | 76/245 [00:02<00:12, 13.69it/s, now=None]\u001b[A\n",
            "t:  32%|███▏      | 79/245 [00:03<00:12, 13.00it/s, now=None]\u001b[A\n",
            "t:  33%|███▎      | 81/245 [00:03<00:14, 11.50it/s, now=None]\u001b[A\n",
            "t:  34%|███▍      | 83/245 [00:03<00:14, 11.38it/s, now=None]\u001b[A\n",
            "t:  35%|███▍      | 85/245 [00:03<00:15, 10.16it/s, now=None]\u001b[A\n",
            "t:  36%|███▌      | 87/245 [00:03<00:15, 10.38it/s, now=None]\u001b[A\n",
            "t:  36%|███▋      | 89/245 [00:04<00:16,  9.47it/s, now=None]\u001b[A\n",
            "t:  37%|███▋      | 91/245 [00:04<00:16,  9.30it/s, now=None]\u001b[A\n",
            "t:  38%|███▊      | 92/245 [00:04<00:18,  8.32it/s, now=None]\u001b[A\n",
            "t:  38%|███▊      | 94/245 [00:04<00:16,  9.08it/s, now=None]\u001b[A\n",
            "t:  39%|███▉      | 95/245 [00:04<00:17,  8.82it/s, now=None]\u001b[A\n",
            "t:  39%|███▉      | 96/245 [00:05<00:18,  7.85it/s, now=None]\u001b[A\n",
            "t:  40%|████      | 98/245 [00:05<00:16,  8.84it/s, now=None]\u001b[A\n",
            "t:  41%|████      | 100/245 [00:05<00:17,  8.13it/s, now=None]\u001b[A\n",
            "t:  42%|████▏     | 102/245 [00:05<00:16,  8.89it/s, now=None]\u001b[A\n",
            "t:  42%|████▏     | 103/245 [00:05<00:16,  8.58it/s, now=None]\u001b[A\n",
            "t:  42%|████▏     | 104/245 [00:06<00:18,  7.82it/s, now=None]\u001b[A\n",
            "t:  43%|████▎     | 105/245 [00:06<00:17,  8.06it/s, now=None]\u001b[A\n",
            "t:  43%|████▎     | 106/245 [00:06<00:17,  8.08it/s, now=None]\u001b[A\n",
            "t:  44%|████▍     | 108/245 [00:06<00:16,  8.48it/s, now=None]\u001b[A\n",
            "t:  45%|████▍     | 110/245 [00:06<00:14,  9.47it/s, now=None]\u001b[A\n",
            "t:  45%|████▌     | 111/245 [00:06<00:14,  9.19it/s, now=None]\u001b[A\n",
            "t:  46%|████▌     | 112/245 [00:07<00:17,  7.57it/s, now=None]\u001b[A\n",
            "t:  47%|████▋     | 114/245 [00:07<00:15,  8.59it/s, now=None]\u001b[A\n",
            "t:  47%|████▋     | 115/245 [00:07<00:14,  8.68it/s, now=None]\u001b[A\n",
            "t:  47%|████▋     | 116/245 [00:07<00:17,  7.27it/s, now=None]\u001b[A\n",
            "t:  48%|████▊     | 118/245 [00:07<00:14,  8.87it/s, now=None]\u001b[A\n",
            "t:  49%|████▊     | 119/245 [00:07<00:14,  8.59it/s, now=None]\u001b[A\n",
            "t:  49%|████▉     | 120/245 [00:07<00:15,  7.86it/s, now=None]\u001b[A\n",
            "t:  49%|████▉     | 121/245 [00:08<00:14,  8.28it/s, now=None]\u001b[A\n",
            "t:  50%|█████     | 123/245 [00:08<00:12,  9.66it/s, now=None]\u001b[A\n",
            "t:  51%|█████     | 124/245 [00:08<00:15,  7.64it/s, now=None]\u001b[A\n",
            "t:  51%|█████▏    | 126/245 [00:08<00:13,  8.87it/s, now=None]\u001b[A\n",
            "t:  52%|█████▏    | 127/245 [00:08<00:13,  8.63it/s, now=None]\u001b[A\n",
            "t:  52%|█████▏    | 128/245 [00:08<00:13,  8.47it/s, now=None]\u001b[A\n",
            "t:  53%|█████▎    | 131/245 [00:08<00:09, 12.66it/s, now=None]\u001b[A\n",
            "t:  54%|█████▍    | 133/245 [00:09<00:10, 10.95it/s, now=None]\u001b[A\n",
            "t:  56%|█████▌    | 136/245 [00:09<00:09, 12.01it/s, now=None]\u001b[A\n",
            "t:  56%|█████▋    | 138/245 [00:09<00:09, 11.87it/s, now=None]\u001b[A\n",
            "t:  58%|█████▊    | 141/245 [00:09<00:08, 12.34it/s, now=None]\u001b[A\n",
            "t:  59%|█████▉    | 144/245 [00:10<00:07, 13.47it/s, now=None]\u001b[A\n",
            "t:  60%|█████▉    | 146/245 [00:10<00:07, 14.00it/s, now=None]\u001b[A\n",
            "t:  60%|██████    | 148/245 [00:10<00:07, 13.57it/s, now=None]\u001b[A\n",
            "t:  61%|██████    | 150/245 [00:10<00:07, 12.91it/s, now=None]\u001b[A\n",
            "t:  62%|██████▏   | 153/245 [00:10<00:06, 13.25it/s, now=None]\u001b[A\n",
            "t:  63%|██████▎   | 155/245 [00:10<00:07, 12.31it/s, now=None]\u001b[A\n",
            "t:  64%|██████▍   | 157/245 [00:11<00:07, 12.26it/s, now=None]\u001b[A\n",
            "t:  65%|██████▌   | 160/245 [00:11<00:06, 13.83it/s, now=None]\u001b[A\n",
            "t:  66%|██████▌   | 162/245 [00:11<00:06, 12.42it/s, now=None]\u001b[A\n",
            "t:  67%|██████▋   | 165/245 [00:11<00:06, 12.65it/s, now=None]\u001b[A\n",
            "t:  68%|██████▊   | 167/245 [00:11<00:05, 13.65it/s, now=None]\u001b[A\n",
            "t:  69%|██████▉   | 169/245 [00:11<00:05, 13.11it/s, now=None]\u001b[A\n",
            "t:  70%|███████   | 172/245 [00:12<00:05, 13.41it/s, now=None]\u001b[A\n",
            "t:  71%|███████▏  | 175/245 [00:12<00:04, 14.18it/s, now=None]\u001b[A\n",
            "t:  73%|███████▎  | 178/245 [00:12<00:04, 14.03it/s, now=None]\u001b[A\n",
            "t:  74%|███████▍  | 181/245 [00:12<00:04, 15.70it/s, now=None]\u001b[A\n",
            "t:  75%|███████▍  | 183/245 [00:12<00:04, 14.52it/s, now=None]\u001b[A\n",
            "t:  76%|███████▌  | 186/245 [00:13<00:03, 15.87it/s, now=None]\u001b[A\n",
            "t:  77%|███████▋  | 188/245 [00:13<00:03, 15.59it/s, now=None]\u001b[A\n",
            "t:  78%|███████▊  | 190/245 [00:13<00:03, 16.43it/s, now=None]\u001b[A\n",
            "t:  78%|███████▊  | 192/245 [00:13<00:03, 16.49it/s, now=None]\u001b[A\n",
            "t:  79%|███████▉  | 194/245 [00:13<00:03, 16.40it/s, now=None]\u001b[A\n",
            "t:  80%|████████  | 196/245 [00:13<00:03, 15.59it/s, now=None]\u001b[A\n",
            "t:  81%|████████  | 199/245 [00:13<00:02, 16.69it/s, now=None]\u001b[A\n",
            "t:  82%|████████▏ | 202/245 [00:13<00:02, 17.75it/s, now=None]\u001b[A\n",
            "t:  83%|████████▎ | 204/245 [00:14<00:02, 17.71it/s, now=None]\u001b[A\n",
            "t:  84%|████████▍ | 206/245 [00:14<00:02, 16.89it/s, now=None]\u001b[A\n",
            "t:  85%|████████▌ | 209/245 [00:14<00:02, 16.58it/s, now=None]\u001b[A\n",
            "t:  86%|████████▌ | 211/245 [00:14<00:02, 16.94it/s, now=None]\u001b[A\n",
            "t:  87%|████████▋ | 213/245 [00:14<00:02, 15.78it/s, now=None]\u001b[A\n",
            "t:  88%|████████▊ | 216/245 [00:14<00:01, 17.25it/s, now=None]\u001b[A\n",
            "t:  89%|████████▉ | 218/245 [00:14<00:01, 15.01it/s, now=None]\u001b[A\n",
            "t:  90%|█████████ | 221/245 [00:15<00:01, 17.06it/s, now=None]\u001b[A\n",
            "t:  91%|█████████ | 223/245 [00:15<00:01, 14.30it/s, now=None]\u001b[A\n",
            "t:  92%|█████████▏| 226/245 [00:15<00:01, 14.98it/s, now=None]\u001b[A\n",
            "t:  93%|█████████▎| 228/245 [00:15<00:01, 14.58it/s, now=None]\u001b[A\n",
            "t:  94%|█████████▍| 231/245 [00:15<00:00, 16.22it/s, now=None]\u001b[A\n",
            "t:  95%|█████████▌| 233/245 [00:15<00:00, 14.96it/s, now=None]\u001b[A\n",
            "t:  96%|█████████▌| 235/245 [00:16<00:00, 14.90it/s, now=None]\u001b[A\n",
            "t:  97%|█████████▋| 237/245 [00:16<00:00, 13.86it/s, now=None]\u001b[A\n",
            "t:  98%|█████████▊| 240/245 [00:16<00:00, 14.88it/s, now=None]\u001b[A\n",
            "t:  99%|█████████▉| 242/245 [00:16<00:00, 14.41it/s, now=None]\u001b[A\n",
            "t: 100%|█████████▉| 244/245 [00:16<00:00, 14.96it/s, now=None]\u001b[A\n",
            "t:  45%|████▌     | 113/250 [04:06<00:34,  3.93it/s, now=None]"
          ]
        },
        {
          "output_type": "stream",
          "name": "stdout",
          "text": [
            "Moviepy - Done !\n",
            "Moviepy - video ready /content/classified_moments/Goal/goal0.mp4\n"
          ]
        },
        {
          "output_type": "stream",
          "name": "stderr",
          "text": [
            "t:  45%|████▌     | 113/250 [04:07<00:34,  3.93it/s, now=None]"
          ]
        },
        {
          "output_type": "stream",
          "name": "stdout",
          "text": [
            "Moviepy - Building video /content/classified_moments/Goal/goal1.mp4.\n",
            "MoviePy - Writing audio in goal1TEMP_MPY_wvf_snd.mp3\n"
          ]
        },
        {
          "output_type": "stream",
          "name": "stderr",
          "text": [
            "\n",
            "chunk:   0%|          | 0/221 [00:00<?, ?it/s, now=None]\u001b[A\n",
            "chunk:  25%|██▌       | 56/221 [00:00<00:00, 549.46it/s, now=None]\u001b[A\n",
            "chunk:  50%|█████     | 111/221 [00:00<00:00, 538.68it/s, now=None]\u001b[A\n",
            "chunk:  75%|███████▍  | 165/221 [00:00<00:00, 507.62it/s, now=None]\u001b[A\n",
            "chunk:  98%|█████████▊| 216/221 [00:00<00:00, 485.03it/s, now=None]\u001b[A\n",
            "t:  45%|████▌     | 113/250 [04:08<00:34,  3.93it/s, now=None]"
          ]
        },
        {
          "output_type": "stream",
          "name": "stdout",
          "text": [
            "MoviePy - Done.\n",
            "Moviepy - Writing video /content/classified_moments/Goal/goal1.mp4\n",
            "\n"
          ]
        },
        {
          "output_type": "stream",
          "name": "stderr",
          "text": [
            "\n",
            "t:   0%|          | 0/250 [00:00<?, ?it/s, now=None]\u001b[A\n",
            "t:   3%|▎         | 7/250 [00:00<00:03, 66.63it/s, now=None]\u001b[A\n",
            "t:   6%|▌         | 14/250 [00:00<00:04, 52.66it/s, now=None]\u001b[A\n",
            "t:   8%|▊         | 20/250 [00:00<00:04, 51.60it/s, now=None]\u001b[A\n",
            "t:  10%|█         | 26/250 [00:00<00:04, 46.08it/s, now=None]\u001b[A\n",
            "t:  12%|█▏        | 31/250 [00:00<00:04, 45.70it/s, now=None]\u001b[A\n",
            "t:  14%|█▍        | 36/250 [00:00<00:04, 45.33it/s, now=None]\u001b[A\n",
            "t:  16%|█▋        | 41/250 [00:00<00:04, 46.12it/s, now=None]\u001b[A\n",
            "t:  18%|█▊        | 46/250 [00:00<00:04, 45.60it/s, now=None]\u001b[A\n",
            "t:  20%|██        | 51/250 [00:01<00:04, 43.59it/s, now=None]\u001b[A\n",
            "t:  22%|██▏       | 56/250 [00:01<00:04, 41.35it/s, now=None]\u001b[A\n",
            "t:  24%|██▍       | 61/250 [00:02<00:13, 13.97it/s, now=None]\u001b[A\n",
            "t:  26%|██▌       | 65/250 [00:02<00:15, 12.05it/s, now=None]\u001b[A\n",
            "t:  27%|██▋       | 68/250 [00:02<00:16, 11.19it/s, now=None]\u001b[A\n",
            "t:  28%|██▊       | 71/250 [00:03<00:14, 12.57it/s, now=None]\u001b[A\n",
            "t:  29%|██▉       | 73/250 [00:03<00:15, 11.51it/s, now=None]\u001b[A\n",
            "t:  30%|███       | 76/250 [00:03<00:13, 12.49it/s, now=None]\u001b[A\n",
            "t:  31%|███       | 78/250 [00:03<00:13, 12.84it/s, now=None]\u001b[A\n",
            "t:  32%|███▏      | 80/250 [00:03<00:12, 13.56it/s, now=None]\u001b[A\n",
            "t:  33%|███▎      | 82/250 [00:03<00:12, 13.72it/s, now=None]\u001b[A\n",
            "t:  34%|███▎      | 84/250 [00:04<00:12, 12.99it/s, now=None]\u001b[A\n",
            "t:  34%|███▍      | 86/250 [00:04<00:13, 11.93it/s, now=None]\u001b[A\n",
            "t:  35%|███▌      | 88/250 [00:04<00:12, 13.45it/s, now=None]\u001b[A\n",
            "t:  36%|███▌      | 90/250 [00:04<00:11, 13.73it/s, now=None]\u001b[A\n",
            "t:  37%|███▋      | 92/250 [00:04<00:11, 14.35it/s, now=None]\u001b[A\n",
            "t:  38%|███▊      | 94/250 [00:04<00:12, 12.92it/s, now=None]\u001b[A\n",
            "t:  38%|███▊      | 96/250 [00:04<00:11, 13.58it/s, now=None]\u001b[A\n",
            "t:  39%|███▉      | 98/250 [00:05<00:11, 12.81it/s, now=None]\u001b[A\n",
            "t:  40%|████      | 101/250 [00:05<00:10, 13.69it/s, now=None]\u001b[A\n",
            "t:  41%|████      | 103/250 [00:05<00:12, 12.09it/s, now=None]\u001b[A\n",
            "t:  42%|████▏     | 105/250 [00:05<00:13, 10.93it/s, now=None]\u001b[A\n",
            "t:  43%|████▎     | 107/250 [00:06<00:14,  9.95it/s, now=None]\u001b[A\n",
            "t:  44%|████▎     | 109/250 [00:06<00:12, 10.85it/s, now=None]\u001b[A\n",
            "t:  44%|████▍     | 111/250 [00:06<00:16,  8.49it/s, now=None]\u001b[A\n",
            "t:  45%|████▌     | 113/250 [00:06<00:14,  9.49it/s, now=None]\u001b[A\n",
            "t:  46%|████▌     | 115/250 [00:07<00:16,  8.05it/s, now=None]\u001b[A\n",
            "t:  47%|████▋     | 117/250 [00:07<00:14,  9.04it/s, now=None]\u001b[A\n",
            "t:  48%|████▊     | 119/250 [00:07<00:14,  8.84it/s, now=None]\u001b[A\n",
            "t:  48%|████▊     | 120/250 [00:07<00:15,  8.59it/s, now=None]\u001b[A\n",
            "t:  49%|████▉     | 123/250 [00:07<00:13,  9.13it/s, now=None]\u001b[A\n",
            "t:  50%|█████     | 125/250 [00:07<00:11, 10.72it/s, now=None]\u001b[A\n",
            "t:  51%|█████     | 127/250 [00:08<00:13,  8.86it/s, now=None]\u001b[A\n",
            "t:  52%|█████▏    | 129/250 [00:08<00:11, 10.21it/s, now=None]\u001b[A\n",
            "t:  52%|█████▏    | 131/250 [00:08<00:12,  9.42it/s, now=None]\u001b[A\n",
            "t:  53%|█████▎    | 133/250 [00:08<00:10, 10.73it/s, now=None]\u001b[A\n",
            "t:  54%|█████▍    | 135/250 [00:08<00:10, 10.90it/s, now=None]\u001b[A\n",
            "t:  55%|█████▍    | 137/250 [00:09<00:09, 12.16it/s, now=None]\u001b[A\n",
            "t:  56%|█████▌    | 139/250 [00:09<00:09, 12.18it/s, now=None]\u001b[A\n",
            "t:  56%|█████▋    | 141/250 [00:09<00:08, 12.99it/s, now=None]\u001b[A\n",
            "t:  57%|█████▋    | 143/250 [00:09<00:08, 13.20it/s, now=None]\u001b[A\n",
            "t:  58%|█████▊    | 145/250 [00:09<00:07, 14.44it/s, now=None]\u001b[A\n",
            "t:  59%|█████▉    | 147/250 [00:09<00:06, 15.30it/s, now=None]\u001b[A\n",
            "t:  60%|██████    | 150/250 [00:09<00:06, 16.03it/s, now=None]\u001b[A\n",
            "t:  61%|██████    | 152/250 [00:10<00:05, 16.69it/s, now=None]\u001b[A\n",
            "t:  62%|██████▏   | 154/250 [00:10<00:06, 15.46it/s, now=None]\u001b[A\n",
            "t:  62%|██████▏   | 156/250 [00:10<00:06, 14.92it/s, now=None]\u001b[A\n",
            "t:  64%|██████▎   | 159/250 [00:10<00:05, 16.07it/s, now=None]\u001b[A\n",
            "t:  64%|██████▍   | 161/250 [00:10<00:05, 15.99it/s, now=None]\u001b[A\n",
            "t:  65%|██████▌   | 163/250 [00:10<00:05, 14.67it/s, now=None]\u001b[A\n",
            "t:  66%|██████▋   | 166/250 [00:10<00:04, 16.85it/s, now=None]\u001b[A\n",
            "t:  67%|██████▋   | 168/250 [00:11<00:05, 14.38it/s, now=None]\u001b[A\n",
            "t:  68%|██████▊   | 170/250 [00:11<00:05, 15.30it/s, now=None]\u001b[A\n",
            "t:  69%|██████▉   | 172/250 [00:11<00:05, 14.69it/s, now=None]\u001b[A\n",
            "t:  70%|██████▉   | 174/250 [00:11<00:05, 14.46it/s, now=None]\u001b[A\n",
            "t:  71%|███████   | 177/250 [00:11<00:05, 13.79it/s, now=None]\u001b[A\n",
            "t:  72%|███████▏  | 180/250 [00:11<00:04, 14.74it/s, now=None]\u001b[A\n",
            "t:  73%|███████▎  | 182/250 [00:12<00:04, 13.89it/s, now=None]\u001b[A\n",
            "t:  74%|███████▎  | 184/250 [00:12<00:04, 14.77it/s, now=None]\u001b[A\n",
            "t:  74%|███████▍  | 186/250 [00:12<00:04, 15.53it/s, now=None]\u001b[A\n",
            "t:  75%|███████▌  | 188/250 [00:12<00:04, 13.33it/s, now=None]\u001b[A\n",
            "t:  76%|███████▋  | 191/250 [00:12<00:04, 14.32it/s, now=None]\u001b[A\n",
            "t:  77%|███████▋  | 193/250 [00:12<00:04, 13.57it/s, now=None]\u001b[A\n",
            "t:  78%|███████▊  | 195/250 [00:13<00:03, 14.16it/s, now=None]\u001b[A\n",
            "t:  79%|███████▉  | 197/250 [00:13<00:05,  9.61it/s, now=None]\u001b[A\n",
            "t:  80%|███████▉  | 199/250 [00:13<00:05,  9.80it/s, now=None]\u001b[A\n",
            "t:  80%|████████  | 201/250 [00:13<00:06,  7.99it/s, now=None]\u001b[A\n",
            "t:  81%|████████  | 203/250 [00:14<00:05,  8.41it/s, now=None]\u001b[A\n",
            "t:  82%|████████▏ | 204/250 [00:14<00:05,  8.45it/s, now=None]\u001b[A\n",
            "t:  82%|████████▏ | 205/250 [00:14<00:06,  7.27it/s, now=None]\u001b[A\n",
            "t:  83%|████████▎ | 207/250 [00:14<00:05,  8.28it/s, now=None]\u001b[A\n",
            "t:  84%|████████▎ | 209/250 [00:14<00:05,  7.88it/s, now=None]\u001b[A\n",
            "t:  84%|████████▍ | 211/250 [00:15<00:04,  9.27it/s, now=None]\u001b[A\n",
            "t:  85%|████████▌ | 213/250 [00:15<00:04,  7.53it/s, now=None]\u001b[A\n",
            "t:  86%|████████▌ | 215/250 [00:15<00:04,  8.06it/s, now=None]\u001b[A\n",
            "t:  87%|████████▋ | 217/250 [00:15<00:04,  7.45it/s, now=None]\u001b[A\n",
            "t:  88%|████████▊ | 219/250 [00:16<00:03,  8.18it/s, now=None]\u001b[A\n",
            "t:  88%|████████▊ | 220/250 [00:16<00:03,  7.77it/s, now=None]\u001b[A\n",
            "t:  88%|████████▊ | 221/250 [00:16<00:04,  7.23it/s, now=None]\u001b[A\n",
            "t:  89%|████████▉ | 223/250 [00:16<00:02,  9.08it/s, now=None]\u001b[A\n",
            "t:  90%|█████████ | 225/250 [00:16<00:03,  7.77it/s, now=None]\u001b[A\n",
            "t:  90%|█████████ | 226/250 [00:17<00:02,  8.09it/s, now=None]\u001b[A\n",
            "t:  91%|█████████ | 228/250 [00:17<00:02,  8.27it/s, now=None]\u001b[A\n",
            "t:  92%|█████████▏| 229/250 [00:17<00:02,  7.14it/s, now=None]\u001b[A\n",
            "t:  92%|█████████▏| 231/250 [00:17<00:02,  9.01it/s, now=None]\u001b[A\n",
            "t:  93%|█████████▎| 233/250 [00:17<00:02,  7.42it/s, now=None]\u001b[A\n",
            "t:  94%|█████████▍| 235/250 [00:18<00:01,  8.65it/s, now=None]\u001b[A\n",
            "t:  95%|█████████▍| 237/250 [00:18<00:01,  8.61it/s, now=None]\u001b[A\n",
            "t:  96%|█████████▌| 239/250 [00:18<00:01,  7.61it/s, now=None]\u001b[A\n",
            "t:  96%|█████████▋| 241/250 [00:18<00:00,  9.06it/s, now=None]\u001b[A\n",
            "t:  97%|█████████▋| 243/250 [00:19<00:00,  8.44it/s, now=None]\u001b[A\n",
            "t:  98%|█████████▊| 244/250 [00:19<00:00,  8.19it/s, now=None]\u001b[A\n",
            "t:  98%|█████████▊| 246/250 [00:19<00:00,  9.70it/s, now=None]\u001b[A\n",
            "t:  99%|█████████▉| 248/250 [00:19<00:00,  9.19it/s, now=None]\u001b[A\n",
            "t: 100%|██████████| 250/250 [00:19<00:00,  9.47it/s, now=None]\u001b[A\n",
            "t:  45%|████▌     | 113/250 [04:31<00:34,  3.93it/s, now=None]"
          ]
        },
        {
          "output_type": "stream",
          "name": "stdout",
          "text": [
            "Moviepy - Done !\n",
            "Moviepy - video ready /content/classified_moments/Goal/goal1.mp4\n"
          ]
        },
        {
          "output_type": "stream",
          "name": "stderr",
          "text": [
            "t:  45%|████▌     | 113/250 [04:32<00:34,  3.93it/s, now=None]"
          ]
        },
        {
          "output_type": "stream",
          "name": "stdout",
          "text": [
            "Moviepy - Building video /content/classified_moments/Goal/goal2.mp4.\n",
            "MoviePy - Writing audio in goal2TEMP_MPY_wvf_snd.mp3\n"
          ]
        },
        {
          "output_type": "stream",
          "name": "stderr",
          "text": [
            "\n",
            "chunk:   0%|          | 0/221 [00:00<?, ?it/s, now=None]\u001b[A\n",
            "chunk:  37%|███▋      | 81/221 [00:00<00:00, 808.95it/s, now=None]\u001b[A\n",
            "chunk:  73%|███████▎  | 162/221 [00:00<00:00, 752.26it/s, now=None]\u001b[A\n",
            "t:  45%|████▌     | 113/250 [04:32<00:34,  3.93it/s, now=None]"
          ]
        },
        {
          "output_type": "stream",
          "name": "stdout",
          "text": [
            "MoviePy - Done.\n",
            "Moviepy - Writing video /content/classified_moments/Goal/goal2.mp4\n",
            "\n"
          ]
        },
        {
          "output_type": "stream",
          "name": "stderr",
          "text": [
            "\n",
            "t:   0%|          | 0/250 [00:00<?, ?it/s, now=None]\u001b[A\n",
            "t:   3%|▎         | 8/250 [00:00<00:03, 79.92it/s, now=None]\u001b[A\n",
            "t:   6%|▋         | 16/250 [00:00<00:03, 73.78it/s, now=None]\u001b[A\n",
            "t:  10%|█         | 25/250 [00:00<00:02, 78.55it/s, now=None]\u001b[A\n",
            "t:  13%|█▎        | 33/250 [00:00<00:02, 75.41it/s, now=None]\u001b[A\n",
            "t:  16%|█▋        | 41/250 [00:00<00:02, 70.59it/s, now=None]\u001b[A\n",
            "t:  20%|█▉        | 49/250 [00:00<00:03, 65.01it/s, now=None]\u001b[A\n",
            "t:  23%|██▎       | 57/250 [00:00<00:03, 49.15it/s, now=None]\u001b[A\n",
            "t:  25%|██▌       | 63/250 [00:01<00:07, 25.01it/s, now=None]\u001b[A\n",
            "t:  27%|██▋       | 68/250 [00:01<00:09, 19.33it/s, now=None]\u001b[A\n",
            "t:  29%|██▉       | 72/250 [00:02<00:10, 16.53it/s, now=None]\u001b[A\n",
            "t:  30%|███       | 75/250 [00:02<00:11, 14.88it/s, now=None]\u001b[A\n",
            "t:  31%|███       | 78/250 [00:02<00:11, 14.48it/s, now=None]\u001b[A\n",
            "t:  32%|███▏      | 80/250 [00:03<00:12, 13.91it/s, now=None]\u001b[A\n",
            "t:  33%|███▎      | 82/250 [00:03<00:12, 13.28it/s, now=None]\u001b[A\n",
            "t:  34%|███▎      | 84/250 [00:03<00:12, 13.00it/s, now=None]\u001b[A\n",
            "t:  34%|███▍      | 86/250 [00:03<00:12, 12.87it/s, now=None]\u001b[A\n",
            "t:  35%|███▌      | 88/250 [00:03<00:13, 12.17it/s, now=None]\u001b[A\n",
            "t:  36%|███▌      | 90/250 [00:03<00:12, 13.17it/s, now=None]\u001b[A\n",
            "t:  37%|███▋      | 92/250 [00:04<00:26,  6.02it/s, now=None]\u001b[A\n",
            "t:  38%|███▊      | 94/250 [00:04<00:20,  7.47it/s, now=None]\u001b[A\n",
            "t:  38%|███▊      | 96/250 [00:04<00:18,  8.31it/s, now=None]\u001b[A\n",
            "t:  39%|███▉      | 98/250 [00:05<00:28,  5.35it/s, now=None]\u001b[A\n",
            "t:  40%|████      | 100/250 [00:05<00:23,  6.52it/s, now=None]\u001b[A\n",
            "t:  41%|████      | 102/250 [00:06<00:22,  6.68it/s, now=None]\u001b[A\n",
            "t:  42%|████▏     | 104/250 [00:06<00:17,  8.20it/s, now=None]\u001b[A\n",
            "t:  42%|████▏     | 106/250 [00:06<00:19,  7.51it/s, now=None]\u001b[A\n",
            "t:  43%|████▎     | 108/250 [00:06<00:17,  8.03it/s, now=None]\u001b[A\n",
            "t:  44%|████▍     | 110/250 [00:06<00:15,  8.95it/s, now=None]\u001b[A\n",
            "t:  45%|████▍     | 112/250 [00:07<00:17,  7.75it/s, now=None]\u001b[A\n",
            "t:  45%|████▌     | 113/250 [00:07<00:17,  8.00it/s, now=None]\u001b[A\n",
            "t:  46%|████▌     | 114/250 [00:07<00:18,  7.38it/s, now=None]\u001b[A\n",
            "t:  46%|████▋     | 116/250 [00:07<00:16,  8.23it/s, now=None]\u001b[A\n",
            "t:  47%|████▋     | 117/250 [00:07<00:18,  7.35it/s, now=None]\u001b[A\n",
            "t:  47%|████▋     | 118/250 [00:07<00:17,  7.62it/s, now=None]\u001b[A\n",
            "t:  48%|████▊     | 119/250 [00:08<00:16,  8.01it/s, now=None]\u001b[A\n",
            "t:  48%|████▊     | 121/250 [00:08<00:18,  7.09it/s, now=None]\u001b[A\n",
            "t:  49%|████▉     | 122/250 [00:08<00:17,  7.30it/s, now=None]\u001b[A\n",
            "t:  50%|████▉     | 124/250 [00:08<00:13,  9.48it/s, now=None]\u001b[A\n",
            "t:  50%|█████     | 126/250 [00:08<00:14,  8.49it/s, now=None]\u001b[A\n",
            "t:  51%|█████     | 127/250 [00:09<00:16,  7.45it/s, now=None]\u001b[A\n",
            "t:  51%|█████     | 128/250 [00:09<00:15,  7.79it/s, now=None]\u001b[A\n",
            "t:  52%|█████▏    | 130/250 [00:09<00:13,  8.70it/s, now=None]\u001b[A\n",
            "t:  52%|█████▏    | 131/250 [00:09<00:14,  7.97it/s, now=None]\u001b[A\n",
            "t:  53%|█████▎    | 133/250 [00:09<00:14,  8.00it/s, now=None]\u001b[A\n",
            "t:  54%|█████▍    | 135/250 [00:09<00:12,  9.56it/s, now=None]\u001b[A\n",
            "t:  55%|█████▍    | 137/250 [00:10<00:13,  8.13it/s, now=None]\u001b[A\n",
            "t:  56%|█████▌    | 139/250 [00:10<00:12,  8.71it/s, now=None]\u001b[A\n",
            "t:  56%|█████▌    | 140/250 [00:10<00:13,  8.09it/s, now=None]\u001b[A\n",
            "t:  56%|█████▋    | 141/250 [00:10<00:14,  7.40it/s, now=None]\u001b[A\n",
            "t:  57%|█████▋    | 143/250 [00:10<00:11,  9.07it/s, now=None]\u001b[A\n",
            "t:  58%|█████▊    | 144/250 [00:11<00:12,  8.52it/s, now=None]\u001b[A\n",
            "t:  58%|█████▊    | 145/250 [00:11<00:15,  6.92it/s, now=None]\u001b[A\n",
            "t:  59%|█████▉    | 147/250 [00:11<00:11,  8.65it/s, now=None]\u001b[A\n",
            "t:  59%|█████▉    | 148/250 [00:11<00:12,  8.36it/s, now=None]\u001b[A\n",
            "t:  60%|█████▉    | 149/250 [00:11<00:14,  6.76it/s, now=None]\u001b[A\n",
            "t:  60%|██████    | 150/250 [00:11<00:13,  7.28it/s, now=None]\u001b[A\n",
            "t:  60%|██████    | 151/250 [00:12<00:13,  7.57it/s, now=None]\u001b[A\n",
            "t:  61%|██████    | 153/250 [00:12<00:14,  6.85it/s, now=None]\u001b[A\n",
            "t:  62%|██████▏   | 155/250 [00:12<00:12,  7.54it/s, now=None]\u001b[A\n",
            "t:  63%|██████▎   | 157/250 [00:12<00:11,  7.86it/s, now=None]\u001b[A\n",
            "t:  63%|██████▎   | 158/250 [00:13<00:11,  7.77it/s, now=None]\u001b[A\n",
            "t:  64%|██████▍   | 161/250 [00:13<00:11,  8.04it/s, now=None]\u001b[A\n",
            "t:  65%|██████▌   | 163/250 [00:13<00:10,  8.65it/s, now=None]\u001b[A\n",
            "t:  66%|██████▌   | 164/250 [00:13<00:09,  8.66it/s, now=None]\u001b[A\n",
            "t:  66%|██████▌   | 165/250 [00:13<00:10,  8.22it/s, now=None]\u001b[A\n",
            "t:  66%|██████▋   | 166/250 [00:13<00:10,  7.94it/s, now=None]\u001b[A\n",
            "t:  67%|██████▋   | 167/250 [00:14<00:10,  8.15it/s, now=None]\u001b[A\n",
            "t:  68%|██████▊   | 169/250 [00:14<00:09,  8.13it/s, now=None]\u001b[A\n",
            "t:  68%|██████▊   | 171/250 [00:14<00:08,  9.70it/s, now=None]\u001b[A\n",
            "t:  69%|██████▉   | 173/250 [00:14<00:08,  9.36it/s, now=None]\u001b[A\n",
            "t:  70%|███████   | 175/250 [00:14<00:06, 11.33it/s, now=None]\u001b[A\n",
            "t:  71%|███████   | 177/250 [00:15<00:06, 10.59it/s, now=None]\u001b[A\n",
            "t:  72%|███████▏  | 179/250 [00:15<00:08,  8.13it/s, now=None]\u001b[A\n",
            "t:  72%|███████▏  | 181/250 [00:15<00:07,  9.57it/s, now=None]\u001b[A\n",
            "t:  73%|███████▎  | 183/250 [00:15<00:07,  8.41it/s, now=None]\u001b[A\n",
            "t:  74%|███████▍  | 185/250 [00:16<00:07,  8.28it/s, now=None]\u001b[A\n",
            "t:  75%|███████▍  | 187/250 [00:16<00:07,  8.50it/s, now=None]\u001b[A\n",
            "t:  76%|███████▌  | 189/250 [00:16<00:07,  8.50it/s, now=None]\u001b[A\n",
            "t:  76%|███████▋  | 191/250 [00:16<00:07,  7.52it/s, now=None]\u001b[A\n",
            "t:  77%|███████▋  | 193/250 [00:16<00:06,  8.74it/s, now=None]\u001b[A\n",
            "t:  78%|███████▊  | 194/250 [00:17<00:06,  8.77it/s, now=None]\u001b[A\n",
            "t:  78%|███████▊  | 195/250 [00:17<00:06,  8.25it/s, now=None]\u001b[A\n",
            "t:  79%|███████▉  | 197/250 [00:17<00:05,  9.84it/s, now=None]\u001b[A\n",
            "t:  80%|███████▉  | 199/250 [00:17<00:04, 10.34it/s, now=None]\u001b[A\n",
            "t:  80%|████████  | 201/250 [00:17<00:04, 10.34it/s, now=None]\u001b[A\n",
            "t:  81%|████████  | 203/250 [00:17<00:04, 10.50it/s, now=None]\u001b[A\n",
            "t:  82%|████████▏ | 205/250 [00:18<00:03, 11.43it/s, now=None]\u001b[A\n",
            "t:  83%|████████▎ | 207/250 [00:18<00:04, 10.30it/s, now=None]\u001b[A\n",
            "t:  84%|████████▎ | 209/250 [00:18<00:03, 11.88it/s, now=None]\u001b[A\n",
            "t:  84%|████████▍ | 211/250 [00:18<00:03, 10.51it/s, now=None]\u001b[A\n",
            "t:  86%|████████▌ | 214/250 [00:18<00:02, 13.36it/s, now=None]\u001b[A\n",
            "t:  86%|████████▋ | 216/250 [00:19<00:03, 10.56it/s, now=None]\u001b[A\n",
            "t:  88%|████████▊ | 219/250 [00:19<00:02, 11.52it/s, now=None]\u001b[A\n",
            "t:  89%|████████▉ | 222/250 [00:19<00:02, 11.66it/s, now=None]\u001b[A\n",
            "t:  90%|█████████ | 225/250 [00:19<00:01, 12.76it/s, now=None]\u001b[A\n",
            "t:  91%|█████████ | 228/250 [00:19<00:01, 12.97it/s, now=None]\u001b[A\n",
            "t:  92%|█████████▏| 231/250 [00:20<00:01, 13.92it/s, now=None]\u001b[A\n",
            "t:  93%|█████████▎| 233/250 [00:20<00:01, 13.94it/s, now=None]\u001b[A\n",
            "t:  94%|█████████▍| 235/250 [00:20<00:01, 13.57it/s, now=None]\u001b[A\n",
            "t:  95%|█████████▍| 237/250 [00:20<00:00, 14.62it/s, now=None]\u001b[A\n",
            "t:  96%|█████████▌| 239/250 [00:20<00:00, 14.49it/s, now=None]\u001b[A\n",
            "t:  96%|█████████▋| 241/250 [00:20<00:00, 15.42it/s, now=None]\u001b[A\n",
            "t:  97%|█████████▋| 243/250 [00:20<00:00, 15.83it/s, now=None]\u001b[A\n",
            "t:  98%|█████████▊| 246/250 [00:21<00:00, 17.35it/s, now=None]\u001b[A\n",
            "t:  99%|█████████▉| 248/250 [00:21<00:00, 14.15it/s, now=None]\u001b[A\n",
            "t: 100%|██████████| 250/250 [00:21<00:00, 11.98it/s, now=None]\u001b[A\n",
            "t:  45%|████▌     | 113/250 [04:59<00:34,  3.93it/s, now=None]"
          ]
        },
        {
          "output_type": "stream",
          "name": "stdout",
          "text": [
            "Moviepy - Done !\n",
            "Moviepy - video ready /content/classified_moments/Goal/goal2.mp4\n"
          ]
        },
        {
          "output_type": "stream",
          "name": "stderr",
          "text": [
            "t:  45%|████▌     | 113/250 [05:01<00:34,  3.93it/s, now=None]"
          ]
        },
        {
          "output_type": "stream",
          "name": "stdout",
          "text": [
            "Moviepy - Building video /content/classified_moments/Happy/happy3.mp4.\n",
            "MoviePy - Writing audio in happy3TEMP_MPY_wvf_snd.mp3\n"
          ]
        },
        {
          "output_type": "stream",
          "name": "stderr",
          "text": [
            "\n",
            "chunk:   0%|          | 0/221 [00:00<?, ?it/s, now=None]\u001b[A\n",
            "chunk:  16%|█▋        | 36/221 [00:00<00:00, 345.52it/s, now=None]\u001b[A\n",
            "chunk:  39%|███▉      | 86/221 [00:00<00:00, 432.61it/s, now=None]\u001b[A\n",
            "chunk:  59%|█████▉    | 131/221 [00:00<00:00, 440.36it/s, now=None]\u001b[A\n",
            "chunk:  83%|████████▎ | 184/221 [00:00<00:00, 472.87it/s, now=None]\u001b[A\n",
            "t:  45%|████▌     | 113/250 [05:01<00:34,  3.93it/s, now=None]"
          ]
        },
        {
          "output_type": "stream",
          "name": "stdout",
          "text": [
            "MoviePy - Done.\n",
            "Moviepy - Writing video /content/classified_moments/Happy/happy3.mp4\n",
            "\n"
          ]
        },
        {
          "output_type": "stream",
          "name": "stderr",
          "text": [
            "\n",
            "t:   0%|          | 0/250 [00:00<?, ?it/s, now=None]\u001b[A\n",
            "t:   2%|▏         | 6/250 [00:00<00:04, 56.18it/s, now=None]\u001b[A\n",
            "t:   5%|▍         | 12/250 [00:00<00:04, 52.93it/s, now=None]\u001b[A\n",
            "t:   7%|▋         | 18/250 [00:00<00:05, 45.60it/s, now=None]\u001b[A\n",
            "t:   9%|▉         | 23/250 [00:00<00:05, 42.80it/s, now=None]\u001b[A\n",
            "t:  11%|█         | 28/250 [00:00<00:05, 37.83it/s, now=None]\u001b[A\n",
            "t:  13%|█▎        | 32/250 [00:00<00:06, 35.86it/s, now=None]\u001b[A\n",
            "t:  15%|█▌        | 38/250 [00:00<00:05, 41.45it/s, now=None]\u001b[A\n",
            "t:  18%|█▊        | 44/250 [00:01<00:04, 44.72it/s, now=None]\u001b[A\n",
            "t:  20%|█▉        | 49/250 [00:01<00:04, 45.86it/s, now=None]\u001b[A\n",
            "t:  22%|██▏       | 55/250 [00:01<00:03, 49.23it/s, now=None]\u001b[A\n",
            "t:  24%|██▍       | 61/250 [00:01<00:07, 25.04it/s, now=None]\u001b[A\n",
            "t:  26%|██▌       | 65/250 [00:02<00:09, 20.43it/s, now=None]\u001b[A\n",
            "t:  28%|██▊       | 69/250 [00:02<00:09, 18.77it/s, now=None]\u001b[A\n",
            "t:  29%|██▉       | 72/250 [00:02<00:10, 16.52it/s, now=None]\u001b[A\n",
            "t:  30%|███       | 75/250 [00:02<00:11, 15.47it/s, now=None]\u001b[A\n",
            "t:  31%|███       | 77/250 [00:02<00:11, 14.66it/s, now=None]\u001b[A\n",
            "t:  32%|███▏      | 79/250 [00:03<00:12, 13.16it/s, now=None]\u001b[A\n",
            "t:  32%|███▏      | 81/250 [00:03<00:12, 13.22it/s, now=None]\u001b[A\n",
            "t:  33%|███▎      | 83/250 [00:03<00:12, 12.91it/s, now=None]\u001b[A\n",
            "t:  34%|███▍      | 85/250 [00:03<00:12, 13.47it/s, now=None]\u001b[A\n",
            "t:  35%|███▍      | 87/250 [00:03<00:14, 11.12it/s, now=None]\u001b[A\n",
            "t:  36%|███▌      | 89/250 [00:04<00:13, 12.04it/s, now=None]\u001b[A\n",
            "t:  36%|███▋      | 91/250 [00:04<00:14, 10.73it/s, now=None]\u001b[A\n",
            "t:  37%|███▋      | 93/250 [00:04<00:13, 11.52it/s, now=None]\u001b[A\n",
            "t:  38%|███▊      | 95/250 [00:04<00:14, 10.98it/s, now=None]\u001b[A\n",
            "t:  39%|███▉      | 97/250 [00:04<00:12, 12.21it/s, now=None]\u001b[A\n",
            "t:  40%|███▉      | 99/250 [00:04<00:12, 11.67it/s, now=None]\u001b[A\n",
            "t:  40%|████      | 101/250 [00:05<00:11, 12.96it/s, now=None]\u001b[A\n",
            "t:  41%|████      | 103/250 [00:05<00:11, 12.65it/s, now=None]\u001b[A\n",
            "t:  42%|████▏     | 105/250 [00:05<00:12, 11.42it/s, now=None]\u001b[A\n",
            "t:  43%|████▎     | 108/250 [00:05<00:11, 12.37it/s, now=None]\u001b[A\n",
            "t:  44%|████▍     | 111/250 [00:05<00:10, 13.73it/s, now=None]\u001b[A\n",
            "t:  45%|████▌     | 113/250 [00:05<00:09, 14.06it/s, now=None]\u001b[A\n",
            "t:  46%|████▌     | 115/250 [00:06<00:09, 13.82it/s, now=None]\u001b[A\n",
            "t:  47%|████▋     | 117/250 [00:06<00:09, 14.09it/s, now=None]\u001b[A\n",
            "t:  48%|████▊     | 119/250 [00:06<00:08, 15.21it/s, now=None]\u001b[A\n",
            "t:  48%|████▊     | 121/250 [00:06<00:08, 15.20it/s, now=None]\u001b[A\n",
            "t:  49%|████▉     | 123/250 [00:06<00:07, 16.21it/s, now=None]\u001b[A\n",
            "t:  50%|█████     | 125/250 [00:06<00:09, 12.65it/s, now=None]\u001b[A\n",
            "t:  51%|█████     | 127/250 [00:06<00:08, 13.76it/s, now=None]\u001b[A\n",
            "t:  52%|█████▏    | 129/250 [00:07<00:11, 10.33it/s, now=None]\u001b[A\n",
            "t:  52%|█████▏    | 131/250 [00:07<00:11, 10.05it/s, now=None]\u001b[A\n",
            "t:  53%|█████▎    | 133/250 [00:07<00:11,  9.88it/s, now=None]\u001b[A\n",
            "t:  54%|█████▍    | 135/250 [00:07<00:12,  9.44it/s, now=None]\u001b[A\n",
            "t:  55%|█████▍    | 137/250 [00:08<00:12,  9.06it/s, now=None]\u001b[A\n",
            "t:  55%|█████▌    | 138/250 [00:08<00:12,  8.87it/s, now=None]\u001b[A\n",
            "t:  56%|█████▌    | 139/250 [00:08<00:12,  8.82it/s, now=None]\u001b[A\n",
            "t:  56%|█████▌    | 140/250 [00:08<00:13,  8.15it/s, now=None]\u001b[A\n",
            "t:  57%|█████▋    | 142/250 [00:08<00:12,  8.98it/s, now=None]\u001b[A\n",
            "t:  57%|█████▋    | 143/250 [00:08<00:12,  8.78it/s, now=None]\u001b[A\n",
            "t:  58%|█████▊    | 145/250 [00:09<00:12,  8.53it/s, now=None]\u001b[A\n",
            "t:  59%|█████▉    | 147/250 [00:09<00:10, 10.04it/s, now=None]\u001b[A\n",
            "t:  60%|█████▉    | 149/250 [00:09<00:12,  8.36it/s, now=None]\u001b[A\n",
            "t:  60%|██████    | 151/250 [00:09<00:09, 10.05it/s, now=None]\u001b[A\n",
            "t:  61%|██████    | 153/250 [00:09<00:11,  8.66it/s, now=None]\u001b[A\n",
            "t:  62%|██████▏   | 155/250 [00:10<00:09, 10.17it/s, now=None]\u001b[A\n",
            "t:  63%|██████▎   | 157/250 [00:10<00:10,  8.51it/s, now=None]\u001b[A\n",
            "t:  64%|██████▎   | 159/250 [00:10<00:10,  9.06it/s, now=None]\u001b[A\n",
            "t:  64%|██████▍   | 161/250 [00:10<00:10,  8.22it/s, now=None]\u001b[A\n",
            "t:  65%|██████▌   | 163/250 [00:10<00:09,  9.48it/s, now=None]\u001b[A\n",
            "t:  66%|██████▌   | 165/250 [00:11<00:13,  6.44it/s, now=None]\u001b[A\n",
            "t:  66%|██████▋   | 166/250 [00:11<00:12,  6.78it/s, now=None]\u001b[A\n",
            "t:  67%|██████▋   | 167/250 [00:11<00:12,  6.45it/s, now=None]\u001b[A\n",
            "t:  67%|██████▋   | 168/250 [00:11<00:13,  6.25it/s, now=None]\u001b[A\n",
            "t:  68%|██████▊   | 169/250 [00:12<00:14,  5.64it/s, now=None]\u001b[A\n",
            "t:  68%|██████▊   | 171/250 [00:12<00:10,  7.32it/s, now=None]\u001b[A\n",
            "t:  69%|██████▉   | 172/250 [00:12<00:11,  6.59it/s, now=None]\u001b[A\n",
            "t:  69%|██████▉   | 173/250 [00:12<00:10,  7.09it/s, now=None]\u001b[A\n",
            "t:  70%|███████   | 175/250 [00:13<00:12,  5.93it/s, now=None]\u001b[A\n",
            "t:  70%|███████   | 176/250 [00:13<00:11,  6.41it/s, now=None]\u001b[A\n",
            "t:  71%|███████   | 177/250 [00:13<00:11,  6.53it/s, now=None]\u001b[A\n",
            "t:  71%|███████   | 178/250 [00:13<00:11,  6.32it/s, now=None]\u001b[A\n",
            "t:  72%|███████▏  | 179/250 [00:13<00:11,  6.09it/s, now=None]\u001b[A\n",
            "t:  72%|███████▏  | 180/250 [00:13<00:13,  5.20it/s, now=None]\u001b[A\n",
            "t:  72%|███████▏  | 181/250 [00:14<00:11,  5.93it/s, now=None]\u001b[A\n",
            "t:  73%|███████▎  | 183/250 [00:14<00:12,  5.35it/s, now=None]\u001b[A\n",
            "t:  74%|███████▍  | 185/250 [00:14<00:09,  7.16it/s, now=None]\u001b[A\n",
            "t:  74%|███████▍  | 186/250 [00:14<00:09,  6.44it/s, now=None]\u001b[A\n",
            "t:  75%|███████▍  | 187/250 [00:15<00:11,  5.60it/s, now=None]\u001b[A\n",
            "t:  76%|███████▌  | 189/250 [00:15<00:10,  5.73it/s, now=None]\u001b[A\n",
            "t:  76%|███████▋  | 191/250 [00:15<00:08,  6.89it/s, now=None]\u001b[A\n",
            "t:  77%|███████▋  | 192/250 [00:15<00:08,  6.83it/s, now=None]\u001b[A\n",
            "t:  77%|███████▋  | 193/250 [00:16<00:10,  5.57it/s, now=None]\u001b[A\n",
            "t:  78%|███████▊  | 195/250 [00:16<00:09,  5.96it/s, now=None]\u001b[A\n",
            "t:  78%|███████▊  | 196/250 [00:16<00:09,  5.67it/s, now=None]\u001b[A\n",
            "t:  79%|███████▉  | 198/250 [00:16<00:07,  7.40it/s, now=None]\u001b[A\n",
            "t:  80%|███████▉  | 199/250 [00:17<00:09,  5.16it/s, now=None]\u001b[A\n",
            "t:  80%|████████  | 200/250 [00:17<00:08,  5.75it/s, now=None]\u001b[A\n",
            "t:  81%|████████  | 202/250 [00:17<00:08,  5.38it/s, now=None]\u001b[A\n",
            "t:  82%|████████▏ | 204/250 [00:17<00:06,  7.20it/s, now=None]\u001b[A\n",
            "t:  82%|████████▏ | 205/250 [00:18<00:07,  5.63it/s, now=None]\u001b[A\n",
            "t:  82%|████████▏ | 206/250 [00:18<00:07,  6.07it/s, now=None]\u001b[A\n",
            "t:  83%|████████▎ | 207/250 [00:18<00:06,  6.55it/s, now=None]\u001b[A\n",
            "t:  83%|████████▎ | 208/250 [00:18<00:07,  5.77it/s, now=None]\u001b[A\n",
            "t:  84%|████████▎ | 209/250 [00:18<00:08,  5.09it/s, now=None]\u001b[A\n",
            "t:  84%|████████▍ | 210/250 [00:18<00:07,  5.64it/s, now=None]\u001b[A\n",
            "t:  85%|████████▍ | 212/250 [00:19<00:07,  5.40it/s, now=None]\u001b[A\n",
            "t:  85%|████████▌ | 213/250 [00:19<00:06,  5.95it/s, now=None]\u001b[A\n",
            "t:  86%|████████▌ | 214/250 [00:19<00:05,  6.51it/s, now=None]\u001b[A\n",
            "t:  86%|████████▌ | 215/250 [00:19<00:05,  6.39it/s, now=None]\u001b[A\n",
            "t:  86%|████████▋ | 216/250 [00:19<00:06,  5.63it/s, now=None]\u001b[A\n",
            "t:  87%|████████▋ | 217/250 [00:20<00:06,  5.16it/s, now=None]\u001b[A\n",
            "t:  88%|████████▊ | 219/250 [00:20<00:04,  6.45it/s, now=None]\u001b[A\n",
            "t:  88%|████████▊ | 221/250 [00:20<00:03,  7.80it/s, now=None]\u001b[A\n",
            "t:  89%|████████▉ | 222/250 [00:20<00:03,  7.84it/s, now=None]\u001b[A\n",
            "t:  89%|████████▉ | 223/250 [00:20<00:03,  7.59it/s, now=None]\u001b[A\n",
            "t:  90%|████████▉ | 224/250 [00:20<00:03,  7.69it/s, now=None]\u001b[A\n",
            "t:  90%|█████████ | 226/250 [00:21<00:02,  8.73it/s, now=None]\u001b[A\n",
            "t:  91%|█████████ | 227/250 [00:21<00:02,  8.32it/s, now=None]\u001b[A\n",
            "t:  91%|█████████ | 228/250 [00:21<00:02,  8.39it/s, now=None]\u001b[A\n",
            "t:  92%|█████████▏| 229/250 [00:21<00:02,  8.28it/s, now=None]\u001b[A\n",
            "t:  92%|█████████▏| 230/250 [00:21<00:02,  8.66it/s, now=None]\u001b[A\n",
            "t:  92%|█████████▏| 231/250 [00:21<00:02,  8.00it/s, now=None]\u001b[A\n",
            "t:  93%|█████████▎| 233/250 [00:21<00:01,  9.50it/s, now=None]\u001b[A\n",
            "t:  94%|█████████▎| 234/250 [00:22<00:01,  9.03it/s, now=None]\u001b[A\n",
            "t:  94%|█████████▍| 235/250 [00:22<00:01,  7.95it/s, now=None]\u001b[A\n",
            "t:  95%|█████████▍| 237/250 [00:22<00:01, 10.19it/s, now=None]\u001b[A\n",
            "t:  96%|█████████▌| 239/250 [00:22<00:01,  9.35it/s, now=None]\u001b[A\n",
            "t:  96%|█████████▋| 241/250 [00:22<00:00,  9.97it/s, now=None]\u001b[A\n",
            "t:  97%|█████████▋| 243/250 [00:22<00:00, 11.58it/s, now=None]\u001b[A\n",
            "t:  98%|█████████▊| 245/250 [00:23<00:00, 10.43it/s, now=None]\u001b[A\n",
            "t:  99%|█████████▉| 247/250 [00:23<00:00, 10.31it/s, now=None]\u001b[A\n",
            "t: 100%|█████████▉| 249/250 [00:23<00:00, 11.53it/s, now=None]\u001b[A\n",
            "t:  45%|████▌     | 113/250 [05:29<00:34,  3.93it/s, now=None]"
          ]
        },
        {
          "output_type": "stream",
          "name": "stdout",
          "text": [
            "Moviepy - Done !\n",
            "Moviepy - video ready /content/classified_moments/Happy/happy3.mp4\n"
          ]
        },
        {
          "output_type": "stream",
          "name": "stderr",
          "text": [
            "t:  45%|████▌     | 113/250 [05:30<00:34,  3.93it/s, now=None]"
          ]
        },
        {
          "output_type": "stream",
          "name": "stdout",
          "text": [
            "Moviepy - Building video /content/classified_moments/Goal/goal4.mp4.\n",
            "MoviePy - Writing audio in goal4TEMP_MPY_wvf_snd.mp3\n"
          ]
        },
        {
          "output_type": "stream",
          "name": "stderr",
          "text": [
            "\n",
            "chunk:   0%|          | 0/221 [00:00<?, ?it/s, now=None]\u001b[A\n",
            "chunk:  14%|█▍        | 32/221 [00:00<00:00, 288.51it/s, now=None]\u001b[A\n",
            "chunk:  38%|███▊      | 84/221 [00:00<00:00, 417.19it/s, now=None]\u001b[A\n",
            "chunk:  60%|█████▉    | 132/221 [00:00<00:00, 441.85it/s, now=None]\u001b[A\n",
            "chunk:  84%|████████▎ | 185/221 [00:00<00:00, 473.52it/s, now=None]\u001b[A\n",
            "t:  45%|████▌     | 113/250 [05:31<00:34,  3.93it/s, now=None]"
          ]
        },
        {
          "output_type": "stream",
          "name": "stdout",
          "text": [
            "MoviePy - Done.\n",
            "Moviepy - Writing video /content/classified_moments/Goal/goal4.mp4\n",
            "\n"
          ]
        },
        {
          "output_type": "stream",
          "name": "stderr",
          "text": [
            "\n",
            "t:   0%|          | 0/250 [00:00<?, ?it/s, now=None]\u001b[A\n",
            "t:   3%|▎         | 7/250 [00:00<00:04, 59.13it/s, now=None]\u001b[A\n",
            "t:   5%|▌         | 13/250 [00:00<00:04, 56.31it/s, now=None]\u001b[A\n",
            "t:   8%|▊         | 19/250 [00:00<00:05, 45.53it/s, now=None]\u001b[A\n",
            "t:  10%|▉         | 24/250 [00:00<00:05, 43.00it/s, now=None]\u001b[A\n",
            "t:  12%|█▏        | 29/250 [00:00<00:05, 42.68it/s, now=None]\u001b[A\n",
            "t:  14%|█▎        | 34/250 [00:00<00:04, 43.95it/s, now=None]\u001b[A\n",
            "t:  16%|█▌        | 39/250 [00:00<00:05, 41.92it/s, now=None]\u001b[A\n",
            "t:  18%|█▊        | 44/250 [00:01<00:05, 39.02it/s, now=None]\u001b[A\n",
            "t:  19%|█▉        | 48/250 [00:01<00:05, 37.38it/s, now=None]\u001b[A\n",
            "t:  21%|██        | 52/250 [00:01<00:05, 35.93it/s, now=None]\u001b[A\n",
            "t:  22%|██▏       | 56/250 [00:01<00:05, 35.17it/s, now=None]\u001b[A\n",
            "t:  24%|██▍       | 60/250 [00:02<00:17, 10.62it/s, now=None]\u001b[A\n",
            "t:  25%|██▌       | 63/250 [00:02<00:18, 10.31it/s, now=None]\u001b[A\n",
            "t:  26%|██▋       | 66/250 [00:03<00:20,  8.81it/s, now=None]\u001b[A\n",
            "t:  27%|██▋       | 68/250 [00:03<00:21,  8.43it/s, now=None]\u001b[A\n",
            "t:  28%|██▊       | 70/250 [00:03<00:21,  8.55it/s, now=None]\u001b[A\n",
            "t:  29%|██▉       | 72/250 [00:04<00:22,  8.02it/s, now=None]\u001b[A\n",
            "t:  30%|██▉       | 74/250 [00:04<00:19,  8.95it/s, now=None]\u001b[A\n",
            "t:  30%|███       | 76/250 [00:04<00:23,  7.46it/s, now=None]\u001b[A\n",
            "t:  31%|███       | 78/250 [00:04<00:20,  8.43it/s, now=None]\u001b[A\n",
            "t:  32%|███▏      | 80/250 [00:04<00:20,  8.31it/s, now=None]\u001b[A\n",
            "t:  33%|███▎      | 82/250 [00:05<00:17,  9.48it/s, now=None]\u001b[A\n",
            "t:  34%|███▎      | 84/250 [00:05<00:19,  8.58it/s, now=None]\u001b[A\n",
            "t:  34%|███▍      | 86/250 [00:05<00:17,  9.43it/s, now=None]\u001b[A\n",
            "t:  35%|███▌      | 88/250 [00:05<00:19,  8.42it/s, now=None]\u001b[A\n",
            "t:  36%|███▋      | 91/250 [00:06<00:17,  9.08it/s, now=None]\u001b[A\n",
            "t:  37%|███▋      | 93/250 [00:06<00:17,  9.08it/s, now=None]\u001b[A\n",
            "t:  38%|███▊      | 95/250 [00:06<00:15,  9.70it/s, now=None]\u001b[A\n",
            "t:  39%|███▉      | 97/250 [00:06<00:16,  9.30it/s, now=None]\u001b[A\n",
            "t:  40%|███▉      | 99/250 [00:06<00:14, 10.58it/s, now=None]\u001b[A\n",
            "t:  40%|████      | 101/250 [00:07<00:15,  9.32it/s, now=None]\u001b[A\n",
            "t:  42%|████▏     | 104/250 [00:07<00:13, 10.85it/s, now=None]\u001b[A\n",
            "t:  42%|████▏     | 106/250 [00:07<00:14,  9.82it/s, now=None]\u001b[A\n",
            "t:  43%|████▎     | 108/250 [00:07<00:14,  9.49it/s, now=None]\u001b[A\n",
            "t:  44%|████▎     | 109/250 [00:07<00:15,  9.22it/s, now=None]\u001b[A\n",
            "t:  44%|████▍     | 111/250 [00:08<00:15,  9.24it/s, now=None]\u001b[A\n",
            "t:  45%|████▍     | 112/250 [00:08<00:15,  9.01it/s, now=None]\u001b[A\n",
            "t:  46%|████▌     | 115/250 [00:08<00:14,  9.20it/s, now=None]\u001b[A\n",
            "t:  47%|████▋     | 117/250 [00:08<00:12, 10.55it/s, now=None]\u001b[A\n",
            "t:  48%|████▊     | 119/250 [00:09<00:13,  9.83it/s, now=None]\u001b[A\n",
            "t:  48%|████▊     | 121/250 [00:09<00:12, 10.26it/s, now=None]\u001b[A\n",
            "t:  49%|████▉     | 123/250 [00:09<00:13,  9.77it/s, now=None]\u001b[A\n",
            "t:  50%|█████     | 125/250 [00:09<00:10, 11.43it/s, now=None]\u001b[A\n",
            "t:  51%|█████     | 127/250 [00:09<00:12,  9.89it/s, now=None]\u001b[A\n",
            "t:  52%|█████▏    | 129/250 [00:09<00:10, 11.37it/s, now=None]\u001b[A\n",
            "t:  52%|█████▏    | 131/250 [00:10<00:11, 10.23it/s, now=None]\u001b[A\n",
            "t:  53%|█████▎    | 133/250 [00:10<00:11, 10.61it/s, now=None]\u001b[A\n",
            "t:  54%|█████▍    | 135/250 [00:10<00:11, 10.36it/s, now=None]\u001b[A\n",
            "t:  55%|█████▍    | 137/250 [00:10<00:11,  9.79it/s, now=None]\u001b[A\n",
            "t:  56%|█████▌    | 139/250 [00:10<00:11,  9.34it/s, now=None]\u001b[A\n",
            "t:  56%|█████▋    | 141/250 [00:11<00:11,  9.67it/s, now=None]\u001b[A\n",
            "t:  57%|█████▋    | 143/250 [00:11<00:09, 11.35it/s, now=None]\u001b[A\n",
            "t:  58%|█████▊    | 145/250 [00:11<00:08, 12.87it/s, now=None]\u001b[A\n",
            "t:  59%|█████▉    | 147/250 [00:11<00:08, 11.65it/s, now=None]\u001b[A\n",
            "t:  60%|█████▉    | 149/250 [00:11<00:08, 12.10it/s, now=None]\u001b[A\n",
            "t:  60%|██████    | 151/250 [00:11<00:08, 11.78it/s, now=None]\u001b[A\n",
            "t:  61%|██████    | 153/250 [00:12<00:07, 12.90it/s, now=None]\u001b[A\n",
            "t:  62%|██████▏   | 155/250 [00:12<00:07, 11.95it/s, now=None]\u001b[A\n",
            "t:  63%|██████▎   | 157/250 [00:12<00:06, 13.32it/s, now=None]\u001b[A\n",
            "t:  64%|██████▎   | 159/250 [00:12<00:07, 12.40it/s, now=None]\u001b[A\n",
            "t:  64%|██████▍   | 161/250 [00:12<00:07, 12.24it/s, now=None]\u001b[A\n",
            "t:  65%|██████▌   | 163/250 [00:12<00:07, 12.08it/s, now=None]\u001b[A\n",
            "t:  66%|██████▌   | 165/250 [00:13<00:07, 11.84it/s, now=None]\u001b[A\n",
            "t:  67%|██████▋   | 168/250 [00:13<00:05, 13.95it/s, now=None]\u001b[A\n",
            "t:  68%|██████▊   | 170/250 [00:13<00:05, 14.59it/s, now=None]\u001b[A\n",
            "t:  69%|██████▉   | 172/250 [00:13<00:05, 14.27it/s, now=None]\u001b[A\n",
            "t:  70%|██████▉   | 174/250 [00:13<00:05, 13.33it/s, now=None]\u001b[A\n",
            "t:  70%|███████   | 176/250 [00:13<00:05, 13.41it/s, now=None]\u001b[A\n",
            "t:  71%|███████   | 178/250 [00:13<00:05, 12.28it/s, now=None]\u001b[A\n",
            "t:  72%|███████▏  | 180/250 [00:14<00:05, 13.19it/s, now=None]\u001b[A\n",
            "t:  73%|███████▎  | 182/250 [00:14<00:05, 12.63it/s, now=None]\u001b[A\n",
            "t:  74%|███████▎  | 184/250 [00:14<00:05, 12.93it/s, now=None]\u001b[A\n",
            "t:  74%|███████▍  | 186/250 [00:14<00:05, 12.54it/s, now=None]\u001b[A\n",
            "t:  75%|███████▌  | 188/250 [00:14<00:04, 12.58it/s, now=None]\u001b[A\n",
            "t:  76%|███████▌  | 190/250 [00:15<00:06,  9.44it/s, now=None]\u001b[A\n",
            "t:  77%|███████▋  | 192/250 [00:15<00:06,  9.63it/s, now=None]\u001b[A\n",
            "t:  78%|███████▊  | 194/250 [00:15<00:06,  8.93it/s, now=None]\u001b[A\n",
            "t:  78%|███████▊  | 195/250 [00:15<00:06,  8.91it/s, now=None]\u001b[A\n",
            "t:  78%|███████▊  | 196/250 [00:15<00:06,  8.73it/s, now=None]\u001b[A\n",
            "t:  79%|███████▉  | 197/250 [00:15<00:06,  8.76it/s, now=None]\u001b[A\n",
            "t:  79%|███████▉  | 198/250 [00:16<00:07,  6.98it/s, now=None]\u001b[A\n",
            "t:  80%|████████  | 200/250 [00:16<00:06,  8.13it/s, now=None]\u001b[A\n",
            "t:  80%|████████  | 201/250 [00:16<00:05,  8.25it/s, now=None]\u001b[A\n",
            "t:  81%|████████  | 202/250 [00:16<00:06,  6.93it/s, now=None]\u001b[A\n",
            "t:  82%|████████▏ | 204/250 [00:16<00:04,  9.26it/s, now=None]\u001b[A\n",
            "t:  82%|████████▏ | 206/250 [00:17<00:05,  8.09it/s, now=None]\u001b[A\n",
            "t:  83%|████████▎ | 208/250 [00:17<00:05,  7.54it/s, now=None]\u001b[A\n",
            "t:  84%|████████▍ | 210/250 [00:17<00:04,  8.16it/s, now=None]\u001b[A\n",
            "t:  84%|████████▍ | 211/250 [00:17<00:05,  7.18it/s, now=None]\u001b[A\n",
            "t:  85%|████████▍ | 212/250 [00:17<00:05,  7.26it/s, now=None]\u001b[A\n",
            "t:  86%|████████▌ | 214/250 [00:18<00:05,  7.17it/s, now=None]\u001b[A\n",
            "t:  86%|████████▌ | 215/250 [00:18<00:04,  7.33it/s, now=None]\u001b[A\n",
            "t:  86%|████████▋ | 216/250 [00:18<00:04,  7.54it/s, now=None]\u001b[A\n",
            "t:  87%|████████▋ | 217/250 [00:18<00:04,  7.57it/s, now=None]\u001b[A\n",
            "t:  87%|████████▋ | 218/250 [00:18<00:04,  7.54it/s, now=None]\u001b[A\n",
            "t:  88%|████████▊ | 220/250 [00:19<00:04,  7.06it/s, now=None]\u001b[A\n",
            "t:  89%|████████▉ | 222/250 [00:19<00:03,  8.18it/s, now=None]\u001b[A\n",
            "t:  89%|████████▉ | 223/250 [00:19<00:04,  6.73it/s, now=None]\u001b[A\n",
            "t:  90%|█████████ | 225/250 [00:19<00:03,  7.30it/s, now=None]\u001b[A\n",
            "t:  90%|█████████ | 226/250 [00:19<00:03,  7.68it/s, now=None]\u001b[A\n",
            "t:  91%|█████████ | 228/250 [00:20<00:03,  7.18it/s, now=None]\u001b[A\n",
            "t:  92%|█████████▏| 229/250 [00:20<00:02,  7.44it/s, now=None]\u001b[A\n",
            "t:  92%|█████████▏| 230/250 [00:20<00:02,  7.79it/s, now=None]\u001b[A\n",
            "t:  93%|█████████▎| 232/250 [00:20<00:02,  6.93it/s, now=None]\u001b[A\n",
            "t:  94%|█████████▎| 234/250 [00:20<00:02,  7.94it/s, now=None]\u001b[A\n",
            "t:  94%|█████████▍| 235/250 [00:20<00:01,  7.98it/s, now=None]\u001b[A\n",
            "t:  94%|█████████▍| 236/250 [00:21<00:01,  7.88it/s, now=None]\u001b[A\n",
            "t:  95%|█████████▍| 237/250 [00:21<00:01,  7.43it/s, now=None]\u001b[A\n",
            "t:  95%|█████████▌| 238/250 [00:21<00:01,  6.57it/s, now=None]\u001b[A\n",
            "t:  96%|█████████▌| 239/250 [00:21<00:01,  7.16it/s, now=None]\u001b[A\n",
            "t:  96%|█████████▌| 240/250 [00:21<00:01,  5.65it/s, now=None]\u001b[A\n",
            "t:  96%|█████████▋| 241/250 [00:21<00:01,  6.17it/s, now=None]\u001b[A\n",
            "t:  97%|█████████▋| 242/250 [00:22<00:01,  6.80it/s, now=None]\u001b[A\n",
            "t:  98%|█████████▊| 244/250 [00:22<00:00,  6.23it/s, now=None]\u001b[A\n",
            "t:  98%|█████████▊| 246/250 [00:22<00:00,  7.46it/s, now=None]\u001b[A\n",
            "t:  99%|█████████▉| 247/250 [00:22<00:00,  6.13it/s, now=None]\u001b[A\n",
            "t:  99%|█████████▉| 248/250 [00:23<00:00,  6.47it/s, now=None]\u001b[A\n",
            "t: 100%|█████████▉| 249/250 [00:23<00:00,  6.43it/s, now=None]\u001b[A\n",
            "t:  45%|████▌     | 113/250 [05:59<00:34,  3.93it/s, now=None]"
          ]
        },
        {
          "output_type": "stream",
          "name": "stdout",
          "text": [
            "Moviepy - Done !\n",
            "Moviepy - video ready /content/classified_moments/Goal/goal4.mp4\n"
          ]
        },
        {
          "output_type": "stream",
          "name": "stderr",
          "text": [
            "t:  45%|████▌     | 113/250 [06:00<00:34,  3.93it/s, now=None]"
          ]
        },
        {
          "output_type": "stream",
          "name": "stdout",
          "text": [
            "Moviepy - Building video /content/classified_moments/Goal/goal5.mp4.\n",
            "MoviePy - Writing audio in goal5TEMP_MPY_wvf_snd.mp3\n"
          ]
        },
        {
          "output_type": "stream",
          "name": "stderr",
          "text": [
            "\n",
            "chunk:   0%|          | 0/221 [00:00<?, ?it/s, now=None]\u001b[A\n",
            "chunk:  23%|██▎       | 50/221 [00:00<00:00, 492.33it/s, now=None]\u001b[A\n",
            "chunk:  56%|█████▌    | 124/221 [00:00<00:00, 633.34it/s, now=None]\u001b[A\n",
            "chunk:  93%|█████████▎| 205/221 [00:00<00:00, 700.64it/s, now=None]\u001b[A\n",
            "t:  45%|████▌     | 113/250 [06:00<00:34,  3.93it/s, now=None]"
          ]
        },
        {
          "output_type": "stream",
          "name": "stdout",
          "text": [
            "MoviePy - Done.\n",
            "Moviepy - Writing video /content/classified_moments/Goal/goal5.mp4\n",
            "\n"
          ]
        },
        {
          "output_type": "stream",
          "name": "stderr",
          "text": [
            "\n",
            "t:   0%|          | 0/250 [00:00<?, ?it/s, now=None]\u001b[A\n",
            "t:   4%|▎         | 9/250 [00:00<00:02, 88.69it/s, now=None]\u001b[A\n",
            "t:   7%|▋         | 18/250 [00:00<00:02, 77.40it/s, now=None]\u001b[A\n",
            "t:  10%|█         | 26/250 [00:00<00:03, 71.71it/s, now=None]\u001b[A\n",
            "t:  14%|█▎        | 34/250 [00:00<00:03, 68.46it/s, now=None]\u001b[A\n",
            "t:  16%|█▋        | 41/250 [00:00<00:03, 67.87it/s, now=None]\u001b[A\n",
            "t:  20%|█▉        | 49/250 [00:00<00:02, 67.02it/s, now=None]\u001b[A\n",
            "t:  22%|██▏       | 56/250 [00:00<00:03, 62.10it/s, now=None]\u001b[A\n",
            "t:  25%|██▌       | 63/250 [00:01<00:09, 20.36it/s, now=None]\u001b[A\n",
            "t:  27%|██▋       | 68/250 [00:02<00:11, 16.35it/s, now=None]\u001b[A\n",
            "t:  29%|██▉       | 72/250 [00:02<00:11, 14.86it/s, now=None]\u001b[A\n",
            "t:  30%|███       | 75/250 [00:02<00:12, 14.04it/s, now=None]\u001b[A\n",
            "t:  31%|███       | 78/250 [00:03<00:14, 12.04it/s, now=None]\u001b[A\n",
            "t:  32%|███▏      | 81/250 [00:03<00:13, 12.87it/s, now=None]\u001b[A\n",
            "t:  33%|███▎      | 83/250 [00:03<00:13, 12.76it/s, now=None]\u001b[A\n",
            "t:  34%|███▍      | 85/250 [00:03<00:12, 13.04it/s, now=None]\u001b[A\n",
            "t:  35%|███▍      | 87/250 [00:04<00:15, 10.48it/s, now=None]\u001b[A\n",
            "t:  36%|███▌      | 89/250 [00:04<00:15, 10.47it/s, now=None]\u001b[A\n",
            "t:  36%|███▋      | 91/250 [00:04<00:17,  9.18it/s, now=None]\u001b[A\n",
            "t:  37%|███▋      | 93/250 [00:04<00:15,  9.90it/s, now=None]\u001b[A\n",
            "t:  38%|███▊      | 95/250 [00:05<00:19,  8.06it/s, now=None]\u001b[A\n",
            "t:  39%|███▉      | 97/250 [00:05<00:17,  8.85it/s, now=None]\u001b[A\n",
            "t:  40%|███▉      | 99/250 [00:05<00:18,  8.07it/s, now=None]\u001b[A\n",
            "t:  40%|████      | 101/250 [00:05<00:16,  9.15it/s, now=None]\u001b[A\n",
            "t:  41%|████      | 103/250 [00:05<00:16,  8.65it/s, now=None]\u001b[A\n",
            "t:  42%|████▏     | 104/250 [00:06<00:17,  8.40it/s, now=None]\u001b[A\n",
            "t:  42%|████▏     | 105/250 [00:06<00:18,  7.66it/s, now=None]\u001b[A\n",
            "t:  43%|████▎     | 107/250 [00:06<00:17,  7.98it/s, now=None]\u001b[A\n",
            "t:  43%|████▎     | 108/250 [00:06<00:17,  8.23it/s, now=None]\u001b[A\n",
            "t:  44%|████▎     | 109/250 [00:06<00:16,  8.44it/s, now=None]\u001b[A\n",
            "t:  44%|████▍     | 111/250 [00:06<00:14,  9.62it/s, now=None]\u001b[A\n",
            "t:  45%|████▍     | 112/250 [00:07<00:16,  8.55it/s, now=None]\u001b[A\n",
            "t:  46%|████▌     | 114/250 [00:07<00:16,  8.14it/s, now=None]\u001b[A\n",
            "t:  46%|████▋     | 116/250 [00:07<00:13,  9.65it/s, now=None]\u001b[A\n",
            "t:  47%|████▋     | 118/250 [00:07<00:15,  8.26it/s, now=None]\u001b[A\n",
            "t:  48%|████▊     | 120/250 [00:07<00:14,  9.00it/s, now=None]\u001b[A\n",
            "t:  49%|████▉     | 122/250 [00:08<00:15,  8.45it/s, now=None]\u001b[A\n",
            "t:  49%|████▉     | 123/250 [00:08<00:14,  8.69it/s, now=None]\u001b[A\n",
            "t:  50%|████▉     | 124/250 [00:08<00:14,  8.92it/s, now=None]\u001b[A\n",
            "t:  50%|█████     | 126/250 [00:08<00:15,  7.87it/s, now=None]\u001b[A\n",
            "t:  51%|█████     | 128/250 [00:08<00:14,  8.38it/s, now=None]\u001b[A\n",
            "t:  52%|█████▏    | 130/250 [00:09<00:15,  7.81it/s, now=None]\u001b[A\n",
            "t:  53%|█████▎    | 132/250 [00:09<00:13,  8.47it/s, now=None]\u001b[A\n",
            "t:  54%|█████▎    | 134/250 [00:09<00:14,  7.76it/s, now=None]\u001b[A\n",
            "t:  54%|█████▍    | 136/250 [00:09<00:13,  8.75it/s, now=None]\u001b[A\n",
            "t:  55%|█████▍    | 137/250 [00:09<00:13,  8.31it/s, now=None]\u001b[A\n",
            "t:  55%|█████▌    | 138/250 [00:10<00:14,  7.50it/s, now=None]\u001b[A\n",
            "t:  56%|█████▌    | 140/250 [00:10<00:12,  8.52it/s, now=None]\u001b[A\n",
            "t:  56%|█████▋    | 141/250 [00:10<00:13,  8.17it/s, now=None]\u001b[A\n",
            "t:  57%|█████▋    | 142/250 [00:10<00:14,  7.40it/s, now=None]\u001b[A\n",
            "t:  57%|█████▋    | 143/250 [00:10<00:13,  7.81it/s, now=None]\u001b[A\n",
            "t:  58%|█████▊    | 145/250 [00:10<00:10, 10.03it/s, now=None]\u001b[A\n",
            "t:  59%|█████▉    | 147/250 [00:11<00:12,  8.53it/s, now=None]\u001b[A\n",
            "t:  60%|█████▉    | 149/250 [00:11<00:10,  9.94it/s, now=None]\u001b[A\n",
            "t:  60%|██████    | 151/250 [00:11<00:09, 10.09it/s, now=None]\u001b[A\n",
            "t:  61%|██████    | 153/250 [00:11<00:09, 10.25it/s, now=None]\u001b[A\n",
            "t:  62%|██████▏   | 156/250 [00:11<00:08, 11.09it/s, now=None]\u001b[A\n",
            "t:  63%|██████▎   | 158/250 [00:12<00:07, 11.60it/s, now=None]\u001b[A\n",
            "t:  64%|██████▍   | 160/250 [00:12<00:07, 11.57it/s, now=None]\u001b[A\n",
            "t:  65%|██████▍   | 162/250 [00:12<00:06, 12.68it/s, now=None]\u001b[A\n",
            "t:  66%|██████▌   | 164/250 [00:12<00:07, 11.08it/s, now=None]\u001b[A\n",
            "t:  66%|██████▋   | 166/250 [00:12<00:06, 12.26it/s, now=None]\u001b[A\n",
            "t:  67%|██████▋   | 168/250 [00:12<00:07, 11.15it/s, now=None]\u001b[A\n",
            "t:  68%|██████▊   | 170/250 [00:13<00:06, 11.73it/s, now=None]\u001b[A\n",
            "t:  69%|██████▉   | 172/250 [00:13<00:06, 11.78it/s, now=None]\u001b[A\n",
            "t:  70%|███████   | 175/250 [00:13<00:06, 12.31it/s, now=None]\u001b[A\n",
            "t:  71%|███████   | 177/250 [00:13<00:05, 13.29it/s, now=None]\u001b[A\n",
            "t:  72%|███████▏  | 179/250 [00:13<00:05, 13.28it/s, now=None]\u001b[A\n",
            "t:  72%|███████▏  | 181/250 [00:13<00:05, 12.22it/s, now=None]\u001b[A\n",
            "t:  73%|███████▎  | 183/250 [00:14<00:05, 11.51it/s, now=None]\u001b[A\n",
            "t:  74%|███████▍  | 185/250 [00:14<00:05, 11.18it/s, now=None]\u001b[A\n",
            "t:  75%|███████▍  | 187/250 [00:14<00:05, 10.96it/s, now=None]\u001b[A\n",
            "t:  76%|███████▌  | 189/250 [00:14<00:05, 11.53it/s, now=None]\u001b[A\n",
            "t:  76%|███████▋  | 191/250 [00:14<00:05, 10.66it/s, now=None]\u001b[A\n",
            "t:  78%|███████▊  | 194/250 [00:15<00:05, 10.79it/s, now=None]\u001b[A\n",
            "t:  78%|███████▊  | 196/250 [00:15<00:05, 10.06it/s, now=None]\u001b[A\n",
            "t:  79%|███████▉  | 198/250 [00:15<00:04, 10.56it/s, now=None]\u001b[A\n",
            "t:  80%|████████  | 200/250 [00:15<00:05,  9.83it/s, now=None]\u001b[A\n",
            "t:  81%|████████  | 202/250 [00:15<00:04, 10.71it/s, now=None]\u001b[A\n",
            "t:  82%|████████▏ | 204/250 [00:16<00:04, 10.31it/s, now=None]\u001b[A\n",
            "t:  82%|████████▏ | 206/250 [00:16<00:04, 10.52it/s, now=None]\u001b[A\n",
            "t:  83%|████████▎ | 208/250 [00:16<00:04, 10.02it/s, now=None]\u001b[A\n",
            "t:  84%|████████▍ | 210/250 [00:16<00:04,  8.68it/s, now=None]\u001b[A\n",
            "t:  84%|████████▍ | 211/250 [00:17<00:04,  7.94it/s, now=None]\u001b[A\n",
            "t:  85%|████████▍ | 212/250 [00:17<00:04,  7.75it/s, now=None]\u001b[A\n",
            "t:  86%|████████▌ | 215/250 [00:17<00:03,  9.95it/s, now=None]\u001b[A\n",
            "t:  86%|████████▋ | 216/250 [00:17<00:03,  9.85it/s, now=None]\u001b[A\n",
            "t:  87%|████████▋ | 217/250 [00:17<00:03,  9.82it/s, now=None]\u001b[A\n",
            "t:  88%|████████▊ | 219/250 [00:17<00:03,  9.81it/s, now=None]\u001b[A\n",
            "t:  88%|████████▊ | 220/250 [00:17<00:03,  9.40it/s, now=None]\u001b[A\n",
            "t:  89%|████████▉ | 222/250 [00:18<00:02, 10.54it/s, now=None]\u001b[A\n",
            "t:  90%|████████▉ | 224/250 [00:18<00:02,  9.26it/s, now=None]\u001b[A\n",
            "t:  90%|█████████ | 226/250 [00:18<00:02,  9.87it/s, now=None]\u001b[A\n",
            "t:  91%|█████████ | 228/250 [00:18<00:02,  9.36it/s, now=None]\u001b[A\n",
            "t:  92%|█████████▏| 230/250 [00:19<00:02,  9.03it/s, now=None]\u001b[A\n",
            "t:  93%|█████████▎| 232/250 [00:19<00:01,  9.91it/s, now=None]\u001b[A\n",
            "t:  94%|█████████▎| 234/250 [00:19<00:01,  9.56it/s, now=None]\u001b[A\n",
            "t:  94%|█████████▍| 235/250 [00:19<00:01,  8.88it/s, now=None]\u001b[A\n",
            "t:  95%|█████████▍| 237/250 [00:19<00:01, 10.48it/s, now=None]\u001b[A\n",
            "t:  96%|█████████▌| 239/250 [00:19<00:01, 10.23it/s, now=None]\u001b[A\n",
            "t:  96%|█████████▋| 241/250 [00:20<00:00, 11.56it/s, now=None]\u001b[A\n",
            "t:  97%|█████████▋| 243/250 [00:20<00:00, 10.62it/s, now=None]\u001b[A\n",
            "t:  98%|█████████▊| 245/250 [00:20<00:00,  9.05it/s, now=None]\u001b[A\n",
            "t:  99%|█████████▉| 247/250 [00:20<00:00,  8.87it/s, now=None]\u001b[A\n",
            "t: 100%|█████████▉| 249/250 [00:20<00:00,  8.90it/s, now=None]\u001b[A\n",
            "t:  45%|████▌     | 113/250 [06:29<00:34,  3.93it/s, now=None]"
          ]
        },
        {
          "output_type": "stream",
          "name": "stdout",
          "text": [
            "Moviepy - Done !\n",
            "Moviepy - video ready /content/classified_moments/Goal/goal5.mp4\n"
          ]
        },
        {
          "output_type": "stream",
          "name": "stderr",
          "text": [
            "t:  45%|████▌     | 113/250 [06:29<00:34,  3.93it/s, now=None]"
          ]
        },
        {
          "output_type": "stream",
          "name": "stdout",
          "text": [
            "Moviepy - Building video /content/classified_moments/Goal/goal6.mp4.\n",
            "MoviePy - Writing audio in goal6TEMP_MPY_wvf_snd.mp3\n"
          ]
        },
        {
          "output_type": "stream",
          "name": "stderr",
          "text": [
            "\n",
            "chunk:   0%|          | 0/221 [00:00<?, ?it/s, now=None]\u001b[A\n",
            "chunk:  11%|█▏        | 25/221 [00:00<00:00, 248.87it/s, now=None]\u001b[A\n",
            "chunk:  24%|██▎       | 52/221 [00:00<00:00, 260.91it/s, now=None]\u001b[A\n",
            "chunk:  44%|████▍     | 97/221 [00:00<00:00, 347.05it/s, now=None]\u001b[A\n",
            "chunk:  65%|██████▍   | 143/221 [00:00<00:00, 387.67it/s, now=None]\u001b[A\n",
            "chunk:  97%|█████████▋| 215/221 [00:00<00:00, 505.24it/s, now=None]\u001b[A\n",
            "t:  45%|████▌     | 113/250 [06:30<00:34,  3.93it/s, now=None]"
          ]
        },
        {
          "output_type": "stream",
          "name": "stdout",
          "text": [
            "MoviePy - Done.\n",
            "Moviepy - Writing video /content/classified_moments/Goal/goal6.mp4\n",
            "\n"
          ]
        },
        {
          "output_type": "stream",
          "name": "stderr",
          "text": [
            "\n",
            "t:   0%|          | 0/251 [00:00<?, ?it/s, now=None]\u001b[A\n",
            "t:   3%|▎         | 7/251 [00:00<00:03, 61.61it/s, now=None]\u001b[A\n",
            "t:   6%|▌         | 15/251 [00:00<00:03, 68.66it/s, now=None]\u001b[A\n",
            "t:   9%|▉         | 22/251 [00:00<00:03, 63.53it/s, now=None]\u001b[A\n",
            "t:  12%|█▏        | 29/251 [00:00<00:03, 63.13it/s, now=None]\u001b[A\n",
            "t:  15%|█▍        | 37/251 [00:00<00:03, 65.59it/s, now=None]\u001b[A\n",
            "t:  18%|█▊        | 44/251 [00:00<00:03, 61.44it/s, now=None]\u001b[A\n",
            "t:  20%|██        | 51/251 [00:00<00:03, 59.33it/s, now=None]\u001b[A\n",
            "t:  23%|██▎       | 57/251 [00:01<00:06, 31.85it/s, now=None]\u001b[A\n",
            "t:  25%|██▍       | 62/251 [00:01<00:07, 23.99it/s, now=None]\u001b[A\n",
            "t:  26%|██▋       | 66/251 [00:02<00:10, 16.84it/s, now=None]\u001b[A\n",
            "t:  27%|██▋       | 69/251 [00:02<00:13, 13.57it/s, now=None]\u001b[A\n",
            "t:  29%|██▊       | 72/251 [00:02<00:12, 14.02it/s, now=None]\u001b[A\n",
            "t:  29%|██▉       | 74/251 [00:02<00:14, 12.45it/s, now=None]\u001b[A\n",
            "t:  30%|███       | 76/251 [00:03<00:13, 12.78it/s, now=None]\u001b[A\n",
            "t:  31%|███       | 78/251 [00:03<00:15, 11.46it/s, now=None]\u001b[A\n",
            "t:  32%|███▏      | 80/251 [00:03<00:13, 12.41it/s, now=None]\u001b[A\n",
            "t:  33%|███▎      | 82/251 [00:03<00:16, 10.43it/s, now=None]\u001b[A\n",
            "t:  34%|███▍      | 85/251 [00:03<00:15, 10.89it/s, now=None]\u001b[A\n",
            "t:  35%|███▍      | 87/251 [00:04<00:15, 10.68it/s, now=None]\u001b[A\n",
            "t:  35%|███▌      | 89/251 [00:04<00:15, 10.55it/s, now=None]\u001b[A\n",
            "t:  36%|███▋      | 91/251 [00:04<00:13, 11.99it/s, now=None]\u001b[A\n",
            "t:  37%|███▋      | 93/251 [00:04<00:15, 10.15it/s, now=None]\u001b[A\n",
            "t:  38%|███▊      | 95/251 [00:04<00:14, 10.44it/s, now=None]\u001b[A\n",
            "t:  39%|███▊      | 97/251 [00:05<00:13, 11.31it/s, now=None]\u001b[A\n",
            "t:  39%|███▉      | 99/251 [00:05<00:13, 11.00it/s, now=None]\u001b[A\n",
            "t:  40%|████      | 101/251 [00:05<00:14, 10.55it/s, now=None]\u001b[A\n",
            "t:  41%|████      | 103/251 [00:05<00:14, 10.08it/s, now=None]\u001b[A\n",
            "t:  42%|████▏     | 105/251 [00:05<00:13, 11.16it/s, now=None]\u001b[A\n",
            "t:  43%|████▎     | 107/251 [00:06<00:15,  9.60it/s, now=None]\u001b[A\n",
            "t:  43%|████▎     | 109/251 [00:06<00:12, 11.14it/s, now=None]\u001b[A\n",
            "t:  44%|████▍     | 111/251 [00:06<00:14,  9.75it/s, now=None]\u001b[A\n",
            "t:  45%|████▌     | 113/251 [00:06<00:16,  8.55it/s, now=None]\u001b[A\n",
            "t:  46%|████▌     | 116/251 [00:07<00:15,  8.75it/s, now=None]\u001b[A\n",
            "t:  47%|████▋     | 117/251 [00:07<00:15,  8.69it/s, now=None]\u001b[A\n",
            "t:  47%|████▋     | 119/251 [00:07<00:15,  8.80it/s, now=None]\u001b[A\n",
            "t:  48%|████▊     | 120/251 [00:07<00:17,  7.60it/s, now=None]\u001b[A\n",
            "t:  48%|████▊     | 121/251 [00:07<00:17,  7.35it/s, now=None]\u001b[A\n",
            "t:  49%|████▉     | 123/251 [00:07<00:13,  9.48it/s, now=None]\u001b[A\n",
            "t:  50%|████▉     | 125/251 [00:08<00:16,  7.87it/s, now=None]\u001b[A\n",
            "t:  51%|█████     | 127/251 [00:08<00:16,  7.52it/s, now=None]\u001b[A\n",
            "t:  51%|█████     | 128/251 [00:08<00:16,  7.61it/s, now=None]\u001b[A\n",
            "t:  52%|█████▏    | 130/251 [00:08<00:15,  7.59it/s, now=None]\u001b[A\n",
            "t:  52%|█████▏    | 131/251 [00:09<00:15,  7.92it/s, now=None]\u001b[A\n",
            "t:  53%|█████▎    | 133/251 [00:09<00:12,  9.47it/s, now=None]\u001b[A\n",
            "t:  54%|█████▍    | 135/251 [00:09<00:10, 10.90it/s, now=None]\u001b[A\n",
            "t:  55%|█████▍    | 137/251 [00:09<00:11,  9.91it/s, now=None]\u001b[A\n",
            "t:  55%|█████▌    | 139/251 [00:09<00:09, 11.59it/s, now=None]\u001b[A\n",
            "t:  56%|█████▌    | 141/251 [00:09<00:09, 11.02it/s, now=None]\u001b[A\n",
            "t:  57%|█████▋    | 143/251 [00:10<00:10, 10.50it/s, now=None]\u001b[A\n",
            "t:  58%|█████▊    | 145/251 [00:10<00:12,  8.58it/s, now=None]\u001b[A\n",
            "t:  59%|█████▊    | 147/251 [00:10<00:11,  9.33it/s, now=None]\u001b[A\n",
            "t:  59%|█████▉    | 149/251 [00:10<00:11,  8.55it/s, now=None]\u001b[A\n",
            "t:  60%|██████    | 151/251 [00:11<00:13,  7.33it/s, now=None]\u001b[A\n",
            "t:  61%|██████    | 153/251 [00:11<00:12,  7.95it/s, now=None]\u001b[A\n",
            "t:  61%|██████▏   | 154/251 [00:11<00:13,  7.33it/s, now=None]\u001b[A\n",
            "t:  62%|██████▏   | 155/251 [00:11<00:12,  7.43it/s, now=None]\u001b[A\n",
            "t:  63%|██████▎   | 157/251 [00:12<00:13,  6.76it/s, now=None]\u001b[A\n",
            "t:  63%|██████▎   | 158/251 [00:12<00:13,  7.14it/s, now=None]\u001b[A\n",
            "t:  63%|██████▎   | 159/251 [00:12<00:13,  7.00it/s, now=None]\u001b[A\n",
            "t:  64%|██████▍   | 161/251 [00:12<00:13,  6.76it/s, now=None]\u001b[A\n",
            "t:  65%|██████▍   | 163/251 [00:12<00:11,  7.64it/s, now=None]\u001b[A\n",
            "t:  65%|██████▌   | 164/251 [00:12<00:11,  7.41it/s, now=None]\u001b[A\n",
            "t:  66%|██████▌   | 165/251 [00:13<00:13,  6.58it/s, now=None]\u001b[A\n",
            "t:  67%|██████▋   | 167/251 [00:13<00:11,  7.49it/s, now=None]\u001b[A\n",
            "t:  67%|██████▋   | 168/251 [00:13<00:11,  7.21it/s, now=None]\u001b[A\n",
            "t:  67%|██████▋   | 169/251 [00:13<00:11,  7.42it/s, now=None]\u001b[A\n",
            "t:  68%|██████▊   | 170/251 [00:13<00:11,  6.90it/s, now=None]\u001b[A\n",
            "t:  69%|██████▉   | 173/251 [00:14<00:10,  7.31it/s, now=None]\u001b[A\n",
            "t:  70%|██████▉   | 175/251 [00:14<00:09,  8.31it/s, now=None]\u001b[A\n",
            "t:  70%|███████   | 176/251 [00:14<00:10,  7.23it/s, now=None]\u001b[A\n",
            "t:  71%|███████   | 177/251 [00:14<00:09,  7.48it/s, now=None]\u001b[A\n",
            "t:  71%|███████▏  | 179/251 [00:15<00:10,  6.79it/s, now=None]\u001b[A\n",
            "t:  73%|███████▎  | 182/251 [00:15<00:08,  7.77it/s, now=None]\u001b[A\n",
            "t:  73%|███████▎  | 183/251 [00:15<00:08,  7.90it/s, now=None]\u001b[A\n",
            "t:  74%|███████▎  | 185/251 [00:15<00:08,  7.60it/s, now=None]\u001b[A\n",
            "t:  74%|███████▍  | 186/251 [00:15<00:08,  7.63it/s, now=None]\u001b[A\n",
            "t:  75%|███████▍  | 188/251 [00:16<00:06,  9.36it/s, now=None]\u001b[A\n",
            "t:  76%|███████▌  | 190/251 [00:16<00:08,  7.52it/s, now=None]\u001b[A\n",
            "t:  77%|███████▋  | 193/251 [00:16<00:07,  8.27it/s, now=None]\u001b[A\n",
            "t:  78%|███████▊  | 195/251 [00:16<00:06,  8.86it/s, now=None]\u001b[A\n",
            "t:  78%|███████▊  | 197/251 [00:17<00:06,  8.50it/s, now=None]\u001b[A\n",
            "t:  79%|███████▉  | 199/251 [00:17<00:05,  9.33it/s, now=None]\u001b[A\n",
            "t:  80%|████████  | 201/251 [00:17<00:05,  9.76it/s, now=None]\u001b[A\n",
            "t:  81%|████████  | 203/251 [00:17<00:04, 10.81it/s, now=None]\u001b[A\n",
            "t:  82%|████████▏ | 205/251 [00:17<00:04, 10.84it/s, now=None]\u001b[A\n",
            "t:  82%|████████▏ | 207/251 [00:17<00:03, 12.27it/s, now=None]\u001b[A\n",
            "t:  83%|████████▎ | 209/251 [00:18<00:03, 11.03it/s, now=None]\u001b[A\n",
            "t:  84%|████████▍ | 211/251 [00:18<00:03, 12.20it/s, now=None]\u001b[A\n",
            "t:  85%|████████▍ | 213/251 [00:18<00:03, 11.04it/s, now=None]\u001b[A\n",
            "t:  86%|████████▌ | 215/251 [00:18<00:02, 12.19it/s, now=None]\u001b[A\n",
            "t:  86%|████████▋ | 217/251 [00:18<00:03, 10.48it/s, now=None]\u001b[A\n",
            "t:  87%|████████▋ | 219/251 [00:19<00:02, 12.00it/s, now=None]\u001b[A\n",
            "t:  88%|████████▊ | 221/251 [00:19<00:02, 10.13it/s, now=None]\u001b[A\n",
            "t:  89%|████████▉ | 223/251 [00:19<00:02, 10.59it/s, now=None]\u001b[A\n",
            "t:  90%|████████▉ | 225/251 [00:19<00:02, 10.58it/s, now=None]\u001b[A\n",
            "t:  90%|█████████ | 227/251 [00:19<00:02, 10.74it/s, now=None]\u001b[A\n",
            "t:  91%|█████████ | 229/251 [00:19<00:01, 11.23it/s, now=None]\u001b[A\n",
            "t:  92%|█████████▏| 231/251 [00:20<00:01, 11.25it/s, now=None]\u001b[A\n",
            "t:  93%|█████████▎| 233/251 [00:20<00:01, 12.73it/s, now=None]\u001b[A\n",
            "t:  94%|█████████▎| 235/251 [00:20<00:01, 13.18it/s, now=None]\u001b[A\n",
            "t:  94%|█████████▍| 237/251 [00:20<00:01, 13.21it/s, now=None]\u001b[A\n",
            "t:  95%|█████████▌| 239/251 [00:20<00:00, 13.49it/s, now=None]\u001b[A\n",
            "t:  96%|█████████▌| 241/251 [00:20<00:00, 14.52it/s, now=None]\u001b[A\n",
            "t:  97%|█████████▋| 243/251 [00:20<00:00, 14.85it/s, now=None]\u001b[A\n",
            "t:  98%|█████████▊| 245/251 [00:21<00:00, 14.35it/s, now=None]\u001b[A\n",
            "t:  98%|█████████▊| 247/251 [00:21<00:00, 14.19it/s, now=None]\u001b[A\n",
            "t:  99%|█████████▉| 249/251 [00:21<00:00, 14.20it/s, now=None]\u001b[A\n",
            "t: 100%|██████████| 251/251 [00:21<00:00, 14.29it/s, now=None]\u001b[A\n",
            "t:  45%|████▌     | 113/250 [06:55<00:34,  3.93it/s, now=None]"
          ]
        },
        {
          "output_type": "stream",
          "name": "stdout",
          "text": [
            "Moviepy - Done !\n",
            "Moviepy - video ready /content/classified_moments/Goal/goal6.mp4\n"
          ]
        },
        {
          "output_type": "stream",
          "name": "stderr",
          "text": [
            "t:  45%|████▌     | 113/250 [06:55<00:34,  3.93it/s, now=None]"
          ]
        },
        {
          "output_type": "stream",
          "name": "stdout",
          "text": [
            "Moviepy - Building video /content/classified_moments/Goal/goal7.mp4.\n",
            "MoviePy - Writing audio in goal7TEMP_MPY_wvf_snd.mp3\n"
          ]
        },
        {
          "output_type": "stream",
          "name": "stderr",
          "text": [
            "\n",
            "chunk:   0%|          | 0/221 [00:00<?, ?it/s, now=None]\u001b[A\n",
            "chunk:  14%|█▍        | 32/221 [00:00<00:00, 295.07it/s, now=None]\u001b[A\n",
            "chunk:  50%|████▉     | 110/221 [00:00<00:00, 567.65it/s, now=None]\u001b[A\n",
            "chunk:  84%|████████▎ | 185/221 [00:00<00:00, 647.58it/s, now=None]\u001b[A\n",
            "t:  45%|████▌     | 113/250 [06:56<00:34,  3.93it/s, now=None]"
          ]
        },
        {
          "output_type": "stream",
          "name": "stdout",
          "text": [
            "MoviePy - Done.\n",
            "Moviepy - Writing video /content/classified_moments/Goal/goal7.mp4\n",
            "\n"
          ]
        },
        {
          "output_type": "stream",
          "name": "stderr",
          "text": [
            "\n",
            "t:   0%|          | 0/250 [00:00<?, ?it/s, now=None]\u001b[A\n",
            "t:   3%|▎         | 8/250 [00:00<00:03, 70.10it/s, now=None]\u001b[A\n",
            "t:   6%|▋         | 16/250 [00:00<00:03, 60.77it/s, now=None]\u001b[A\n",
            "t:   9%|▉         | 23/250 [00:00<00:03, 62.46it/s, now=None]\u001b[A\n",
            "t:  12%|█▏        | 30/250 [00:00<00:03, 62.12it/s, now=None]\u001b[A\n",
            "t:  15%|█▍        | 37/250 [00:00<00:03, 61.34it/s, now=None]\u001b[A\n",
            "t:  18%|█▊        | 44/250 [00:00<00:03, 58.84it/s, now=None]\u001b[A\n",
            "t:  20%|██        | 51/250 [00:00<00:03, 60.00it/s, now=None]\u001b[A\n",
            "t:  23%|██▎       | 58/250 [00:01<00:06, 30.78it/s, now=None]\u001b[A\n",
            "t:  25%|██▌       | 63/250 [00:01<00:10, 18.05it/s, now=None]\u001b[A\n",
            "t:  27%|██▋       | 67/250 [00:02<00:18, 10.00it/s, now=None]\u001b[A\n",
            "t:  28%|██▊       | 70/250 [00:03<00:22,  8.16it/s, now=None]\u001b[A\n",
            "t:  29%|██▉       | 72/250 [00:03<00:21,  8.33it/s, now=None]\u001b[A\n",
            "t:  30%|██▉       | 74/250 [00:04<00:23,  7.64it/s, now=None]\u001b[A\n",
            "t:  30%|███       | 76/250 [00:04<00:22,  7.80it/s, now=None]\u001b[A\n",
            "t:  31%|███       | 78/250 [00:04<00:22,  7.67it/s, now=None]\u001b[A\n",
            "t:  32%|███▏      | 80/250 [00:04<00:21,  7.89it/s, now=None]\u001b[A\n",
            "t:  32%|███▏      | 81/250 [00:05<00:21,  7.69it/s, now=None]\u001b[A\n",
            "t:  33%|███▎      | 83/250 [00:05<00:24,  6.75it/s, now=None]\u001b[A\n",
            "t:  34%|███▎      | 84/250 [00:05<00:23,  7.11it/s, now=None]\u001b[A\n",
            "t:  34%|███▍      | 85/250 [00:05<00:24,  6.86it/s, now=None]\u001b[A\n",
            "t:  35%|███▍      | 87/250 [00:06<00:23,  7.06it/s, now=None]\u001b[A\n",
            "t:  35%|███▌      | 88/250 [00:06<00:21,  7.45it/s, now=None]\u001b[A\n",
            "t:  36%|███▌      | 89/250 [00:06<00:24,  6.52it/s, now=None]\u001b[A\n",
            "t:  36%|███▋      | 91/250 [00:06<00:21,  7.44it/s, now=None]\u001b[A\n",
            "t:  37%|███▋      | 93/250 [00:06<00:23,  6.56it/s, now=None]\u001b[A\n",
            "t:  38%|███▊      | 95/250 [00:07<00:20,  7.57it/s, now=None]\u001b[A\n",
            "t:  38%|███▊      | 96/250 [00:07<00:21,  7.18it/s, now=None]\u001b[A\n",
            "t:  39%|███▉      | 97/250 [00:07<00:29,  5.21it/s, now=None]\u001b[A\n",
            "t:  39%|███▉      | 98/250 [00:07<00:26,  5.85it/s, now=None]\u001b[A\n",
            "t:  40%|███▉      | 99/250 [00:07<00:24,  6.05it/s, now=None]\u001b[A\n",
            "t:  40%|████      | 100/250 [00:08<00:22,  6.70it/s, now=None]\u001b[A\n",
            "t:  40%|████      | 101/250 [00:08<00:28,  5.20it/s, now=None]\u001b[A\n",
            "t:  41%|████      | 102/250 [00:08<00:26,  5.65it/s, now=None]\u001b[A\n",
            "t:  41%|████      | 103/250 [00:08<00:23,  6.39it/s, now=None]\u001b[A\n",
            "t:  42%|████▏     | 105/250 [00:08<00:19,  7.46it/s, now=None]\u001b[A\n",
            "t:  42%|████▏     | 106/250 [00:08<00:20,  6.93it/s, now=None]\u001b[A\n",
            "t:  43%|████▎     | 107/250 [00:09<00:19,  7.30it/s, now=None]\u001b[A\n",
            "t:  44%|████▎     | 109/250 [00:09<00:20,  6.84it/s, now=None]\u001b[A\n",
            "t:  44%|████▍     | 111/250 [00:09<00:17,  7.95it/s, now=None]\u001b[A\n",
            "t:  45%|████▌     | 113/250 [00:09<00:19,  6.98it/s, now=None]\u001b[A\n",
            "t:  46%|████▌     | 115/250 [00:10<00:16,  8.11it/s, now=None]\u001b[A\n",
            "t:  46%|████▋     | 116/250 [00:10<00:16,  8.03it/s, now=None]\u001b[A\n",
            "t:  47%|████▋     | 117/250 [00:10<00:17,  7.47it/s, now=None]\u001b[A\n",
            "t:  47%|████▋     | 118/250 [00:10<00:18,  7.16it/s, now=None]\u001b[A\n",
            "t:  48%|████▊     | 119/250 [00:10<00:18,  7.02it/s, now=None]\u001b[A\n",
            "t:  48%|████▊     | 121/250 [00:10<00:18,  7.11it/s, now=None]\u001b[A\n",
            "t:  49%|████▉     | 122/250 [00:11<00:17,  7.45it/s, now=None]\u001b[A\n",
            "t:  50%|████▉     | 124/250 [00:11<00:15,  8.09it/s, now=None]\u001b[A\n",
            "t:  50%|█████     | 125/250 [00:11<00:18,  6.80it/s, now=None]\u001b[A\n",
            "t:  51%|█████     | 127/250 [00:11<00:14,  8.61it/s, now=None]\u001b[A\n",
            "t:  52%|█████▏    | 129/250 [00:11<00:13,  8.70it/s, now=None]\u001b[A\n",
            "t:  52%|█████▏    | 131/250 [00:12<00:11, 10.43it/s, now=None]\u001b[A\n",
            "t:  53%|█████▎    | 133/250 [00:12<00:10, 10.71it/s, now=None]\u001b[A\n",
            "t:  54%|█████▍    | 135/250 [00:12<00:09, 11.91it/s, now=None]\u001b[A\n",
            "t:  55%|█████▍    | 137/250 [00:12<00:09, 11.71it/s, now=None]\u001b[A\n",
            "t:  56%|█████▌    | 139/250 [00:12<00:09, 11.82it/s, now=None]\u001b[A\n",
            "t:  56%|█████▋    | 141/250 [00:12<00:09, 11.71it/s, now=None]\u001b[A\n",
            "t:  57%|█████▋    | 143/250 [00:12<00:08, 13.29it/s, now=None]\u001b[A\n",
            "t:  58%|█████▊    | 145/250 [00:13<00:09, 11.62it/s, now=None]\u001b[A\n",
            "t:  59%|█████▉    | 147/250 [00:13<00:07, 13.02it/s, now=None]\u001b[A\n",
            "t:  60%|█████▉    | 149/250 [00:13<00:08, 11.69it/s, now=None]\u001b[A\n",
            "t:  60%|██████    | 151/250 [00:13<00:08, 12.03it/s, now=None]\u001b[A\n",
            "t:  61%|██████    | 153/250 [00:13<00:08, 11.18it/s, now=None]\u001b[A\n",
            "t:  62%|██████▏   | 156/250 [00:14<00:07, 11.89it/s, now=None]\u001b[A\n",
            "t:  63%|██████▎   | 158/250 [00:14<00:08, 11.20it/s, now=None]\u001b[A\n",
            "t:  64%|██████▍   | 161/250 [00:14<00:08, 10.78it/s, now=None]\u001b[A\n",
            "t:  65%|██████▌   | 163/250 [00:14<00:07, 11.96it/s, now=None]\u001b[A\n",
            "t:  66%|██████▌   | 165/250 [00:14<00:07, 12.07it/s, now=None]\u001b[A\n",
            "t:  67%|██████▋   | 167/250 [00:15<00:08, 10.03it/s, now=None]\u001b[A\n",
            "t:  68%|██████▊   | 169/250 [00:15<00:07, 11.31it/s, now=None]\u001b[A\n",
            "t:  68%|██████▊   | 171/250 [00:15<00:07, 11.08it/s, now=None]\u001b[A\n",
            "t:  69%|██████▉   | 173/250 [00:15<00:06, 12.53it/s, now=None]\u001b[A\n",
            "t:  70%|███████   | 175/250 [00:15<00:05, 13.36it/s, now=None]\u001b[A\n",
            "t:  71%|███████   | 177/250 [00:15<00:05, 12.59it/s, now=None]\u001b[A\n",
            "t:  72%|███████▏  | 179/250 [00:15<00:05, 13.41it/s, now=None]\u001b[A\n",
            "t:  72%|███████▏  | 181/250 [00:16<00:04, 14.76it/s, now=None]\u001b[A\n",
            "t:  73%|███████▎  | 183/250 [00:16<00:04, 14.32it/s, now=None]\u001b[A\n",
            "t:  74%|███████▍  | 185/250 [00:16<00:04, 14.28it/s, now=None]\u001b[A\n",
            "t:  75%|███████▍  | 187/250 [00:16<00:04, 14.31it/s, now=None]\u001b[A\n",
            "t:  76%|███████▌  | 189/250 [00:16<00:04, 14.21it/s, now=None]\u001b[A\n",
            "t:  77%|███████▋  | 192/250 [00:16<00:04, 13.78it/s, now=None]\u001b[A\n",
            "t:  78%|███████▊  | 195/250 [00:17<00:04, 12.93it/s, now=None]\u001b[A\n",
            "t:  79%|███████▉  | 198/250 [00:17<00:04, 12.84it/s, now=None]\u001b[A\n",
            "t:  80%|████████  | 201/250 [00:17<00:03, 13.39it/s, now=None]\u001b[A\n",
            "t:  81%|████████  | 203/250 [00:17<00:03, 13.28it/s, now=None]\u001b[A\n",
            "t:  82%|████████▏ | 205/250 [00:17<00:03, 12.20it/s, now=None]\u001b[A\n",
            "t:  83%|████████▎ | 207/250 [00:18<00:03, 11.47it/s, now=None]\u001b[A\n",
            "t:  84%|████████▍ | 210/250 [00:18<00:03, 13.31it/s, now=None]\u001b[A\n",
            "t:  85%|████████▍ | 212/250 [00:18<00:03, 12.41it/s, now=None]\u001b[A\n",
            "t:  86%|████████▌ | 214/250 [00:18<00:02, 12.81it/s, now=None]\u001b[A\n",
            "t:  86%|████████▋ | 216/250 [00:18<00:02, 11.93it/s, now=None]\u001b[A\n",
            "t:  87%|████████▋ | 218/250 [00:19<00:02, 11.94it/s, now=None]\u001b[A\n",
            "t:  88%|████████▊ | 220/250 [00:19<00:02, 11.82it/s, now=None]\u001b[A\n",
            "t:  89%|████████▉ | 222/250 [00:19<00:02, 11.69it/s, now=None]\u001b[A\n",
            "t:  90%|████████▉ | 224/250 [00:19<00:02, 10.64it/s, now=None]\u001b[A\n",
            "t:  90%|█████████ | 226/250 [00:19<00:02, 11.64it/s, now=None]\u001b[A\n",
            "t:  91%|█████████ | 228/250 [00:20<00:02,  9.76it/s, now=None]\u001b[A\n",
            "t:  92%|█████████▏| 231/250 [00:20<00:01, 11.09it/s, now=None]\u001b[A\n",
            "t:  93%|█████████▎| 233/250 [00:20<00:01, 11.80it/s, now=None]\u001b[A\n",
            "t:  94%|█████████▍| 235/250 [00:20<00:01, 12.81it/s, now=None]\u001b[A\n",
            "t:  95%|█████████▍| 237/250 [00:20<00:01, 12.87it/s, now=None]\u001b[A\n",
            "t:  96%|█████████▌| 240/250 [00:20<00:00, 14.19it/s, now=None]\u001b[A\n",
            "t:  97%|█████████▋| 242/250 [00:20<00:00, 13.77it/s, now=None]\u001b[A\n",
            "t:  98%|█████████▊| 244/250 [00:21<00:00, 12.57it/s, now=None]\u001b[A\n",
            "t:  98%|█████████▊| 246/250 [00:21<00:00, 12.35it/s, now=None]\u001b[A\n",
            "t:  99%|█████████▉| 248/250 [00:21<00:00, 11.64it/s, now=None]\u001b[A\n",
            "t: 100%|██████████| 250/250 [00:21<00:00,  9.30it/s, now=None]\u001b[A\n",
            "t:  45%|████▌     | 113/250 [07:24<00:34,  3.93it/s, now=None]"
          ]
        },
        {
          "output_type": "stream",
          "name": "stdout",
          "text": [
            "Moviepy - Done !\n",
            "Moviepy - video ready /content/classified_moments/Goal/goal7.mp4\n"
          ]
        },
        {
          "output_type": "stream",
          "name": "stderr",
          "text": [
            "t:  45%|████▌     | 113/250 [07:25<00:34,  3.93it/s, now=None]"
          ]
        },
        {
          "output_type": "stream",
          "name": "stdout",
          "text": [
            "Moviepy - Building video /content/classified_moments/Goal/goal8.mp4.\n",
            "MoviePy - Writing audio in goal8TEMP_MPY_wvf_snd.mp3\n"
          ]
        },
        {
          "output_type": "stream",
          "name": "stderr",
          "text": [
            "\n",
            "chunk:   0%|          | 0/221 [00:00<?, ?it/s, now=None]\u001b[A\n",
            "chunk:  21%|██        | 46/221 [00:00<00:00, 453.70it/s, now=None]\u001b[A\n",
            "chunk:  55%|█████▌    | 122/221 [00:00<00:00, 628.52it/s, now=None]\u001b[A\n",
            "chunk:  92%|█████████▏| 203/221 [00:00<00:00, 706.23it/s, now=None]\u001b[A\n",
            "t:  45%|████▌     | 113/250 [07:25<00:34,  3.93it/s, now=None]"
          ]
        },
        {
          "output_type": "stream",
          "name": "stdout",
          "text": [
            "MoviePy - Done.\n",
            "Moviepy - Writing video /content/classified_moments/Goal/goal8.mp4\n",
            "\n"
          ]
        },
        {
          "output_type": "stream",
          "name": "stderr",
          "text": [
            "\n",
            "t:   0%|          | 0/250 [00:00<?, ?it/s, now=None]\u001b[A\n",
            "t:   3%|▎         | 7/250 [00:00<00:03, 69.45it/s, now=None]\u001b[A\n",
            "t:   6%|▌         | 14/250 [00:00<00:03, 61.18it/s, now=None]\u001b[A\n",
            "t:   8%|▊         | 21/250 [00:00<00:03, 64.39it/s, now=None]\u001b[A\n",
            "t:  11%|█         | 28/250 [00:00<00:03, 58.68it/s, now=None]\u001b[A\n",
            "t:  14%|█▍        | 36/250 [00:00<00:03, 63.87it/s, now=None]\u001b[A\n",
            "t:  18%|█▊        | 44/250 [00:00<00:03, 68.30it/s, now=None]\u001b[A\n",
            "t:  20%|██        | 51/250 [00:00<00:03, 63.59it/s, now=None]\u001b[A\n",
            "t:  23%|██▎       | 58/250 [00:01<00:06, 31.36it/s, now=None]\u001b[A\n",
            "t:  25%|██▌       | 63/250 [00:01<00:08, 21.40it/s, now=None]\u001b[A\n",
            "t:  27%|██▋       | 67/250 [00:02<00:09, 18.77it/s, now=None]\u001b[A\n",
            "t:  28%|██▊       | 70/250 [00:02<00:12, 14.84it/s, now=None]\u001b[A\n",
            "t:  29%|██▉       | 73/250 [00:02<00:13, 13.57it/s, now=None]\u001b[A\n",
            "t:  30%|███       | 76/250 [00:03<00:13, 12.50it/s, now=None]\u001b[A\n",
            "t:  31%|███       | 78/250 [00:03<00:13, 12.90it/s, now=None]\u001b[A\n",
            "t:  32%|███▏      | 80/250 [00:03<00:15, 11.30it/s, now=None]\u001b[A\n",
            "t:  33%|███▎      | 82/250 [00:03<00:15, 11.02it/s, now=None]\u001b[A\n",
            "t:  34%|███▎      | 84/250 [00:03<00:15, 11.02it/s, now=None]\u001b[A\n",
            "t:  34%|███▍      | 86/250 [00:03<00:14, 11.10it/s, now=None]\u001b[A\n",
            "t:  35%|███▌      | 88/250 [00:04<00:15, 10.61it/s, now=None]\u001b[A\n",
            "t:  36%|███▌      | 90/250 [00:04<00:14, 10.78it/s, now=None]\u001b[A\n",
            "t:  37%|███▋      | 92/250 [00:04<00:15,  9.91it/s, now=None]\u001b[A\n",
            "t:  38%|███▊      | 94/250 [00:04<00:13, 11.28it/s, now=None]\u001b[A\n",
            "t:  38%|███▊      | 96/250 [00:05<00:15,  9.71it/s, now=None]\u001b[A\n",
            "t:  39%|███▉      | 98/250 [00:05<00:14, 10.69it/s, now=None]\u001b[A\n",
            "t:  40%|████      | 100/250 [00:05<00:15,  9.43it/s, now=None]\u001b[A\n",
            "t:  41%|████      | 102/250 [00:05<00:14, 10.21it/s, now=None]\u001b[A\n",
            "t:  42%|████▏     | 104/250 [00:05<00:14,  9.97it/s, now=None]\u001b[A\n",
            "t:  42%|████▏     | 106/250 [00:05<00:14,  9.99it/s, now=None]\u001b[A\n",
            "t:  43%|████▎     | 108/250 [00:06<00:13, 10.91it/s, now=None]\u001b[A\n",
            "t:  44%|████▍     | 110/250 [00:06<00:13, 10.24it/s, now=None]\u001b[A\n",
            "t:  45%|████▍     | 112/250 [00:06<00:14,  9.79it/s, now=None]\u001b[A\n",
            "t:  46%|████▌     | 114/250 [00:06<00:12, 11.11it/s, now=None]\u001b[A\n",
            "t:  46%|████▋     | 116/250 [00:06<00:13,  9.90it/s, now=None]\u001b[A\n",
            "t:  47%|████▋     | 118/250 [00:07<00:13,  9.72it/s, now=None]\u001b[A\n",
            "t:  48%|████▊     | 120/250 [00:07<00:12, 10.54it/s, now=None]\u001b[A\n",
            "t:  49%|████▉     | 122/250 [00:07<00:13,  9.61it/s, now=None]\u001b[A\n",
            "t:  50%|████▉     | 124/250 [00:07<00:13,  9.63it/s, now=None]\u001b[A\n",
            "t:  50%|█████     | 126/250 [00:08<00:13,  9.46it/s, now=None]\u001b[A\n",
            "t:  52%|█████▏    | 129/250 [00:08<00:10, 11.87it/s, now=None]\u001b[A\n",
            "t:  52%|█████▏    | 131/250 [00:08<00:10, 11.21it/s, now=None]\u001b[A\n",
            "t:  53%|█████▎    | 133/250 [00:08<00:10, 10.69it/s, now=None]\u001b[A\n",
            "t:  54%|█████▍    | 135/250 [00:08<00:10, 10.92it/s, now=None]\u001b[A\n",
            "t:  55%|█████▍    | 137/250 [00:09<00:11,  9.49it/s, now=None]\u001b[A\n",
            "t:  56%|█████▌    | 139/250 [00:09<00:12,  8.57it/s, now=None]\u001b[A\n",
            "t:  56%|█████▌    | 140/250 [00:09<00:14,  7.37it/s, now=None]\u001b[A\n",
            "t:  56%|█████▋    | 141/250 [00:09<00:16,  6.71it/s, now=None]\u001b[A\n",
            "t:  57%|█████▋    | 142/250 [00:09<00:18,  5.91it/s, now=None]\u001b[A\n",
            "t:  58%|█████▊    | 144/250 [00:10<00:19,  5.32it/s, now=None]\u001b[A\n",
            "t:  58%|█████▊    | 145/250 [00:10<00:19,  5.52it/s, now=None]\u001b[A\n",
            "t:  58%|█████▊    | 146/250 [00:10<00:17,  6.11it/s, now=None]\u001b[A\n",
            "t:  59%|█████▉    | 148/250 [00:11<00:21,  4.66it/s, now=None]\u001b[A\n",
            "t:  60%|█████▉    | 149/250 [00:11<00:20,  4.94it/s, now=None]\u001b[A\n",
            "t:  60%|██████    | 150/250 [00:11<00:18,  5.42it/s, now=None]\u001b[A\n",
            "t:  60%|██████    | 151/250 [00:11<00:16,  5.87it/s, now=None]\u001b[A\n",
            "t:  61%|██████    | 152/250 [00:12<00:21,  4.52it/s, now=None]\u001b[A\n",
            "t:  62%|██████▏   | 154/250 [00:12<00:16,  5.91it/s, now=None]\u001b[A\n",
            "t:  62%|██████▏   | 155/250 [00:12<00:14,  6.49it/s, now=None]\u001b[A\n",
            "t:  62%|██████▏   | 156/250 [00:12<00:18,  5.07it/s, now=None]\u001b[A\n",
            "t:  63%|██████▎   | 158/250 [00:12<00:14,  6.28it/s, now=None]\u001b[A\n",
            "t:  64%|██████▎   | 159/250 [00:13<00:13,  6.63it/s, now=None]\u001b[A\n",
            "t:  64%|██████▍   | 160/250 [00:13<00:18,  4.81it/s, now=None]\u001b[A\n",
            "t:  64%|██████▍   | 161/250 [00:13<00:16,  5.40it/s, now=None]\u001b[A\n",
            "t:  65%|██████▍   | 162/250 [00:13<00:15,  5.83it/s, now=None]\u001b[A\n",
            "t:  66%|██████▌   | 164/250 [00:14<00:17,  4.94it/s, now=None]\u001b[A\n",
            "t:  66%|██████▋   | 166/250 [00:14<00:14,  5.88it/s, now=None]\u001b[A\n",
            "t:  67%|██████▋   | 167/250 [00:14<00:13,  6.13it/s, now=None]\u001b[A\n",
            "t:  67%|██████▋   | 168/250 [00:14<00:12,  6.52it/s, now=None]\u001b[A\n",
            "t:  68%|██████▊   | 170/250 [00:15<00:13,  5.78it/s, now=None]\u001b[A\n",
            "t:  69%|██████▉   | 172/250 [00:15<00:13,  5.91it/s, now=None]\u001b[A\n",
            "t:  70%|██████▉   | 174/250 [00:15<00:10,  7.43it/s, now=None]\u001b[A\n",
            "t:  70%|███████   | 175/250 [00:15<00:11,  6.46it/s, now=None]\u001b[A\n",
            "t:  71%|███████   | 178/250 [00:15<00:08,  8.59it/s, now=None]\u001b[A\n",
            "t:  72%|███████▏  | 181/250 [00:16<00:08,  8.60it/s, now=None]\u001b[A\n",
            "t:  73%|███████▎  | 183/250 [00:16<00:07,  9.22it/s, now=None]\u001b[A\n",
            "t:  74%|███████▎  | 184/250 [00:16<00:07,  8.54it/s, now=None]\u001b[A\n",
            "t:  74%|███████▍  | 185/250 [00:16<00:08,  7.59it/s, now=None]\u001b[A\n",
            "t:  75%|███████▍  | 187/250 [00:16<00:07,  8.72it/s, now=None]\u001b[A\n",
            "t:  75%|███████▌  | 188/250 [00:17<00:06,  8.90it/s, now=None]\u001b[A\n",
            "t:  76%|███████▌  | 189/250 [00:17<00:08,  7.24it/s, now=None]\u001b[A\n",
            "t:  76%|███████▋  | 191/250 [00:17<00:06,  8.59it/s, now=None]\u001b[A\n",
            "t:  77%|███████▋  | 193/250 [00:17<00:07,  7.65it/s, now=None]\u001b[A\n",
            "t:  78%|███████▊  | 195/250 [00:17<00:06,  8.47it/s, now=None]\u001b[A\n",
            "t:  79%|███████▉  | 197/250 [00:18<00:06,  7.96it/s, now=None]\u001b[A\n",
            "t:  79%|███████▉  | 198/250 [00:18<00:06,  8.16it/s, now=None]\u001b[A\n",
            "t:  80%|███████▉  | 199/250 [00:18<00:06,  8.23it/s, now=None]\u001b[A\n",
            "t:  80%|████████  | 201/250 [00:18<00:06,  7.88it/s, now=None]\u001b[A\n",
            "t:  81%|████████  | 203/250 [00:18<00:05,  9.31it/s, now=None]\u001b[A\n",
            "t:  82%|████████▏ | 205/250 [00:19<00:04,  9.90it/s, now=None]\u001b[A\n",
            "t:  83%|████████▎ | 207/250 [00:19<00:04, 10.37it/s, now=None]\u001b[A\n",
            "t:  84%|████████▎ | 209/250 [00:19<00:03, 10.71it/s, now=None]\u001b[A\n",
            "t:  84%|████████▍ | 211/250 [00:19<00:03, 12.19it/s, now=None]\u001b[A\n",
            "t:  85%|████████▌ | 213/250 [00:19<00:03, 11.66it/s, now=None]\u001b[A\n",
            "t:  86%|████████▌ | 215/250 [00:19<00:02, 12.63it/s, now=None]\u001b[A\n",
            "t:  87%|████████▋ | 217/250 [00:20<00:02, 11.65it/s, now=None]\u001b[A\n",
            "t:  88%|████████▊ | 219/250 [00:20<00:02, 12.91it/s, now=None]\u001b[A\n",
            "t:  88%|████████▊ | 221/250 [00:20<00:02, 11.68it/s, now=None]\u001b[A\n",
            "t:  89%|████████▉ | 223/250 [00:20<00:02, 12.85it/s, now=None]\u001b[A\n",
            "t:  90%|█████████ | 225/250 [00:20<00:02, 11.63it/s, now=None]\u001b[A\n",
            "t:  91%|█████████ | 227/250 [00:20<00:01, 11.75it/s, now=None]\u001b[A\n",
            "t:  92%|█████████▏| 229/250 [00:21<00:01, 11.98it/s, now=None]\u001b[A\n",
            "t:  92%|█████████▏| 231/250 [00:21<00:01, 13.37it/s, now=None]\u001b[A\n",
            "t:  93%|█████████▎| 233/250 [00:21<00:01, 12.05it/s, now=None]\u001b[A\n",
            "t:  94%|█████████▍| 235/250 [00:21<00:01, 13.26it/s, now=None]\u001b[A\n",
            "t:  95%|█████████▍| 237/250 [00:21<00:01, 11.26it/s, now=None]\u001b[A\n",
            "t:  96%|█████████▌| 240/250 [00:21<00:00, 12.80it/s, now=None]\u001b[A\n",
            "t:  97%|█████████▋| 242/250 [00:22<00:00, 11.83it/s, now=None]\u001b[A\n",
            "t:  98%|█████████▊| 245/250 [00:22<00:00, 12.13it/s, now=None]\u001b[A\n",
            "t:  99%|█████████▉| 247/250 [00:22<00:00, 13.15it/s, now=None]\u001b[A\n",
            "t: 100%|█████████▉| 249/250 [00:22<00:00, 12.31it/s, now=None]\u001b[A\n",
            "t:  45%|████▌     | 113/250 [07:51<00:34,  3.93it/s, now=None]"
          ]
        },
        {
          "output_type": "stream",
          "name": "stdout",
          "text": [
            "Moviepy - Done !\n",
            "Moviepy - video ready /content/classified_moments/Goal/goal8.mp4\n"
          ]
        },
        {
          "output_type": "stream",
          "name": "stderr",
          "text": [
            "t:  45%|████▌     | 113/250 [07:52<00:34,  3.93it/s, now=None]"
          ]
        },
        {
          "output_type": "stream",
          "name": "stdout",
          "text": [
            "Moviepy - Building video /content/classified_moments/Goal/goal9.mp4.\n",
            "MoviePy - Writing audio in goal9TEMP_MPY_wvf_snd.mp3\n"
          ]
        },
        {
          "output_type": "stream",
          "name": "stderr",
          "text": [
            "\n",
            "chunk:   0%|          | 0/221 [00:00<?, ?it/s, now=None]\u001b[A\n",
            "chunk:  19%|█▊        | 41/221 [00:00<00:00, 409.05it/s, now=None]\u001b[A\n",
            "chunk:  53%|█████▎    | 117/221 [00:00<00:00, 613.55it/s, now=None]\u001b[A\n",
            "chunk:  86%|████████▌ | 189/221 [00:00<00:00, 661.40it/s, now=None]\u001b[A\n",
            "t:  45%|████▌     | 113/250 [07:52<00:34,  3.93it/s, now=None]"
          ]
        },
        {
          "output_type": "stream",
          "name": "stdout",
          "text": [
            "MoviePy - Done.\n",
            "Moviepy - Writing video /content/classified_moments/Goal/goal9.mp4\n",
            "\n"
          ]
        },
        {
          "output_type": "stream",
          "name": "stderr",
          "text": [
            "\n",
            "t:   0%|          | 0/250 [00:00<?, ?it/s, now=None]\u001b[A\n",
            "t:   3%|▎         | 8/250 [00:00<00:03, 79.30it/s, now=None]\u001b[A\n",
            "t:   6%|▋         | 16/250 [00:00<00:03, 59.20it/s, now=None]\u001b[A\n",
            "t:   9%|▉         | 23/250 [00:00<00:03, 61.56it/s, now=None]\u001b[A\n",
            "t:  12%|█▏        | 30/250 [00:00<00:03, 55.47it/s, now=None]\u001b[A\n",
            "t:  14%|█▍        | 36/250 [00:00<00:03, 56.19it/s, now=None]\u001b[A\n",
            "t:  17%|█▋        | 42/250 [00:00<00:03, 56.40it/s, now=None]\u001b[A\n",
            "t:  20%|██        | 50/250 [00:00<00:03, 61.03it/s, now=None]\u001b[A\n",
            "t:  23%|██▎       | 57/250 [00:01<00:06, 31.43it/s, now=None]\u001b[A\n",
            "t:  25%|██▍       | 62/250 [00:01<00:08, 22.97it/s, now=None]\u001b[A\n",
            "t:  26%|██▋       | 66/250 [00:02<00:10, 17.13it/s, now=None]\u001b[A\n",
            "t:  28%|██▊       | 69/250 [00:02<00:13, 13.27it/s, now=None]\u001b[A\n",
            "t:  29%|██▉       | 72/250 [00:03<00:16, 10.61it/s, now=None]\u001b[A\n",
            "t:  30%|██▉       | 74/250 [00:03<00:17, 10.25it/s, now=None]\u001b[A\n",
            "t:  30%|███       | 76/250 [00:03<00:20,  8.70it/s, now=None]\u001b[A\n",
            "t:  31%|███       | 78/250 [00:03<00:20,  8.43it/s, now=None]\u001b[A\n",
            "t:  32%|███▏      | 80/250 [00:04<00:18,  9.39it/s, now=None]\u001b[A\n",
            "t:  33%|███▎      | 82/250 [00:04<00:23,  7.09it/s, now=None]\u001b[A\n",
            "t:  34%|███▎      | 84/250 [00:04<00:25,  6.48it/s, now=None]\u001b[A\n",
            "t:  34%|███▍      | 85/250 [00:05<00:24,  6.80it/s, now=None]\u001b[A\n",
            "t:  34%|███▍      | 86/250 [00:05<00:25,  6.51it/s, now=None]\u001b[A\n",
            "t:  35%|███▍      | 87/250 [00:05<00:26,  6.26it/s, now=None]\u001b[A\n",
            "t:  35%|███▌      | 88/250 [00:05<00:28,  5.75it/s, now=None]\u001b[A\n",
            "t:  36%|███▌      | 89/250 [00:05<00:27,  5.85it/s, now=None]\u001b[A\n",
            "t:  36%|███▋      | 91/250 [00:05<00:19,  8.15it/s, now=None]\u001b[A\n",
            "t:  37%|███▋      | 92/250 [00:06<00:30,  5.15it/s, now=None]\u001b[A\n",
            "t:  38%|███▊      | 94/250 [00:06<00:23,  6.56it/s, now=None]\u001b[A\n",
            "t:  38%|███▊      | 95/250 [00:06<00:22,  6.85it/s, now=None]\u001b[A\n",
            "t:  38%|███▊      | 96/250 [00:06<00:27,  5.60it/s, now=None]\u001b[A\n",
            "t:  39%|███▉      | 98/250 [00:07<00:24,  6.22it/s, now=None]\u001b[A\n",
            "t:  40%|████      | 100/250 [00:07<00:25,  5.85it/s, now=None]\u001b[A\n",
            "t:  40%|████      | 101/250 [00:07<00:23,  6.37it/s, now=None]\u001b[A\n",
            "t:  41%|████      | 103/250 [00:07<00:19,  7.70it/s, now=None]\u001b[A\n",
            "t:  42%|████▏     | 104/250 [00:08<00:23,  6.14it/s, now=None]\u001b[A\n",
            "t:  42%|████▏     | 106/250 [00:08<00:19,  7.57it/s, now=None]\u001b[A\n",
            "t:  43%|████▎     | 107/250 [00:08<00:18,  7.55it/s, now=None]\u001b[A\n",
            "t:  43%|████▎     | 108/250 [00:08<00:22,  6.33it/s, now=None]\u001b[A\n",
            "t:  44%|████▍     | 110/250 [00:09<00:23,  5.84it/s, now=None]\u001b[A\n",
            "t:  45%|████▍     | 112/250 [00:09<00:20,  6.62it/s, now=None]\u001b[A\n",
            "t:  46%|████▌     | 115/250 [00:09<00:14,  9.39it/s, now=None]\u001b[A\n",
            "t:  47%|████▋     | 117/250 [00:09<00:13,  9.78it/s, now=None]\u001b[A\n",
            "t:  48%|████▊     | 119/250 [00:09<00:12, 10.55it/s, now=None]\u001b[A\n",
            "t:  48%|████▊     | 121/250 [00:09<00:11, 11.48it/s, now=None]\u001b[A\n",
            "t:  50%|████▉     | 124/250 [00:10<00:10, 12.36it/s, now=None]\u001b[A\n",
            "t:  50%|█████     | 126/250 [00:10<00:10, 12.15it/s, now=None]\u001b[A\n",
            "t:  51%|█████     | 128/250 [00:10<00:09, 12.88it/s, now=None]\u001b[A\n",
            "t:  52%|█████▏    | 130/250 [00:10<00:10, 11.94it/s, now=None]\u001b[A\n",
            "t:  53%|█████▎    | 132/250 [00:10<00:09, 13.10it/s, now=None]\u001b[A\n",
            "t:  54%|█████▎    | 134/250 [00:10<00:09, 11.86it/s, now=None]\u001b[A\n",
            "t:  54%|█████▍    | 136/250 [00:11<00:08, 12.79it/s, now=None]\u001b[A\n",
            "t:  55%|█████▌    | 138/250 [00:11<00:09, 12.07it/s, now=None]\u001b[A\n",
            "t:  56%|█████▋    | 141/250 [00:11<00:08, 12.20it/s, now=None]\u001b[A\n",
            "t:  57%|█████▋    | 143/250 [00:11<00:08, 12.20it/s, now=None]\u001b[A\n",
            "t:  58%|█████▊    | 145/250 [00:11<00:08, 12.17it/s, now=None]\u001b[A\n",
            "t:  59%|█████▉    | 147/250 [00:11<00:07, 12.96it/s, now=None]\u001b[A\n",
            "t:  60%|█████▉    | 149/250 [00:12<00:08, 11.99it/s, now=None]\u001b[A\n",
            "t:  60%|██████    | 151/250 [00:12<00:08, 12.17it/s, now=None]\u001b[A\n",
            "t:  61%|██████    | 153/250 [00:12<00:07, 12.85it/s, now=None]\u001b[A\n",
            "t:  62%|██████▏   | 155/250 [00:12<00:07, 13.48it/s, now=None]\u001b[A\n",
            "t:  63%|██████▎   | 157/250 [00:12<00:08, 11.51it/s, now=None]\u001b[A\n",
            "t:  64%|██████▎   | 159/250 [00:12<00:07, 12.66it/s, now=None]\u001b[A\n",
            "t:  64%|██████▍   | 161/250 [00:13<00:07, 11.55it/s, now=None]\u001b[A\n",
            "t:  65%|██████▌   | 163/250 [00:13<00:07, 12.39it/s, now=None]\u001b[A\n",
            "t:  66%|██████▌   | 165/250 [00:13<00:07, 12.11it/s, now=None]\u001b[A\n",
            "t:  67%|██████▋   | 167/250 [00:13<00:06, 12.53it/s, now=None]\u001b[A\n",
            "t:  68%|██████▊   | 169/250 [00:13<00:06, 11.84it/s, now=None]\u001b[A\n",
            "t:  69%|██████▉   | 172/250 [00:13<00:05, 13.87it/s, now=None]\u001b[A\n",
            "t:  70%|██████▉   | 174/250 [00:14<00:06, 12.47it/s, now=None]\u001b[A\n",
            "t:  71%|███████   | 177/250 [00:14<00:05, 12.26it/s, now=None]\u001b[A\n",
            "t:  72%|███████▏  | 179/250 [00:14<00:05, 12.59it/s, now=None]\u001b[A\n",
            "t:  72%|███████▏  | 181/250 [00:14<00:05, 12.22it/s, now=None]\u001b[A\n",
            "t:  73%|███████▎  | 183/250 [00:14<00:05, 13.29it/s, now=None]\u001b[A\n",
            "t:  74%|███████▍  | 185/250 [00:15<00:05, 12.11it/s, now=None]\u001b[A\n",
            "t:  75%|███████▍  | 187/250 [00:15<00:04, 13.37it/s, now=None]\u001b[A\n",
            "t:  76%|███████▌  | 189/250 [00:15<00:04, 12.52it/s, now=None]\u001b[A\n",
            "t:  76%|███████▋  | 191/250 [00:15<00:04, 13.31it/s, now=None]\u001b[A\n",
            "t:  77%|███████▋  | 193/250 [00:15<00:04, 13.15it/s, now=None]\u001b[A\n",
            "t:  78%|███████▊  | 195/250 [00:15<00:03, 13.88it/s, now=None]\u001b[A\n",
            "t:  79%|███████▉  | 197/250 [00:15<00:03, 13.39it/s, now=None]\u001b[A\n",
            "t:  80%|███████▉  | 199/250 [00:16<00:04, 11.51it/s, now=None]\u001b[A\n",
            "t:  80%|████████  | 201/250 [00:16<00:04, 12.12it/s, now=None]\u001b[A\n",
            "t:  81%|████████  | 203/250 [00:16<00:04, 11.14it/s, now=None]\u001b[A\n",
            "t:  82%|████████▏ | 205/250 [00:16<00:04, 11.15it/s, now=None]\u001b[A\n",
            "t:  83%|████████▎ | 207/250 [00:16<00:03, 11.41it/s, now=None]\u001b[A\n",
            "t:  84%|████████▎ | 209/250 [00:17<00:03, 10.67it/s, now=None]\u001b[A\n",
            "t:  84%|████████▍ | 211/250 [00:17<00:03, 11.61it/s, now=None]\u001b[A\n",
            "t:  85%|████████▌ | 213/250 [00:17<00:03, 11.84it/s, now=None]\u001b[A\n",
            "t:  86%|████████▌ | 215/250 [00:17<00:03,  9.84it/s, now=None]\u001b[A\n",
            "t:  87%|████████▋ | 217/250 [00:17<00:03,  8.78it/s, now=None]\u001b[A\n",
            "t:  88%|████████▊ | 219/250 [00:18<00:04,  7.30it/s, now=None]\u001b[A\n",
            "t:  88%|████████▊ | 221/250 [00:18<00:03,  8.39it/s, now=None]\u001b[A\n",
            "t:  89%|████████▉ | 223/250 [00:18<00:03,  7.31it/s, now=None]\u001b[A\n",
            "t:  90%|█████████ | 225/250 [00:19<00:03,  7.90it/s, now=None]\u001b[A\n",
            "t:  90%|█████████ | 226/250 [00:19<00:03,  7.23it/s, now=None]\u001b[A\n",
            "t:  91%|█████████ | 227/250 [00:19<00:03,  7.66it/s, now=None]\u001b[A\n",
            "t:  91%|█████████ | 228/250 [00:19<00:03,  6.94it/s, now=None]\u001b[A\n",
            "t:  92%|█████████▏| 230/250 [00:19<00:02,  8.24it/s, now=None]\u001b[A\n",
            "t:  92%|█████████▏| 231/250 [00:19<00:02,  8.28it/s, now=None]\u001b[A\n",
            "t:  93%|█████████▎| 233/250 [00:19<00:01, 10.24it/s, now=None]\u001b[A\n",
            "t:  94%|█████████▍| 235/250 [00:20<00:01,  8.14it/s, now=None]\u001b[A\n",
            "t:  95%|█████████▍| 237/250 [00:20<00:01,  9.19it/s, now=None]\u001b[A\n",
            "t:  96%|█████████▌| 239/250 [00:20<00:01,  8.86it/s, now=None]\u001b[A\n",
            "t:  96%|█████████▌| 240/250 [00:20<00:01,  8.86it/s, now=None]\u001b[A\n",
            "t:  96%|█████████▋| 241/250 [00:20<00:01,  7.48it/s, now=None]\u001b[A\n",
            "t:  97%|█████████▋| 243/250 [00:21<00:00,  9.13it/s, now=None]\u001b[A\n",
            "t:  98%|█████████▊| 244/250 [00:21<00:00,  9.04it/s, now=None]\u001b[A\n",
            "t:  98%|█████████▊| 246/250 [00:21<00:00, 11.21it/s, now=None]\u001b[A\n",
            "t:  99%|█████████▉| 248/250 [00:21<00:00,  7.76it/s, now=None]\u001b[A\n",
            "t: 100%|██████████| 250/250 [00:21<00:00,  8.48it/s, now=None]\u001b[A\n",
            "t:  45%|████▌     | 113/250 [08:20<00:34,  3.93it/s, now=None]"
          ]
        },
        {
          "output_type": "stream",
          "name": "stdout",
          "text": [
            "Moviepy - Done !\n",
            "Moviepy - video ready /content/classified_moments/Goal/goal9.mp4\n"
          ]
        },
        {
          "output_type": "stream",
          "name": "stderr",
          "text": [
            "t:  45%|████▌     | 113/250 [08:21<00:34,  3.93it/s, now=None]"
          ]
        },
        {
          "output_type": "stream",
          "name": "stdout",
          "text": [
            "Moviepy - Building video /content/classified_moments/Goal/goal10.mp4.\n",
            "MoviePy - Writing audio in goal10TEMP_MPY_wvf_snd.mp3\n"
          ]
        },
        {
          "output_type": "stream",
          "name": "stderr",
          "text": [
            "\n",
            "chunk:   0%|          | 0/221 [00:00<?, ?it/s, now=None]\u001b[A\n",
            "chunk:  15%|█▌        | 34/221 [00:00<00:00, 338.87it/s, now=None]\u001b[A\n",
            "chunk:  50%|████▉     | 110/221 [00:00<00:00, 584.79it/s, now=None]\u001b[A\n",
            "chunk:  86%|████████▌ | 189/221 [00:00<00:00, 672.65it/s, now=None]\u001b[A\n",
            "t:  45%|████▌     | 113/250 [08:21<00:34,  3.93it/s, now=None]"
          ]
        },
        {
          "output_type": "stream",
          "name": "stdout",
          "text": [
            "MoviePy - Done.\n",
            "Moviepy - Writing video /content/classified_moments/Goal/goal10.mp4\n",
            "\n"
          ]
        },
        {
          "output_type": "stream",
          "name": "stderr",
          "text": [
            "\n",
            "t:   0%|          | 0/250 [00:00<?, ?it/s, now=None]\u001b[A\n",
            "t:   4%|▎         | 9/250 [00:00<00:02, 87.66it/s, now=None]\u001b[A\n",
            "t:   7%|▋         | 18/250 [00:00<00:03, 65.93it/s, now=None]\u001b[A\n",
            "t:  10%|█         | 25/250 [00:00<00:03, 61.88it/s, now=None]\u001b[A\n",
            "t:  13%|█▎        | 32/250 [00:00<00:03, 63.12it/s, now=None]\u001b[A\n",
            "t:  16%|█▌        | 39/250 [00:00<00:03, 63.82it/s, now=None]\u001b[A\n",
            "t:  18%|█▊        | 46/250 [00:00<00:03, 61.68it/s, now=None]\u001b[A\n",
            "t:  21%|██        | 53/250 [00:00<00:03, 55.36it/s, now=None]\u001b[A\n",
            "t:  24%|██▎       | 59/250 [00:01<00:06, 28.10it/s, now=None]\u001b[A\n",
            "t:  26%|██▌       | 64/250 [00:01<00:08, 23.12it/s, now=None]\u001b[A\n",
            "t:  27%|██▋       | 68/250 [00:01<00:09, 19.73it/s, now=None]\u001b[A\n",
            "t:  28%|██▊       | 71/250 [00:02<00:09, 18.32it/s, now=None]\u001b[A\n",
            "t:  30%|██▉       | 74/250 [00:02<00:11, 15.37it/s, now=None]\u001b[A\n",
            "t:  30%|███       | 76/250 [00:02<00:12, 13.64it/s, now=None]\u001b[A\n",
            "t:  31%|███       | 78/250 [00:02<00:13, 12.68it/s, now=None]\u001b[A\n",
            "t:  32%|███▏      | 80/250 [00:03<00:15, 11.22it/s, now=None]\u001b[A\n",
            "t:  33%|███▎      | 82/250 [00:03<00:15, 10.72it/s, now=None]\u001b[A\n",
            "t:  34%|███▎      | 84/250 [00:03<00:16, 10.01it/s, now=None]\u001b[A\n",
            "t:  34%|███▍      | 86/250 [00:03<00:16, 10.14it/s, now=None]\u001b[A\n",
            "t:  35%|███▌      | 88/250 [00:04<00:15, 10.50it/s, now=None]\u001b[A\n",
            "t:  36%|███▌      | 90/250 [00:04<00:16,  9.61it/s, now=None]\u001b[A\n",
            "t:  37%|███▋      | 92/250 [00:04<00:14, 10.65it/s, now=None]\u001b[A\n",
            "t:  38%|███▊      | 94/250 [00:04<00:16,  9.27it/s, now=None]\u001b[A\n",
            "t:  38%|███▊      | 96/250 [00:04<00:14, 10.51it/s, now=None]\u001b[A\n",
            "t:  39%|███▉      | 98/250 [00:05<00:16,  9.11it/s, now=None]\u001b[A\n",
            "t:  40%|████      | 100/250 [00:05<00:14, 10.42it/s, now=None]\u001b[A\n",
            "t:  41%|████      | 102/250 [00:05<00:14, 10.21it/s, now=None]\u001b[A\n",
            "t:  42%|████▏     | 104/250 [00:05<00:15,  9.24it/s, now=None]\u001b[A\n",
            "t:  43%|████▎     | 107/250 [00:05<00:14,  9.86it/s, now=None]\u001b[A\n",
            "t:  44%|████▎     | 109/250 [00:06<00:13, 10.55it/s, now=None]\u001b[A\n",
            "t:  44%|████▍     | 111/250 [00:06<00:14,  9.71it/s, now=None]\u001b[A\n",
            "t:  46%|████▌     | 114/250 [00:06<00:12, 11.16it/s, now=None]\u001b[A\n",
            "t:  46%|████▋     | 116/250 [00:06<00:11, 12.04it/s, now=None]\u001b[A\n",
            "t:  47%|████▋     | 118/250 [00:06<00:12, 10.35it/s, now=None]\u001b[A\n",
            "t:  48%|████▊     | 121/250 [00:07<00:12, 10.52it/s, now=None]\u001b[A\n",
            "t:  49%|████▉     | 123/250 [00:07<00:12, 10.45it/s, now=None]\u001b[A\n",
            "t:  50%|█████     | 125/250 [00:07<00:15,  8.13it/s, now=None]\u001b[A\n",
            "t:  50%|█████     | 126/250 [00:07<00:15,  8.26it/s, now=None]\u001b[A\n",
            "t:  51%|█████     | 128/250 [00:08<00:15,  7.74it/s, now=None]\u001b[A\n",
            "t:  52%|█████▏    | 129/250 [00:08<00:15,  8.00it/s, now=None]\u001b[A\n",
            "t:  52%|█████▏    | 130/250 [00:08<00:17,  6.81it/s, now=None]\u001b[A\n",
            "t:  52%|█████▏    | 131/250 [00:08<00:17,  6.65it/s, now=None]\u001b[A\n",
            "t:  53%|█████▎    | 133/250 [00:09<00:17,  6.75it/s, now=None]\u001b[A\n",
            "t:  54%|█████▎    | 134/250 [00:09<00:16,  6.85it/s, now=None]\u001b[A\n",
            "t:  54%|█████▍    | 135/250 [00:09<00:16,  7.18it/s, now=None]\u001b[A\n",
            "t:  54%|█████▍    | 136/250 [00:09<00:14,  7.66it/s, now=None]\u001b[A\n",
            "t:  55%|█████▌    | 138/250 [00:09<00:11,  9.48it/s, now=None]\u001b[A\n",
            "t:  56%|█████▌    | 140/250 [00:09<00:11,  9.48it/s, now=None]\u001b[A\n",
            "t:  57%|█████▋    | 142/250 [00:10<00:12,  8.70it/s, now=None]\u001b[A\n",
            "t:  58%|█████▊    | 144/250 [00:10<00:10, 10.30it/s, now=None]\u001b[A\n",
            "t:  58%|█████▊    | 146/250 [00:10<00:12,  8.54it/s, now=None]\u001b[A\n",
            "t:  59%|█████▉    | 148/250 [00:10<00:10, 10.05it/s, now=None]\u001b[A\n",
            "t:  60%|██████    | 150/250 [00:10<00:10,  9.74it/s, now=None]\u001b[A\n",
            "t:  61%|██████    | 152/250 [00:11<00:11,  8.74it/s, now=None]\u001b[A\n",
            "t:  62%|██████▏   | 154/250 [00:11<00:11,  8.46it/s, now=None]\u001b[A\n",
            "t:  62%|██████▏   | 155/250 [00:11<00:12,  7.53it/s, now=None]\u001b[A\n",
            "t:  62%|██████▏   | 156/250 [00:11<00:13,  7.05it/s, now=None]\u001b[A\n",
            "t:  63%|██████▎   | 157/250 [00:11<00:12,  7.27it/s, now=None]\u001b[A\n",
            "t:  63%|██████▎   | 158/250 [00:11<00:12,  7.63it/s, now=None]\u001b[A\n",
            "t:  64%|██████▎   | 159/250 [00:12<00:12,  7.48it/s, now=None]\u001b[A\n",
            "t:  64%|██████▍   | 160/250 [00:12<00:13,  6.56it/s, now=None]\u001b[A\n",
            "t:  65%|██████▍   | 162/250 [00:12<00:14,  6.18it/s, now=None]\u001b[A\n",
            "t:  65%|██████▌   | 163/250 [00:12<00:13,  6.68it/s, now=None]\u001b[A\n",
            "t:  66%|██████▌   | 164/250 [00:12<00:12,  7.13it/s, now=None]\u001b[A\n",
            "t:  66%|██████▌   | 165/250 [00:13<00:12,  6.80it/s, now=None]\u001b[A\n",
            "t:  66%|██████▋   | 166/250 [00:13<00:15,  5.31it/s, now=None]\u001b[A\n",
            "t:  67%|██████▋   | 167/250 [00:13<00:14,  5.61it/s, now=None]\u001b[A\n",
            "t:  68%|██████▊   | 169/250 [00:13<00:10,  7.88it/s, now=None]\u001b[A\n",
            "t:  68%|██████▊   | 170/250 [00:13<00:13,  6.14it/s, now=None]\u001b[A\n",
            "t:  68%|██████▊   | 171/250 [00:14<00:12,  6.14it/s, now=None]\u001b[A\n",
            "t:  69%|██████▉   | 172/250 [00:14<00:14,  5.22it/s, now=None]\u001b[A\n",
            "t:  69%|██████▉   | 173/250 [00:14<00:13,  5.76it/s, now=None]\u001b[A\n",
            "t:  70%|██████▉   | 174/250 [00:14<00:12,  5.91it/s, now=None]\u001b[A\n",
            "t:  70%|███████   | 175/250 [00:14<00:14,  5.16it/s, now=None]\u001b[A\n",
            "t:  71%|███████   | 177/250 [00:15<00:13,  5.32it/s, now=None]\u001b[A\n",
            "t:  71%|███████   | 178/250 [00:15<00:15,  4.80it/s, now=None]\u001b[A\n",
            "t:  72%|███████▏  | 179/250 [00:15<00:14,  4.77it/s, now=None]\u001b[A\n",
            "t:  72%|███████▏  | 180/250 [00:15<00:14,  4.97it/s, now=None]\u001b[A\n",
            "t:  72%|███████▏  | 181/250 [00:16<00:14,  4.68it/s, now=None]\u001b[A\n",
            "t:  73%|███████▎  | 183/250 [00:16<00:10,  6.17it/s, now=None]\u001b[A\n",
            "t:  74%|███████▎  | 184/250 [00:16<00:10,  6.08it/s, now=None]\u001b[A\n",
            "t:  74%|███████▍  | 186/250 [00:16<00:07,  8.07it/s, now=None]\u001b[A\n",
            "t:  75%|███████▍  | 187/250 [00:16<00:07,  8.09it/s, now=None]\u001b[A\n",
            "t:  76%|███████▌  | 189/250 [00:17<00:08,  7.60it/s, now=None]\u001b[A\n",
            "t:  76%|███████▋  | 191/250 [00:17<00:06,  8.65it/s, now=None]\u001b[A\n",
            "t:  77%|███████▋  | 192/250 [00:17<00:07,  8.26it/s, now=None]\u001b[A\n",
            "t:  77%|███████▋  | 193/250 [00:17<00:07,  7.46it/s, now=None]\u001b[A\n",
            "t:  78%|███████▊  | 195/250 [00:17<00:06,  8.64it/s, now=None]\u001b[A\n",
            "t:  78%|███████▊  | 196/250 [00:17<00:06,  8.44it/s, now=None]\u001b[A\n",
            "t:  79%|███████▉  | 197/250 [00:18<00:07,  7.54it/s, now=None]\u001b[A\n",
            "t:  80%|███████▉  | 199/250 [00:18<00:05,  8.67it/s, now=None]\u001b[A\n",
            "t:  80%|████████  | 201/250 [00:18<00:06,  7.11it/s, now=None]\u001b[A\n",
            "t:  81%|████████  | 202/250 [00:18<00:06,  7.31it/s, now=None]\u001b[A\n",
            "t:  81%|████████  | 203/250 [00:18<00:06,  7.50it/s, now=None]\u001b[A\n",
            "t:  82%|████████▏ | 205/250 [00:19<00:06,  6.70it/s, now=None]\u001b[A\n",
            "t:  83%|████████▎ | 207/250 [00:19<00:05,  7.62it/s, now=None]\u001b[A\n",
            "t:  83%|████████▎ | 208/250 [00:19<00:05,  7.60it/s, now=None]\u001b[A\n",
            "t:  84%|████████▎ | 209/250 [00:19<00:06,  6.59it/s, now=None]\u001b[A\n",
            "t:  84%|████████▍ | 210/250 [00:19<00:05,  7.13it/s, now=None]\u001b[A\n",
            "t:  84%|████████▍ | 211/250 [00:19<00:05,  7.44it/s, now=None]\u001b[A\n",
            "t:  85%|████████▌ | 213/250 [00:20<00:05,  6.68it/s, now=None]\u001b[A\n",
            "t:  86%|████████▌ | 214/250 [00:20<00:05,  7.17it/s, now=None]\u001b[A\n",
            "t:  86%|████████▋ | 216/250 [00:20<00:04,  8.03it/s, now=None]\u001b[A\n",
            "t:  87%|████████▋ | 217/250 [00:20<00:05,  6.22it/s, now=None]\u001b[A\n",
            "t:  87%|████████▋ | 218/250 [00:20<00:04,  6.80it/s, now=None]\u001b[A\n",
            "t:  88%|████████▊ | 219/250 [00:21<00:04,  6.95it/s, now=None]\u001b[A\n",
            "t:  88%|████████▊ | 220/250 [00:21<00:04,  7.06it/s, now=None]\u001b[A\n",
            "t:  88%|████████▊ | 221/250 [00:21<00:04,  6.52it/s, now=None]\u001b[A\n",
            "t:  89%|████████▉ | 222/250 [00:21<00:04,  5.80it/s, now=None]\u001b[A\n",
            "t:  89%|████████▉ | 223/250 [00:21<00:04,  5.98it/s, now=None]\u001b[A\n",
            "t:  90%|█████████ | 225/250 [00:22<00:04,  5.73it/s, now=None]\u001b[A\n",
            "t:  91%|█████████ | 227/250 [00:22<00:03,  6.56it/s, now=None]\u001b[A\n",
            "t:  91%|█████████ | 228/250 [00:22<00:03,  6.58it/s, now=None]\u001b[A\n",
            "t:  92%|█████████▏| 229/250 [00:22<00:03,  5.44it/s, now=None]\u001b[A\n",
            "t:  92%|█████████▏| 231/250 [00:23<00:02,  6.50it/s, now=None]\u001b[A\n",
            "t:  93%|█████████▎| 233/250 [00:23<00:02,  6.61it/s, now=None]\u001b[A\n",
            "t:  94%|█████████▎| 234/250 [00:23<00:02,  6.55it/s, now=None]\u001b[A\n",
            "t:  94%|█████████▍| 235/250 [00:23<00:02,  7.08it/s, now=None]\u001b[A\n",
            "t:  95%|█████████▍| 237/250 [00:23<00:01,  7.03it/s, now=None]\u001b[A\n",
            "t:  96%|█████████▌| 239/250 [00:24<00:01,  8.91it/s, now=None]\u001b[A\n",
            "t:  96%|█████████▋| 241/250 [00:24<00:00,  9.07it/s, now=None]\u001b[A\n",
            "t:  98%|█████████▊| 244/250 [00:24<00:00, 11.96it/s, now=None]\u001b[A\n",
            "t:  98%|█████████▊| 246/250 [00:24<00:00, 10.73it/s, now=None]\u001b[A\n",
            "t:  99%|█████████▉| 248/250 [00:24<00:00, 11.73it/s, now=None]\u001b[A\n",
            "t: 100%|██████████| 250/250 [00:24<00:00, 10.53it/s, now=None]\u001b[A\n",
            "t:  45%|████▌     | 113/250 [08:52<00:34,  3.93it/s, now=None]"
          ]
        },
        {
          "output_type": "stream",
          "name": "stdout",
          "text": [
            "Moviepy - Done !\n",
            "Moviepy - video ready /content/classified_moments/Goal/goal10.mp4\n"
          ]
        },
        {
          "output_type": "stream",
          "name": "stderr",
          "text": [
            "t:  45%|████▌     | 113/250 [08:53<00:34,  3.93it/s, now=None]"
          ]
        },
        {
          "output_type": "stream",
          "name": "stdout",
          "text": [
            "Moviepy - Building video /content/classified_moments/Goal/goal11.mp4.\n",
            "MoviePy - Writing audio in goal11TEMP_MPY_wvf_snd.mp3\n"
          ]
        },
        {
          "output_type": "stream",
          "name": "stderr",
          "text": [
            "\n",
            "chunk:   0%|          | 0/221 [00:00<?, ?it/s, now=None]\u001b[A\n",
            "chunk:  18%|█▊        | 39/221 [00:00<00:00, 381.58it/s, now=None]\u001b[A\n",
            "chunk:  52%|█████▏    | 116/221 [00:00<00:00, 603.27it/s, now=None]\u001b[A\n",
            "chunk:  90%|████████▉ | 198/221 [00:00<00:00, 700.70it/s, now=None]\u001b[A\n",
            "t:  45%|████▌     | 113/250 [08:54<00:34,  3.93it/s, now=None]"
          ]
        },
        {
          "output_type": "stream",
          "name": "stdout",
          "text": [
            "MoviePy - Done.\n",
            "Moviepy - Writing video /content/classified_moments/Goal/goal11.mp4\n",
            "\n"
          ]
        },
        {
          "output_type": "stream",
          "name": "stderr",
          "text": [
            "\n",
            "t:   0%|          | 0/250 [00:00<?, ?it/s, now=None]\u001b[A\n",
            "t:   4%|▎         | 9/250 [00:00<00:02, 89.44it/s, now=None]\u001b[A\n",
            "t:   7%|▋         | 18/250 [00:00<00:03, 64.94it/s, now=None]\u001b[A\n",
            "t:  10%|█         | 25/250 [00:00<00:03, 64.19it/s, now=None]\u001b[A\n",
            "t:  14%|█▎        | 34/250 [00:00<00:03, 69.61it/s, now=None]\u001b[A\n",
            "t:  17%|█▋        | 42/250 [00:00<00:03, 67.18it/s, now=None]\u001b[A\n",
            "t:  20%|█▉        | 49/250 [00:00<00:03, 65.47it/s, now=None]\u001b[A\n",
            "t:  22%|██▏       | 56/250 [00:00<00:02, 65.05it/s, now=None]\u001b[A\n",
            "t:  25%|██▌       | 63/250 [00:01<00:07, 23.92it/s, now=None]\u001b[A\n",
            "t:  27%|██▋       | 68/250 [00:02<00:10, 17.31it/s, now=None]\u001b[A\n",
            "t:  29%|██▉       | 72/250 [00:02<00:11, 15.03it/s, now=None]\u001b[A\n",
            "t:  30%|███       | 75/250 [00:02<00:11, 14.62it/s, now=None]\u001b[A\n",
            "t:  31%|███       | 78/250 [00:02<00:11, 14.34it/s, now=None]\u001b[A\n",
            "t:  32%|███▏      | 81/250 [00:03<00:11, 14.86it/s, now=None]\u001b[A\n",
            "t:  33%|███▎      | 83/250 [00:03<00:11, 14.42it/s, now=None]\u001b[A\n",
            "t:  34%|███▍      | 85/250 [00:03<00:11, 13.81it/s, now=None]\u001b[A\n",
            "t:  35%|███▍      | 87/250 [00:03<00:11, 14.26it/s, now=None]\u001b[A\n",
            "t:  36%|███▌      | 89/250 [00:03<00:11, 14.08it/s, now=None]\u001b[A\n",
            "t:  36%|███▋      | 91/250 [00:03<00:12, 12.35it/s, now=None]\u001b[A\n",
            "t:  38%|███▊      | 94/250 [00:04<00:11, 13.24it/s, now=None]\u001b[A\n",
            "t:  38%|███▊      | 96/250 [00:04<00:12, 12.05it/s, now=None]\u001b[A\n",
            "t:  39%|███▉      | 98/250 [00:04<00:12, 12.41it/s, now=None]\u001b[A\n",
            "t:  40%|████      | 100/250 [00:04<00:12, 11.94it/s, now=None]\u001b[A\n",
            "t:  41%|████      | 102/250 [00:04<00:13, 10.75it/s, now=None]\u001b[A\n",
            "t:  42%|████▏     | 104/250 [00:05<00:14, 10.22it/s, now=None]\u001b[A\n",
            "t:  42%|████▏     | 106/250 [00:05<00:14, 10.01it/s, now=None]\u001b[A\n",
            "t:  43%|████▎     | 108/250 [00:05<00:12, 10.98it/s, now=None]\u001b[A\n",
            "t:  44%|████▍     | 110/250 [00:05<00:13, 10.57it/s, now=None]\u001b[A\n",
            "t:  45%|████▍     | 112/250 [00:05<00:13, 10.07it/s, now=None]\u001b[A\n",
            "t:  46%|████▌     | 114/250 [00:06<00:11, 11.44it/s, now=None]\u001b[A\n",
            "t:  46%|████▋     | 116/250 [00:06<00:13, 10.05it/s, now=None]\u001b[A\n",
            "t:  47%|████▋     | 118/250 [00:06<00:12, 10.54it/s, now=None]\u001b[A\n",
            "t:  48%|████▊     | 120/250 [00:06<00:13,  9.75it/s, now=None]\u001b[A\n",
            "t:  49%|████▉     | 122/250 [00:06<00:14,  8.83it/s, now=None]\u001b[A\n",
            "t:  50%|████▉     | 124/250 [00:07<00:13,  9.68it/s, now=None]\u001b[A\n",
            "t:  50%|█████     | 126/250 [00:07<00:10, 11.40it/s, now=None]\u001b[A\n",
            "t:  51%|█████     | 128/250 [00:07<00:10, 12.02it/s, now=None]\u001b[A\n",
            "t:  52%|█████▏    | 130/250 [00:07<00:09, 12.55it/s, now=None]\u001b[A\n",
            "t:  53%|█████▎    | 132/250 [00:07<00:08, 13.54it/s, now=None]\u001b[A\n",
            "t:  54%|█████▎    | 134/250 [00:07<00:09, 12.28it/s, now=None]\u001b[A\n",
            "t:  54%|█████▍    | 136/250 [00:07<00:08, 13.03it/s, now=None]\u001b[A\n",
            "t:  55%|█████▌    | 138/250 [00:08<00:09, 11.86it/s, now=None]\u001b[A\n",
            "t:  56%|█████▌    | 140/250 [00:08<00:08, 13.32it/s, now=None]\u001b[A\n",
            "t:  57%|█████▋    | 142/250 [00:08<00:09, 11.81it/s, now=None]\u001b[A\n",
            "t:  58%|█████▊    | 144/250 [00:08<00:10, 10.21it/s, now=None]\u001b[A\n",
            "t:  58%|█████▊    | 146/250 [00:08<00:08, 11.67it/s, now=None]\u001b[A\n",
            "t:  59%|█████▉    | 148/250 [00:09<00:08, 12.11it/s, now=None]\u001b[A\n",
            "t:  60%|██████    | 150/250 [00:09<00:09, 10.68it/s, now=None]\u001b[A\n",
            "t:  61%|██████    | 152/250 [00:09<00:08, 11.77it/s, now=None]\u001b[A\n",
            "t:  62%|██████▏   | 154/250 [00:09<00:09, 10.25it/s, now=None]\u001b[A\n",
            "t:  62%|██████▏   | 156/250 [00:09<00:09, 10.26it/s, now=None]\u001b[A\n",
            "t:  63%|██████▎   | 158/250 [00:10<00:11,  7.84it/s, now=None]\u001b[A\n",
            "t:  64%|██████▍   | 160/250 [00:10<00:12,  7.45it/s, now=None]\u001b[A\n",
            "t:  64%|██████▍   | 161/250 [00:10<00:13,  6.40it/s, now=None]\u001b[A\n",
            "t:  65%|██████▌   | 163/250 [00:11<00:11,  7.31it/s, now=None]\u001b[A\n",
            "t:  66%|██████▌   | 164/250 [00:11<00:12,  6.85it/s, now=None]\u001b[A\n",
            "t:  66%|██████▌   | 165/250 [00:11<00:14,  5.92it/s, now=None]\u001b[A\n",
            "t:  66%|██████▋   | 166/250 [00:11<00:13,  6.20it/s, now=None]\u001b[A\n",
            "t:  67%|██████▋   | 167/250 [00:11<00:13,  6.25it/s, now=None]\u001b[A\n",
            "t:  67%|██████▋   | 168/250 [00:11<00:12,  6.48it/s, now=None]\u001b[A\n",
            "t:  68%|██████▊   | 169/250 [00:12<00:15,  5.08it/s, now=None]\u001b[A\n",
            "t:  68%|██████▊   | 170/250 [00:12<00:13,  5.87it/s, now=None]\u001b[A\n",
            "t:  68%|██████▊   | 171/250 [00:12<00:12,  6.53it/s, now=None]\u001b[A\n",
            "t:  69%|██████▉   | 172/250 [00:12<00:11,  6.94it/s, now=None]\u001b[A\n",
            "t:  69%|██████▉   | 173/250 [00:12<00:14,  5.20it/s, now=None]\u001b[A\n",
            "t:  70%|██████▉   | 174/250 [00:12<00:12,  5.95it/s, now=None]\u001b[A\n",
            "t:  71%|███████   | 177/250 [00:13<00:11,  6.31it/s, now=None]\u001b[A\n",
            "t:  72%|███████▏  | 179/250 [00:13<00:08,  8.17it/s, now=None]\u001b[A\n",
            "t:  72%|███████▏  | 181/250 [00:13<00:09,  7.32it/s, now=None]\u001b[A\n",
            "t:  73%|███████▎  | 183/250 [00:14<00:08,  7.72it/s, now=None]\u001b[A\n",
            "t:  74%|███████▍  | 185/250 [00:14<00:06,  9.31it/s, now=None]\u001b[A\n",
            "t:  75%|███████▍  | 187/250 [00:14<00:07,  8.32it/s, now=None]\u001b[A\n",
            "t:  75%|███████▌  | 188/250 [00:14<00:08,  7.36it/s, now=None]\u001b[A\n",
            "t:  76%|███████▌  | 189/250 [00:14<00:08,  6.79it/s, now=None]\u001b[A\n",
            "t:  76%|███████▌  | 190/250 [00:15<00:09,  6.63it/s, now=None]\u001b[A\n",
            "t:  77%|███████▋  | 192/250 [00:15<00:09,  6.07it/s, now=None]\u001b[A\n",
            "t:  77%|███████▋  | 193/250 [00:15<00:08,  6.44it/s, now=None]\u001b[A\n",
            "t:  78%|███████▊  | 194/250 [00:15<00:08,  6.99it/s, now=None]\u001b[A\n",
            "t:  78%|███████▊  | 196/250 [00:16<00:08,  6.22it/s, now=None]\u001b[A\n",
            "t:  79%|███████▉  | 198/250 [00:16<00:06,  7.90it/s, now=None]\u001b[A\n",
            "t:  80%|███████▉  | 199/250 [00:16<00:08,  6.25it/s, now=None]\u001b[A\n",
            "t:  80%|████████  | 200/250 [00:16<00:09,  5.43it/s, now=None]\u001b[A\n",
            "t:  80%|████████  | 201/250 [00:16<00:08,  5.84it/s, now=None]\u001b[A\n",
            "t:  81%|████████  | 203/250 [00:16<00:06,  7.65it/s, now=None]\u001b[A\n",
            "t:  82%|████████▏ | 204/250 [00:17<00:06,  6.90it/s, now=None]\u001b[A\n",
            "t:  82%|████████▏ | 205/250 [00:17<00:06,  7.10it/s, now=None]\u001b[A\n",
            "t:  83%|████████▎ | 207/250 [00:17<00:04,  9.09it/s, now=None]\u001b[A\n",
            "t:  83%|████████▎ | 208/250 [00:17<00:06,  6.71it/s, now=None]\u001b[A\n",
            "t:  84%|████████▍ | 210/250 [00:17<00:04,  8.99it/s, now=None]\u001b[A\n",
            "t:  85%|████████▍ | 212/250 [00:18<00:04,  9.33it/s, now=None]\u001b[A\n",
            "t:  86%|████████▌ | 214/250 [00:18<00:03, 10.33it/s, now=None]\u001b[A\n",
            "t:  86%|████████▋ | 216/250 [00:18<00:03, 10.47it/s, now=None]\u001b[A\n",
            "t:  87%|████████▋ | 218/250 [00:18<00:02, 11.49it/s, now=None]\u001b[A\n",
            "t:  88%|████████▊ | 220/250 [00:18<00:03,  9.59it/s, now=None]\u001b[A\n",
            "t:  89%|████████▉ | 222/250 [00:18<00:02, 11.16it/s, now=None]\u001b[A\n",
            "t:  90%|████████▉ | 224/250 [00:19<00:02,  9.26it/s, now=None]\u001b[A\n",
            "t:  90%|█████████ | 226/250 [00:19<00:02,  9.59it/s, now=None]\u001b[A\n",
            "t:  91%|█████████ | 228/250 [00:19<00:02,  9.53it/s, now=None]\u001b[A\n",
            "t:  92%|█████████▏| 230/250 [00:19<00:01, 10.18it/s, now=None]\u001b[A\n",
            "t:  93%|█████████▎| 232/250 [00:19<00:01,  9.66it/s, now=None]\u001b[A\n",
            "t:  94%|█████████▎| 234/250 [00:20<00:01,  9.89it/s, now=None]\u001b[A\n",
            "t:  94%|█████████▍| 236/250 [00:20<00:01, 11.05it/s, now=None]\u001b[A\n",
            "t:  95%|█████████▌| 238/250 [00:20<00:01, 10.87it/s, now=None]\u001b[A\n",
            "t:  96%|█████████▌| 240/250 [00:20<00:00, 10.01it/s, now=None]\u001b[A\n",
            "t:  97%|█████████▋| 242/250 [00:20<00:00, 11.11it/s, now=None]\u001b[A\n",
            "t:  98%|█████████▊| 244/250 [00:21<00:00,  9.90it/s, now=None]\u001b[A\n",
            "t:  98%|█████████▊| 246/250 [00:21<00:00,  9.79it/s, now=None]\u001b[A\n",
            "t:  99%|█████████▉| 248/250 [00:21<00:00, 10.36it/s, now=None]\u001b[A\n",
            "t: 100%|██████████| 250/250 [00:21<00:00,  8.35it/s, now=None]\u001b[A\n",
            "t:  45%|████▌     | 113/250 [09:21<00:34,  3.93it/s, now=None]"
          ]
        },
        {
          "output_type": "stream",
          "name": "stdout",
          "text": [
            "Moviepy - Done !\n",
            "Moviepy - video ready /content/classified_moments/Goal/goal11.mp4\n"
          ]
        },
        {
          "output_type": "stream",
          "name": "stderr",
          "text": [
            "t:  45%|████▌     | 113/250 [09:21<00:34,  3.93it/s, now=None]"
          ]
        },
        {
          "output_type": "stream",
          "name": "stdout",
          "text": [
            "Moviepy - Building video /content/classified_moments/Goal/goal12.mp4.\n",
            "MoviePy - Writing audio in goal12TEMP_MPY_wvf_snd.mp3\n"
          ]
        },
        {
          "output_type": "stream",
          "name": "stderr",
          "text": [
            "\n",
            "chunk:   0%|          | 0/221 [00:00<?, ?it/s, now=None]\u001b[A\n",
            "chunk:  11%|█         | 24/221 [00:00<00:00, 239.81it/s, now=None]\u001b[A\n",
            "chunk:  26%|██▌       | 58/221 [00:00<00:00, 296.21it/s, now=None]\u001b[A\n",
            "chunk:  48%|████▊     | 107/221 [00:00<00:00, 383.88it/s, now=None]\u001b[A\n",
            "chunk:  73%|███████▎  | 161/221 [00:00<00:00, 442.32it/s, now=None]\u001b[A\n",
            "chunk:  94%|█████████▍| 208/221 [00:00<00:00, 445.44it/s, now=None]\u001b[A\n",
            "t:  45%|████▌     | 113/250 [09:22<00:34,  3.93it/s, now=None]"
          ]
        },
        {
          "output_type": "stream",
          "name": "stdout",
          "text": [
            "MoviePy - Done.\n",
            "Moviepy - Writing video /content/classified_moments/Goal/goal12.mp4\n",
            "\n"
          ]
        },
        {
          "output_type": "stream",
          "name": "stderr",
          "text": [
            "\n",
            "t:   0%|          | 0/250 [00:00<?, ?it/s, now=None]\u001b[A\n",
            "t:   2%|▏         | 6/250 [00:00<00:04, 59.22it/s, now=None]\u001b[A\n",
            "t:   5%|▍         | 12/250 [00:00<00:04, 48.72it/s, now=None]\u001b[A\n",
            "t:   7%|▋         | 17/250 [00:00<00:05, 46.22it/s, now=None]\u001b[A\n",
            "t:   9%|▉         | 22/250 [00:00<00:05, 42.61it/s, now=None]\u001b[A\n",
            "t:  11%|█         | 27/250 [00:00<00:05, 39.98it/s, now=None]\u001b[A\n",
            "t:  13%|█▎        | 32/250 [00:00<00:06, 36.04it/s, now=None]\u001b[A\n",
            "t:  14%|█▍        | 36/250 [00:00<00:06, 35.29it/s, now=None]\u001b[A\n",
            "t:  16%|█▌        | 40/250 [00:01<00:06, 34.41it/s, now=None]\u001b[A\n",
            "t:  18%|█▊        | 44/250 [00:01<00:05, 35.24it/s, now=None]\u001b[A\n",
            "t:  19%|█▉        | 48/250 [00:01<00:05, 34.67it/s, now=None]\u001b[A\n",
            "t:  21%|██        | 52/250 [00:01<00:05, 34.96it/s, now=None]\u001b[A\n",
            "t:  23%|██▎       | 57/250 [00:02<00:11, 16.11it/s, now=None]\u001b[A\n",
            "t:  24%|██▍       | 60/250 [00:02<00:15, 12.42it/s, now=None]\u001b[A\n",
            "t:  25%|██▌       | 63/250 [00:02<00:14, 12.71it/s, now=None]\u001b[A\n",
            "t:  26%|██▌       | 65/250 [00:03<00:18,  9.89it/s, now=None]\u001b[A\n",
            "t:  27%|██▋       | 67/250 [00:03<00:17, 10.27it/s, now=None]\u001b[A\n",
            "t:  28%|██▊       | 69/250 [00:03<00:22,  8.21it/s, now=None]\u001b[A\n",
            "t:  28%|██▊       | 71/250 [00:03<00:20,  8.90it/s, now=None]\u001b[A\n",
            "t:  29%|██▉       | 73/250 [00:04<00:22,  7.77it/s, now=None]\u001b[A\n",
            "t:  30%|███       | 75/250 [00:04<00:22,  7.77it/s, now=None]\u001b[A\n",
            "t:  30%|███       | 76/250 [00:04<00:24,  7.00it/s, now=None]\u001b[A\n",
            "t:  31%|███       | 77/250 [00:04<00:27,  6.32it/s, now=None]\u001b[A\n",
            "t:  31%|███       | 78/250 [00:04<00:25,  6.65it/s, now=None]\u001b[A\n",
            "t:  32%|███▏      | 80/250 [00:05<00:26,  6.52it/s, now=None]\u001b[A\n",
            "t:  32%|███▏      | 81/250 [00:05<00:24,  6.98it/s, now=None]\u001b[A\n",
            "t:  33%|███▎      | 83/250 [00:05<00:18,  8.96it/s, now=None]\u001b[A\n",
            "t:  34%|███▍      | 85/250 [00:05<00:20,  8.11it/s, now=None]\u001b[A\n",
            "t:  35%|███▍      | 87/250 [00:06<00:20,  7.95it/s, now=None]\u001b[A\n",
            "t:  35%|███▌      | 88/250 [00:06<00:20,  7.71it/s, now=None]\u001b[A\n",
            "t:  36%|███▌      | 90/250 [00:06<00:20,  7.79it/s, now=None]\u001b[A\n",
            "t:  36%|███▋      | 91/250 [00:06<00:22,  6.95it/s, now=None]\u001b[A\n",
            "t:  37%|███▋      | 92/250 [00:06<00:21,  7.44it/s, now=None]\u001b[A\n",
            "t:  38%|███▊      | 94/250 [00:07<00:21,  7.22it/s, now=None]\u001b[A\n",
            "t:  38%|███▊      | 95/250 [00:07<00:22,  6.94it/s, now=None]\u001b[A\n",
            "t:  38%|███▊      | 96/250 [00:07<00:21,  7.14it/s, now=None]\u001b[A\n",
            "t:  39%|███▉      | 97/250 [00:07<00:20,  7.57it/s, now=None]\u001b[A\n",
            "t:  39%|███▉      | 98/250 [00:07<00:24,  6.25it/s, now=None]\u001b[A\n",
            "t:  40%|███▉      | 99/250 [00:07<00:26,  5.72it/s, now=None]\u001b[A\n",
            "t:  40%|████      | 101/250 [00:08<00:18,  8.20it/s, now=None]\u001b[A\n",
            "t:  41%|████      | 102/250 [00:08<00:20,  7.05it/s, now=None]\u001b[A\n",
            "t:  42%|████▏     | 105/250 [00:08<00:13, 10.83it/s, now=None]\u001b[A\n",
            "t:  43%|████▎     | 107/250 [00:08<00:11, 12.72it/s, now=None]\u001b[A\n",
            "t:  44%|████▎     | 109/250 [00:08<00:10, 14.07it/s, now=None]\u001b[A\n",
            "t:  45%|████▍     | 112/250 [00:08<00:09, 15.29it/s, now=None]\u001b[A\n",
            "t:  46%|████▌     | 115/250 [00:08<00:07, 17.70it/s, now=None]\u001b[A\n",
            "t:  47%|████▋     | 117/250 [00:08<00:07, 17.97it/s, now=None]\u001b[A\n",
            "t:  48%|████▊     | 119/250 [00:09<00:07, 18.18it/s, now=None]\u001b[A\n",
            "t:  48%|████▊     | 121/250 [00:09<00:07, 16.17it/s, now=None]\u001b[A\n",
            "t:  49%|████▉     | 123/250 [00:09<00:07, 17.07it/s, now=None]\u001b[A\n",
            "t:  50%|█████     | 125/250 [00:09<00:07, 16.99it/s, now=None]\u001b[A\n",
            "t:  51%|█████     | 127/250 [00:09<00:07, 15.53it/s, now=None]\u001b[A\n",
            "t:  52%|█████▏    | 129/250 [00:09<00:08, 14.01it/s, now=None]\u001b[A\n",
            "t:  53%|█████▎    | 132/250 [00:10<00:08, 13.72it/s, now=None]\u001b[A\n",
            "t:  54%|█████▎    | 134/250 [00:10<00:08, 13.98it/s, now=None]\u001b[A\n",
            "t:  54%|█████▍    | 136/250 [00:10<00:08, 12.83it/s, now=None]\u001b[A\n",
            "t:  55%|█████▌    | 138/250 [00:10<00:08, 13.58it/s, now=None]\u001b[A\n",
            "t:  56%|█████▌    | 140/250 [00:10<00:09, 11.84it/s, now=None]\u001b[A\n",
            "t:  57%|█████▋    | 142/250 [00:10<00:09, 11.76it/s, now=None]\u001b[A\n",
            "t:  58%|█████▊    | 144/250 [00:11<00:09, 11.31it/s, now=None]\u001b[A\n",
            "t:  58%|█████▊    | 146/250 [00:11<00:08, 12.44it/s, now=None]\u001b[A\n",
            "t:  59%|█████▉    | 148/250 [00:11<00:09, 11.07it/s, now=None]\u001b[A\n",
            "t:  60%|██████    | 150/250 [00:11<00:08, 12.00it/s, now=None]\u001b[A\n",
            "t:  61%|██████    | 152/250 [00:11<00:09, 10.76it/s, now=None]\u001b[A\n",
            "t:  62%|██████▏   | 154/250 [00:11<00:08, 11.44it/s, now=None]\u001b[A\n",
            "t:  62%|██████▏   | 156/250 [00:12<00:09, 10.31it/s, now=None]\u001b[A\n",
            "t:  63%|██████▎   | 158/250 [00:12<00:08, 11.22it/s, now=None]\u001b[A\n",
            "t:  64%|██████▍   | 160/250 [00:12<00:08, 10.85it/s, now=None]\u001b[A\n",
            "t:  65%|██████▍   | 162/250 [00:12<00:07, 11.91it/s, now=None]\u001b[A\n",
            "t:  66%|██████▌   | 164/250 [00:12<00:08, 10.12it/s, now=None]\u001b[A\n",
            "t:  66%|██████▋   | 166/250 [00:12<00:07, 11.64it/s, now=None]\u001b[A\n",
            "t:  67%|██████▋   | 168/250 [00:13<00:07, 10.35it/s, now=None]\u001b[A\n",
            "t:  68%|██████▊   | 171/250 [00:13<00:07, 10.29it/s, now=None]\u001b[A\n",
            "t:  69%|██████▉   | 173/250 [00:13<00:06, 11.09it/s, now=None]\u001b[A\n",
            "t:  70%|███████   | 175/250 [00:13<00:07, 10.19it/s, now=None]\u001b[A\n",
            "t:  71%|███████   | 177/250 [00:14<00:06, 11.26it/s, now=None]\u001b[A\n",
            "t:  72%|███████▏  | 179/250 [00:14<00:06, 11.08it/s, now=None]\u001b[A\n",
            "t:  72%|███████▏  | 181/250 [00:14<00:05, 12.03it/s, now=None]\u001b[A\n",
            "t:  73%|███████▎  | 183/250 [00:14<00:05, 11.27it/s, now=None]\u001b[A\n",
            "t:  74%|███████▍  | 185/250 [00:14<00:05, 12.00it/s, now=None]\u001b[A\n",
            "t:  75%|███████▍  | 187/250 [00:14<00:05, 11.63it/s, now=None]\u001b[A\n",
            "t:  76%|███████▌  | 189/250 [00:15<00:05, 10.54it/s, now=None]\u001b[A\n",
            "t:  76%|███████▋  | 191/250 [00:15<00:05, 10.16it/s, now=None]\u001b[A\n",
            "t:  77%|███████▋  | 193/250 [00:15<00:07,  7.82it/s, now=None]\u001b[A\n",
            "t:  78%|███████▊  | 195/250 [00:15<00:07,  7.84it/s, now=None]\u001b[A\n",
            "t:  78%|███████▊  | 196/250 [00:16<00:06,  8.14it/s, now=None]\u001b[A\n",
            "t:  79%|███████▉  | 197/250 [00:16<00:08,  6.23it/s, now=None]\u001b[A\n",
            "t:  79%|███████▉  | 198/250 [00:16<00:08,  6.30it/s, now=None]\u001b[A\n",
            "t:  80%|███████▉  | 199/250 [00:16<00:07,  6.60it/s, now=None]\u001b[A\n",
            "t:  80%|████████  | 201/250 [00:17<00:07,  6.38it/s, now=None]\u001b[A\n",
            "t:  81%|████████  | 202/250 [00:17<00:07,  6.62it/s, now=None]\u001b[A\n",
            "t:  81%|████████  | 203/250 [00:17<00:06,  6.91it/s, now=None]\u001b[A\n",
            "t:  82%|████████▏ | 205/250 [00:17<00:06,  7.13it/s, now=None]\u001b[A\n",
            "t:  82%|████████▏ | 206/250 [00:17<00:06,  6.75it/s, now=None]\u001b[A\n",
            "t:  83%|████████▎ | 207/250 [00:17<00:06,  7.07it/s, now=None]\u001b[A\n",
            "t:  84%|████████▎ | 209/250 [00:18<00:06,  6.37it/s, now=None]\u001b[A\n",
            "t:  84%|████████▍ | 210/250 [00:18<00:06,  6.59it/s, now=None]\u001b[A\n",
            "t:  85%|████████▍ | 212/250 [00:18<00:05,  7.49it/s, now=None]\u001b[A\n",
            "t:  85%|████████▌ | 213/250 [00:18<00:05,  7.21it/s, now=None]\u001b[A\n",
            "t:  86%|████████▌ | 215/250 [00:18<00:03,  9.05it/s, now=None]\u001b[A\n",
            "t:  86%|████████▋ | 216/250 [00:19<00:04,  6.89it/s, now=None]\u001b[A\n",
            "t:  87%|████████▋ | 218/250 [00:19<00:04,  7.56it/s, now=None]\u001b[A\n",
            "t:  88%|████████▊ | 219/250 [00:19<00:03,  7.95it/s, now=None]\u001b[A\n",
            "t:  88%|████████▊ | 220/250 [00:19<00:03,  8.27it/s, now=None]\u001b[A\n",
            "t:  89%|████████▉ | 222/250 [00:19<00:03,  7.56it/s, now=None]\u001b[A\n",
            "t:  90%|████████▉ | 224/250 [00:19<00:03,  8.58it/s, now=None]\u001b[A\n",
            "t:  90%|█████████ | 225/250 [00:20<00:02,  8.65it/s, now=None]\u001b[A\n",
            "t:  90%|█████████ | 226/250 [00:20<00:03,  7.81it/s, now=None]\u001b[A\n",
            "t:  91%|█████████ | 227/250 [00:20<00:03,  7.61it/s, now=None]\u001b[A\n",
            "t:  91%|█████████ | 228/250 [00:20<00:02,  8.06it/s, now=None]\u001b[A\n",
            "t:  92%|█████████▏| 231/250 [00:20<00:01, 10.56it/s, now=None]\u001b[A\n",
            "t:  93%|█████████▎| 233/250 [00:20<00:01,  9.91it/s, now=None]\u001b[A\n",
            "t:  94%|█████████▎| 234/250 [00:21<00:02,  7.71it/s, now=None]\u001b[A\n",
            "t:  94%|█████████▍| 236/250 [00:21<00:01,  8.64it/s, now=None]\u001b[A\n",
            "t:  95%|█████████▌| 238/250 [00:21<00:01,  7.62it/s, now=None]\u001b[A\n",
            "t:  96%|█████████▌| 240/250 [00:21<00:01,  8.60it/s, now=None]\u001b[A\n",
            "t:  96%|█████████▋| 241/250 [00:22<00:01,  8.28it/s, now=None]\u001b[A\n",
            "t:  97%|█████████▋| 242/250 [00:22<00:01,  7.12it/s, now=None]\u001b[A\n",
            "t:  98%|█████████▊| 244/250 [00:22<00:00,  7.68it/s, now=None]\u001b[A\n",
            "t:  98%|█████████▊| 245/250 [00:22<00:00,  6.62it/s, now=None]\u001b[A\n",
            "t:  98%|█████████▊| 246/250 [00:22<00:00,  6.98it/s, now=None]\u001b[A\n",
            "t:  99%|█████████▉| 247/250 [00:22<00:00,  6.82it/s, now=None]\u001b[A\n",
            "t: 100%|█████████▉| 249/250 [00:23<00:00,  9.14it/s, now=None]\u001b[A\n",
            "t:  45%|████▌     | 113/250 [09:48<00:34,  3.93it/s, now=None]"
          ]
        },
        {
          "output_type": "stream",
          "name": "stdout",
          "text": [
            "Moviepy - Done !\n",
            "Moviepy - video ready /content/classified_moments/Goal/goal12.mp4\n"
          ]
        },
        {
          "output_type": "stream",
          "name": "stderr",
          "text": [
            "t:  45%|████▌     | 113/250 [09:49<00:34,  3.93it/s, now=None]"
          ]
        },
        {
          "output_type": "stream",
          "name": "stdout",
          "text": [
            "Moviepy - Building video /content/classified_moments/Goal/goal13.mp4.\n",
            "MoviePy - Writing audio in goal13TEMP_MPY_wvf_snd.mp3\n"
          ]
        },
        {
          "output_type": "stream",
          "name": "stderr",
          "text": [
            "\n",
            "chunk:   0%|          | 0/221 [00:00<?, ?it/s, now=None]\u001b[A\n",
            "chunk:  14%|█▍        | 32/221 [00:00<00:00, 291.89it/s, now=None]\u001b[A\n",
            "chunk:  49%|████▉     | 109/221 [00:00<00:00, 561.26it/s, now=None]\u001b[A\n",
            "chunk:  86%|████████▌ | 189/221 [00:00<00:00, 662.67it/s, now=None]\u001b[A\n",
            "t:  45%|████▌     | 113/250 [09:50<00:34,  3.93it/s, now=None]"
          ]
        },
        {
          "output_type": "stream",
          "name": "stdout",
          "text": [
            "MoviePy - Done.\n",
            "Moviepy - Writing video /content/classified_moments/Goal/goal13.mp4\n",
            "\n"
          ]
        },
        {
          "output_type": "stream",
          "name": "stderr",
          "text": [
            "\n",
            "t:   0%|          | 0/250 [00:00<?, ?it/s, now=None]\u001b[A\n",
            "t:   3%|▎         | 7/250 [00:00<00:04, 57.02it/s, now=None]\u001b[A\n",
            "t:   5%|▌         | 13/250 [00:00<00:04, 57.85it/s, now=None]\u001b[A\n",
            "t:   8%|▊         | 19/250 [00:00<00:04, 57.74it/s, now=None]\u001b[A\n",
            "t:  10%|█         | 25/250 [00:00<00:03, 58.15it/s, now=None]\u001b[A\n",
            "t:  12%|█▏        | 31/250 [00:00<00:03, 57.53it/s, now=None]\u001b[A\n",
            "t:  15%|█▍        | 37/250 [00:00<00:03, 57.35it/s, now=None]\u001b[A\n",
            "t:  17%|█▋        | 43/250 [00:00<00:03, 57.21it/s, now=None]\u001b[A\n",
            "t:  20%|██        | 50/250 [00:00<00:03, 59.41it/s, now=None]\u001b[A\n",
            "t:  22%|██▏       | 56/250 [00:00<00:03, 56.68it/s, now=None]\u001b[A\n",
            "t:  25%|██▍       | 62/250 [00:01<00:08, 21.73it/s, now=None]\u001b[A\n",
            "t:  27%|██▋       | 67/250 [00:02<00:09, 18.97it/s, now=None]\u001b[A\n",
            "t:  28%|██▊       | 71/250 [00:02<00:11, 15.75it/s, now=None]\u001b[A\n",
            "t:  30%|██▉       | 74/250 [00:02<00:12, 13.73it/s, now=None]\u001b[A\n",
            "t:  31%|███       | 77/250 [00:03<00:14, 11.90it/s, now=None]\u001b[A\n",
            "t:  32%|███▏      | 79/250 [00:03<00:14, 12.20it/s, now=None]\u001b[A\n",
            "t:  32%|███▏      | 81/250 [00:03<00:15, 11.20it/s, now=None]\u001b[A\n",
            "t:  33%|███▎      | 83/250 [00:03<00:16, 10.31it/s, now=None]\u001b[A\n",
            "t:  34%|███▍      | 85/250 [00:03<00:15, 10.34it/s, now=None]\u001b[A\n",
            "t:  35%|███▌      | 88/250 [00:04<00:15, 10.80it/s, now=None]\u001b[A\n",
            "t:  36%|███▌      | 90/250 [00:04<00:13, 11.77it/s, now=None]\u001b[A\n",
            "t:  37%|███▋      | 92/250 [00:04<00:14, 10.96it/s, now=None]\u001b[A\n",
            "t:  38%|███▊      | 94/250 [00:04<00:13, 11.85it/s, now=None]\u001b[A\n",
            "t:  38%|███▊      | 96/250 [00:04<00:14, 10.84it/s, now=None]\u001b[A\n",
            "t:  39%|███▉      | 98/250 [00:05<00:12, 11.91it/s, now=None]\u001b[A\n",
            "t:  40%|████      | 100/250 [00:05<00:12, 12.50it/s, now=None]\u001b[A\n",
            "t:  41%|████      | 102/250 [00:05<00:14, 10.48it/s, now=None]\u001b[A\n",
            "t:  42%|████▏     | 104/250 [00:05<00:13, 11.18it/s, now=None]\u001b[A\n",
            "t:  42%|████▏     | 106/250 [00:05<00:14, 10.01it/s, now=None]\u001b[A\n",
            "t:  43%|████▎     | 108/250 [00:06<00:14,  9.56it/s, now=None]\u001b[A\n",
            "t:  44%|████▍     | 110/250 [00:06<00:13, 10.03it/s, now=None]\u001b[A\n",
            "t:  45%|████▍     | 112/250 [00:06<00:15,  9.09it/s, now=None]\u001b[A\n",
            "t:  46%|████▌     | 114/250 [00:06<00:15,  8.91it/s, now=None]\u001b[A\n",
            "t:  46%|████▋     | 116/250 [00:07<00:17,  7.87it/s, now=None]\u001b[A\n",
            "t:  47%|████▋     | 118/250 [00:07<00:15,  8.50it/s, now=None]\u001b[A\n",
            "t:  48%|████▊     | 120/250 [00:07<00:16,  7.99it/s, now=None]\u001b[A\n",
            "t:  49%|████▉     | 122/250 [00:07<00:15,  8.03it/s, now=None]\u001b[A\n",
            "t:  50%|████▉     | 124/250 [00:08<00:16,  7.56it/s, now=None]\u001b[A\n",
            "t:  50%|█████     | 125/250 [00:08<00:18,  6.86it/s, now=None]\u001b[A\n",
            "t:  51%|█████     | 127/250 [00:08<00:15,  8.01it/s, now=None]\u001b[A\n",
            "t:  51%|█████     | 128/250 [00:08<00:18,  6.68it/s, now=None]\u001b[A\n",
            "t:  52%|█████▏    | 130/250 [00:08<00:14,  8.40it/s, now=None]\u001b[A\n",
            "t:  52%|█████▏    | 131/250 [00:09<00:18,  6.50it/s, now=None]\u001b[A\n",
            "t:  53%|█████▎    | 133/250 [00:09<00:14,  7.84it/s, now=None]\u001b[A\n",
            "t:  54%|█████▎    | 134/250 [00:09<00:16,  7.04it/s, now=None]\u001b[A\n",
            "t:  54%|█████▍    | 135/250 [00:09<00:17,  6.41it/s, now=None]\u001b[A\n",
            "t:  55%|█████▍    | 137/250 [00:09<00:16,  7.03it/s, now=None]\u001b[A\n",
            "t:  56%|█████▌    | 139/250 [00:10<00:15,  7.18it/s, now=None]\u001b[A\n",
            "t:  56%|█████▌    | 140/250 [00:10<00:15,  7.32it/s, now=None]\u001b[A\n",
            "t:  57%|█████▋    | 142/250 [00:10<00:18,  5.94it/s, now=None]\u001b[A\n",
            "t:  58%|█████▊    | 144/250 [00:10<00:15,  7.06it/s, now=None]\u001b[A\n",
            "t:  58%|█████▊    | 145/250 [00:11<00:14,  7.16it/s, now=None]\u001b[A\n",
            "t:  59%|█████▉    | 147/250 [00:11<00:11,  8.68it/s, now=None]\u001b[A\n",
            "t:  59%|█████▉    | 148/250 [00:11<00:12,  8.12it/s, now=None]\u001b[A\n",
            "t:  60%|██████    | 150/250 [00:11<00:10,  9.43it/s, now=None]\u001b[A\n",
            "t:  61%|██████    | 152/250 [00:11<00:12,  7.57it/s, now=None]\u001b[A\n",
            "t:  62%|██████▏   | 154/250 [00:12<00:10,  8.82it/s, now=None]\u001b[A\n",
            "t:  62%|██████▏   | 156/250 [00:12<00:11,  8.06it/s, now=None]\u001b[A\n",
            "t:  63%|██████▎   | 158/250 [00:12<00:10,  8.90it/s, now=None]\u001b[A\n",
            "t:  64%|██████▍   | 160/250 [00:12<00:11,  7.94it/s, now=None]\u001b[A\n",
            "t:  65%|██████▍   | 162/250 [00:12<00:09,  9.18it/s, now=None]\u001b[A\n",
            "t:  66%|██████▌   | 164/250 [00:13<00:09,  9.37it/s, now=None]\u001b[A\n",
            "t:  66%|██████▋   | 166/250 [00:13<00:08, 10.19it/s, now=None]\u001b[A\n",
            "t:  67%|██████▋   | 168/250 [00:13<00:07, 11.53it/s, now=None]\u001b[A\n",
            "t:  68%|██████▊   | 170/250 [00:13<00:06, 12.15it/s, now=None]\u001b[A\n",
            "t:  69%|██████▉   | 172/250 [00:13<00:06, 12.11it/s, now=None]\u001b[A\n",
            "t:  70%|███████   | 175/250 [00:13<00:05, 13.98it/s, now=None]\u001b[A\n",
            "t:  71%|███████   | 177/250 [00:14<00:05, 12.82it/s, now=None]\u001b[A\n",
            "t:  72%|███████▏  | 180/250 [00:14<00:04, 14.46it/s, now=None]\u001b[A\n",
            "t:  73%|███████▎  | 182/250 [00:14<00:04, 14.56it/s, now=None]\u001b[A\n",
            "t:  74%|███████▎  | 184/250 [00:14<00:04, 14.61it/s, now=None]\u001b[A\n",
            "t:  74%|███████▍  | 186/250 [00:14<00:04, 15.42it/s, now=None]\u001b[A\n",
            "t:  75%|███████▌  | 188/250 [00:14<00:03, 16.46it/s, now=None]\u001b[A\n",
            "t:  76%|███████▌  | 190/250 [00:14<00:03, 15.41it/s, now=None]\u001b[A\n",
            "t:  77%|███████▋  | 192/250 [00:15<00:03, 16.11it/s, now=None]\u001b[A\n",
            "t:  78%|███████▊  | 194/250 [00:15<00:03, 15.93it/s, now=None]\u001b[A\n",
            "t:  78%|███████▊  | 196/250 [00:15<00:03, 14.67it/s, now=None]\u001b[A\n",
            "t:  80%|███████▉  | 199/250 [00:15<00:02, 17.68it/s, now=None]\u001b[A\n",
            "t:  80%|████████  | 201/250 [00:15<00:02, 17.33it/s, now=None]\u001b[A\n",
            "t:  81%|████████  | 203/250 [00:15<00:03, 15.09it/s, now=None]\u001b[A\n",
            "t:  82%|████████▏ | 205/250 [00:15<00:02, 15.61it/s, now=None]\u001b[A\n",
            "t:  83%|████████▎ | 207/250 [00:15<00:02, 15.55it/s, now=None]\u001b[A\n",
            "t:  84%|████████▎ | 209/250 [00:16<00:03, 13.30it/s, now=None]\u001b[A\n",
            "t:  84%|████████▍ | 211/250 [00:16<00:02, 13.50it/s, now=None]\u001b[A\n",
            "t:  85%|████████▌ | 213/250 [00:16<00:02, 12.50it/s, now=None]\u001b[A\n",
            "t:  86%|████████▌ | 215/250 [00:16<00:02, 13.96it/s, now=None]\u001b[A\n",
            "t:  87%|████████▋ | 217/250 [00:16<00:02, 11.63it/s, now=None]\u001b[A\n",
            "t:  88%|████████▊ | 219/250 [00:16<00:02, 12.62it/s, now=None]\u001b[A\n",
            "t:  88%|████████▊ | 221/250 [00:17<00:02, 10.99it/s, now=None]\u001b[A\n",
            "t:  89%|████████▉ | 223/250 [00:17<00:02, 12.20it/s, now=None]\u001b[A\n",
            "t:  90%|█████████ | 225/250 [00:17<00:02, 11.16it/s, now=None]\u001b[A\n",
            "t:  91%|█████████ | 227/250 [00:17<00:01, 12.14it/s, now=None]\u001b[A\n",
            "t:  92%|█████████▏| 229/250 [00:17<00:01, 11.24it/s, now=None]\u001b[A\n",
            "t:  92%|█████████▏| 231/250 [00:18<00:01, 12.50it/s, now=None]\u001b[A\n",
            "t:  93%|█████████▎| 233/250 [00:18<00:01, 11.61it/s, now=None]\u001b[A\n",
            "t:  94%|█████████▍| 235/250 [00:18<00:01, 12.09it/s, now=None]\u001b[A\n",
            "t:  95%|█████████▍| 237/250 [00:18<00:01, 10.96it/s, now=None]\u001b[A\n",
            "t:  96%|█████████▌| 239/250 [00:18<00:00, 11.51it/s, now=None]\u001b[A\n",
            "t:  96%|█████████▋| 241/250 [00:18<00:00, 11.25it/s, now=None]\u001b[A\n",
            "t:  97%|█████████▋| 243/250 [00:19<00:00, 11.46it/s, now=None]\u001b[A\n",
            "t:  98%|█████████▊| 245/250 [00:19<00:00, 10.67it/s, now=None]\u001b[A\n",
            "t:  99%|█████████▉| 247/250 [00:19<00:00, 11.41it/s, now=None]\u001b[A\n",
            "t: 100%|█████████▉| 249/250 [00:19<00:00, 10.49it/s, now=None]\u001b[A\n",
            "t:  45%|████▌     | 113/250 [10:13<00:34,  3.93it/s, now=None]"
          ]
        },
        {
          "output_type": "stream",
          "name": "stdout",
          "text": [
            "Moviepy - Done !\n",
            "Moviepy - video ready /content/classified_moments/Goal/goal13.mp4\n"
          ]
        },
        {
          "output_type": "stream",
          "name": "stderr",
          "text": [
            "t:  45%|████▌     | 113/250 [10:14<00:34,  3.93it/s, now=None]"
          ]
        },
        {
          "output_type": "stream",
          "name": "stdout",
          "text": [
            "Moviepy - Building video /content/classified_moments/Goal/goal14.mp4.\n",
            "MoviePy - Writing audio in goal14TEMP_MPY_wvf_snd.mp3\n"
          ]
        },
        {
          "output_type": "stream",
          "name": "stderr",
          "text": [
            "\n",
            "chunk:   0%|          | 0/221 [00:00<?, ?it/s, now=None]\u001b[A\n",
            "chunk:  12%|█▏        | 26/221 [00:00<00:00, 259.44it/s, now=None]\u001b[A\n",
            "chunk:  28%|██▊       | 62/221 [00:00<00:00, 316.75it/s, now=None]\u001b[A\n",
            "chunk:  51%|█████     | 113/221 [00:00<00:00, 404.01it/s, now=None]\u001b[A\n",
            "chunk:  74%|███████▍  | 163/221 [00:00<00:00, 436.74it/s, now=None]\u001b[A\n",
            "chunk:  98%|█████████▊| 216/221 [00:00<00:00, 466.00it/s, now=None]\u001b[A\n",
            "t:  45%|████▌     | 113/250 [10:15<00:34,  3.93it/s, now=None]"
          ]
        },
        {
          "output_type": "stream",
          "name": "stdout",
          "text": [
            "MoviePy - Done.\n",
            "Moviepy - Writing video /content/classified_moments/Goal/goal14.mp4\n",
            "\n"
          ]
        },
        {
          "output_type": "stream",
          "name": "stderr",
          "text": [
            "\n",
            "t:   0%|          | 0/250 [00:00<?, ?it/s, now=None]\u001b[A\n",
            "t:   3%|▎         | 7/250 [00:00<00:03, 62.71it/s, now=None]\u001b[A\n",
            "t:   6%|▌         | 14/250 [00:00<00:04, 52.56it/s, now=None]\u001b[A\n",
            "t:   8%|▊         | 20/250 [00:00<00:05, 42.30it/s, now=None]\u001b[A\n",
            "t:  10%|█         | 25/250 [00:00<00:05, 40.98it/s, now=None]\u001b[A\n",
            "t:  12%|█▏        | 30/250 [00:00<00:05, 39.01it/s, now=None]\u001b[A\n",
            "t:  14%|█▎        | 34/250 [00:00<00:05, 38.82it/s, now=None]\u001b[A\n",
            "t:  15%|█▌        | 38/250 [00:00<00:05, 37.98it/s, now=None]\u001b[A\n",
            "t:  17%|█▋        | 43/250 [00:01<00:05, 39.55it/s, now=None]\u001b[A\n",
            "t:  19%|█▉        | 48/250 [00:01<00:04, 41.06it/s, now=None]\u001b[A\n",
            "t:  21%|██        | 53/250 [00:01<00:04, 40.35it/s, now=None]\u001b[A\n",
            "t:  23%|██▎       | 58/250 [00:01<00:11, 16.58it/s, now=None]\u001b[A\n",
            "t:  25%|██▍       | 62/250 [00:02<00:14, 12.57it/s, now=None]\u001b[A\n",
            "t:  26%|██▌       | 65/250 [00:02<00:17, 10.49it/s, now=None]\u001b[A\n",
            "t:  27%|██▋       | 67/250 [00:03<00:20,  8.91it/s, now=None]\u001b[A\n",
            "t:  28%|██▊       | 69/250 [00:03<00:19,  9.50it/s, now=None]\u001b[A\n",
            "t:  28%|██▊       | 71/250 [00:03<00:22,  8.07it/s, now=None]\u001b[A\n",
            "t:  29%|██▉       | 73/250 [00:04<00:20,  8.84it/s, now=None]\u001b[A\n",
            "t:  30%|███       | 75/250 [00:04<00:22,  7.88it/s, now=None]\u001b[A\n",
            "t:  31%|███       | 77/250 [00:04<00:21,  8.10it/s, now=None]\u001b[A\n",
            "t:  31%|███       | 78/250 [00:04<00:21,  8.04it/s, now=None]\u001b[A\n",
            "t:  32%|███▏      | 79/250 [00:04<00:25,  6.82it/s, now=None]\u001b[A\n",
            "t:  32%|███▏      | 80/250 [00:05<00:25,  6.54it/s, now=None]\u001b[A\n",
            "t:  32%|███▏      | 81/250 [00:05<00:24,  6.93it/s, now=None]\u001b[A\n",
            "t:  33%|███▎      | 82/250 [00:05<00:30,  5.44it/s, now=None]\u001b[A\n",
            "t:  34%|███▎      | 84/250 [00:05<00:22,  7.49it/s, now=None]\u001b[A\n",
            "t:  34%|███▍      | 85/250 [00:05<00:23,  6.96it/s, now=None]\u001b[A\n",
            "t:  35%|███▍      | 87/250 [00:05<00:17,  9.28it/s, now=None]\u001b[A\n",
            "t:  36%|███▌      | 89/250 [00:06<00:18,  8.83it/s, now=None]\u001b[A\n",
            "t:  36%|███▋      | 91/250 [00:06<00:15, 10.32it/s, now=None]\u001b[A\n",
            "t:  37%|███▋      | 93/250 [00:06<00:19,  8.18it/s, now=None]\u001b[A\n",
            "t:  38%|███▊      | 95/250 [00:06<00:18,  8.36it/s, now=None]\u001b[A\n",
            "t:  38%|███▊      | 96/250 [00:07<00:21,  7.26it/s, now=None]\u001b[A\n",
            "t:  40%|███▉      | 99/250 [00:07<00:17,  8.68it/s, now=None]\u001b[A\n",
            "t:  40%|████      | 100/250 [00:07<00:18,  8.09it/s, now=None]\u001b[A\n",
            "t:  41%|████      | 102/250 [00:07<00:15,  9.68it/s, now=None]\u001b[A\n",
            "t:  42%|████▏     | 104/250 [00:08<00:18,  8.09it/s, now=None]\u001b[A\n",
            "t:  42%|████▏     | 106/250 [00:08<00:16,  8.64it/s, now=None]\u001b[A\n",
            "t:  43%|████▎     | 107/250 [00:08<00:16,  8.85it/s, now=None]\u001b[A\n",
            "t:  44%|████▎     | 109/250 [00:08<00:13, 10.42it/s, now=None]\u001b[A\n",
            "t:  44%|████▍     | 111/250 [00:08<00:14,  9.27it/s, now=None]\u001b[A\n",
            "t:  45%|████▌     | 113/250 [00:08<00:14,  9.69it/s, now=None]\u001b[A\n",
            "t:  46%|████▌     | 115/250 [00:09<00:12, 10.52it/s, now=None]\u001b[A\n",
            "t:  47%|████▋     | 117/250 [00:09<00:11, 11.96it/s, now=None]\u001b[A\n",
            "t:  48%|████▊     | 119/250 [00:09<00:10, 12.65it/s, now=None]\u001b[A\n",
            "t:  48%|████▊     | 121/250 [00:09<00:09, 13.68it/s, now=None]\u001b[A\n",
            "t:  49%|████▉     | 123/250 [00:09<00:08, 14.15it/s, now=None]\u001b[A\n",
            "t:  50%|█████     | 125/250 [00:09<00:08, 14.09it/s, now=None]\u001b[A\n",
            "t:  51%|█████     | 127/250 [00:09<00:07, 15.41it/s, now=None]\u001b[A\n",
            "t:  52%|█████▏    | 129/250 [00:09<00:08, 14.41it/s, now=None]\u001b[A\n",
            "t:  52%|█████▏    | 131/250 [00:10<00:08, 14.07it/s, now=None]\u001b[A\n",
            "t:  53%|█████▎    | 133/250 [00:10<00:07, 15.38it/s, now=None]\u001b[A\n",
            "t:  54%|█████▍    | 135/250 [00:10<00:07, 15.28it/s, now=None]\u001b[A\n",
            "t:  55%|█████▍    | 137/250 [00:10<00:07, 15.81it/s, now=None]\u001b[A\n",
            "t:  56%|█████▌    | 139/250 [00:10<00:06, 16.49it/s, now=None]\u001b[A\n",
            "t:  56%|█████▋    | 141/250 [00:10<00:06, 16.75it/s, now=None]\u001b[A\n",
            "t:  57%|█████▋    | 143/250 [00:10<00:06, 15.45it/s, now=None]\u001b[A\n",
            "t:  58%|█████▊    | 145/250 [00:10<00:06, 15.57it/s, now=None]\u001b[A\n",
            "t:  59%|█████▉    | 147/250 [00:11<00:07, 14.59it/s, now=None]\u001b[A\n",
            "t:  60%|█████▉    | 149/250 [00:11<00:07, 13.40it/s, now=None]\u001b[A\n",
            "t:  60%|██████    | 151/250 [00:11<00:07, 13.42it/s, now=None]\u001b[A\n",
            "t:  61%|██████    | 153/250 [00:11<00:08, 11.81it/s, now=None]\u001b[A\n",
            "t:  62%|██████▏   | 155/250 [00:11<00:07, 13.38it/s, now=None]\u001b[A\n",
            "t:  63%|██████▎   | 157/250 [00:12<00:07, 11.83it/s, now=None]\u001b[A\n",
            "t:  64%|██████▎   | 159/250 [00:12<00:07, 12.41it/s, now=None]\u001b[A\n",
            "t:  64%|██████▍   | 161/250 [00:12<00:07, 11.39it/s, now=None]\u001b[A\n",
            "t:  65%|██████▌   | 163/250 [00:12<00:07, 12.22it/s, now=None]\u001b[A\n",
            "t:  66%|██████▌   | 165/250 [00:12<00:07, 11.37it/s, now=None]\u001b[A\n",
            "t:  67%|██████▋   | 167/250 [00:12<00:06, 11.91it/s, now=None]\u001b[A\n",
            "t:  68%|██████▊   | 169/250 [00:13<00:07, 11.08it/s, now=None]\u001b[A\n",
            "t:  69%|██████▉   | 172/250 [00:13<00:06, 11.34it/s, now=None]\u001b[A\n",
            "t:  70%|██████▉   | 174/250 [00:13<00:06, 11.76it/s, now=None]\u001b[A\n",
            "t:  70%|███████   | 176/250 [00:13<00:06, 11.65it/s, now=None]\u001b[A\n",
            "t:  71%|███████   | 178/250 [00:13<00:06, 11.90it/s, now=None]\u001b[A\n",
            "t:  72%|███████▏  | 180/250 [00:14<00:06, 11.23it/s, now=None]\u001b[A\n",
            "t:  73%|███████▎  | 182/250 [00:14<00:06, 11.11it/s, now=None]\u001b[A\n",
            "t:  74%|███████▎  | 184/250 [00:14<00:06, 10.24it/s, now=None]\u001b[A\n",
            "t:  74%|███████▍  | 186/250 [00:14<00:05, 11.69it/s, now=None]\u001b[A\n",
            "t:  75%|███████▌  | 188/250 [00:14<00:06, 10.04it/s, now=None]\u001b[A\n",
            "t:  76%|███████▌  | 190/250 [00:14<00:05, 10.31it/s, now=None]\u001b[A\n",
            "t:  77%|███████▋  | 192/250 [00:15<00:05, 10.25it/s, now=None]\u001b[A\n",
            "t:  78%|███████▊  | 194/250 [00:15<00:05, 11.01it/s, now=None]\u001b[A\n",
            "t:  78%|███████▊  | 196/250 [00:15<00:04, 11.14it/s, now=None]\u001b[A\n",
            "t:  79%|███████▉  | 198/250 [00:15<00:05,  9.47it/s, now=None]\u001b[A\n",
            "t:  80%|████████  | 200/250 [00:15<00:04, 10.67it/s, now=None]\u001b[A\n",
            "t:  81%|████████  | 202/250 [00:16<00:05,  9.36it/s, now=None]\u001b[A\n",
            "t:  82%|████████▏ | 204/250 [00:16<00:04,  9.75it/s, now=None]\u001b[A\n",
            "t:  82%|████████▏ | 206/250 [00:16<00:05,  8.34it/s, now=None]\u001b[A\n",
            "t:  83%|████████▎ | 208/250 [00:16<00:04,  9.90it/s, now=None]\u001b[A\n",
            "t:  84%|████████▍ | 210/250 [00:17<00:05,  7.90it/s, now=None]\u001b[A\n",
            "t:  85%|████████▍ | 212/250 [00:17<00:04,  8.20it/s, now=None]\u001b[A\n",
            "t:  85%|████████▌ | 213/250 [00:17<00:04,  8.23it/s, now=None]\u001b[A\n",
            "t:  86%|████████▌ | 215/250 [00:17<00:04,  7.28it/s, now=None]\u001b[A\n",
            "t:  87%|████████▋ | 217/250 [00:18<00:03,  8.28it/s, now=None]\u001b[A\n",
            "t:  87%|████████▋ | 218/250 [00:18<00:03,  8.41it/s, now=None]\u001b[A\n",
            "t:  88%|████████▊ | 219/250 [00:18<00:04,  6.53it/s, now=None]\u001b[A\n",
            "t:  88%|████████▊ | 220/250 [00:18<00:04,  6.83it/s, now=None]\u001b[A\n",
            "t:  89%|████████▉ | 222/250 [00:18<00:03,  8.50it/s, now=None]\u001b[A\n",
            "t:  89%|████████▉ | 223/250 [00:18<00:03,  7.09it/s, now=None]\u001b[A\n",
            "t:  90%|█████████ | 225/250 [00:19<00:02,  9.07it/s, now=None]\u001b[A\n",
            "t:  91%|█████████ | 227/250 [00:19<00:03,  6.59it/s, now=None]\u001b[A\n",
            "t:  91%|█████████ | 228/250 [00:19<00:03,  6.83it/s, now=None]\u001b[A\n",
            "t:  92%|█████████▏| 229/250 [00:19<00:03,  5.84it/s, now=None]\u001b[A\n",
            "t:  92%|█████████▏| 230/250 [00:20<00:03,  5.82it/s, now=None]\u001b[A\n",
            "t:  93%|█████████▎| 232/250 [00:20<00:02,  6.53it/s, now=None]\u001b[A\n",
            "t:  93%|█████████▎| 233/250 [00:20<00:02,  6.14it/s, now=None]\u001b[A\n",
            "t:  94%|█████████▎| 234/250 [00:20<00:02,  6.39it/s, now=None]\u001b[A\n",
            "t:  94%|█████████▍| 235/250 [00:20<00:02,  6.79it/s, now=None]\u001b[A\n",
            "t:  94%|█████████▍| 236/250 [00:20<00:02,  6.44it/s, now=None]\u001b[A\n",
            "t:  95%|█████████▍| 237/250 [00:21<00:01,  7.13it/s, now=None]\u001b[A\n",
            "t:  95%|█████████▌| 238/250 [00:21<00:02,  5.90it/s, now=None]\u001b[A\n",
            "t:  96%|█████████▌| 239/250 [00:21<00:01,  6.56it/s, now=None]\u001b[A\n",
            "t:  96%|█████████▋| 241/250 [00:21<00:01,  7.43it/s, now=None]\u001b[A\n",
            "t:  97%|█████████▋| 242/250 [00:21<00:01,  6.72it/s, now=None]\u001b[A\n",
            "t:  98%|█████████▊| 244/250 [00:21<00:00,  8.79it/s, now=None]\u001b[A\n",
            "t:  98%|█████████▊| 245/250 [00:22<00:00,  7.14it/s, now=None]\u001b[A\n",
            "t:  99%|█████████▉| 248/250 [00:22<00:00,  7.64it/s, now=None]\u001b[A\n",
            "t: 100%|█████████▉| 249/250 [00:22<00:00,  7.35it/s, now=None]\u001b[A\n",
            "t:  45%|████▌     | 113/250 [10:41<00:34,  3.93it/s, now=None]"
          ]
        },
        {
          "output_type": "stream",
          "name": "stdout",
          "text": [
            "Moviepy - Done !\n",
            "Moviepy - video ready /content/classified_moments/Goal/goal14.mp4\n"
          ]
        },
        {
          "output_type": "stream",
          "name": "stderr",
          "text": [
            "t:  45%|████▌     | 113/250 [10:42<00:34,  3.93it/s, now=None]"
          ]
        },
        {
          "output_type": "stream",
          "name": "stdout",
          "text": [
            "Moviepy - Building video /content/classified_moments/Goal/goal15.mp4.\n",
            "MoviePy - Writing audio in goal15TEMP_MPY_wvf_snd.mp3\n"
          ]
        },
        {
          "output_type": "stream",
          "name": "stderr",
          "text": [
            "\n",
            "chunk:   0%|          | 0/221 [00:00<?, ?it/s, now=None]\u001b[A\n",
            "chunk:  22%|██▏       | 48/221 [00:00<00:00, 479.97it/s, now=None]\u001b[A\n",
            "chunk:  56%|█████▌    | 124/221 [00:00<00:00, 639.84it/s, now=None]\u001b[A\n",
            "chunk:  92%|█████████▏| 204/221 [00:00<00:00, 709.10it/s, now=None]\u001b[A\n",
            "t:  45%|████▌     | 113/250 [10:42<00:34,  3.93it/s, now=None]"
          ]
        },
        {
          "output_type": "stream",
          "name": "stdout",
          "text": [
            "MoviePy - Done.\n",
            "Moviepy - Writing video /content/classified_moments/Goal/goal15.mp4\n",
            "\n"
          ]
        },
        {
          "output_type": "stream",
          "name": "stderr",
          "text": [
            "\n",
            "t:   0%|          | 0/250 [00:00<?, ?it/s, now=None]\u001b[A\n",
            "t:   2%|▏         | 6/250 [00:00<00:04, 58.27it/s, now=None]\u001b[A\n",
            "t:   5%|▍         | 12/250 [00:00<00:04, 59.21it/s, now=None]\u001b[A\n",
            "t:   8%|▊         | 19/250 [00:00<00:03, 62.29it/s, now=None]\u001b[A\n",
            "t:  11%|█         | 27/250 [00:00<00:03, 68.51it/s, now=None]\u001b[A\n",
            "t:  14%|█▎        | 34/250 [00:00<00:03, 64.56it/s, now=None]\u001b[A\n",
            "t:  16%|█▋        | 41/250 [00:00<00:03, 64.68it/s, now=None]\u001b[A\n",
            "t:  20%|█▉        | 49/250 [00:00<00:02, 69.07it/s, now=None]\u001b[A\n",
            "t:  22%|██▏       | 56/250 [00:00<00:02, 67.15it/s, now=None]\u001b[A\n",
            "t:  25%|██▌       | 63/250 [00:01<00:06, 27.62it/s, now=None]\u001b[A\n",
            "t:  28%|██▊       | 69/250 [00:01<00:07, 24.13it/s, now=None]\u001b[A\n",
            "t:  30%|██▉       | 74/250 [00:02<00:07, 22.53it/s, now=None]\u001b[A\n",
            "t:  31%|███       | 78/250 [00:02<00:08, 21.11it/s, now=None]\u001b[A\n",
            "t:  32%|███▏      | 81/250 [00:02<00:08, 20.67it/s, now=None]\u001b[A\n",
            "t:  34%|███▎      | 84/250 [00:02<00:09, 18.37it/s, now=None]\u001b[A\n",
            "t:  35%|███▍      | 87/250 [00:02<00:08, 18.14it/s, now=None]\u001b[A\n",
            "t:  36%|███▌      | 90/250 [00:03<00:09, 16.68it/s, now=None]\u001b[A\n",
            "t:  37%|███▋      | 92/250 [00:03<00:11, 13.55it/s, now=None]\u001b[A\n",
            "t:  38%|███▊      | 94/250 [00:03<00:11, 14.03it/s, now=None]\u001b[A\n",
            "t:  38%|███▊      | 96/250 [00:03<00:12, 12.48it/s, now=None]\u001b[A\n",
            "t:  39%|███▉      | 98/250 [00:03<00:11, 13.67it/s, now=None]\u001b[A\n",
            "t:  40%|████      | 100/250 [00:03<00:12, 12.48it/s, now=None]\u001b[A\n",
            "t:  41%|████      | 102/250 [00:04<00:11, 12.83it/s, now=None]\u001b[A\n",
            "t:  42%|████▏     | 104/250 [00:04<00:12, 11.37it/s, now=None]\u001b[A\n",
            "t:  42%|████▏     | 106/250 [00:04<00:12, 11.54it/s, now=None]\u001b[A\n",
            "t:  43%|████▎     | 108/250 [00:04<00:12, 11.41it/s, now=None]\u001b[A\n",
            "t:  44%|████▍     | 110/250 [00:04<00:12, 11.45it/s, now=None]\u001b[A\n",
            "t:  45%|████▍     | 112/250 [00:05<00:11, 11.75it/s, now=None]\u001b[A\n",
            "t:  46%|████▌     | 114/250 [00:05<00:11, 11.74it/s, now=None]\u001b[A\n",
            "t:  46%|████▋     | 116/250 [00:05<00:11, 11.50it/s, now=None]\u001b[A\n",
            "t:  47%|████▋     | 118/250 [00:05<00:10, 12.48it/s, now=None]\u001b[A\n",
            "t:  48%|████▊     | 120/250 [00:05<00:11, 11.17it/s, now=None]\u001b[A\n",
            "t:  49%|████▉     | 122/250 [00:05<00:10, 12.55it/s, now=None]\u001b[A\n",
            "t:  50%|████▉     | 124/250 [00:06<00:12, 10.33it/s, now=None]\u001b[A\n",
            "t:  50%|█████     | 126/250 [00:06<00:12,  9.74it/s, now=None]\u001b[A\n",
            "t:  51%|█████     | 128/250 [00:06<00:13,  8.95it/s, now=None]\u001b[A\n",
            "t:  52%|█████▏    | 129/250 [00:06<00:14,  8.53it/s, now=None]\u001b[A\n",
            "t:  52%|█████▏    | 130/250 [00:06<00:14,  8.44it/s, now=None]\u001b[A\n",
            "t:  52%|█████▏    | 131/250 [00:07<00:14,  8.23it/s, now=None]\u001b[A\n",
            "t:  53%|█████▎    | 132/250 [00:07<00:17,  6.77it/s, now=None]\u001b[A\n",
            "t:  54%|█████▎    | 134/250 [00:07<00:13,  8.63it/s, now=None]\u001b[A\n",
            "t:  54%|█████▍    | 135/250 [00:07<00:14,  8.21it/s, now=None]\u001b[A\n",
            "t:  54%|█████▍    | 136/250 [00:07<00:15,  7.17it/s, now=None]\u001b[A\n",
            "t:  55%|█████▌    | 138/250 [00:07<00:13,  8.32it/s, now=None]\u001b[A\n",
            "t:  56%|█████▌    | 139/250 [00:08<00:14,  7.65it/s, now=None]\u001b[A\n",
            "t:  56%|█████▋    | 141/250 [00:08<00:11,  9.51it/s, now=None]\u001b[A\n",
            "t:  57%|█████▋    | 143/250 [00:08<00:12,  8.88it/s, now=None]\u001b[A\n",
            "t:  58%|█████▊    | 145/250 [00:08<00:13,  7.69it/s, now=None]\u001b[A\n",
            "t:  59%|█████▉    | 147/250 [00:08<00:10,  9.40it/s, now=None]\u001b[A\n",
            "t:  60%|█████▉    | 149/250 [00:09<00:12,  7.98it/s, now=None]\u001b[A\n",
            "t:  60%|██████    | 151/250 [00:09<00:11,  8.69it/s, now=None]\u001b[A\n",
            "t:  61%|██████    | 152/250 [00:09<00:11,  8.51it/s, now=None]\u001b[A\n",
            "t:  62%|██████▏   | 154/250 [00:09<00:12,  7.80it/s, now=None]\u001b[A\n",
            "t:  62%|██████▏   | 155/250 [00:10<00:13,  7.18it/s, now=None]\u001b[A\n",
            "t:  63%|██████▎   | 157/250 [00:10<00:10,  8.96it/s, now=None]\u001b[A\n",
            "t:  64%|██████▎   | 159/250 [00:10<00:11,  7.73it/s, now=None]\u001b[A\n",
            "t:  64%|██████▍   | 160/250 [00:10<00:12,  7.38it/s, now=None]\u001b[A\n",
            "t:  65%|██████▌   | 163/250 [00:10<00:11,  7.91it/s, now=None]\u001b[A\n",
            "t:  66%|██████▌   | 164/250 [00:11<00:10,  7.92it/s, now=None]\u001b[A\n",
            "t:  66%|██████▋   | 166/250 [00:11<00:12,  6.65it/s, now=None]\u001b[A\n",
            "t:  67%|██████▋   | 168/250 [00:11<00:10,  7.47it/s, now=None]\u001b[A\n",
            "t:  68%|██████▊   | 169/250 [00:11<00:11,  6.99it/s, now=None]\u001b[A\n",
            "t:  68%|██████▊   | 170/250 [00:12<00:13,  5.71it/s, now=None]\u001b[A\n",
            "t:  69%|██████▉   | 172/250 [00:12<00:11,  7.07it/s, now=None]\u001b[A\n",
            "t:  69%|██████▉   | 173/250 [00:12<00:11,  6.47it/s, now=None]\u001b[A\n",
            "t:  70%|██████▉   | 174/250 [00:12<00:14,  5.21it/s, now=None]\u001b[A\n",
            "t:  70%|███████   | 176/250 [00:13<00:12,  6.02it/s, now=None]\u001b[A\n",
            "t:  71%|███████   | 178/250 [00:13<00:12,  5.72it/s, now=None]\u001b[A\n",
            "t:  72%|███████▏  | 179/250 [00:13<00:11,  6.13it/s, now=None]\u001b[A\n",
            "t:  72%|███████▏  | 181/250 [00:13<00:08,  7.77it/s, now=None]\u001b[A\n",
            "t:  73%|███████▎  | 182/250 [00:14<00:10,  6.27it/s, now=None]\u001b[A\n",
            "t:  73%|███████▎  | 183/250 [00:14<00:10,  6.47it/s, now=None]\u001b[A\n",
            "t:  74%|███████▍  | 185/250 [00:14<00:09,  6.53it/s, now=None]\u001b[A\n",
            "t:  75%|███████▍  | 187/250 [00:14<00:07,  7.93it/s, now=None]\u001b[A\n",
            "t:  75%|███████▌  | 188/250 [00:15<00:11,  5.46it/s, now=None]\u001b[A\n",
            "t:  76%|███████▌  | 190/250 [00:15<00:09,  6.44it/s, now=None]\u001b[A\n",
            "t:  76%|███████▋  | 191/250 [00:15<00:08,  6.93it/s, now=None]\u001b[A\n",
            "t:  77%|███████▋  | 192/250 [00:15<00:10,  5.73it/s, now=None]\u001b[A\n",
            "t:  78%|███████▊  | 194/250 [00:15<00:07,  7.00it/s, now=None]\u001b[A\n",
            "t:  78%|███████▊  | 196/250 [00:16<00:06,  7.84it/s, now=None]\u001b[A\n",
            "t:  79%|███████▉  | 197/250 [00:16<00:06,  7.94it/s, now=None]\u001b[A\n",
            "t:  80%|████████  | 200/250 [00:16<00:05,  9.29it/s, now=None]\u001b[A\n",
            "t:  81%|████████  | 202/250 [00:16<00:04, 10.47it/s, now=None]\u001b[A\n",
            "t:  82%|████████▏ | 204/250 [00:16<00:04, 10.29it/s, now=None]\u001b[A\n",
            "t:  82%|████████▏ | 206/250 [00:16<00:03, 11.10it/s, now=None]\u001b[A\n",
            "t:  83%|████████▎ | 208/250 [00:17<00:03, 11.40it/s, now=None]\u001b[A\n",
            "t:  84%|████████▍ | 210/250 [00:17<00:03, 11.59it/s, now=None]\u001b[A\n",
            "t:  85%|████████▍ | 212/250 [00:17<00:03, 11.47it/s, now=None]\u001b[A\n",
            "t:  86%|████████▌ | 214/250 [00:17<00:03, 11.98it/s, now=None]\u001b[A\n",
            "t:  86%|████████▋ | 216/250 [00:17<00:02, 12.46it/s, now=None]\u001b[A\n",
            "t:  88%|████████▊ | 219/250 [00:17<00:02, 12.79it/s, now=None]\u001b[A\n",
            "t:  88%|████████▊ | 221/250 [00:18<00:02, 13.09it/s, now=None]\u001b[A\n",
            "t:  89%|████████▉ | 223/250 [00:18<00:02, 10.59it/s, now=None]\u001b[A\n",
            "t:  90%|█████████ | 226/250 [00:18<00:02, 11.26it/s, now=None]\u001b[A\n",
            "t:  91%|█████████ | 228/250 [00:18<00:01, 12.62it/s, now=None]\u001b[A\n",
            "t:  92%|█████████▏| 230/250 [00:18<00:01, 12.15it/s, now=None]\u001b[A\n",
            "t:  93%|█████████▎| 232/250 [00:19<00:01, 11.46it/s, now=None]\u001b[A\n",
            "t:  94%|█████████▎| 234/250 [00:19<00:01, 12.48it/s, now=None]\u001b[A\n",
            "t:  94%|█████████▍| 236/250 [00:19<00:01, 11.34it/s, now=None]\u001b[A\n",
            "t:  95%|█████████▌| 238/250 [00:19<00:00, 12.31it/s, now=None]\u001b[A\n",
            "t:  96%|█████████▌| 240/250 [00:19<00:00, 11.61it/s, now=None]\u001b[A\n",
            "t:  97%|█████████▋| 242/250 [00:19<00:00, 13.14it/s, now=None]\u001b[A\n",
            "t:  98%|█████████▊| 244/250 [00:20<00:00,  9.66it/s, now=None]\u001b[A\n",
            "t:  98%|█████████▊| 246/250 [00:20<00:00, 11.07it/s, now=None]\u001b[A\n",
            "t:  99%|█████████▉| 248/250 [00:20<00:00, 10.80it/s, now=None]\u001b[A\n",
            "t: 100%|██████████| 250/250 [00:20<00:00, 11.77it/s, now=None]\u001b[A\n",
            "t:  45%|████▌     | 113/250 [11:06<00:34,  3.93it/s, now=None]"
          ]
        },
        {
          "output_type": "stream",
          "name": "stdout",
          "text": [
            "Moviepy - Done !\n",
            "Moviepy - video ready /content/classified_moments/Goal/goal15.mp4\n"
          ]
        },
        {
          "output_type": "stream",
          "name": "stderr",
          "text": [
            "t:  45%|████▌     | 113/250 [11:06<00:34,  3.93it/s, now=None]"
          ]
        },
        {
          "output_type": "stream",
          "name": "stdout",
          "text": [
            "Moviepy - Building video /content/classified_moments/Goal/goal16.mp4.\n",
            "MoviePy - Writing audio in goal16TEMP_MPY_wvf_snd.mp3\n"
          ]
        },
        {
          "output_type": "stream",
          "name": "stderr",
          "text": [
            "\n",
            "chunk:   0%|          | 0/221 [00:00<?, ?it/s, now=None]\u001b[A\n",
            "chunk:  20%|█▉        | 44/221 [00:00<00:00, 436.70it/s, now=None]\u001b[A\n",
            "chunk:  47%|████▋     | 104/221 [00:00<00:00, 529.57it/s, now=None]\u001b[A\n",
            "chunk:  78%|███████▊  | 173/221 [00:00<00:00, 600.47it/s, now=None]\u001b[A\n",
            "t:  45%|████▌     | 113/250 [11:07<00:34,  3.93it/s, now=None]"
          ]
        },
        {
          "output_type": "stream",
          "name": "stdout",
          "text": [
            "MoviePy - Done.\n",
            "Moviepy - Writing video /content/classified_moments/Goal/goal16.mp4\n",
            "\n"
          ]
        },
        {
          "output_type": "stream",
          "name": "stderr",
          "text": [
            "\n",
            "t:   0%|          | 0/250 [00:00<?, ?it/s, now=None]\u001b[A\n",
            "t:   3%|▎         | 7/250 [00:00<00:03, 69.12it/s, now=None]\u001b[A\n",
            "t:   6%|▌         | 14/250 [00:00<00:03, 61.96it/s, now=None]\u001b[A\n",
            "t:   9%|▉         | 22/250 [00:00<00:03, 67.38it/s, now=None]\u001b[A\n",
            "t:  12%|█▏        | 30/250 [00:00<00:03, 67.84it/s, now=None]\u001b[A\n",
            "t:  15%|█▍        | 37/250 [00:00<00:03, 63.26it/s, now=None]\u001b[A\n",
            "t:  18%|█▊        | 44/250 [00:00<00:03, 62.28it/s, now=None]\u001b[A\n",
            "t:  20%|██        | 51/250 [00:00<00:03, 55.42it/s, now=None]\u001b[A\n",
            "t:  23%|██▎       | 57/250 [00:01<00:06, 31.12it/s, now=None]\u001b[A\n",
            "t:  25%|██▍       | 62/250 [00:01<00:10, 18.32it/s, now=None]\u001b[A\n",
            "t:  26%|██▋       | 66/250 [00:02<00:13, 13.25it/s, now=None]\u001b[A\n",
            "t:  28%|██▊       | 69/250 [00:02<00:16, 11.01it/s, now=None]\u001b[A\n",
            "t:  28%|██▊       | 71/250 [00:03<00:16, 10.81it/s, now=None]\u001b[A\n",
            "t:  29%|██▉       | 73/250 [00:03<00:20,  8.79it/s, now=None]\u001b[A\n",
            "t:  30%|███       | 75/250 [00:03<00:18,  9.56it/s, now=None]\u001b[A\n",
            "t:  31%|███       | 77/250 [00:04<00:20,  8.58it/s, now=None]\u001b[A\n",
            "t:  32%|███▏      | 79/250 [00:04<00:21,  8.12it/s, now=None]\u001b[A\n",
            "t:  33%|███▎      | 82/250 [00:04<00:18,  9.16it/s, now=None]\u001b[A\n",
            "t:  34%|███▎      | 84/250 [00:04<00:16,  9.79it/s, now=None]\u001b[A\n",
            "t:  34%|███▍      | 86/250 [00:05<00:19,  8.63it/s, now=None]\u001b[A\n",
            "t:  35%|███▌      | 88/250 [00:05<00:17,  9.19it/s, now=None]\u001b[A\n",
            "t:  36%|███▌      | 90/250 [00:05<00:18,  8.67it/s, now=None]\u001b[A\n",
            "t:  36%|███▋      | 91/250 [00:05<00:20,  7.69it/s, now=None]\u001b[A\n",
            "t:  37%|███▋      | 93/250 [00:05<00:18,  8.59it/s, now=None]\u001b[A\n",
            "t:  38%|███▊      | 94/250 [00:05<00:19,  7.91it/s, now=None]\u001b[A\n",
            "t:  38%|███▊      | 95/250 [00:06<00:23,  6.58it/s, now=None]\u001b[A\n",
            "t:  39%|███▉      | 97/250 [00:06<00:18,  8.27it/s, now=None]\u001b[A\n",
            "t:  39%|███▉      | 98/250 [00:06<00:19,  7.73it/s, now=None]\u001b[A\n",
            "t:  40%|███▉      | 99/250 [00:06<00:22,  6.61it/s, now=None]\u001b[A\n",
            "t:  40%|████      | 100/250 [00:06<00:21,  7.07it/s, now=None]\u001b[A\n",
            "t:  41%|████      | 102/250 [00:07<00:17,  8.49it/s, now=None]\u001b[A\n",
            "t:  41%|████      | 103/250 [00:07<00:20,  7.25it/s, now=None]\u001b[A\n",
            "t:  42%|████▏     | 104/250 [00:07<00:20,  7.29it/s, now=None]\u001b[A\n",
            "t:  42%|████▏     | 106/250 [00:07<00:21,  6.59it/s, now=None]\u001b[A\n",
            "t:  43%|████▎     | 107/250 [00:07<00:20,  6.91it/s, now=None]\u001b[A\n",
            "t:  43%|████▎     | 108/250 [00:07<00:19,  7.29it/s, now=None]\u001b[A\n",
            "t:  44%|████▎     | 109/250 [00:08<00:19,  7.06it/s, now=None]\u001b[A\n",
            "t:  44%|████▍     | 110/250 [00:08<00:24,  5.78it/s, now=None]\u001b[A\n",
            "t:  45%|████▍     | 112/250 [00:08<00:18,  7.54it/s, now=None]\u001b[A\n",
            "t:  45%|████▌     | 113/250 [00:08<00:18,  7.39it/s, now=None]\u001b[A\n",
            "t:  46%|████▌     | 114/250 [00:08<00:18,  7.31it/s, now=None]\u001b[A\n",
            "t:  46%|████▋     | 116/250 [00:09<00:15,  8.54it/s, now=None]\u001b[A\n",
            "t:  47%|████▋     | 118/250 [00:09<00:14,  9.12it/s, now=None]\u001b[A\n",
            "t:  48%|████▊     | 119/250 [00:09<00:14,  9.05it/s, now=None]\u001b[A\n",
            "t:  49%|████▉     | 122/250 [00:09<00:12, 10.40it/s, now=None]\u001b[A\n",
            "t:  50%|█████     | 125/250 [00:09<00:10, 11.38it/s, now=None]\u001b[A\n",
            "t:  51%|█████     | 127/250 [00:09<00:09, 12.68it/s, now=None]\u001b[A\n",
            "t:  52%|█████▏    | 129/250 [00:10<00:10, 11.06it/s, now=None]\u001b[A\n",
            "t:  52%|█████▏    | 131/250 [00:10<00:10, 11.65it/s, now=None]\u001b[A\n",
            "t:  53%|█████▎    | 133/250 [00:10<00:10, 11.15it/s, now=None]\u001b[A\n",
            "t:  54%|█████▍    | 135/250 [00:10<00:10, 11.45it/s, now=None]\u001b[A\n",
            "t:  55%|█████▍    | 137/250 [00:10<00:10, 10.65it/s, now=None]\u001b[A\n",
            "t:  56%|█████▌    | 140/250 [00:11<00:09, 11.20it/s, now=None]\u001b[A\n",
            "t:  57%|█████▋    | 143/250 [00:11<00:08, 12.21it/s, now=None]\u001b[A\n",
            "t:  58%|█████▊    | 145/250 [00:11<00:08, 12.09it/s, now=None]\u001b[A\n",
            "t:  59%|█████▉    | 147/250 [00:11<00:07, 13.14it/s, now=None]\u001b[A\n",
            "t:  60%|█████▉    | 149/250 [00:11<00:09, 11.13it/s, now=None]\u001b[A\n",
            "t:  61%|██████    | 152/250 [00:12<00:08, 12.13it/s, now=None]\u001b[A\n",
            "t:  62%|██████▏   | 154/250 [00:12<00:07, 12.55it/s, now=None]\u001b[A\n",
            "t:  63%|██████▎   | 157/250 [00:12<00:06, 14.45it/s, now=None]\u001b[A\n",
            "t:  64%|██████▎   | 159/250 [00:12<00:06, 13.54it/s, now=None]\u001b[A\n",
            "t:  64%|██████▍   | 161/250 [00:12<00:07, 12.35it/s, now=None]\u001b[A\n",
            "t:  65%|██████▌   | 163/250 [00:12<00:07, 11.44it/s, now=None]\u001b[A\n",
            "t:  66%|██████▋   | 166/250 [00:13<00:07, 11.88it/s, now=None]\u001b[A\n",
            "t:  67%|██████▋   | 168/250 [00:13<00:06, 12.29it/s, now=None]\u001b[A\n",
            "t:  68%|██████▊   | 170/250 [00:13<00:06, 13.29it/s, now=None]\u001b[A\n",
            "t:  69%|██████▉   | 172/250 [00:13<00:06, 12.73it/s, now=None]\u001b[A\n",
            "t:  70%|██████▉   | 174/250 [00:13<00:06, 11.02it/s, now=None]\u001b[A\n",
            "t:  71%|███████   | 177/250 [00:14<00:06, 11.25it/s, now=None]\u001b[A\n",
            "t:  72%|███████▏  | 179/250 [00:14<00:05, 12.50it/s, now=None]\u001b[A\n",
            "t:  72%|███████▏  | 181/250 [00:14<00:05, 12.93it/s, now=None]\u001b[A\n",
            "t:  73%|███████▎  | 183/250 [00:14<00:06,  9.87it/s, now=None]\u001b[A\n",
            "t:  74%|███████▍  | 185/250 [00:14<00:05, 10.95it/s, now=None]\u001b[A\n",
            "t:  75%|███████▍  | 187/250 [00:14<00:05, 11.70it/s, now=None]\u001b[A\n",
            "t:  76%|███████▌  | 189/250 [00:15<00:05, 11.78it/s, now=None]\u001b[A\n",
            "t:  76%|███████▋  | 191/250 [00:15<00:04, 13.12it/s, now=None]\u001b[A\n",
            "t:  77%|███████▋  | 193/250 [00:15<00:04, 13.91it/s, now=None]\u001b[A\n",
            "t:  78%|███████▊  | 195/250 [00:15<00:04, 12.62it/s, now=None]\u001b[A\n",
            "t:  79%|███████▉  | 197/250 [00:15<00:03, 14.02it/s, now=None]\u001b[A\n",
            "t:  80%|███████▉  | 199/250 [00:15<00:03, 12.81it/s, now=None]\u001b[A\n",
            "t:  80%|████████  | 201/250 [00:15<00:03, 13.49it/s, now=None]\u001b[A\n",
            "t:  81%|████████  | 203/250 [00:16<00:03, 11.98it/s, now=None]\u001b[A\n",
            "t:  82%|████████▏ | 206/250 [00:16<00:03, 13.10it/s, now=None]\u001b[A\n",
            "t:  83%|████████▎ | 208/250 [00:16<00:03, 13.50it/s, now=None]\u001b[A\n",
            "t:  84%|████████▍ | 210/250 [00:16<00:03, 11.66it/s, now=None]\u001b[A\n",
            "t:  85%|████████▍ | 212/250 [00:16<00:03, 11.97it/s, now=None]\u001b[A\n",
            "t:  86%|████████▌ | 214/250 [00:17<00:02, 12.14it/s, now=None]\u001b[A\n",
            "t:  86%|████████▋ | 216/250 [00:17<00:02, 13.04it/s, now=None]\u001b[A\n",
            "t:  87%|████████▋ | 218/250 [00:17<00:02, 12.08it/s, now=None]\u001b[A\n",
            "t:  88%|████████▊ | 221/250 [00:17<00:02, 12.33it/s, now=None]\u001b[A\n",
            "t:  89%|████████▉ | 223/250 [00:17<00:02, 12.89it/s, now=None]\u001b[A\n",
            "t:  90%|█████████ | 225/250 [00:17<00:02, 12.41it/s, now=None]\u001b[A\n",
            "t:  91%|█████████ | 227/250 [00:18<00:01, 12.84it/s, now=None]\u001b[A\n",
            "t:  92%|█████████▏| 229/250 [00:18<00:01, 11.99it/s, now=None]\u001b[A\n",
            "t:  92%|█████████▏| 231/250 [00:18<00:01, 12.23it/s, now=None]\u001b[A\n",
            "t:  93%|█████████▎| 233/250 [00:18<00:01, 12.58it/s, now=None]\u001b[A\n",
            "t:  94%|█████████▍| 235/250 [00:18<00:01, 13.06it/s, now=None]\u001b[A\n",
            "t:  95%|█████████▍| 237/250 [00:19<00:01, 10.11it/s, now=None]\u001b[A\n",
            "t:  96%|█████████▌| 239/250 [00:19<00:01,  9.04it/s, now=None]\u001b[A\n",
            "t:  96%|█████████▋| 241/250 [00:19<00:01,  8.11it/s, now=None]\u001b[A\n",
            "t:  97%|█████████▋| 242/250 [00:19<00:01,  7.97it/s, now=None]\u001b[A\n",
            "t:  97%|█████████▋| 243/250 [00:19<00:00,  8.16it/s, now=None]\u001b[A\n",
            "t:  98%|█████████▊| 245/250 [00:20<00:00,  9.10it/s, now=None]\u001b[A\n",
            "t:  98%|█████████▊| 246/250 [00:20<00:00,  7.36it/s, now=None]\u001b[A\n",
            "t:  99%|█████████▉| 248/250 [00:20<00:00,  7.81it/s, now=None]\u001b[A\n",
            "t: 100%|██████████| 250/250 [00:20<00:00,  7.65it/s, now=None]\u001b[A\n",
            "t:  45%|████▌     | 113/250 [11:34<00:34,  3.93it/s, now=None]"
          ]
        },
        {
          "output_type": "stream",
          "name": "stdout",
          "text": [
            "Moviepy - Done !\n",
            "Moviepy - video ready /content/classified_moments/Goal/goal16.mp4\n"
          ]
        },
        {
          "output_type": "stream",
          "name": "stderr",
          "text": [
            "t:  45%|████▌     | 113/250 [11:35<00:34,  3.93it/s, now=None]"
          ]
        },
        {
          "output_type": "stream",
          "name": "stdout",
          "text": [
            "Moviepy - Building video /content/classified_moments/Goal/goal17.mp4.\n",
            "MoviePy - Writing audio in goal17TEMP_MPY_wvf_snd.mp3\n"
          ]
        },
        {
          "output_type": "stream",
          "name": "stderr",
          "text": [
            "\n",
            "chunk:   0%|          | 0/221 [00:00<?, ?it/s, now=None]\u001b[A\n",
            "chunk:  22%|██▏       | 48/221 [00:00<00:00, 477.28it/s, now=None]\u001b[A\n",
            "chunk:  56%|█████▌    | 124/221 [00:00<00:00, 640.13it/s, now=None]\u001b[A\n",
            "chunk:  93%|█████████▎| 205/221 [00:00<00:00, 701.96it/s, now=None]\u001b[A\n",
            "t:  45%|████▌     | 113/250 [11:35<00:34,  3.93it/s, now=None]"
          ]
        },
        {
          "output_type": "stream",
          "name": "stdout",
          "text": [
            "MoviePy - Done.\n",
            "Moviepy - Writing video /content/classified_moments/Goal/goal17.mp4\n",
            "\n"
          ]
        },
        {
          "output_type": "stream",
          "name": "stderr",
          "text": [
            "\n",
            "t:   0%|          | 0/250 [00:00<?, ?it/s, now=None]\u001b[A\n",
            "t:   2%|▏         | 6/250 [00:00<00:04, 53.56it/s, now=None]\u001b[A\n",
            "t:   5%|▍         | 12/250 [00:00<00:04, 56.23it/s, now=None]\u001b[A\n",
            "t:   8%|▊         | 19/250 [00:00<00:03, 58.32it/s, now=None]\u001b[A\n",
            "t:  10%|█         | 26/250 [00:00<00:03, 61.42it/s, now=None]\u001b[A\n",
            "t:  13%|█▎        | 33/250 [00:00<00:03, 63.99it/s, now=None]\u001b[A\n",
            "t:  16%|█▋        | 41/250 [00:00<00:03, 67.08it/s, now=None]\u001b[A\n",
            "t:  19%|█▉        | 48/250 [00:00<00:03, 66.22it/s, now=None]\u001b[A\n",
            "t:  22%|██▏       | 55/250 [00:00<00:03, 61.76it/s, now=None]\u001b[A\n",
            "t:  25%|██▍       | 62/250 [00:01<00:07, 25.12it/s, now=None]\u001b[A\n",
            "t:  27%|██▋       | 67/250 [00:01<00:08, 22.74it/s, now=None]\u001b[A\n",
            "t:  28%|██▊       | 71/250 [00:02<00:09, 19.39it/s, now=None]\u001b[A\n",
            "t:  30%|██▉       | 74/250 [00:02<00:10, 16.25it/s, now=None]\u001b[A\n",
            "t:  31%|███       | 77/250 [00:02<00:12, 14.23it/s, now=None]\u001b[A\n",
            "t:  32%|███▏      | 80/250 [00:03<00:12, 13.76it/s, now=None]\u001b[A\n",
            "t:  33%|███▎      | 82/250 [00:03<00:12, 13.20it/s, now=None]\u001b[A\n",
            "t:  34%|███▎      | 84/250 [00:03<00:13, 12.43it/s, now=None]\u001b[A\n",
            "t:  34%|███▍      | 86/250 [00:03<00:12, 13.20it/s, now=None]\u001b[A\n",
            "t:  35%|███▌      | 88/250 [00:03<00:13, 12.20it/s, now=None]\u001b[A\n",
            "t:  36%|███▌      | 90/250 [00:03<00:12, 12.43it/s, now=None]\u001b[A\n",
            "t:  37%|███▋      | 92/250 [00:04<00:13, 12.08it/s, now=None]\u001b[A\n",
            "t:  38%|███▊      | 94/250 [00:04<00:11, 13.49it/s, now=None]\u001b[A\n",
            "t:  38%|███▊      | 96/250 [00:04<00:14, 10.52it/s, now=None]\u001b[A\n",
            "t:  40%|███▉      | 99/250 [00:04<00:13, 11.51it/s, now=None]\u001b[A\n",
            "t:  40%|████      | 101/250 [00:04<00:12, 12.29it/s, now=None]\u001b[A\n",
            "t:  41%|████      | 103/250 [00:05<00:13, 10.79it/s, now=None]\u001b[A\n",
            "t:  42%|████▏     | 106/250 [00:05<00:13, 11.07it/s, now=None]\u001b[A\n",
            "t:  43%|████▎     | 108/250 [00:05<00:11, 11.87it/s, now=None]\u001b[A\n",
            "t:  44%|████▍     | 110/250 [00:05<00:11, 11.68it/s, now=None]\u001b[A\n",
            "t:  45%|████▍     | 112/250 [00:05<00:12, 10.89it/s, now=None]\u001b[A\n",
            "t:  46%|████▌     | 114/250 [00:05<00:11, 12.13it/s, now=None]\u001b[A\n",
            "t:  46%|████▋     | 116/250 [00:06<00:11, 11.86it/s, now=None]\u001b[A\n",
            "t:  47%|████▋     | 118/250 [00:06<00:11, 11.60it/s, now=None]\u001b[A\n",
            "t:  48%|████▊     | 120/250 [00:06<00:11, 11.74it/s, now=None]\u001b[A\n",
            "t:  49%|████▉     | 122/250 [00:06<00:10, 11.83it/s, now=None]\u001b[A\n",
            "t:  50%|████▉     | 124/250 [00:06<00:13,  9.65it/s, now=None]\u001b[A\n",
            "t:  51%|█████     | 127/250 [00:07<00:10, 11.53it/s, now=None]\u001b[A\n",
            "t:  52%|█████▏    | 129/250 [00:07<00:10, 11.91it/s, now=None]\u001b[A\n",
            "t:  52%|█████▏    | 131/250 [00:07<00:09, 12.85it/s, now=None]\u001b[A\n",
            "t:  53%|█████▎    | 133/250 [00:07<00:09, 12.45it/s, now=None]\u001b[A\n",
            "t:  54%|█████▍    | 135/250 [00:07<00:09, 12.35it/s, now=None]\u001b[A\n",
            "t:  55%|█████▌    | 138/250 [00:07<00:08, 13.18it/s, now=None]\u001b[A\n",
            "t:  56%|█████▌    | 140/250 [00:08<00:08, 13.33it/s, now=None]\u001b[A\n",
            "t:  57%|█████▋    | 142/250 [00:08<00:08, 12.52it/s, now=None]\u001b[A\n",
            "t:  58%|█████▊    | 144/250 [00:08<00:08, 12.44it/s, now=None]\u001b[A\n",
            "t:  58%|█████▊    | 146/250 [00:08<00:08, 12.57it/s, now=None]\u001b[A\n",
            "t:  59%|█████▉    | 148/250 [00:08<00:08, 11.85it/s, now=None]\u001b[A\n",
            "t:  60%|██████    | 150/250 [00:08<00:07, 13.24it/s, now=None]\u001b[A\n",
            "t:  61%|██████    | 152/250 [00:09<00:09, 10.44it/s, now=None]\u001b[A\n",
            "t:  62%|██████▏   | 154/250 [00:09<00:08, 11.04it/s, now=None]\u001b[A\n",
            "t:  62%|██████▏   | 156/250 [00:09<00:08, 10.50it/s, now=None]\u001b[A\n",
            "t:  63%|██████▎   | 158/250 [00:09<00:10,  8.56it/s, now=None]\u001b[A\n",
            "t:  64%|██████▍   | 160/250 [00:09<00:09,  9.96it/s, now=None]\u001b[A\n",
            "t:  65%|██████▍   | 162/250 [00:10<00:10,  8.78it/s, now=None]\u001b[A\n",
            "t:  66%|██████▌   | 164/250 [00:10<00:10,  8.20it/s, now=None]\u001b[A\n",
            "t:  66%|██████▌   | 165/250 [00:10<00:10,  8.23it/s, now=None]\u001b[A\n",
            "t:  66%|██████▋   | 166/250 [00:10<00:11,  7.52it/s, now=None]\u001b[A\n",
            "t:  67%|██████▋   | 168/250 [00:11<00:09,  9.04it/s, now=None]\u001b[A\n",
            "t:  68%|██████▊   | 169/250 [00:11<00:10,  7.81it/s, now=None]\u001b[A\n",
            "t:  68%|██████▊   | 171/250 [00:11<00:09,  8.58it/s, now=None]\u001b[A\n",
            "t:  69%|██████▉   | 172/250 [00:11<00:09,  7.98it/s, now=None]\u001b[A\n",
            "t:  70%|██████▉   | 174/250 [00:11<00:09,  7.73it/s, now=None]\u001b[A\n",
            "t:  70%|███████   | 176/250 [00:12<00:09,  7.47it/s, now=None]\u001b[A\n",
            "t:  71%|███████   | 178/250 [00:12<00:08,  8.27it/s, now=None]\u001b[A\n",
            "t:  72%|███████▏  | 179/250 [00:12<00:08,  7.89it/s, now=None]\u001b[A\n",
            "t:  72%|███████▏  | 180/250 [00:12<00:10,  6.79it/s, now=None]\u001b[A\n",
            "t:  73%|███████▎  | 182/250 [00:12<00:08,  8.25it/s, now=None]\u001b[A\n",
            "t:  73%|███████▎  | 183/250 [00:12<00:08,  7.98it/s, now=None]\u001b[A\n",
            "t:  74%|███████▎  | 184/250 [00:13<00:10,  6.58it/s, now=None]\u001b[A\n",
            "t:  74%|███████▍  | 186/250 [00:13<00:07,  8.45it/s, now=None]\u001b[A\n",
            "t:  75%|███████▍  | 187/250 [00:13<00:07,  8.18it/s, now=None]\u001b[A\n",
            "t:  75%|███████▌  | 188/250 [00:13<00:09,  6.58it/s, now=None]\u001b[A\n",
            "t:  76%|███████▌  | 190/250 [00:14<00:08,  6.73it/s, now=None]\u001b[A\n",
            "t:  77%|███████▋  | 192/250 [00:14<00:07,  8.23it/s, now=None]\u001b[A\n",
            "t:  77%|███████▋  | 193/250 [00:14<00:07,  7.25it/s, now=None]\u001b[A\n",
            "t:  78%|███████▊  | 195/250 [00:14<00:06,  9.01it/s, now=None]\u001b[A\n",
            "t:  79%|███████▉  | 197/250 [00:14<00:06,  7.84it/s, now=None]\u001b[A\n",
            "t:  80%|███████▉  | 199/250 [00:15<00:06,  8.19it/s, now=None]\u001b[A\n",
            "t:  80%|████████  | 200/250 [00:15<00:06,  7.36it/s, now=None]\u001b[A\n",
            "t:  81%|████████  | 202/250 [00:15<00:05,  8.84it/s, now=None]\u001b[A\n",
            "t:  82%|████████▏ | 204/250 [00:15<00:06,  7.58it/s, now=None]\u001b[A\n",
            "t:  82%|████████▏ | 206/250 [00:15<00:05,  7.55it/s, now=None]\u001b[A\n",
            "t:  83%|████████▎ | 208/250 [00:16<00:05,  8.24it/s, now=None]\u001b[A\n",
            "t:  84%|████████▎ | 209/250 [00:16<00:05,  8.04it/s, now=None]\u001b[A\n",
            "t:  84%|████████▍ | 210/250 [00:16<00:05,  7.14it/s, now=None]\u001b[A\n",
            "t:  84%|████████▍ | 211/250 [00:16<00:06,  6.35it/s, now=None]\u001b[A\n",
            "t:  85%|████████▍ | 212/250 [00:16<00:05,  6.89it/s, now=None]\u001b[A\n",
            "t:  86%|████████▌ | 214/250 [00:17<00:05,  6.45it/s, now=None]\u001b[A\n",
            "t:  86%|████████▋ | 216/250 [00:17<00:03,  8.60it/s, now=None]\u001b[A\n",
            "t:  87%|████████▋ | 218/250 [00:17<00:04,  7.78it/s, now=None]\u001b[A\n",
            "t:  88%|████████▊ | 220/250 [00:17<00:03,  8.85it/s, now=None]\u001b[A\n",
            "t:  89%|████████▉ | 222/250 [00:17<00:03,  8.92it/s, now=None]\u001b[A\n",
            "t:  90%|████████▉ | 224/250 [00:18<00:02, 10.70it/s, now=None]\u001b[A\n",
            "t:  90%|█████████ | 226/250 [00:18<00:02,  9.16it/s, now=None]\u001b[A\n",
            "t:  91%|█████████ | 228/250 [00:18<00:02, 10.72it/s, now=None]\u001b[A\n",
            "t:  92%|█████████▏| 230/250 [00:18<00:02,  9.57it/s, now=None]\u001b[A\n",
            "t:  93%|█████████▎| 232/250 [00:18<00:01, 10.86it/s, now=None]\u001b[A\n",
            "t:  94%|█████████▎| 234/250 [00:19<00:01,  9.79it/s, now=None]\u001b[A\n",
            "t:  94%|█████████▍| 236/250 [00:19<00:01, 10.95it/s, now=None]\u001b[A\n",
            "t:  95%|█████████▌| 238/250 [00:19<00:01,  9.30it/s, now=None]\u001b[A\n",
            "t:  96%|█████████▌| 240/250 [00:19<00:00, 10.32it/s, now=None]\u001b[A\n",
            "t:  97%|█████████▋| 242/250 [00:19<00:00, 10.21it/s, now=None]\u001b[A\n",
            "t:  98%|█████████▊| 244/250 [00:20<00:00, 10.77it/s, now=None]\u001b[A\n",
            "t:  98%|█████████▊| 246/250 [00:20<00:00, 11.06it/s, now=None]\u001b[A\n",
            "t:  99%|█████████▉| 248/250 [00:20<00:00, 11.83it/s, now=None]\u001b[A\n",
            "t: 100%|██████████| 250/250 [00:20<00:00, 12.46it/s, now=None]\u001b[A\n",
            "t:  45%|████▌     | 113/250 [11:59<00:34,  3.93it/s, now=None]"
          ]
        },
        {
          "output_type": "stream",
          "name": "stdout",
          "text": [
            "Moviepy - Done !\n",
            "Moviepy - video ready /content/classified_moments/Goal/goal17.mp4\n"
          ]
        },
        {
          "output_type": "stream",
          "name": "stderr",
          "text": [
            "t:  45%|████▌     | 113/250 [12:00<00:34,  3.93it/s, now=None]"
          ]
        },
        {
          "output_type": "stream",
          "name": "stdout",
          "text": [
            "Moviepy - Building video /content/classified_moments/Goal/goal18.mp4.\n",
            "MoviePy - Writing audio in goal18TEMP_MPY_wvf_snd.mp3\n"
          ]
        },
        {
          "output_type": "stream",
          "name": "stderr",
          "text": [
            "\n",
            "chunk:   0%|          | 0/221 [00:00<?, ?it/s, now=None]\u001b[A\n",
            "chunk:  14%|█▍        | 32/221 [00:00<00:00, 308.44it/s, now=None]\u001b[A\n",
            "chunk:  48%|████▊     | 106/221 [00:00<00:00, 554.13it/s, now=None]\u001b[A\n",
            "chunk:  74%|███████▍  | 163/221 [00:00<00:00, 561.13it/s, now=None]\u001b[A\n",
            "t:  45%|████▌     | 113/250 [12:00<00:34,  3.93it/s, now=None]"
          ]
        },
        {
          "output_type": "stream",
          "name": "stdout",
          "text": [
            "MoviePy - Done.\n",
            "Moviepy - Writing video /content/classified_moments/Goal/goal18.mp4\n",
            "\n"
          ]
        },
        {
          "output_type": "stream",
          "name": "stderr",
          "text": [
            "\n",
            "t:   0%|          | 0/250 [00:00<?, ?it/s, now=None]\u001b[A\n",
            "t:   3%|▎         | 8/250 [00:00<00:03, 65.32it/s, now=None]\u001b[A\n",
            "t:   6%|▌         | 15/250 [00:00<00:03, 63.63it/s, now=None]\u001b[A\n",
            "t:   9%|▉         | 22/250 [00:00<00:03, 60.57it/s, now=None]\u001b[A\n",
            "t:  12%|█▏        | 29/250 [00:00<00:03, 60.24it/s, now=None]\u001b[A\n",
            "t:  14%|█▍        | 36/250 [00:00<00:03, 62.55it/s, now=None]\u001b[A\n",
            "t:  18%|█▊        | 44/250 [00:00<00:03, 64.94it/s, now=None]\u001b[A\n",
            "t:  20%|██        | 51/250 [00:00<00:03, 62.21it/s, now=None]\u001b[A\n",
            "t:  23%|██▎       | 58/250 [00:01<00:06, 31.64it/s, now=None]\u001b[A\n",
            "t:  25%|██▌       | 63/250 [00:02<00:11, 16.78it/s, now=None]\u001b[A\n",
            "t:  27%|██▋       | 67/250 [00:02<00:13, 13.72it/s, now=None]\u001b[A\n",
            "t:  28%|██▊       | 70/250 [00:02<00:16, 11.19it/s, now=None]\u001b[A\n",
            "t:  29%|██▉       | 73/250 [00:03<00:16, 10.66it/s, now=None]\u001b[A\n",
            "t:  30%|███       | 75/250 [00:03<00:17, 10.09it/s, now=None]\u001b[A\n",
            "t:  31%|███       | 77/250 [00:03<00:17,  9.72it/s, now=None]\u001b[A\n",
            "t:  32%|███▏      | 79/250 [00:03<00:16, 10.22it/s, now=None]\u001b[A\n",
            "t:  32%|███▏      | 81/250 [00:04<00:20,  8.17it/s, now=None]\u001b[A\n",
            "t:  33%|███▎      | 83/250 [00:04<00:19,  8.44it/s, now=None]\u001b[A\n",
            "t:  34%|███▎      | 84/250 [00:04<00:21,  7.59it/s, now=None]\u001b[A\n",
            "t:  34%|███▍      | 86/250 [00:05<00:20,  8.06it/s, now=None]\u001b[A\n",
            "t:  35%|███▍      | 87/250 [00:05<00:22,  7.09it/s, now=None]\u001b[A\n",
            "t:  36%|███▌      | 89/250 [00:05<00:20,  8.03it/s, now=None]\u001b[A\n",
            "t:  36%|███▋      | 91/250 [00:05<00:16,  9.65it/s, now=None]\u001b[A\n",
            "t:  37%|███▋      | 93/250 [00:05<00:20,  7.75it/s, now=None]\u001b[A\n",
            "t:  38%|███▊      | 95/250 [00:06<00:17,  8.95it/s, now=None]\u001b[A\n",
            "t:  39%|███▉      | 97/250 [00:06<00:20,  7.59it/s, now=None]\u001b[A\n",
            "t:  39%|███▉      | 98/250 [00:06<00:21,  7.06it/s, now=None]\u001b[A\n",
            "t:  40%|████      | 100/250 [00:06<00:18,  8.12it/s, now=None]\u001b[A\n",
            "t:  40%|████      | 101/250 [00:06<00:18,  8.00it/s, now=None]\u001b[A\n",
            "t:  41%|████      | 103/250 [00:07<00:19,  7.46it/s, now=None]\u001b[A\n",
            "t:  42%|████▏     | 106/250 [00:07<00:16,  8.57it/s, now=None]\u001b[A\n",
            "t:  43%|████▎     | 107/250 [00:07<00:17,  8.25it/s, now=None]\u001b[A\n",
            "t:  44%|████▎     | 109/250 [00:07<00:17,  8.20it/s, now=None]\u001b[A\n",
            "t:  44%|████▍     | 111/250 [00:08<00:14,  9.31it/s, now=None]\u001b[A\n",
            "t:  45%|████▍     | 112/250 [00:08<00:16,  8.32it/s, now=None]\u001b[A\n",
            "t:  46%|████▌     | 114/250 [00:08<00:16,  8.10it/s, now=None]\u001b[A\n",
            "t:  46%|████▋     | 116/250 [00:08<00:16,  8.34it/s, now=None]\u001b[A\n",
            "t:  47%|████▋     | 117/250 [00:08<00:15,  8.42it/s, now=None]\u001b[A\n",
            "t:  47%|████▋     | 118/250 [00:08<00:15,  8.52it/s, now=None]\u001b[A\n",
            "t:  48%|████▊     | 119/250 [00:09<00:15,  8.34it/s, now=None]\u001b[A\n",
            "t:  48%|████▊     | 120/250 [00:09<00:19,  6.62it/s, now=None]\u001b[A\n",
            "t:  48%|████▊     | 121/250 [00:09<00:18,  7.16it/s, now=None]\u001b[A\n",
            "t:  49%|████▉     | 123/250 [00:09<00:15,  8.18it/s, now=None]\u001b[A\n",
            "t:  50%|████▉     | 124/250 [00:09<00:17,  7.10it/s, now=None]\u001b[A\n",
            "t:  50%|█████     | 126/250 [00:10<00:16,  7.58it/s, now=None]\u001b[A\n",
            "t:  51%|█████     | 128/250 [00:10<00:16,  7.23it/s, now=None]\u001b[A\n",
            "t:  52%|█████▏    | 130/250 [00:10<00:16,  7.23it/s, now=None]\u001b[A\n",
            "t:  53%|█████▎    | 132/250 [00:10<00:15,  7.57it/s, now=None]\u001b[A\n",
            "t:  53%|█████▎    | 133/250 [00:10<00:15,  7.50it/s, now=None]\u001b[A\n",
            "t:  54%|█████▎    | 134/250 [00:11<00:14,  7.92it/s, now=None]\u001b[A\n",
            "t:  54%|█████▍    | 136/250 [00:11<00:14,  8.06it/s, now=None]\u001b[A\n",
            "t:  55%|█████▌    | 138/250 [00:11<00:13,  8.36it/s, now=None]\u001b[A\n",
            "t:  56%|█████▌    | 140/250 [00:11<00:13,  8.05it/s, now=None]\u001b[A\n",
            "t:  56%|█████▋    | 141/250 [00:11<00:13,  8.34it/s, now=None]\u001b[A\n",
            "t:  57%|█████▋    | 142/250 [00:12<00:12,  8.63it/s, now=None]\u001b[A\n",
            "t:  58%|█████▊    | 144/250 [00:12<00:14,  7.35it/s, now=None]\u001b[A\n",
            "t:  58%|█████▊    | 146/250 [00:12<00:13,  7.87it/s, now=None]\u001b[A\n",
            "t:  59%|█████▉    | 147/250 [00:12<00:13,  7.75it/s, now=None]\u001b[A\n",
            "t:  59%|█████▉    | 148/250 [00:12<00:12,  8.06it/s, now=None]\u001b[A\n",
            "t:  60%|██████    | 150/250 [00:13<00:11,  8.82it/s, now=None]\u001b[A\n",
            "t:  60%|██████    | 151/250 [00:13<00:11,  8.56it/s, now=None]\u001b[A\n",
            "t:  62%|██████▏   | 154/250 [00:13<00:10,  9.10it/s, now=None]\u001b[A\n",
            "t:  62%|██████▏   | 156/250 [00:13<00:08, 10.72it/s, now=None]\u001b[A\n",
            "t:  63%|██████▎   | 158/250 [00:13<00:10,  9.08it/s, now=None]\u001b[A\n",
            "t:  64%|██████▍   | 160/250 [00:14<00:09,  9.91it/s, now=None]\u001b[A\n",
            "t:  65%|██████▍   | 162/250 [00:14<00:09,  9.60it/s, now=None]\u001b[A\n",
            "t:  66%|██████▌   | 164/250 [00:14<00:08, 10.72it/s, now=None]\u001b[A\n",
            "t:  66%|██████▋   | 166/250 [00:14<00:08,  9.73it/s, now=None]\u001b[A\n",
            "t:  67%|██████▋   | 168/250 [00:14<00:07, 10.79it/s, now=None]\u001b[A\n",
            "t:  68%|██████▊   | 170/250 [00:15<00:08,  9.22it/s, now=None]\u001b[A\n",
            "t:  69%|██████▉   | 172/250 [00:15<00:07, 10.32it/s, now=None]\u001b[A\n",
            "t:  70%|██████▉   | 174/250 [00:15<00:08,  9.38it/s, now=None]\u001b[A\n",
            "t:  70%|███████   | 176/250 [00:15<00:06, 10.77it/s, now=None]\u001b[A\n",
            "t:  71%|███████   | 178/250 [00:15<00:07,  9.64it/s, now=None]\u001b[A\n",
            "t:  72%|███████▏  | 180/250 [00:15<00:06, 10.10it/s, now=None]\u001b[A\n",
            "t:  73%|███████▎  | 182/250 [00:16<00:06, 10.35it/s, now=None]\u001b[A\n",
            "t:  74%|███████▎  | 184/250 [00:16<00:06, 10.34it/s, now=None]\u001b[A\n",
            "t:  74%|███████▍  | 186/250 [00:16<00:05, 11.13it/s, now=None]\u001b[A\n",
            "t:  75%|███████▌  | 188/250 [00:16<00:05, 11.52it/s, now=None]\u001b[A\n",
            "t:  76%|███████▌  | 190/250 [00:16<00:04, 12.46it/s, now=None]\u001b[A\n",
            "t:  77%|███████▋  | 192/250 [00:17<00:05, 11.40it/s, now=None]\u001b[A\n",
            "t:  78%|███████▊  | 194/250 [00:17<00:04, 11.35it/s, now=None]\u001b[A\n",
            "t:  78%|███████▊  | 196/250 [00:17<00:04, 11.42it/s, now=None]\u001b[A\n",
            "t:  79%|███████▉  | 198/250 [00:17<00:04, 11.48it/s, now=None]\u001b[A\n",
            "t:  80%|████████  | 200/250 [00:17<00:04, 11.96it/s, now=None]\u001b[A\n",
            "t:  81%|████████  | 202/250 [00:17<00:04, 11.59it/s, now=None]\u001b[A\n",
            "t:  82%|████████▏ | 204/250 [00:18<00:04,  9.99it/s, now=None]\u001b[A\n",
            "t:  83%|████████▎ | 207/250 [00:18<00:03, 11.48it/s, now=None]\u001b[A\n",
            "t:  84%|████████▎ | 209/250 [00:18<00:03, 11.46it/s, now=None]\u001b[A\n",
            "t:  84%|████████▍ | 211/250 [00:18<00:03, 12.39it/s, now=None]\u001b[A\n",
            "t:  85%|████████▌ | 213/250 [00:18<00:03, 11.67it/s, now=None]\u001b[A\n",
            "t:  86%|████████▌ | 215/250 [00:18<00:02, 12.23it/s, now=None]\u001b[A\n",
            "t:  87%|████████▋ | 217/250 [00:19<00:02, 11.57it/s, now=None]\u001b[A\n",
            "t:  88%|████████▊ | 219/250 [00:19<00:02, 11.37it/s, now=None]\u001b[A\n",
            "t:  88%|████████▊ | 221/250 [00:19<00:02, 11.25it/s, now=None]\u001b[A\n",
            "t:  89%|████████▉ | 223/250 [00:19<00:02, 11.97it/s, now=None]\u001b[A\n",
            "t:  90%|█████████ | 225/250 [00:19<00:02, 12.31it/s, now=None]\u001b[A\n",
            "t:  91%|█████████ | 227/250 [00:20<00:01, 11.78it/s, now=None]\u001b[A\n",
            "t:  92%|█████████▏| 229/250 [00:20<00:01, 12.46it/s, now=None]\u001b[A\n",
            "t:  92%|█████████▏| 231/250 [00:20<00:01, 11.66it/s, now=None]\u001b[A\n",
            "t:  93%|█████████▎| 233/250 [00:20<00:01, 11.26it/s, now=None]\u001b[A\n",
            "t:  94%|█████████▍| 236/250 [00:20<00:01, 12.31it/s, now=None]\u001b[A\n",
            "t:  95%|█████████▌| 238/250 [00:20<00:00, 12.90it/s, now=None]\u001b[A\n",
            "t:  96%|█████████▌| 240/250 [00:21<00:00, 12.19it/s, now=None]\u001b[A\n",
            "t:  97%|█████████▋| 242/250 [00:21<00:00, 12.50it/s, now=None]\u001b[A\n",
            "t:  98%|█████████▊| 244/250 [00:21<00:00, 11.89it/s, now=None]\u001b[A\n",
            "t:  98%|█████████▊| 246/250 [00:21<00:00, 11.78it/s, now=None]\u001b[A\n",
            "t:  99%|█████████▉| 248/250 [00:21<00:00, 12.37it/s, now=None]\u001b[A\n",
            "t: 100%|██████████| 250/250 [00:21<00:00, 11.25it/s, now=None]\u001b[A\n",
            "t:  45%|████▌     | 113/250 [12:27<00:34,  3.93it/s, now=None]"
          ]
        },
        {
          "output_type": "stream",
          "name": "stdout",
          "text": [
            "Moviepy - Done !\n",
            "Moviepy - video ready /content/classified_moments/Goal/goal18.mp4\n"
          ]
        },
        {
          "output_type": "stream",
          "name": "stderr",
          "text": [
            "t:  45%|████▌     | 113/250 [12:29<00:34,  3.93it/s, now=None]"
          ]
        },
        {
          "output_type": "stream",
          "name": "stdout",
          "text": [
            "Moviepy - Building video /content/classified_moments/Goal/goal19.mp4.\n",
            "MoviePy - Writing audio in goal19TEMP_MPY_wvf_snd.mp3\n"
          ]
        },
        {
          "output_type": "stream",
          "name": "stderr",
          "text": [
            "\n",
            "chunk:   0%|          | 0/221 [00:00<?, ?it/s, now=None]\u001b[A\n",
            "chunk:   1%|          | 2/221 [00:00<00:11, 19.74it/s, now=None]\u001b[A\n",
            "chunk:  23%|██▎       | 51/221 [00:00<00:00, 294.68it/s, now=None]\u001b[A\n",
            "chunk:  43%|████▎     | 94/221 [00:00<00:00, 356.09it/s, now=None]\u001b[A\n",
            "chunk:  65%|██████▍   | 143/221 [00:00<00:00, 408.61it/s, now=None]\u001b[A\n",
            "chunk:  83%|████████▎ | 184/221 [00:00<00:00, 404.43it/s, now=None]\u001b[A\n",
            "t:  45%|████▌     | 113/250 [12:30<00:34,  3.93it/s, now=None]"
          ]
        },
        {
          "output_type": "stream",
          "name": "stdout",
          "text": [
            "MoviePy - Done.\n",
            "Moviepy - Writing video /content/classified_moments/Goal/goal19.mp4\n",
            "\n"
          ]
        },
        {
          "output_type": "stream",
          "name": "stderr",
          "text": [
            "\n",
            "t:   0%|          | 0/250 [00:00<?, ?it/s, now=None]\u001b[A\n",
            "t:   3%|▎         | 7/250 [00:00<00:03, 64.05it/s, now=None]\u001b[A\n",
            "t:   6%|▌         | 14/250 [00:00<00:03, 60.94it/s, now=None]\u001b[A\n",
            "t:   8%|▊         | 21/250 [00:00<00:03, 61.36it/s, now=None]\u001b[A\n",
            "t:  11%|█         | 28/250 [00:00<00:03, 62.09it/s, now=None]\u001b[A\n",
            "t:  14%|█▍        | 35/250 [00:00<00:03, 59.36it/s, now=None]\u001b[A\n",
            "t:  16%|█▋        | 41/250 [00:00<00:03, 58.06it/s, now=None]\u001b[A\n",
            "t:  19%|█▉        | 48/250 [00:00<00:03, 57.51it/s, now=None]\u001b[A\n",
            "t:  22%|██▏       | 54/250 [00:00<00:03, 57.41it/s, now=None]\u001b[A\n",
            "t:  24%|██▍       | 60/250 [00:01<00:08, 21.51it/s, now=None]\u001b[A\n",
            "t:  26%|██▌       | 65/250 [00:02<00:12, 14.41it/s, now=None]\u001b[A\n",
            "t:  28%|██▊       | 69/250 [00:02<00:15, 11.76it/s, now=None]\u001b[A\n",
            "t:  29%|██▉       | 72/250 [00:03<00:16, 10.69it/s, now=None]\u001b[A\n",
            "t:  30%|██▉       | 74/250 [00:03<00:16, 10.54it/s, now=None]\u001b[A\n",
            "t:  30%|███       | 76/250 [00:03<00:19,  8.83it/s, now=None]\u001b[A\n",
            "t:  31%|███       | 78/250 [00:04<00:20,  8.60it/s, now=None]\u001b[A\n",
            "t:  32%|███▏      | 80/250 [00:04<00:21,  8.00it/s, now=None]\u001b[A\n",
            "t:  32%|███▏      | 81/250 [00:04<00:20,  8.14it/s, now=None]\u001b[A\n",
            "t:  33%|███▎      | 82/250 [00:04<00:20,  8.15it/s, now=None]\u001b[A\n",
            "t:  33%|███▎      | 83/250 [00:04<00:26,  6.32it/s, now=None]\u001b[A\n",
            "t:  34%|███▍      | 85/250 [00:05<00:23,  7.15it/s, now=None]\u001b[A\n",
            "t:  35%|███▍      | 87/250 [00:05<00:24,  6.69it/s, now=None]\u001b[A\n",
            "t:  36%|███▌      | 89/250 [00:05<00:19,  8.13it/s, now=None]\u001b[A\n",
            "t:  36%|███▌      | 90/250 [00:05<00:20,  7.72it/s, now=None]\u001b[A\n",
            "t:  36%|███▋      | 91/250 [00:06<00:24,  6.56it/s, now=None]\u001b[A\n",
            "t:  37%|███▋      | 93/250 [00:06<00:23,  6.81it/s, now=None]\u001b[A\n",
            "t:  38%|███▊      | 95/250 [00:06<00:23,  6.50it/s, now=None]\u001b[A\n",
            "t:  39%|███▉      | 97/250 [00:06<00:20,  7.32it/s, now=None]\u001b[A\n",
            "t:  39%|███▉      | 98/250 [00:06<00:19,  7.70it/s, now=None]\u001b[A\n",
            "t:  40%|███▉      | 99/250 [00:07<00:25,  5.97it/s, now=None]\u001b[A\n",
            "t:  40%|████      | 101/250 [00:07<00:20,  7.14it/s, now=None]\u001b[A\n",
            "t:  41%|████      | 102/250 [00:07<00:20,  7.14it/s, now=None]\u001b[A\n",
            "t:  41%|████      | 103/250 [00:07<00:26,  5.55it/s, now=None]\u001b[A\n",
            "t:  42%|████▏     | 104/250 [00:08<00:24,  5.86it/s, now=None]\u001b[A\n",
            "t:  42%|████▏     | 105/250 [00:08<00:22,  6.50it/s, now=None]\u001b[A\n",
            "t:  42%|████▏     | 106/250 [00:08<00:24,  5.99it/s, now=None]\u001b[A\n",
            "t:  43%|████▎     | 107/250 [00:08<00:25,  5.69it/s, now=None]\u001b[A\n",
            "t:  43%|████▎     | 108/250 [00:08<00:26,  5.43it/s, now=None]\u001b[A\n",
            "t:  44%|████▎     | 109/250 [00:08<00:23,  6.05it/s, now=None]\u001b[A\n",
            "t:  44%|████▍     | 111/250 [00:09<00:23,  5.98it/s, now=None]\u001b[A\n",
            "t:  45%|████▍     | 112/250 [00:09<00:21,  6.34it/s, now=None]\u001b[A\n",
            "t:  45%|████▌     | 113/250 [00:09<00:20,  6.76it/s, now=None]\u001b[A\n",
            "t:  46%|████▌     | 114/250 [00:09<00:21,  6.34it/s, now=None]\u001b[A\n",
            "t:  46%|████▌     | 115/250 [00:09<00:21,  6.14it/s, now=None]\u001b[A\n",
            "t:  46%|████▋     | 116/250 [00:09<00:23,  5.81it/s, now=None]\u001b[A\n",
            "t:  47%|████▋     | 117/250 [00:10<00:21,  6.17it/s, now=None]\u001b[A\n",
            "t:  48%|████▊     | 119/250 [00:10<00:25,  5.17it/s, now=None]\u001b[A\n",
            "t:  48%|████▊     | 120/250 [00:10<00:24,  5.35it/s, now=None]\u001b[A\n",
            "t:  49%|████▉     | 122/250 [00:10<00:17,  7.18it/s, now=None]\u001b[A\n",
            "t:  49%|████▉     | 123/250 [00:11<00:24,  5.27it/s, now=None]\u001b[A\n",
            "t:  50%|████▉     | 124/250 [00:11<00:25,  5.02it/s, now=None]\u001b[A\n",
            "t:  50%|█████     | 126/250 [00:11<00:20,  6.02it/s, now=None]\u001b[A\n",
            "t:  51%|█████     | 127/250 [00:12<00:27,  4.43it/s, now=None]\u001b[A\n",
            "t:  51%|█████     | 128/250 [00:12<00:24,  4.94it/s, now=None]\u001b[A\n",
            "t:  52%|█████▏    | 130/250 [00:12<00:17,  6.79it/s, now=None]\u001b[A\n",
            "t:  52%|█████▏    | 131/250 [00:12<00:23,  5.09it/s, now=None]\u001b[A\n",
            "t:  53%|█████▎    | 132/250 [00:12<00:23,  5.03it/s, now=None]\u001b[A\n",
            "t:  53%|█████▎    | 133/250 [00:13<00:20,  5.71it/s, now=None]\u001b[A\n",
            "t:  54%|█████▍    | 135/250 [00:13<00:20,  5.62it/s, now=None]\u001b[A\n",
            "t:  54%|█████▍    | 136/250 [00:13<00:19,  6.00it/s, now=None]\u001b[A\n",
            "t:  55%|█████▍    | 137/250 [00:13<00:17,  6.58it/s, now=None]\u001b[A\n",
            "t:  55%|█████▌    | 138/250 [00:14<00:23,  4.85it/s, now=None]\u001b[A\n",
            "t:  56%|█████▌    | 140/250 [00:14<00:16,  6.71it/s, now=None]\u001b[A\n",
            "t:  56%|█████▋    | 141/250 [00:14<00:20,  5.35it/s, now=None]\u001b[A\n",
            "t:  57%|█████▋    | 142/250 [00:14<00:21,  4.93it/s, now=None]\u001b[A\n",
            "t:  58%|█████▊    | 144/250 [00:14<00:16,  6.58it/s, now=None]\u001b[A\n",
            "t:  58%|█████▊    | 145/250 [00:15<00:19,  5.45it/s, now=None]\u001b[A\n",
            "t:  58%|█████▊    | 146/250 [00:15<00:17,  5.81it/s, now=None]\u001b[A\n",
            "t:  59%|█████▉    | 147/250 [00:15<00:22,  4.51it/s, now=None]\u001b[A\n",
            "t:  59%|█████▉    | 148/250 [00:15<00:19,  5.16it/s, now=None]\u001b[A\n",
            "t:  60%|██████    | 150/250 [00:16<00:17,  5.60it/s, now=None]\u001b[A\n",
            "t:  60%|██████    | 151/250 [00:16<00:19,  4.95it/s, now=None]\u001b[A\n",
            "t:  61%|██████    | 153/250 [00:16<00:16,  5.75it/s, now=None]\u001b[A\n",
            "t:  62%|██████▏   | 154/250 [00:16<00:18,  5.15it/s, now=None]\u001b[A\n",
            "t:  63%|██████▎   | 157/250 [00:17<00:11,  8.18it/s, now=None]\u001b[A\n",
            "t:  64%|██████▎   | 159/250 [00:17<00:10,  8.55it/s, now=None]\u001b[A\n",
            "t:  64%|██████▍   | 160/250 [00:17<00:10,  8.68it/s, now=None]\u001b[A\n",
            "t:  65%|██████▍   | 162/250 [00:17<00:09,  8.89it/s, now=None]\u001b[A\n",
            "t:  66%|██████▌   | 164/250 [00:17<00:10,  8.29it/s, now=None]\u001b[A\n",
            "t:  66%|██████▋   | 166/250 [00:18<00:08,  9.84it/s, now=None]\u001b[A\n",
            "t:  67%|██████▋   | 168/250 [00:18<00:09,  8.88it/s, now=None]\u001b[A\n",
            "t:  68%|██████▊   | 170/250 [00:18<00:09,  8.60it/s, now=None]\u001b[A\n",
            "t:  68%|██████▊   | 171/250 [00:18<00:08,  8.78it/s, now=None]\u001b[A\n",
            "t:  69%|██████▉   | 173/250 [00:18<00:08,  8.97it/s, now=None]\u001b[A\n",
            "t:  70%|███████   | 175/250 [00:18<00:07, 10.30it/s, now=None]\u001b[A\n",
            "t:  71%|███████   | 177/250 [00:19<00:08,  8.70it/s, now=None]\u001b[A\n",
            "t:  71%|███████   | 178/250 [00:19<00:09,  7.88it/s, now=None]\u001b[A\n",
            "t:  72%|███████▏  | 181/250 [00:19<00:07,  9.78it/s, now=None]\u001b[A\n",
            "t:  73%|███████▎  | 183/250 [00:19<00:06, 11.12it/s, now=None]\u001b[A\n",
            "t:  74%|███████▍  | 185/250 [00:19<00:05, 11.23it/s, now=None]\u001b[A\n",
            "t:  75%|███████▍  | 187/250 [00:20<00:05, 10.88it/s, now=None]\u001b[A\n",
            "t:  76%|███████▌  | 189/250 [00:20<00:05, 12.09it/s, now=None]\u001b[A\n",
            "t:  76%|███████▋  | 191/250 [00:20<00:05, 10.99it/s, now=None]\u001b[A\n",
            "t:  77%|███████▋  | 193/250 [00:20<00:04, 12.06it/s, now=None]\u001b[A\n",
            "t:  78%|███████▊  | 195/250 [00:20<00:04, 11.87it/s, now=None]\u001b[A\n",
            "t:  79%|███████▉  | 197/250 [00:21<00:04, 11.84it/s, now=None]\u001b[A\n",
            "t:  80%|████████  | 200/250 [00:21<00:04, 12.26it/s, now=None]\u001b[A\n",
            "t:  81%|████████  | 202/250 [00:21<00:03, 13.31it/s, now=None]\u001b[A\n",
            "t:  82%|████████▏ | 204/250 [00:21<00:03, 12.55it/s, now=None]\u001b[A\n",
            "t:  82%|████████▏ | 206/250 [00:21<00:03, 13.58it/s, now=None]\u001b[A\n",
            "t:  83%|████████▎ | 208/250 [00:21<00:03, 12.67it/s, now=None]\u001b[A\n",
            "t:  84%|████████▍ | 210/250 [00:22<00:03, 12.39it/s, now=None]\u001b[A\n",
            "t:  85%|████████▍ | 212/250 [00:22<00:02, 12.97it/s, now=None]\u001b[A\n",
            "t:  86%|████████▌ | 214/250 [00:22<00:02, 12.78it/s, now=None]\u001b[A\n",
            "t:  86%|████████▋ | 216/250 [00:22<00:02, 12.07it/s, now=None]\u001b[A\n",
            "t:  87%|████████▋ | 218/250 [00:22<00:02, 12.82it/s, now=None]\u001b[A\n",
            "t:  88%|████████▊ | 220/250 [00:22<00:02, 12.22it/s, now=None]\u001b[A\n",
            "t:  89%|████████▉ | 222/250 [00:22<00:02, 13.42it/s, now=None]\u001b[A\n",
            "t:  90%|████████▉ | 224/250 [00:23<00:02, 12.44it/s, now=None]\u001b[A\n",
            "t:  90%|█████████ | 226/250 [00:23<00:02, 10.45it/s, now=None]\u001b[A\n",
            "t:  92%|█████████▏| 229/250 [00:23<00:01, 11.64it/s, now=None]\u001b[A\n",
            "t:  92%|█████████▏| 231/250 [00:23<00:01, 11.60it/s, now=None]\u001b[A\n",
            "t:  93%|█████████▎| 233/250 [00:23<00:01, 11.93it/s, now=None]\u001b[A\n",
            "t:  94%|█████████▍| 235/250 [00:24<00:01, 11.81it/s, now=None]\u001b[A\n",
            "t:  95%|█████████▍| 237/250 [00:24<00:01, 11.42it/s, now=None]\u001b[A\n",
            "t:  96%|█████████▌| 239/250 [00:24<00:00, 11.63it/s, now=None]\u001b[A\n",
            "t:  96%|█████████▋| 241/250 [00:24<00:00, 11.01it/s, now=None]\u001b[A\n",
            "t:  97%|█████████▋| 243/250 [00:24<00:00, 12.16it/s, now=None]\u001b[A\n",
            "t:  98%|█████████▊| 245/250 [00:24<00:00, 10.97it/s, now=None]\u001b[A\n",
            "t:  99%|█████████▉| 247/250 [00:25<00:00, 12.25it/s, now=None]\u001b[A\n",
            "t: 100%|█████████▉| 249/250 [00:25<00:00, 10.52it/s, now=None]\u001b[A\n",
            "t:  45%|████▌     | 113/250 [12:58<00:34,  3.93it/s, now=None]"
          ]
        },
        {
          "output_type": "stream",
          "name": "stdout",
          "text": [
            "Moviepy - Done !\n",
            "Moviepy - video ready /content/classified_moments/Goal/goal19.mp4\n"
          ]
        },
        {
          "output_type": "stream",
          "name": "stderr",
          "text": [
            "t:  45%|████▌     | 113/250 [12:58<00:34,  3.93it/s, now=None]"
          ]
        },
        {
          "output_type": "stream",
          "name": "stdout",
          "text": [
            "Moviepy - Building video /content/classified_moments/Goal/goal20.mp4.\n",
            "MoviePy - Writing audio in goal20TEMP_MPY_wvf_snd.mp3\n"
          ]
        },
        {
          "output_type": "stream",
          "name": "stderr",
          "text": [
            "\n",
            "chunk:   0%|          | 0/221 [00:00<?, ?it/s, now=None]\u001b[A\n",
            "chunk:  14%|█▍        | 32/221 [00:00<00:00, 303.06it/s, now=None]\u001b[A\n",
            "chunk:  47%|████▋     | 103/221 [00:00<00:00, 536.56it/s, now=None]\u001b[A\n",
            "chunk:  83%|████████▎ | 184/221 [00:00<00:00, 659.18it/s, now=None]\u001b[A\n",
            "t:  45%|████▌     | 113/250 [12:59<00:34,  3.93it/s, now=None]"
          ]
        },
        {
          "output_type": "stream",
          "name": "stdout",
          "text": [
            "MoviePy - Done.\n",
            "Moviepy - Writing video /content/classified_moments/Goal/goal20.mp4\n",
            "\n"
          ]
        },
        {
          "output_type": "stream",
          "name": "stderr",
          "text": [
            "\n",
            "t:   0%|          | 0/250 [00:00<?, ?it/s, now=None]\u001b[A\n",
            "t:   3%|▎         | 7/250 [00:00<00:03, 63.86it/s, now=None]\u001b[A\n",
            "t:   6%|▌         | 14/250 [00:00<00:04, 54.71it/s, now=None]\u001b[A\n",
            "t:   8%|▊         | 20/250 [00:00<00:05, 45.25it/s, now=None]\u001b[A\n",
            "t:  10%|█         | 25/250 [00:00<00:04, 45.82it/s, now=None]\u001b[A\n",
            "t:  12%|█▏        | 30/250 [00:00<00:05, 42.84it/s, now=None]\u001b[A\n",
            "t:  14%|█▍        | 35/250 [00:00<00:05, 41.60it/s, now=None]\u001b[A\n",
            "t:  16%|█▌        | 40/250 [00:00<00:04, 43.66it/s, now=None]\u001b[A\n",
            "t:  18%|█▊        | 45/250 [00:01<00:04, 43.01it/s, now=None]\u001b[A\n",
            "t:  20%|██        | 50/250 [00:01<00:04, 42.64it/s, now=None]\u001b[A\n",
            "t:  22%|██▏       | 55/250 [00:01<00:05, 37.37it/s, now=None]\u001b[A\n",
            "t:  24%|██▎       | 59/250 [00:02<00:14, 13.28it/s, now=None]\u001b[A\n",
            "t:  25%|██▍       | 62/250 [00:02<00:16, 11.56it/s, now=None]\u001b[A\n",
            "t:  26%|██▌       | 65/250 [00:03<00:20,  9.05it/s, now=None]\u001b[A\n",
            "t:  27%|██▋       | 67/250 [00:03<00:24,  7.46it/s, now=None]\u001b[A\n",
            "t:  28%|██▊       | 69/250 [00:03<00:21,  8.37it/s, now=None]\u001b[A\n",
            "t:  28%|██▊       | 71/250 [00:04<00:25,  7.03it/s, now=None]\u001b[A\n",
            "t:  29%|██▉       | 73/250 [00:04<00:27,  6.46it/s, now=None]\u001b[A\n",
            "t:  30%|██▉       | 74/250 [00:04<00:27,  6.47it/s, now=None]\u001b[A\n",
            "t:  30%|███       | 75/250 [00:04<00:27,  6.32it/s, now=None]\u001b[A\n",
            "t:  30%|███       | 76/250 [00:05<00:29,  5.84it/s, now=None]\u001b[A\n",
            "t:  31%|███       | 77/250 [00:05<00:27,  6.29it/s, now=None]\u001b[A\n",
            "t:  31%|███       | 78/250 [00:05<00:32,  5.25it/s, now=None]\u001b[A\n",
            "t:  32%|███▏      | 80/250 [00:05<00:25,  6.62it/s, now=None]\u001b[A\n",
            "t:  32%|███▏      | 81/250 [00:06<00:32,  5.26it/s, now=None]\u001b[A\n",
            "t:  33%|███▎      | 82/250 [00:06<00:30,  5.42it/s, now=None]\u001b[A\n",
            "t:  34%|███▎      | 84/250 [00:06<00:28,  5.80it/s, now=None]\u001b[A\n",
            "t:  34%|███▍      | 86/250 [00:06<00:24,  6.61it/s, now=None]\u001b[A\n",
            "t:  35%|███▍      | 87/250 [00:07<00:31,  5.17it/s, now=None]\u001b[A\n",
            "t:  35%|███▌      | 88/250 [00:07<00:28,  5.76it/s, now=None]\u001b[A\n",
            "t:  36%|███▌      | 89/250 [00:07<00:25,  6.27it/s, now=None]\u001b[A\n",
            "t:  36%|███▌      | 90/250 [00:07<00:27,  5.88it/s, now=None]\u001b[A\n",
            "t:  36%|███▋      | 91/250 [00:07<00:29,  5.33it/s, now=None]\u001b[A\n",
            "t:  37%|███▋      | 92/250 [00:07<00:26,  5.98it/s, now=None]\u001b[A\n",
            "t:  37%|███▋      | 93/250 [00:07<00:24,  6.32it/s, now=None]\u001b[A\n",
            "t:  38%|███▊      | 94/250 [00:08<00:27,  5.58it/s, now=None]\u001b[A\n",
            "t:  38%|███▊      | 96/250 [00:08<00:18,  8.25it/s, now=None]\u001b[A\n",
            "t:  39%|███▉      | 98/250 [00:08<00:17,  8.78it/s, now=None]\u001b[A\n",
            "t:  40%|████      | 101/250 [00:08<00:12, 12.00it/s, now=None]\u001b[A\n",
            "t:  41%|████      | 103/250 [00:08<00:13, 11.25it/s, now=None]\u001b[A\n",
            "t:  42%|████▏     | 105/250 [00:08<00:11, 12.57it/s, now=None]\u001b[A\n",
            "t:  43%|████▎     | 107/250 [00:09<00:13, 10.98it/s, now=None]\u001b[A\n",
            "t:  44%|████▍     | 110/250 [00:09<00:10, 13.29it/s, now=None]\u001b[A\n",
            "t:  45%|████▍     | 112/250 [00:09<00:11, 12.21it/s, now=None]\u001b[A\n",
            "t:  46%|████▌     | 114/250 [00:09<00:11, 12.29it/s, now=None]\u001b[A\n",
            "t:  46%|████▋     | 116/250 [00:09<00:10, 12.31it/s, now=None]\u001b[A\n",
            "t:  47%|████▋     | 118/250 [00:10<00:11, 11.89it/s, now=None]\u001b[A\n",
            "t:  48%|████▊     | 120/250 [00:10<00:09, 13.34it/s, now=None]\u001b[A\n",
            "t:  49%|████▉     | 122/250 [00:10<00:10, 12.22it/s, now=None]\u001b[A\n",
            "t:  50%|████▉     | 124/250 [00:10<00:09, 12.70it/s, now=None]\u001b[A\n",
            "t:  50%|█████     | 126/250 [00:10<00:09, 13.34it/s, now=None]\u001b[A\n",
            "t:  51%|█████     | 128/250 [00:10<00:10, 12.02it/s, now=None]\u001b[A\n",
            "t:  52%|█████▏    | 130/250 [00:11<00:10, 11.94it/s, now=None]\u001b[A\n",
            "t:  53%|█████▎    | 132/250 [00:11<00:10, 11.33it/s, now=None]\u001b[A\n",
            "t:  54%|█████▎    | 134/250 [00:11<00:09, 11.65it/s, now=None]\u001b[A\n",
            "t:  54%|█████▍    | 136/250 [00:11<00:09, 12.54it/s, now=None]\u001b[A\n",
            "t:  55%|█████▌    | 138/250 [00:11<00:09, 11.67it/s, now=None]\u001b[A\n",
            "t:  56%|█████▌    | 140/250 [00:11<00:08, 13.08it/s, now=None]\u001b[A\n",
            "t:  57%|█████▋    | 142/250 [00:12<00:08, 12.10it/s, now=None]\u001b[A\n",
            "t:  58%|█████▊    | 145/250 [00:12<00:08, 12.41it/s, now=None]\u001b[A\n",
            "t:  59%|█████▉    | 147/250 [00:12<00:07, 13.19it/s, now=None]\u001b[A\n",
            "t:  60%|█████▉    | 149/250 [00:12<00:08, 12.09it/s, now=None]\u001b[A\n",
            "t:  60%|██████    | 151/250 [00:12<00:07, 13.42it/s, now=None]\u001b[A\n",
            "t:  61%|██████    | 153/250 [00:12<00:07, 12.59it/s, now=None]\u001b[A\n",
            "t:  62%|██████▏   | 155/250 [00:13<00:08, 10.63it/s, now=None]\u001b[A\n",
            "t:  63%|██████▎   | 157/250 [00:13<00:07, 12.07it/s, now=None]\u001b[A\n",
            "t:  64%|██████▎   | 159/250 [00:13<00:10,  9.08it/s, now=None]\u001b[A\n",
            "t:  64%|██████▍   | 161/250 [00:13<00:08, 10.35it/s, now=None]\u001b[A\n",
            "t:  65%|██████▌   | 163/250 [00:14<00:10,  8.45it/s, now=None]\u001b[A\n",
            "t:  66%|██████▌   | 165/250 [00:14<00:09,  8.92it/s, now=None]\u001b[A\n",
            "t:  67%|██████▋   | 167/250 [00:14<00:10,  8.03it/s, now=None]\u001b[A\n",
            "t:  68%|██████▊   | 169/250 [00:14<00:10,  7.37it/s, now=None]\u001b[A\n",
            "t:  68%|██████▊   | 171/250 [00:15<00:09,  8.37it/s, now=None]\u001b[A\n",
            "t:  69%|██████▉   | 172/250 [00:15<00:10,  7.57it/s, now=None]\u001b[A\n",
            "t:  70%|██████▉   | 174/250 [00:15<00:08,  9.22it/s, now=None]\u001b[A\n",
            "t:  70%|███████   | 176/250 [00:15<00:08,  8.27it/s, now=None]\u001b[A\n",
            "t:  71%|███████   | 178/250 [00:15<00:07,  9.13it/s, now=None]\u001b[A\n",
            "t:  72%|███████▏  | 180/250 [00:15<00:06, 10.58it/s, now=None]\u001b[A\n",
            "t:  73%|███████▎  | 182/250 [00:16<00:07,  9.59it/s, now=None]\u001b[A\n",
            "t:  74%|███████▍  | 185/250 [00:16<00:06, 10.36it/s, now=None]\u001b[A\n",
            "t:  75%|███████▍  | 187/250 [00:16<00:05, 10.88it/s, now=None]\u001b[A\n",
            "t:  76%|███████▌  | 189/250 [00:16<00:05, 10.36it/s, now=None]\u001b[A\n",
            "t:  76%|███████▋  | 191/250 [00:16<00:05, 11.29it/s, now=None]\u001b[A\n",
            "t:  77%|███████▋  | 193/250 [00:17<00:05, 10.89it/s, now=None]\u001b[A\n",
            "t:  78%|███████▊  | 195/250 [00:17<00:04, 12.23it/s, now=None]\u001b[A\n",
            "t:  79%|███████▉  | 197/250 [00:17<00:05, 10.39it/s, now=None]\u001b[A\n",
            "t:  80%|███████▉  | 199/250 [00:17<00:04, 11.71it/s, now=None]\u001b[A\n",
            "t:  80%|████████  | 201/250 [00:17<00:04, 11.06it/s, now=None]\u001b[A\n",
            "t:  82%|████████▏ | 204/250 [00:18<00:03, 13.44it/s, now=None]\u001b[A\n",
            "t:  82%|████████▏ | 206/250 [00:18<00:03, 13.08it/s, now=None]\u001b[A\n",
            "t:  83%|████████▎ | 208/250 [00:18<00:03, 12.43it/s, now=None]\u001b[A\n",
            "t:  84%|████████▍ | 210/250 [00:18<00:02, 13.63it/s, now=None]\u001b[A\n",
            "t:  85%|████████▍ | 212/250 [00:18<00:03, 11.67it/s, now=None]\u001b[A\n",
            "t:  86%|████████▌ | 214/250 [00:19<00:03,  9.33it/s, now=None]\u001b[A\n",
            "t:  86%|████████▋ | 216/250 [00:19<00:03,  9.64it/s, now=None]\u001b[A\n",
            "t:  87%|████████▋ | 218/250 [00:19<00:03,  9.85it/s, now=None]\u001b[A\n",
            "t:  88%|████████▊ | 220/250 [00:19<00:02, 10.11it/s, now=None]\u001b[A\n",
            "t:  89%|████████▉ | 222/250 [00:19<00:02, 10.37it/s, now=None]\u001b[A\n",
            "t:  90%|████████▉ | 224/250 [00:19<00:02, 10.88it/s, now=None]\u001b[A\n",
            "t:  90%|█████████ | 226/250 [00:20<00:02,  9.08it/s, now=None]\u001b[A\n",
            "t:  92%|█████████▏| 229/250 [00:20<00:02, 10.06it/s, now=None]\u001b[A\n",
            "t:  93%|█████████▎| 232/250 [00:20<00:01, 10.15it/s, now=None]\u001b[A\n",
            "t:  94%|█████████▎| 234/250 [00:20<00:01,  9.92it/s, now=None]\u001b[A\n",
            "t:  94%|█████████▍| 236/250 [00:21<00:01,  9.08it/s, now=None]\u001b[A\n",
            "t:  95%|█████████▌| 238/250 [00:21<00:01,  9.53it/s, now=None]\u001b[A\n",
            "t:  96%|█████████▌| 240/250 [00:21<00:01,  9.67it/s, now=None]\u001b[A\n",
            "t:  96%|█████████▋| 241/250 [00:21<00:00,  9.03it/s, now=None]\u001b[A\n",
            "t:  97%|█████████▋| 242/250 [00:21<00:00,  9.02it/s, now=None]\u001b[A\n",
            "t:  98%|█████████▊| 244/250 [00:22<00:00,  8.32it/s, now=None]\u001b[A\n",
            "t:  98%|█████████▊| 246/250 [00:22<00:00,  9.10it/s, now=None]\u001b[A\n",
            "t:  99%|█████████▉| 248/250 [00:22<00:00,  8.97it/s, now=None]\u001b[A\n",
            "t: 100%|█████████▉| 249/250 [00:22<00:00,  8.73it/s, now=None]\u001b[A\n",
            "t: 100%|██████████| 250/250 [00:22<00:00,  8.75it/s, now=None]\u001b[A\n",
            "t:  45%|████▌     | 113/250 [13:26<00:34,  3.93it/s, now=None]"
          ]
        },
        {
          "output_type": "stream",
          "name": "stdout",
          "text": [
            "Moviepy - Done !\n",
            "Moviepy - video ready /content/classified_moments/Goal/goal20.mp4\n"
          ]
        },
        {
          "output_type": "stream",
          "name": "stderr",
          "text": [
            "t:  45%|████▌     | 113/250 [13:27<00:34,  3.93it/s, now=None]"
          ]
        },
        {
          "output_type": "stream",
          "name": "stdout",
          "text": [
            "Moviepy - Building video /content/classified_moments/Goal/goal21.mp4.\n",
            "MoviePy - Writing audio in goal21TEMP_MPY_wvf_snd.mp3\n"
          ]
        },
        {
          "output_type": "stream",
          "name": "stderr",
          "text": [
            "\n",
            "chunk:   0%|          | 0/221 [00:00<?, ?it/s, now=None]\u001b[A\n",
            "chunk:  19%|█▉        | 42/221 [00:00<00:00, 414.27it/s, now=None]\u001b[A\n",
            "chunk:  52%|█████▏    | 116/221 [00:00<00:00, 603.85it/s, now=None]\u001b[A\n",
            "chunk:  86%|████████▋ | 191/221 [00:00<00:00, 666.54it/s, now=None]\u001b[A\n",
            "t:  45%|████▌     | 113/250 [13:27<00:34,  3.93it/s, now=None]"
          ]
        },
        {
          "output_type": "stream",
          "name": "stdout",
          "text": [
            "MoviePy - Done.\n",
            "Moviepy - Writing video /content/classified_moments/Goal/goal21.mp4\n",
            "\n"
          ]
        },
        {
          "output_type": "stream",
          "name": "stderr",
          "text": [
            "\n",
            "t:   0%|          | 0/250 [00:00<?, ?it/s, now=None]\u001b[A\n",
            "t:   3%|▎         | 8/250 [00:00<00:03, 66.82it/s, now=None]\u001b[A\n",
            "t:   6%|▌         | 15/250 [00:00<00:04, 58.22it/s, now=None]\u001b[A\n",
            "t:   8%|▊         | 21/250 [00:00<00:03, 58.19it/s, now=None]\u001b[A\n",
            "t:  12%|█▏        | 29/250 [00:00<00:03, 64.98it/s, now=None]\u001b[A\n",
            "t:  15%|█▍        | 37/250 [00:00<00:03, 65.74it/s, now=None]\u001b[A\n",
            "t:  18%|█▊        | 44/250 [00:00<00:03, 66.42it/s, now=None]\u001b[A\n",
            "t:  21%|██        | 52/250 [00:00<00:02, 67.42it/s, now=None]\u001b[A\n",
            "t:  24%|██▎       | 59/250 [00:01<00:05, 34.60it/s, now=None]\u001b[A\n",
            "t:  26%|██▌       | 65/250 [00:01<00:07, 24.64it/s, now=None]\u001b[A\n",
            "t:  28%|██▊       | 69/250 [00:01<00:08, 21.76it/s, now=None]\u001b[A\n",
            "t:  29%|██▉       | 73/250 [00:02<00:09, 18.81it/s, now=None]\u001b[A\n",
            "t:  30%|███       | 76/250 [00:02<00:10, 16.96it/s, now=None]\u001b[A\n",
            "t:  32%|███▏      | 79/250 [00:02<00:10, 16.38it/s, now=None]\u001b[A\n",
            "t:  32%|███▏      | 81/250 [00:02<00:10, 15.77it/s, now=None]\u001b[A\n",
            "t:  34%|███▎      | 84/250 [00:03<00:11, 14.61it/s, now=None]\u001b[A\n",
            "t:  34%|███▍      | 86/250 [00:03<00:10, 15.39it/s, now=None]\u001b[A\n",
            "t:  35%|███▌      | 88/250 [00:03<00:11, 13.65it/s, now=None]\u001b[A\n",
            "t:  36%|███▌      | 90/250 [00:03<00:12, 13.29it/s, now=None]\u001b[A\n",
            "t:  37%|███▋      | 92/250 [00:03<00:12, 12.86it/s, now=None]\u001b[A\n",
            "t:  38%|███▊      | 94/250 [00:03<00:12, 12.53it/s, now=None]\u001b[A\n",
            "t:  38%|███▊      | 96/250 [00:04<00:11, 13.05it/s, now=None]\u001b[A\n",
            "t:  39%|███▉      | 98/250 [00:04<00:10, 14.10it/s, now=None]\u001b[A\n",
            "t:  40%|████      | 100/250 [00:04<00:11, 12.71it/s, now=None]\u001b[A\n",
            "t:  41%|████      | 102/250 [00:04<00:10, 13.85it/s, now=None]\u001b[A\n",
            "t:  42%|████▏     | 104/250 [00:04<00:11, 12.39it/s, now=None]\u001b[A\n",
            "t:  42%|████▏     | 106/250 [00:04<00:12, 11.72it/s, now=None]\u001b[A\n",
            "t:  44%|████▎     | 109/250 [00:05<00:10, 12.86it/s, now=None]\u001b[A\n",
            "t:  44%|████▍     | 111/250 [00:05<00:10, 13.76it/s, now=None]\u001b[A\n",
            "t:  45%|████▌     | 113/250 [00:05<00:09, 14.08it/s, now=None]\u001b[A\n",
            "t:  46%|████▌     | 115/250 [00:05<00:10, 12.72it/s, now=None]\u001b[A\n",
            "t:  47%|████▋     | 117/250 [00:05<00:10, 13.17it/s, now=None]\u001b[A\n",
            "t:  48%|████▊     | 119/250 [00:05<00:10, 12.96it/s, now=None]\u001b[A\n",
            "t:  48%|████▊     | 121/250 [00:05<00:10, 12.74it/s, now=None]\u001b[A\n",
            "t:  50%|████▉     | 124/250 [00:06<00:08, 14.01it/s, now=None]\u001b[A\n",
            "t:  50%|█████     | 126/250 [00:06<00:09, 12.55it/s, now=None]\u001b[A\n",
            "t:  51%|█████     | 128/250 [00:06<00:09, 12.97it/s, now=None]\u001b[A\n",
            "t:  52%|█████▏    | 130/250 [00:06<00:11, 10.71it/s, now=None]\u001b[A\n",
            "t:  53%|█████▎    | 132/250 [00:06<00:10, 11.27it/s, now=None]\u001b[A\n",
            "t:  54%|█████▎    | 134/250 [00:07<00:09, 11.73it/s, now=None]\u001b[A\n",
            "t:  54%|█████▍    | 136/250 [00:07<00:10, 10.57it/s, now=None]\u001b[A\n",
            "t:  55%|█████▌    | 138/250 [00:07<00:10, 10.39it/s, now=None]\u001b[A\n",
            "t:  56%|█████▌    | 140/250 [00:07<00:10, 10.89it/s, now=None]\u001b[A\n",
            "t:  57%|█████▋    | 142/250 [00:07<00:10,  9.93it/s, now=None]\u001b[A\n",
            "t:  58%|█████▊    | 144/250 [00:08<00:12,  8.22it/s, now=None]\u001b[A\n",
            "t:  58%|█████▊    | 146/250 [00:08<00:11,  8.83it/s, now=None]\u001b[A\n",
            "t:  59%|█████▉    | 147/250 [00:08<00:12,  8.23it/s, now=None]\u001b[A\n",
            "t:  59%|█████▉    | 148/250 [00:08<00:15,  6.59it/s, now=None]\u001b[A\n",
            "t:  60%|██████    | 150/250 [00:08<00:11,  8.61it/s, now=None]\u001b[A\n",
            "t:  61%|██████    | 152/250 [00:09<00:14,  6.54it/s, now=None]\u001b[A\n",
            "t:  62%|██████▏   | 154/250 [00:09<00:14,  6.63it/s, now=None]\u001b[A\n",
            "t:  62%|██████▏   | 155/250 [00:09<00:13,  7.05it/s, now=None]\u001b[A\n",
            "t:  62%|██████▏   | 156/250 [00:10<00:14,  6.29it/s, now=None]\u001b[A\n",
            "t:  63%|██████▎   | 158/250 [00:10<00:13,  6.74it/s, now=None]\u001b[A\n",
            "t:  64%|██████▍   | 160/250 [00:10<00:14,  6.39it/s, now=None]\u001b[A\n",
            "t:  65%|██████▍   | 162/250 [00:10<00:12,  7.25it/s, now=None]\u001b[A\n",
            "t:  65%|██████▌   | 163/250 [00:11<00:12,  6.92it/s, now=None]\u001b[A\n",
            "t:  66%|██████▌   | 164/250 [00:11<00:14,  5.77it/s, now=None]\u001b[A\n",
            "t:  66%|██████▋   | 166/250 [00:11<00:11,  7.34it/s, now=None]\u001b[A\n",
            "t:  67%|██████▋   | 167/250 [00:11<00:12,  6.43it/s, now=None]\u001b[A\n",
            "t:  67%|██████▋   | 168/250 [00:11<00:15,  5.22it/s, now=None]\u001b[A\n",
            "t:  68%|██████▊   | 170/250 [00:12<00:15,  5.03it/s, now=None]\u001b[A\n",
            "t:  68%|██████▊   | 171/250 [00:12<00:14,  5.58it/s, now=None]\u001b[A\n",
            "t:  69%|██████▉   | 173/250 [00:12<00:14,  5.47it/s, now=None]\u001b[A\n",
            "t:  70%|███████   | 176/250 [00:13<00:09,  7.50it/s, now=None]\u001b[A\n",
            "t:  71%|███████   | 177/250 [00:13<00:09,  7.80it/s, now=None]\u001b[A\n",
            "t:  72%|███████▏  | 179/250 [00:13<00:09,  7.73it/s, now=None]\u001b[A\n",
            "t:  72%|███████▏  | 181/250 [00:13<00:08,  8.61it/s, now=None]\u001b[A\n",
            "t:  73%|███████▎  | 182/250 [00:13<00:07,  8.77it/s, now=None]\u001b[A\n",
            "t:  73%|███████▎  | 183/250 [00:13<00:08,  7.49it/s, now=None]\u001b[A\n",
            "t:  74%|███████▎  | 184/250 [00:14<00:08,  7.79it/s, now=None]\u001b[A\n",
            "t:  74%|███████▍  | 185/250 [00:14<00:08,  7.65it/s, now=None]\u001b[A\n",
            "t:  75%|███████▍  | 187/250 [00:14<00:08,  7.38it/s, now=None]\u001b[A\n",
            "t:  76%|███████▌  | 189/250 [00:14<00:07,  8.09it/s, now=None]\u001b[A\n",
            "t:  76%|███████▋  | 191/250 [00:14<00:07,  8.12it/s, now=None]\u001b[A\n",
            "t:  77%|███████▋  | 193/250 [00:15<00:06,  9.05it/s, now=None]\u001b[A\n",
            "t:  78%|███████▊  | 195/250 [00:15<00:06,  8.19it/s, now=None]\u001b[A\n",
            "t:  78%|███████▊  | 196/250 [00:15<00:06,  8.37it/s, now=None]\u001b[A\n",
            "t:  79%|███████▉  | 198/250 [00:15<00:05,  9.68it/s, now=None]\u001b[A\n",
            "t:  80%|████████  | 200/250 [00:15<00:05,  8.60it/s, now=None]\u001b[A\n",
            "t:  80%|████████  | 201/250 [00:16<00:05,  8.81it/s, now=None]\u001b[A\n",
            "t:  81%|████████  | 202/250 [00:16<00:05,  8.83it/s, now=None]\u001b[A\n",
            "t:  81%|████████  | 203/250 [00:16<00:06,  7.26it/s, now=None]\u001b[A\n",
            "t:  82%|████████▏ | 205/250 [00:16<00:04,  9.68it/s, now=None]\u001b[A\n",
            "t:  83%|████████▎ | 207/250 [00:16<00:04,  9.72it/s, now=None]\u001b[A\n",
            "t:  84%|████████▎ | 209/250 [00:16<00:03, 10.87it/s, now=None]\u001b[A\n",
            "t:  84%|████████▍ | 211/250 [00:17<00:03, 11.07it/s, now=None]\u001b[A\n",
            "t:  85%|████████▌ | 213/250 [00:17<00:02, 12.37it/s, now=None]\u001b[A\n",
            "t:  86%|████████▌ | 215/250 [00:17<00:03, 11.46it/s, now=None]\u001b[A\n",
            "t:  87%|████████▋ | 217/250 [00:17<00:02, 11.35it/s, now=None]\u001b[A\n",
            "t:  88%|████████▊ | 219/250 [00:17<00:02, 10.35it/s, now=None]\u001b[A\n",
            "t:  88%|████████▊ | 221/250 [00:17<00:02, 10.90it/s, now=None]\u001b[A\n",
            "t:  89%|████████▉ | 223/250 [00:18<00:02,  9.12it/s, now=None]\u001b[A\n",
            "t:  90%|████████▉ | 224/250 [00:18<00:02,  8.99it/s, now=None]\u001b[A\n",
            "t:  90%|█████████ | 226/250 [00:18<00:02, 10.95it/s, now=None]\u001b[A\n",
            "t:  91%|█████████ | 228/250 [00:18<00:02,  8.60it/s, now=None]\u001b[A\n",
            "t:  92%|█████████▏| 230/250 [00:18<00:02,  9.46it/s, now=None]\u001b[A\n",
            "t:  93%|█████████▎| 232/250 [00:19<00:02,  8.52it/s, now=None]\u001b[A\n",
            "t:  93%|█████████▎| 233/250 [00:19<00:02,  8.33it/s, now=None]\u001b[A\n",
            "t:  94%|█████████▍| 235/250 [00:19<00:02,  7.36it/s, now=None]\u001b[A\n",
            "t:  95%|█████████▍| 237/250 [00:19<00:01,  7.98it/s, now=None]\u001b[A\n",
            "t:  96%|█████████▌| 239/250 [00:20<00:01,  7.76it/s, now=None]\u001b[A\n",
            "t:  97%|█████████▋| 242/250 [00:20<00:00, 10.04it/s, now=None]\u001b[A\n",
            "t:  98%|█████████▊| 244/250 [00:20<00:00,  9.28it/s, now=None]\u001b[A\n",
            "t:  98%|█████████▊| 246/250 [00:20<00:00, 10.57it/s, now=None]\u001b[A\n",
            "t:  99%|█████████▉| 248/250 [00:21<00:00,  9.39it/s, now=None]\u001b[A\n",
            "t: 100%|██████████| 250/250 [00:21<00:00, 10.14it/s, now=None]\u001b[A\n",
            "t:  45%|████▌     | 113/250 [13:52<00:34,  3.93it/s, now=None]"
          ]
        },
        {
          "output_type": "stream",
          "name": "stdout",
          "text": [
            "Moviepy - Done !\n",
            "Moviepy - video ready /content/classified_moments/Goal/goal21.mp4\n"
          ]
        },
        {
          "output_type": "stream",
          "name": "stderr",
          "text": [
            "t:  45%|████▌     | 113/250 [13:52<00:34,  3.93it/s, now=None]"
          ]
        },
        {
          "output_type": "stream",
          "name": "stdout",
          "text": [
            "Moviepy - Building video /content/classified_moments/Goal/goal22.mp4.\n",
            "MoviePy - Writing audio in goal22TEMP_MPY_wvf_snd.mp3\n"
          ]
        },
        {
          "output_type": "stream",
          "name": "stderr",
          "text": [
            "\n",
            "chunk:   0%|          | 0/221 [00:00<?, ?it/s, now=None]\u001b[A\n",
            "chunk:  14%|█▍        | 32/221 [00:00<00:00, 292.91it/s, now=None]\u001b[A\n",
            "chunk:  47%|████▋     | 103/221 [00:00<00:00, 516.40it/s, now=None]\u001b[A\n",
            "chunk:  83%|████████▎ | 184/221 [00:00<00:00, 643.85it/s, now=None]\u001b[A\n",
            "t:  45%|████▌     | 113/250 [13:53<00:34,  3.93it/s, now=None]"
          ]
        },
        {
          "output_type": "stream",
          "name": "stdout",
          "text": [
            "MoviePy - Done.\n",
            "Moviepy - Writing video /content/classified_moments/Goal/goal22.mp4\n",
            "\n"
          ]
        },
        {
          "output_type": "stream",
          "name": "stderr",
          "text": [
            "\n",
            "t:   0%|          | 0/250 [00:00<?, ?it/s, now=None]\u001b[A\n",
            "t:   3%|▎         | 7/250 [00:00<00:03, 66.44it/s, now=None]\u001b[A\n",
            "t:   6%|▌         | 14/250 [00:00<00:04, 48.96it/s, now=None]\u001b[A\n",
            "t:   8%|▊         | 20/250 [00:00<00:04, 46.96it/s, now=None]\u001b[A\n",
            "t:  11%|█         | 27/250 [00:00<00:04, 53.69it/s, now=None]\u001b[A\n",
            "t:  14%|█▎        | 34/250 [00:00<00:03, 56.02it/s, now=None]\u001b[A\n",
            "t:  16%|█▌        | 40/250 [00:00<00:03, 56.94it/s, now=None]\u001b[A\n",
            "t:  18%|█▊        | 46/250 [00:00<00:03, 55.00it/s, now=None]\u001b[A\n",
            "t:  21%|██        | 52/250 [00:01<00:04, 48.92it/s, now=None]\u001b[A\n",
            "t:  23%|██▎       | 58/250 [00:01<00:10, 18.74it/s, now=None]\u001b[A\n",
            "t:  25%|██▍       | 62/250 [00:02<00:13, 14.05it/s, now=None]\u001b[A\n",
            "t:  26%|██▌       | 65/250 [00:02<00:15, 11.91it/s, now=None]\u001b[A\n",
            "t:  27%|██▋       | 68/250 [00:03<00:18, 10.11it/s, now=None]\u001b[A\n",
            "t:  28%|██▊       | 70/250 [00:03<00:18,  9.66it/s, now=None]\u001b[A\n",
            "t:  29%|██▉       | 72/250 [00:03<00:22,  8.05it/s, now=None]\u001b[A\n",
            "t:  30%|██▉       | 74/250 [00:04<00:20,  8.57it/s, now=None]\u001b[A\n",
            "t:  30%|███       | 76/250 [00:04<00:23,  7.42it/s, now=None]\u001b[A\n",
            "t:  31%|███       | 78/250 [00:04<00:24,  7.03it/s, now=None]\u001b[A\n",
            "t:  32%|███▏      | 79/250 [00:04<00:25,  6.71it/s, now=None]\u001b[A\n",
            "t:  32%|███▏      | 80/250 [00:05<00:24,  7.01it/s, now=None]\u001b[A\n",
            "t:  32%|███▏      | 81/250 [00:05<00:27,  6.26it/s, now=None]\u001b[A\n",
            "t:  33%|███▎      | 82/250 [00:05<00:25,  6.60it/s, now=None]\u001b[A\n",
            "t:  34%|███▎      | 84/250 [00:05<00:28,  5.92it/s, now=None]\u001b[A\n",
            "t:  34%|███▍      | 86/250 [00:05<00:22,  7.14it/s, now=None]\u001b[A\n",
            "t:  35%|███▍      | 87/250 [00:06<00:23,  7.09it/s, now=None]\u001b[A\n",
            "t:  35%|███▌      | 88/250 [00:06<00:27,  5.98it/s, now=None]\u001b[A\n",
            "t:  36%|███▌      | 90/250 [00:06<00:24,  6.41it/s, now=None]\u001b[A\n",
            "t:  36%|███▋      | 91/250 [00:06<00:24,  6.37it/s, now=None]\u001b[A\n",
            "t:  37%|███▋      | 93/250 [00:06<00:20,  7.76it/s, now=None]\u001b[A\n",
            "t:  38%|███▊      | 94/250 [00:07<00:26,  5.87it/s, now=None]\u001b[A\n",
            "t:  38%|███▊      | 96/250 [00:07<00:21,  7.28it/s, now=None]\u001b[A\n",
            "t:  39%|███▉      | 97/250 [00:07<00:22,  6.82it/s, now=None]\u001b[A\n",
            "t:  39%|███▉      | 98/250 [00:07<00:24,  6.14it/s, now=None]\u001b[A\n",
            "t:  40%|████      | 100/250 [00:08<00:21,  7.00it/s, now=None]\u001b[A\n",
            "t:  41%|████      | 102/250 [00:08<00:17,  8.53it/s, now=None]\u001b[A\n",
            "t:  41%|████      | 103/250 [00:08<00:18,  8.16it/s, now=None]\u001b[A\n",
            "t:  42%|████▏     | 104/250 [00:08<00:18,  7.96it/s, now=None]\u001b[A\n",
            "t:  42%|████▏     | 106/250 [00:08<00:15,  9.13it/s, now=None]\u001b[A\n",
            "t:  43%|████▎     | 108/250 [00:08<00:18,  7.85it/s, now=None]\u001b[A\n",
            "t:  44%|████▍     | 110/250 [00:09<00:17,  7.94it/s, now=None]\u001b[A\n",
            "t:  44%|████▍     | 111/250 [00:09<00:18,  7.72it/s, now=None]\u001b[A\n",
            "t:  45%|████▌     | 113/250 [00:09<00:14,  9.22it/s, now=None]\u001b[A\n",
            "t:  46%|████▌     | 115/250 [00:09<00:13, 10.12it/s, now=None]\u001b[A\n",
            "t:  47%|████▋     | 117/250 [00:09<00:12, 10.95it/s, now=None]\u001b[A\n",
            "t:  48%|████▊     | 119/250 [00:10<00:11, 11.14it/s, now=None]\u001b[A\n",
            "t:  48%|████▊     | 121/250 [00:10<00:10, 11.91it/s, now=None]\u001b[A\n",
            "t:  49%|████▉     | 123/250 [00:10<00:11, 11.55it/s, now=None]\u001b[A\n",
            "t:  50%|█████     | 125/250 [00:10<00:09, 13.03it/s, now=None]\u001b[A\n",
            "t:  51%|█████     | 127/250 [00:10<00:10, 11.94it/s, now=None]\u001b[A\n",
            "t:  52%|█████▏    | 129/250 [00:10<00:08, 13.55it/s, now=None]\u001b[A\n",
            "t:  52%|█████▏    | 131/250 [00:10<00:09, 12.29it/s, now=None]\u001b[A\n",
            "t:  53%|█████▎    | 133/250 [00:11<00:09, 12.11it/s, now=None]\u001b[A\n",
            "t:  54%|█████▍    | 135/250 [00:11<00:09, 12.13it/s, now=None]\u001b[A\n",
            "t:  55%|█████▍    | 137/250 [00:11<00:08, 12.69it/s, now=None]\u001b[A\n",
            "t:  56%|█████▌    | 139/250 [00:11<00:08, 12.44it/s, now=None]\u001b[A\n",
            "t:  56%|█████▋    | 141/250 [00:11<00:08, 13.46it/s, now=None]\u001b[A\n",
            "t:  57%|█████▋    | 143/250 [00:11<00:08, 11.96it/s, now=None]\u001b[A\n",
            "t:  58%|█████▊    | 145/250 [00:12<00:07, 13.59it/s, now=None]\u001b[A\n",
            "t:  59%|█████▉    | 147/250 [00:12<00:08, 12.01it/s, now=None]\u001b[A\n",
            "t:  60%|██████    | 150/250 [00:12<00:07, 12.61it/s, now=None]\u001b[A\n",
            "t:  61%|██████    | 152/250 [00:12<00:07, 12.69it/s, now=None]\u001b[A\n",
            "t:  62%|██████▏   | 154/250 [00:12<00:07, 13.15it/s, now=None]\u001b[A\n",
            "t:  62%|██████▏   | 156/250 [00:12<00:07, 12.30it/s, now=None]\u001b[A\n",
            "t:  64%|██████▎   | 159/250 [00:13<00:07, 12.16it/s, now=None]\u001b[A\n",
            "t:  64%|██████▍   | 161/250 [00:13<00:06, 12.88it/s, now=None]\u001b[A\n",
            "t:  65%|██████▌   | 163/250 [00:13<00:06, 12.64it/s, now=None]\u001b[A\n",
            "t:  66%|██████▌   | 165/250 [00:13<00:06, 13.25it/s, now=None]\u001b[A\n",
            "t:  67%|██████▋   | 167/250 [00:13<00:06, 12.19it/s, now=None]\u001b[A\n",
            "t:  68%|██████▊   | 169/250 [00:13<00:06, 13.49it/s, now=None]\u001b[A\n",
            "t:  68%|██████▊   | 171/250 [00:14<00:06, 12.19it/s, now=None]\u001b[A\n",
            "t:  69%|██████▉   | 173/250 [00:14<00:05, 13.37it/s, now=None]\u001b[A\n",
            "t:  70%|███████   | 175/250 [00:14<00:06, 11.16it/s, now=None]\u001b[A\n",
            "t:  71%|███████   | 177/250 [00:14<00:05, 12.62it/s, now=None]\u001b[A\n",
            "t:  72%|███████▏  | 179/250 [00:14<00:06, 11.33it/s, now=None]\u001b[A\n",
            "t:  72%|███████▏  | 181/250 [00:14<00:05, 12.15it/s, now=None]\u001b[A\n",
            "t:  73%|███████▎  | 183/250 [00:15<00:06, 10.83it/s, now=None]\u001b[A\n",
            "t:  74%|███████▍  | 185/250 [00:15<00:05, 11.58it/s, now=None]\u001b[A\n",
            "t:  75%|███████▍  | 187/250 [00:15<00:06, 10.42it/s, now=None]\u001b[A\n",
            "t:  76%|███████▌  | 189/250 [00:15<00:05, 11.50it/s, now=None]\u001b[A\n",
            "t:  76%|███████▋  | 191/250 [00:15<00:05, 10.27it/s, now=None]\u001b[A\n",
            "t:  77%|███████▋  | 193/250 [00:16<00:05, 11.18it/s, now=None]\u001b[A\n",
            "t:  78%|███████▊  | 195/250 [00:16<00:05, 10.03it/s, now=None]\u001b[A\n",
            "t:  79%|███████▉  | 197/250 [00:16<00:04, 11.20it/s, now=None]\u001b[A\n",
            "t:  80%|███████▉  | 199/250 [00:16<00:05,  9.86it/s, now=None]\u001b[A\n",
            "t:  80%|████████  | 201/250 [00:16<00:04, 11.42it/s, now=None]\u001b[A\n",
            "t:  81%|████████  | 203/250 [00:16<00:04, 11.62it/s, now=None]\u001b[A\n",
            "t:  82%|████████▏ | 205/250 [00:17<00:03, 12.08it/s, now=None]\u001b[A\n",
            "t:  83%|████████▎ | 207/250 [00:17<00:03, 10.99it/s, now=None]\u001b[A\n",
            "t:  84%|████████▎ | 209/250 [00:17<00:03, 11.58it/s, now=None]\u001b[A\n",
            "t:  84%|████████▍ | 211/250 [00:17<00:03, 12.24it/s, now=None]\u001b[A\n",
            "t:  85%|████████▌ | 213/250 [00:17<00:02, 13.41it/s, now=None]\u001b[A\n",
            "t:  86%|████████▌ | 215/250 [00:18<00:03, 11.34it/s, now=None]\u001b[A\n",
            "t:  87%|████████▋ | 217/250 [00:18<00:03,  9.98it/s, now=None]\u001b[A\n",
            "t:  88%|████████▊ | 219/250 [00:18<00:03,  9.07it/s, now=None]\u001b[A\n",
            "t:  88%|████████▊ | 220/250 [00:18<00:03,  8.14it/s, now=None]\u001b[A\n",
            "t:  89%|████████▉ | 222/250 [00:18<00:03,  8.59it/s, now=None]\u001b[A\n",
            "t:  89%|████████▉ | 223/250 [00:19<00:03,  6.95it/s, now=None]\u001b[A\n",
            "t:  90%|█████████ | 225/250 [00:19<00:03,  8.18it/s, now=None]\u001b[A\n",
            "t:  90%|█████████ | 226/250 [00:19<00:03,  6.71it/s, now=None]\u001b[A\n",
            "t:  91%|█████████ | 228/250 [00:19<00:02,  7.78it/s, now=None]\u001b[A\n",
            "t:  92%|█████████▏| 229/250 [00:19<00:02,  7.56it/s, now=None]\u001b[A\n",
            "t:  92%|█████████▏| 230/250 [00:20<00:02,  7.96it/s, now=None]\u001b[A\n",
            "t:  92%|█████████▏| 231/250 [00:20<00:03,  6.11it/s, now=None]\u001b[A\n",
            "t:  93%|█████████▎| 233/250 [00:20<00:02,  7.97it/s, now=None]\u001b[A\n",
            "t:  94%|█████████▎| 234/250 [00:20<00:02,  7.39it/s, now=None]\u001b[A\n",
            "t:  94%|█████████▍| 235/250 [00:20<00:02,  6.39it/s, now=None]\u001b[A\n",
            "t:  95%|█████████▍| 237/250 [00:21<00:01,  7.37it/s, now=None]\u001b[A\n",
            "t:  95%|█████████▌| 238/250 [00:21<00:01,  6.20it/s, now=None]\u001b[A\n",
            "t:  96%|█████████▌| 239/250 [00:21<00:01,  6.77it/s, now=None]\u001b[A\n",
            "t:  96%|█████████▌| 240/250 [00:21<00:01,  7.36it/s, now=None]\u001b[A\n",
            "t:  96%|█████████▋| 241/250 [00:21<00:01,  6.27it/s, now=None]\u001b[A\n",
            "t:  97%|█████████▋| 243/250 [00:22<00:01,  6.69it/s, now=None]\u001b[A\n",
            "t:  98%|█████████▊| 244/250 [00:22<00:00,  6.90it/s, now=None]\u001b[A\n",
            "t:  98%|█████████▊| 245/250 [00:22<00:00,  6.44it/s, now=None]\u001b[A\n",
            "t:  99%|█████████▉| 247/250 [00:22<00:00,  6.55it/s, now=None]\u001b[A\n",
            "t: 100%|█████████▉| 249/250 [00:22<00:00,  8.24it/s, now=None]\u001b[A\n",
            "t: 100%|██████████| 250/250 [00:23<00:00,  6.29it/s, now=None]\u001b[A\n",
            "t:  45%|████▌     | 113/250 [14:21<00:34,  3.93it/s, now=None]"
          ]
        },
        {
          "output_type": "stream",
          "name": "stdout",
          "text": [
            "Moviepy - Done !\n",
            "Moviepy - video ready /content/classified_moments/Goal/goal22.mp4\n"
          ]
        },
        {
          "output_type": "stream",
          "name": "stderr",
          "text": [
            "t:  45%|████▌     | 113/250 [14:22<00:34,  3.93it/s, now=None]"
          ]
        },
        {
          "output_type": "stream",
          "name": "stdout",
          "text": [
            "Moviepy - Building video /content/classified_moments/Happy/happy23.mp4.\n",
            "MoviePy - Writing audio in happy23TEMP_MPY_wvf_snd.mp3\n"
          ]
        },
        {
          "output_type": "stream",
          "name": "stderr",
          "text": [
            "\n",
            "chunk:   0%|          | 0/221 [00:00<?, ?it/s, now=None]\u001b[A\n",
            "chunk:  14%|█▍        | 32/221 [00:00<00:00, 289.80it/s, now=None]\u001b[A\n",
            "chunk:  42%|████▏     | 92/221 [00:00<00:00, 463.72it/s, now=None]\u001b[A\n",
            "chunk:  73%|███████▎  | 162/221 [00:00<00:00, 568.07it/s, now=None]\u001b[A\n",
            "t:  45%|████▌     | 113/250 [14:22<00:34,  3.93it/s, now=None]"
          ]
        },
        {
          "output_type": "stream",
          "name": "stdout",
          "text": [
            "MoviePy - Done.\n",
            "Moviepy - Writing video /content/classified_moments/Happy/happy23.mp4\n",
            "\n"
          ]
        },
        {
          "output_type": "stream",
          "name": "stderr",
          "text": [
            "\n",
            "t:   0%|          | 0/250 [00:00<?, ?it/s, now=None]\u001b[A\n",
            "t:   3%|▎         | 7/250 [00:00<00:03, 61.49it/s, now=None]\u001b[A\n",
            "t:   6%|▌         | 14/250 [00:00<00:03, 64.75it/s, now=None]\u001b[A\n",
            "t:   8%|▊         | 21/250 [00:00<00:04, 57.17it/s, now=None]\u001b[A\n",
            "t:  11%|█         | 27/250 [00:00<00:03, 57.05it/s, now=None]\u001b[A\n",
            "t:  14%|█▎        | 34/250 [00:00<00:03, 61.24it/s, now=None]\u001b[A\n",
            "t:  16%|█▋        | 41/250 [00:00<00:03, 59.68it/s, now=None]\u001b[A\n",
            "t:  19%|█▉        | 48/250 [00:00<00:03, 57.12it/s, now=None]\u001b[A\n",
            "t:  22%|██▏       | 54/250 [00:00<00:03, 52.13it/s, now=None]\u001b[A\n",
            "t:  24%|██▍       | 60/250 [00:01<00:06, 27.80it/s, now=None]\u001b[A\n",
            "t:  26%|██▌       | 65/250 [00:01<00:08, 22.36it/s, now=None]\u001b[A\n",
            "t:  28%|██▊       | 69/250 [00:02<00:09, 19.32it/s, now=None]\u001b[A\n",
            "t:  29%|██▉       | 72/250 [00:02<00:10, 17.38it/s, now=None]\u001b[A\n",
            "t:  30%|███       | 75/250 [00:02<00:10, 16.33it/s, now=None]\u001b[A\n",
            "t:  31%|███       | 77/250 [00:02<00:10, 15.78it/s, now=None]\u001b[A\n",
            "t:  32%|███▏      | 79/250 [00:02<00:10, 15.86it/s, now=None]\u001b[A\n",
            "t:  32%|███▏      | 81/250 [00:03<00:12, 14.05it/s, now=None]\u001b[A\n",
            "t:  33%|███▎      | 83/250 [00:03<00:11, 14.90it/s, now=None]\u001b[A\n",
            "t:  34%|███▍      | 85/250 [00:03<00:12, 12.84it/s, now=None]\u001b[A\n",
            "t:  35%|███▍      | 87/250 [00:03<00:11, 13.99it/s, now=None]\u001b[A\n",
            "t:  36%|███▌      | 89/250 [00:03<00:12, 12.44it/s, now=None]\u001b[A\n",
            "t:  37%|███▋      | 92/250 [00:03<00:12, 12.70it/s, now=None]\u001b[A\n",
            "t:  38%|███▊      | 94/250 [00:04<00:11, 13.54it/s, now=None]\u001b[A\n",
            "t:  38%|███▊      | 96/250 [00:04<00:12, 12.38it/s, now=None]\u001b[A\n",
            "t:  39%|███▉      | 98/250 [00:04<00:11, 13.14it/s, now=None]\u001b[A\n",
            "t:  40%|████      | 100/250 [00:04<00:12, 12.36it/s, now=None]\u001b[A\n",
            "t:  41%|████      | 102/250 [00:04<00:10, 13.49it/s, now=None]\u001b[A\n",
            "t:  42%|████▏     | 104/250 [00:04<00:11, 12.37it/s, now=None]\u001b[A\n",
            "t:  42%|████▏     | 106/250 [00:05<00:12, 11.67it/s, now=None]\u001b[A\n",
            "t:  43%|████▎     | 108/250 [00:05<00:11, 12.80it/s, now=None]\u001b[A\n",
            "t:  44%|████▍     | 110/250 [00:05<00:10, 13.27it/s, now=None]\u001b[A\n",
            "t:  45%|████▍     | 112/250 [00:05<00:11, 11.58it/s, now=None]\u001b[A\n",
            "t:  46%|████▌     | 114/250 [00:05<00:11, 11.53it/s, now=None]\u001b[A\n",
            "t:  46%|████▋     | 116/250 [00:05<00:12, 11.14it/s, now=None]\u001b[A\n",
            "t:  47%|████▋     | 118/250 [00:05<00:10, 12.80it/s, now=None]\u001b[A\n",
            "t:  48%|████▊     | 120/250 [00:06<00:12, 10.68it/s, now=None]\u001b[A\n",
            "t:  49%|████▉     | 122/250 [00:06<00:10, 12.18it/s, now=None]\u001b[A\n",
            "t:  50%|████▉     | 124/250 [00:06<00:13,  9.06it/s, now=None]\u001b[A\n",
            "t:  50%|█████     | 126/250 [00:06<00:14,  8.76it/s, now=None]\u001b[A\n",
            "t:  51%|█████     | 128/250 [00:07<00:16,  7.40it/s, now=None]\u001b[A\n",
            "t:  52%|█████▏    | 130/250 [00:07<00:13,  9.05it/s, now=None]\u001b[A\n",
            "t:  53%|█████▎    | 132/250 [00:07<00:16,  6.98it/s, now=None]\u001b[A\n",
            "t:  54%|█████▎    | 134/250 [00:08<00:14,  7.76it/s, now=None]\u001b[A\n",
            "t:  54%|█████▍    | 135/250 [00:08<00:16,  7.05it/s, now=None]\u001b[A\n",
            "t:  54%|█████▍    | 136/250 [00:08<00:17,  6.38it/s, now=None]\u001b[A\n",
            "t:  55%|█████▍    | 137/250 [00:08<00:16,  6.67it/s, now=None]\u001b[A\n",
            "t:  56%|█████▌    | 139/250 [00:08<00:15,  7.34it/s, now=None]\u001b[A\n",
            "t:  56%|█████▌    | 140/250 [00:09<00:17,  6.31it/s, now=None]\u001b[A\n",
            "t:  57%|█████▋    | 142/250 [00:09<00:12,  8.37it/s, now=None]\u001b[A\n",
            "t:  58%|█████▊    | 144/250 [00:09<00:15,  6.93it/s, now=None]\u001b[A\n",
            "t:  58%|█████▊    | 146/250 [00:09<00:12,  8.33it/s, now=None]\u001b[A\n",
            "t:  59%|█████▉    | 148/250 [00:09<00:12,  8.09it/s, now=None]\u001b[A\n",
            "t:  60%|██████    | 150/250 [00:10<00:11,  8.55it/s, now=None]\u001b[A\n",
            "t:  60%|██████    | 151/250 [00:10<00:12,  7.70it/s, now=None]\u001b[A\n",
            "t:  62%|██████▏   | 154/250 [00:10<00:10,  8.84it/s, now=None]\u001b[A\n",
            "t:  62%|██████▏   | 156/250 [00:10<00:09, 10.29it/s, now=None]\u001b[A\n",
            "t:  63%|██████▎   | 158/250 [00:11<00:10,  8.46it/s, now=None]\u001b[A\n",
            "t:  64%|██████▍   | 160/250 [00:11<00:11,  7.59it/s, now=None]\u001b[A\n",
            "t:  65%|██████▍   | 162/250 [00:11<00:10,  8.28it/s, now=None]\u001b[A\n",
            "t:  65%|██████▌   | 163/250 [00:11<00:11,  7.30it/s, now=None]\u001b[A\n",
            "t:  66%|██████▌   | 164/250 [00:11<00:11,  7.25it/s, now=None]\u001b[A\n",
            "t:  66%|██████▌   | 165/250 [00:12<00:11,  7.23it/s, now=None]\u001b[A\n",
            "t:  66%|██████▋   | 166/250 [00:12<00:11,  7.46it/s, now=None]\u001b[A\n",
            "t:  67%|██████▋   | 168/250 [00:12<00:12,  6.78it/s, now=None]\u001b[A\n",
            "t:  68%|██████▊   | 169/250 [00:12<00:11,  7.23it/s, now=None]\u001b[A\n",
            "t:  68%|██████▊   | 171/250 [00:12<00:11,  6.92it/s, now=None]\u001b[A\n",
            "t:  69%|██████▉   | 173/250 [00:13<00:10,  7.53it/s, now=None]\u001b[A\n",
            "t:  70%|███████   | 175/250 [00:13<00:10,  7.28it/s, now=None]\u001b[A\n",
            "t:  71%|███████   | 177/250 [00:13<00:08,  8.30it/s, now=None]\u001b[A\n",
            "t:  71%|███████   | 178/250 [00:13<00:10,  6.79it/s, now=None]\u001b[A\n",
            "t:  72%|███████▏  | 179/250 [00:14<00:09,  7.14it/s, now=None]\u001b[A\n",
            "t:  72%|███████▏  | 180/250 [00:14<00:09,  7.46it/s, now=None]\u001b[A\n",
            "t:  72%|███████▏  | 181/250 [00:14<00:09,  7.10it/s, now=None]\u001b[A\n",
            "t:  73%|███████▎  | 183/250 [00:14<00:07,  8.49it/s, now=None]\u001b[A\n",
            "t:  74%|███████▍  | 185/250 [00:14<00:07,  8.84it/s, now=None]\u001b[A\n",
            "t:  75%|███████▍  | 187/250 [00:14<00:06,  9.74it/s, now=None]\u001b[A\n",
            "t:  75%|███████▌  | 188/250 [00:14<00:06,  9.44it/s, now=None]\u001b[A\n",
            "t:  76%|███████▌  | 190/250 [00:15<00:05, 10.30it/s, now=None]\u001b[A\n",
            "t:  77%|███████▋  | 192/250 [00:15<00:05, 10.32it/s, now=None]\u001b[A\n",
            "t:  78%|███████▊  | 194/250 [00:15<00:05, 10.41it/s, now=None]\u001b[A\n",
            "t:  78%|███████▊  | 196/250 [00:15<00:04, 11.17it/s, now=None]\u001b[A\n",
            "t:  79%|███████▉  | 198/250 [00:15<00:04, 10.66it/s, now=None]\u001b[A\n",
            "t:  80%|████████  | 200/250 [00:16<00:04, 10.25it/s, now=None]\u001b[A\n",
            "t:  81%|████████  | 202/250 [00:16<00:04, 10.22it/s, now=None]\u001b[A\n",
            "t:  82%|████████▏ | 204/250 [00:16<00:04, 10.03it/s, now=None]\u001b[A\n",
            "t:  82%|████████▏ | 206/250 [00:16<00:04, 10.37it/s, now=None]\u001b[A\n",
            "t:  83%|████████▎ | 208/250 [00:17<00:05,  8.40it/s, now=None]\u001b[A\n",
            "t:  84%|████████▎ | 209/250 [00:17<00:05,  8.13it/s, now=None]\u001b[A\n",
            "t:  84%|████████▍ | 211/250 [00:17<00:04,  9.63it/s, now=None]\u001b[A\n",
            "t:  85%|████████▌ | 213/250 [00:17<00:03,  9.64it/s, now=None]\u001b[A\n",
            "t:  86%|████████▋ | 216/250 [00:17<00:02, 12.81it/s, now=None]\u001b[A\n",
            "t:  87%|████████▋ | 218/250 [00:17<00:02, 11.41it/s, now=None]\u001b[A\n",
            "t:  88%|████████▊ | 220/250 [00:17<00:02, 11.62it/s, now=None]\u001b[A\n",
            "t:  89%|████████▉ | 222/250 [00:18<00:02, 12.23it/s, now=None]\u001b[A\n",
            "t:  90%|████████▉ | 224/250 [00:18<00:02, 11.85it/s, now=None]\u001b[A\n",
            "t:  90%|█████████ | 226/250 [00:18<00:01, 13.02it/s, now=None]\u001b[A\n",
            "t:  91%|█████████ | 228/250 [00:18<00:01, 12.21it/s, now=None]\u001b[A\n",
            "t:  92%|█████████▏| 230/250 [00:18<00:01, 12.93it/s, now=None]\u001b[A\n",
            "t:  93%|█████████▎| 232/250 [00:18<00:01, 12.55it/s, now=None]\u001b[A\n",
            "t:  94%|█████████▎| 234/250 [00:19<00:01, 12.09it/s, now=None]\u001b[A\n",
            "t:  94%|█████████▍| 236/250 [00:19<00:01, 13.23it/s, now=None]\u001b[A\n",
            "t:  95%|█████████▌| 238/250 [00:19<00:01, 11.77it/s, now=None]\u001b[A\n",
            "t:  96%|█████████▌| 240/250 [00:19<00:00, 12.91it/s, now=None]\u001b[A\n",
            "t:  97%|█████████▋| 242/250 [00:19<00:00, 11.37it/s, now=None]\u001b[A\n",
            "t:  98%|█████████▊| 244/250 [00:19<00:00, 12.07it/s, now=None]\u001b[A\n",
            "t:  98%|█████████▊| 246/250 [00:20<00:00, 10.71it/s, now=None]\u001b[A\n",
            "t:  99%|█████████▉| 248/250 [00:20<00:00, 11.19it/s, now=None]\u001b[A\n",
            "t: 100%|██████████| 250/250 [00:20<00:00, 10.76it/s, now=None]\u001b[A\n",
            "t:  45%|████▌     | 113/250 [14:46<00:34,  3.93it/s, now=None]"
          ]
        },
        {
          "output_type": "stream",
          "name": "stdout",
          "text": [
            "Moviepy - Done !\n",
            "Moviepy - video ready /content/classified_moments/Happy/happy23.mp4\n"
          ]
        },
        {
          "output_type": "stream",
          "name": "stderr",
          "text": [
            "t:  45%|████▌     | 113/250 [14:46<00:34,  3.93it/s, now=None]"
          ]
        },
        {
          "output_type": "stream",
          "name": "stdout",
          "text": [
            "Moviepy - Building video /content/classified_moments/Goal/goal24.mp4.\n",
            "MoviePy - Writing audio in goal24TEMP_MPY_wvf_snd.mp3\n"
          ]
        },
        {
          "output_type": "stream",
          "name": "stderr",
          "text": [
            "\n",
            "chunk:   0%|          | 0/221 [00:00<?, ?it/s, now=None]\u001b[A\n",
            "chunk:   5%|▍         | 11/221 [00:00<00:01, 109.58it/s, now=None]\u001b[A\n",
            "chunk:  24%|██▎       | 52/221 [00:00<00:00, 284.13it/s, now=None]\u001b[A\n",
            "chunk:  48%|████▊     | 105/221 [00:00<00:00, 392.66it/s, now=None]\u001b[A\n",
            "chunk:  72%|███████▏  | 159/221 [00:00<00:00, 450.35it/s, now=None]\u001b[A\n",
            "chunk:  95%|█████████▌| 211/221 [00:00<00:00, 474.76it/s, now=None]\u001b[A\n",
            "t:  45%|████▌     | 113/250 [14:47<00:34,  3.93it/s, now=None]"
          ]
        },
        {
          "output_type": "stream",
          "name": "stdout",
          "text": [
            "MoviePy - Done.\n",
            "Moviepy - Writing video /content/classified_moments/Goal/goal24.mp4\n",
            "\n"
          ]
        },
        {
          "output_type": "stream",
          "name": "stderr",
          "text": [
            "\n",
            "t:   0%|          | 0/250 [00:00<?, ?it/s, now=None]\u001b[A\n",
            "t:   3%|▎         | 7/250 [00:00<00:04, 58.17it/s, now=None]\u001b[A\n",
            "t:   5%|▌         | 13/250 [00:00<00:05, 42.82it/s, now=None]\u001b[A\n",
            "t:   7%|▋         | 18/250 [00:00<00:06, 36.43it/s, now=None]\u001b[A\n",
            "t:   9%|▉         | 22/250 [00:00<00:06, 35.61it/s, now=None]\u001b[A\n",
            "t:  10%|█         | 26/250 [00:00<00:06, 36.29it/s, now=None]\u001b[A\n",
            "t:  12%|█▏        | 30/250 [00:00<00:05, 36.98it/s, now=None]\u001b[A\n",
            "t:  14%|█▎        | 34/250 [00:00<00:05, 37.77it/s, now=None]\u001b[A\n",
            "t:  16%|█▌        | 39/250 [00:01<00:05, 39.97it/s, now=None]\u001b[A\n",
            "t:  18%|█▊        | 44/250 [00:01<00:05, 40.70it/s, now=None]\u001b[A\n",
            "t:  20%|█▉        | 49/250 [00:01<00:04, 41.24it/s, now=None]\u001b[A\n",
            "t:  22%|██▏       | 54/250 [00:01<00:05, 38.46it/s, now=None]\u001b[A\n",
            "t:  23%|██▎       | 58/250 [00:01<00:10, 17.55it/s, now=None]\u001b[A\n",
            "t:  24%|██▍       | 61/250 [00:02<00:14, 12.65it/s, now=None]\u001b[A\n",
            "t:  26%|██▌       | 64/250 [00:02<00:18, 10.06it/s, now=None]\u001b[A\n",
            "t:  26%|██▋       | 66/250 [00:03<00:18,  9.97it/s, now=None]\u001b[A\n",
            "t:  27%|██▋       | 68/250 [00:03<00:19,  9.43it/s, now=None]\u001b[A\n",
            "t:  28%|██▊       | 70/250 [00:03<00:22,  8.11it/s, now=None]\u001b[A\n",
            "t:  29%|██▉       | 72/250 [00:04<00:25,  7.09it/s, now=None]\u001b[A\n",
            "t:  29%|██▉       | 73/250 [00:04<00:23,  7.38it/s, now=None]\u001b[A\n",
            "t:  30%|██▉       | 74/250 [00:04<00:24,  7.14it/s, now=None]\u001b[A\n",
            "t:  30%|███       | 75/250 [00:04<00:25,  6.92it/s, now=None]\u001b[A\n",
            "t:  30%|███       | 76/250 [00:04<00:32,  5.31it/s, now=None]\u001b[A\n",
            "t:  31%|███       | 77/250 [00:05<00:31,  5.45it/s, now=None]\u001b[A\n",
            "t:  31%|███       | 78/250 [00:05<00:29,  5.83it/s, now=None]\u001b[A\n",
            "t:  32%|███▏      | 80/250 [00:05<00:31,  5.47it/s, now=None]\u001b[A\n",
            "t:  32%|███▏      | 81/250 [00:05<00:27,  6.04it/s, now=None]\u001b[A\n",
            "t:  33%|███▎      | 83/250 [00:05<00:25,  6.56it/s, now=None]\u001b[A\n",
            "t:  34%|███▎      | 84/250 [00:06<00:25,  6.51it/s, now=None]\u001b[A\n",
            "t:  34%|███▍      | 86/250 [00:06<00:25,  6.47it/s, now=None]\u001b[A\n",
            "t:  35%|███▌      | 88/250 [00:06<00:19,  8.10it/s, now=None]\u001b[A\n",
            "t:  36%|███▌      | 89/250 [00:06<00:23,  6.94it/s, now=None]\u001b[A\n",
            "t:  36%|███▌      | 90/250 [00:07<00:30,  5.27it/s, now=None]\u001b[A\n",
            "t:  37%|███▋      | 92/250 [00:07<00:23,  6.72it/s, now=None]\u001b[A\n",
            "t:  37%|███▋      | 93/250 [00:07<00:24,  6.45it/s, now=None]\u001b[A\n",
            "t:  38%|███▊      | 94/250 [00:07<00:23,  6.56it/s, now=None]\u001b[A\n",
            "t:  38%|███▊      | 95/250 [00:07<00:25,  6.06it/s, now=None]\u001b[A\n",
            "t:  39%|███▉      | 97/250 [00:08<00:22,  6.86it/s, now=None]\u001b[A\n",
            "t:  39%|███▉      | 98/250 [00:08<00:21,  7.08it/s, now=None]\u001b[A\n",
            "t:  40%|████      | 100/250 [00:08<00:22,  6.70it/s, now=None]\u001b[A\n",
            "t:  40%|████      | 101/250 [00:08<00:20,  7.19it/s, now=None]\u001b[A\n",
            "t:  41%|████      | 102/250 [00:08<00:19,  7.66it/s, now=None]\u001b[A\n",
            "t:  41%|████      | 103/250 [00:09<00:23,  6.13it/s, now=None]\u001b[A\n",
            "t:  42%|████▏     | 105/250 [00:09<00:18,  7.91it/s, now=None]\u001b[A\n",
            "t:  42%|████▏     | 106/250 [00:09<00:19,  7.45it/s, now=None]\u001b[A\n",
            "t:  43%|████▎     | 108/250 [00:09<00:17,  8.24it/s, now=None]\u001b[A\n",
            "t:  44%|████▎     | 109/250 [00:09<00:16,  8.45it/s, now=None]\u001b[A\n",
            "t:  44%|████▍     | 111/250 [00:09<00:15,  8.81it/s, now=None]\u001b[A\n",
            "t:  45%|████▌     | 113/250 [00:09<00:13,  9.87it/s, now=None]\u001b[A\n",
            "t:  46%|████▌     | 115/250 [00:10<00:12, 10.77it/s, now=None]\u001b[A\n",
            "t:  47%|████▋     | 117/250 [00:10<00:12, 10.25it/s, now=None]\u001b[A\n",
            "t:  48%|████▊     | 119/250 [00:10<00:13,  9.88it/s, now=None]\u001b[A\n",
            "t:  48%|████▊     | 121/250 [00:10<00:12, 10.58it/s, now=None]\u001b[A\n",
            "t:  49%|████▉     | 123/250 [00:10<00:11, 11.25it/s, now=None]\u001b[A\n",
            "t:  50%|█████     | 125/250 [00:11<00:12, 10.06it/s, now=None]\u001b[A\n",
            "t:  51%|█████     | 127/250 [00:11<00:11, 11.04it/s, now=None]\u001b[A\n",
            "t:  52%|█████▏    | 129/250 [00:11<00:10, 11.48it/s, now=None]\u001b[A\n",
            "t:  52%|█████▏    | 131/250 [00:11<00:11, 10.64it/s, now=None]\u001b[A\n",
            "t:  53%|█████▎    | 133/250 [00:11<00:10, 10.76it/s, now=None]\u001b[A\n",
            "t:  54%|█████▍    | 135/250 [00:12<00:11, 10.36it/s, now=None]\u001b[A\n",
            "t:  55%|█████▍    | 137/250 [00:12<00:10, 10.30it/s, now=None]\u001b[A\n",
            "t:  56%|█████▌    | 139/250 [00:12<00:10, 10.30it/s, now=None]\u001b[A\n",
            "t:  56%|█████▋    | 141/250 [00:12<00:09, 10.94it/s, now=None]\u001b[A\n",
            "t:  57%|█████▋    | 143/250 [00:12<00:10, 10.23it/s, now=None]\u001b[A\n",
            "t:  58%|█████▊    | 145/250 [00:12<00:09, 11.10it/s, now=None]\u001b[A\n",
            "t:  59%|█████▉    | 147/250 [00:13<00:12,  8.06it/s, now=None]\u001b[A\n",
            "t:  60%|█████▉    | 149/250 [00:13<00:11,  8.42it/s, now=None]\u001b[A\n",
            "t:  60%|██████    | 151/250 [00:13<00:10,  9.89it/s, now=None]\u001b[A\n",
            "t:  61%|██████    | 153/250 [00:13<00:10,  9.50it/s, now=None]\u001b[A\n",
            "t:  62%|██████▏   | 156/250 [00:14<00:08, 11.37it/s, now=None]\u001b[A\n",
            "t:  63%|██████▎   | 158/250 [00:14<00:08, 11.34it/s, now=None]\u001b[A\n",
            "t:  64%|██████▍   | 160/250 [00:14<00:07, 12.04it/s, now=None]\u001b[A\n",
            "t:  65%|██████▍   | 162/250 [00:14<00:07, 11.71it/s, now=None]\u001b[A\n",
            "t:  66%|██████▌   | 164/250 [00:14<00:07, 12.22it/s, now=None]\u001b[A\n",
            "t:  66%|██████▋   | 166/250 [00:14<00:07, 11.41it/s, now=None]\u001b[A\n",
            "t:  67%|██████▋   | 168/250 [00:15<00:06, 11.73it/s, now=None]\u001b[A\n",
            "t:  68%|██████▊   | 170/250 [00:15<00:06, 11.63it/s, now=None]\u001b[A\n",
            "t:  69%|██████▉   | 172/250 [00:15<00:06, 12.89it/s, now=None]\u001b[A\n",
            "t:  70%|██████▉   | 174/250 [00:15<00:06, 11.09it/s, now=None]\u001b[A\n",
            "t:  70%|███████   | 176/250 [00:15<00:06, 12.07it/s, now=None]\u001b[A\n",
            "t:  71%|███████   | 178/250 [00:15<00:06, 11.36it/s, now=None]\u001b[A\n",
            "t:  72%|███████▏  | 180/250 [00:16<00:05, 12.39it/s, now=None]\u001b[A\n",
            "t:  73%|███████▎  | 182/250 [00:16<00:06, 11.11it/s, now=None]\u001b[A\n",
            "t:  74%|███████▎  | 184/250 [00:16<00:06, 11.00it/s, now=None]\u001b[A\n",
            "t:  74%|███████▍  | 186/250 [00:16<00:05, 11.26it/s, now=None]\u001b[A\n",
            "t:  75%|███████▌  | 188/250 [00:16<00:04, 12.45it/s, now=None]\u001b[A\n",
            "t:  76%|███████▌  | 190/250 [00:17<00:05, 11.08it/s, now=None]\u001b[A\n",
            "t:  77%|███████▋  | 192/250 [00:17<00:04, 12.08it/s, now=None]\u001b[A\n",
            "t:  78%|███████▊  | 194/250 [00:17<00:05, 10.76it/s, now=None]\u001b[A\n",
            "t:  78%|███████▊  | 196/250 [00:17<00:04, 11.33it/s, now=None]\u001b[A\n",
            "t:  79%|███████▉  | 198/250 [00:17<00:05, 10.19it/s, now=None]\u001b[A\n",
            "t:  80%|████████  | 200/250 [00:17<00:04, 10.77it/s, now=None]\u001b[A\n",
            "t:  81%|████████  | 202/250 [00:18<00:04, 11.44it/s, now=None]\u001b[A\n",
            "t:  82%|████████▏ | 204/250 [00:18<00:04, 11.42it/s, now=None]\u001b[A\n",
            "t:  82%|████████▏ | 206/250 [00:18<00:04, 10.33it/s, now=None]\u001b[A\n",
            "t:  84%|████████▎ | 209/250 [00:18<00:03, 11.90it/s, now=None]\u001b[A\n",
            "t:  84%|████████▍ | 211/250 [00:18<00:03, 11.58it/s, now=None]\u001b[A\n",
            "t:  85%|████████▌ | 213/250 [00:19<00:03, 11.86it/s, now=None]\u001b[A\n",
            "t:  86%|████████▌ | 215/250 [00:19<00:03, 10.18it/s, now=None]\u001b[A\n",
            "t:  87%|████████▋ | 217/250 [00:19<00:03, 10.22it/s, now=None]\u001b[A\n",
            "t:  88%|████████▊ | 219/250 [00:19<00:03,  8.53it/s, now=None]\u001b[A\n",
            "t:  88%|████████▊ | 221/250 [00:20<00:03,  9.23it/s, now=None]\u001b[A\n",
            "t:  89%|████████▉ | 222/250 [00:20<00:03,  8.38it/s, now=None]\u001b[A\n",
            "t:  89%|████████▉ | 223/250 [00:20<00:03,  7.45it/s, now=None]\u001b[A\n",
            "t:  90%|█████████ | 225/250 [00:20<00:03,  6.29it/s, now=None]\u001b[A\n",
            "t:  90%|█████████ | 226/250 [00:20<00:03,  6.70it/s, now=None]\u001b[A\n",
            "t:  91%|█████████ | 228/250 [00:21<00:03,  6.45it/s, now=None]\u001b[A\n",
            "t:  92%|█████████▏| 231/250 [00:21<00:02,  9.24it/s, now=None]\u001b[A\n",
            "t:  93%|█████████▎| 233/250 [00:21<00:01,  8.88it/s, now=None]\u001b[A\n",
            "t:  94%|█████████▍| 235/250 [00:21<00:01,  8.64it/s, now=None]\u001b[A\n",
            "t:  95%|█████████▍| 237/250 [00:22<00:01,  9.79it/s, now=None]\u001b[A\n",
            "t:  96%|█████████▌| 239/250 [00:22<00:01,  9.79it/s, now=None]\u001b[A\n",
            "t:  96%|█████████▋| 241/250 [00:22<00:01,  8.92it/s, now=None]\u001b[A\n",
            "t:  97%|█████████▋| 243/250 [00:22<00:00,  9.46it/s, now=None]\u001b[A\n",
            "t:  98%|█████████▊| 245/250 [00:22<00:00,  9.97it/s, now=None]\u001b[A\n",
            "t:  99%|█████████▉| 247/250 [00:23<00:00,  9.16it/s, now=None]\u001b[A\n",
            "t: 100%|█████████▉| 249/250 [00:23<00:00,  8.78it/s, now=None]\u001b[A\n",
            "t:  45%|████▌     | 113/250 [15:14<00:34,  3.93it/s, now=None]"
          ]
        },
        {
          "output_type": "stream",
          "name": "stdout",
          "text": [
            "Moviepy - Done !\n",
            "Moviepy - video ready /content/classified_moments/Goal/goal24.mp4\n"
          ]
        },
        {
          "output_type": "stream",
          "name": "stderr",
          "text": [
            "t:  45%|████▌     | 113/250 [15:15<00:34,  3.93it/s, now=None]"
          ]
        },
        {
          "output_type": "stream",
          "name": "stdout",
          "text": [
            "Moviepy - Building video /content/classified_moments/Happy/happy25.mp4.\n",
            "MoviePy - Writing audio in happy25TEMP_MPY_wvf_snd.mp3\n"
          ]
        },
        {
          "output_type": "stream",
          "name": "stderr",
          "text": [
            "\n",
            "chunk:   0%|          | 0/221 [00:00<?, ?it/s, now=None]\u001b[A\n",
            "chunk:  14%|█▍        | 32/221 [00:00<00:00, 270.86it/s, now=None]\u001b[A\n",
            "chunk:  41%|████      | 90/221 [00:00<00:00, 439.29it/s, now=None]\u001b[A\n",
            "chunk:  69%|██████▉   | 152/221 [00:00<00:00, 514.85it/s, now=None]\u001b[A\n",
            "t:  45%|████▌     | 113/250 [15:15<00:34,  3.93it/s, now=None]"
          ]
        },
        {
          "output_type": "stream",
          "name": "stdout",
          "text": [
            "MoviePy - Done.\n",
            "Moviepy - Writing video /content/classified_moments/Happy/happy25.mp4\n",
            "\n"
          ]
        },
        {
          "output_type": "stream",
          "name": "stderr",
          "text": [
            "\n",
            "t:   0%|          | 0/250 [00:00<?, ?it/s, now=None]\u001b[A\n",
            "t:   3%|▎         | 7/250 [00:00<00:03, 62.67it/s, now=None]\u001b[A\n",
            "t:   6%|▌         | 14/250 [00:00<00:04, 57.24it/s, now=None]\u001b[A\n",
            "t:   9%|▉         | 22/250 [00:00<00:03, 65.65it/s, now=None]\u001b[A\n",
            "t:  12%|█▏        | 30/250 [00:00<00:03, 67.55it/s, now=None]\u001b[A\n",
            "t:  15%|█▍        | 37/250 [00:00<00:03, 65.68it/s, now=None]\u001b[A\n",
            "t:  18%|█▊        | 44/250 [00:00<00:03, 64.13it/s, now=None]\u001b[A\n",
            "t:  20%|██        | 51/250 [00:00<00:03, 62.10it/s, now=None]\u001b[A\n",
            "t:  23%|██▎       | 58/250 [00:01<00:05, 32.24it/s, now=None]\u001b[A\n",
            "t:  25%|██▌       | 63/250 [00:01<00:07, 23.69it/s, now=None]\u001b[A\n",
            "t:  27%|██▋       | 67/250 [00:01<00:08, 21.23it/s, now=None]\u001b[A\n",
            "t:  28%|██▊       | 71/250 [00:02<00:09, 19.65it/s, now=None]\u001b[A\n",
            "t:  30%|██▉       | 74/250 [00:02<00:09, 18.15it/s, now=None]\u001b[A\n",
            "t:  31%|███       | 77/250 [00:02<00:10, 16.56it/s, now=None]\u001b[A\n",
            "t:  32%|███▏      | 79/250 [00:02<00:10, 15.66it/s, now=None]\u001b[A\n",
            "t:  33%|███▎      | 82/250 [00:02<00:11, 15.23it/s, now=None]\u001b[A\n",
            "t:  34%|███▎      | 84/250 [00:03<00:11, 14.88it/s, now=None]\u001b[A\n",
            "t:  34%|███▍      | 86/250 [00:03<00:10, 15.53it/s, now=None]\u001b[A\n",
            "t:  35%|███▌      | 88/250 [00:03<00:11, 14.22it/s, now=None]\u001b[A\n",
            "t:  36%|███▌      | 90/250 [00:03<00:11, 13.51it/s, now=None]\u001b[A\n",
            "t:  37%|███▋      | 92/250 [00:03<00:10, 14.37it/s, now=None]\u001b[A\n",
            "t:  38%|███▊      | 94/250 [00:03<00:11, 13.80it/s, now=None]\u001b[A\n",
            "t:  38%|███▊      | 96/250 [00:04<00:11, 13.45it/s, now=None]\u001b[A\n",
            "t:  39%|███▉      | 98/250 [00:04<00:11, 13.77it/s, now=None]\u001b[A\n",
            "t:  40%|████      | 100/250 [00:04<00:11, 12.84it/s, now=None]\u001b[A\n",
            "t:  41%|████      | 102/250 [00:04<00:11, 12.86it/s, now=None]\u001b[A\n",
            "t:  42%|████▏     | 104/250 [00:04<00:10, 14.26it/s, now=None]\u001b[A\n",
            "t:  42%|████▏     | 106/250 [00:04<00:11, 13.08it/s, now=None]\u001b[A\n",
            "t:  43%|████▎     | 108/250 [00:04<00:10, 13.05it/s, now=None]\u001b[A\n",
            "t:  44%|████▍     | 111/250 [00:05<00:10, 13.74it/s, now=None]\u001b[A\n",
            "t:  45%|████▌     | 113/250 [00:05<00:09, 13.74it/s, now=None]\u001b[A\n",
            "t:  46%|████▌     | 115/250 [00:05<00:09, 13.92it/s, now=None]\u001b[A\n",
            "t:  47%|████▋     | 117/250 [00:05<00:09, 13.97it/s, now=None]\u001b[A\n",
            "t:  48%|████▊     | 119/250 [00:05<00:09, 14.26it/s, now=None]\u001b[A\n",
            "t:  48%|████▊     | 121/250 [00:05<00:09, 13.36it/s, now=None]\u001b[A\n",
            "t:  49%|████▉     | 123/250 [00:05<00:09, 13.89it/s, now=None]\u001b[A\n",
            "t:  50%|█████     | 125/250 [00:06<00:08, 14.02it/s, now=None]\u001b[A\n",
            "t:  51%|█████     | 127/250 [00:06<00:11, 11.14it/s, now=None]\u001b[A\n",
            "t:  52%|█████▏    | 129/250 [00:06<00:09, 12.24it/s, now=None]\u001b[A\n",
            "t:  52%|█████▏    | 131/250 [00:06<00:09, 12.19it/s, now=None]\u001b[A\n",
            "t:  53%|█████▎    | 133/250 [00:06<00:09, 12.61it/s, now=None]\u001b[A\n",
            "t:  54%|█████▍    | 135/250 [00:06<00:08, 13.35it/s, now=None]\u001b[A\n",
            "t:  55%|█████▍    | 137/250 [00:07<00:10, 10.90it/s, now=None]\u001b[A\n",
            "t:  56%|█████▌    | 139/250 [00:07<00:09, 11.17it/s, now=None]\u001b[A\n",
            "t:  56%|█████▋    | 141/250 [00:07<00:10, 10.04it/s, now=None]\u001b[A\n",
            "t:  57%|█████▋    | 143/250 [00:07<00:10,  9.77it/s, now=None]\u001b[A\n",
            "t:  58%|█████▊    | 145/250 [00:08<00:10, 10.10it/s, now=None]\u001b[A\n",
            "t:  59%|█████▉    | 147/250 [00:08<00:09, 10.69it/s, now=None]\u001b[A\n",
            "t:  60%|█████▉    | 149/250 [00:08<00:11,  8.66it/s, now=None]\u001b[A\n",
            "t:  60%|██████    | 150/250 [00:08<00:11,  8.74it/s, now=None]\u001b[A\n",
            "t:  60%|██████    | 151/250 [00:08<00:11,  8.49it/s, now=None]\u001b[A\n",
            "t:  61%|██████    | 152/250 [00:08<00:12,  8.07it/s, now=None]\u001b[A\n",
            "t:  61%|██████    | 153/250 [00:09<00:15,  6.10it/s, now=None]\u001b[A\n",
            "t:  62%|██████▏   | 154/250 [00:09<00:14,  6.73it/s, now=None]\u001b[A\n",
            "t:  62%|██████▏   | 156/250 [00:09<00:14,  6.71it/s, now=None]\u001b[A\n",
            "t:  63%|██████▎   | 157/250 [00:09<00:13,  6.71it/s, now=None]\u001b[A\n",
            "t:  63%|██████▎   | 158/250 [00:09<00:14,  6.41it/s, now=None]\u001b[A\n",
            "t:  64%|██████▎   | 159/250 [00:10<00:14,  6.22it/s, now=None]\u001b[A\n",
            "t:  64%|██████▍   | 161/250 [00:10<00:16,  5.33it/s, now=None]\u001b[A\n",
            "t:  65%|██████▌   | 163/250 [00:10<00:13,  6.24it/s, now=None]\u001b[A\n",
            "t:  66%|██████▌   | 164/250 [00:10<00:13,  6.44it/s, now=None]\u001b[A\n",
            "t:  66%|██████▌   | 165/250 [00:11<00:18,  4.63it/s, now=None]\u001b[A\n",
            "t:  66%|██████▋   | 166/250 [00:11<00:15,  5.33it/s, now=None]\u001b[A\n",
            "t:  67%|██████▋   | 167/250 [00:11<00:15,  5.44it/s, now=None]\u001b[A\n",
            "t:  68%|██████▊   | 169/250 [00:12<00:15,  5.15it/s, now=None]\u001b[A\n",
            "t:  68%|██████▊   | 170/250 [00:12<00:16,  4.86it/s, now=None]\u001b[A\n",
            "t:  68%|██████▊   | 171/250 [00:12<00:14,  5.56it/s, now=None]\u001b[A\n",
            "t:  69%|██████▉   | 173/250 [00:12<00:16,  4.74it/s, now=None]\u001b[A\n",
            "t:  70%|██████▉   | 174/250 [00:13<00:15,  4.97it/s, now=None]\u001b[A\n",
            "t:  70%|███████   | 175/250 [00:13<00:14,  5.18it/s, now=None]\u001b[A\n",
            "t:  71%|███████   | 177/250 [00:13<00:13,  5.37it/s, now=None]\u001b[A\n",
            "t:  71%|███████   | 178/250 [00:13<00:14,  5.11it/s, now=None]\u001b[A\n",
            "t:  72%|███████▏  | 180/250 [00:14<00:14,  4.72it/s, now=None]\u001b[A\n",
            "t:  72%|███████▏  | 181/250 [00:14<00:14,  4.80it/s, now=None]\u001b[A\n",
            "t:  73%|███████▎  | 182/250 [00:14<00:13,  5.05it/s, now=None]\u001b[A\n",
            "t:  74%|███████▎  | 184/250 [00:15<00:12,  5.20it/s, now=None]\u001b[A\n",
            "t:  74%|███████▍  | 185/250 [00:15<00:12,  5.33it/s, now=None]\u001b[A\n",
            "t:  74%|███████▍  | 186/250 [00:15<00:10,  5.86it/s, now=None]\u001b[A\n",
            "t:  75%|███████▌  | 188/250 [00:15<00:10,  5.69it/s, now=None]\u001b[A\n",
            "t:  76%|███████▌  | 189/250 [00:15<00:10,  5.57it/s, now=None]\u001b[A\n",
            "t:  76%|███████▌  | 190/250 [00:16<00:10,  5.73it/s, now=None]\u001b[A\n",
            "t:  77%|███████▋  | 192/250 [00:16<00:10,  5.43it/s, now=None]\u001b[A\n",
            "t:  78%|███████▊  | 194/250 [00:16<00:09,  6.19it/s, now=None]\u001b[A\n",
            "t:  78%|███████▊  | 195/250 [00:16<00:08,  6.37it/s, now=None]\u001b[A\n",
            "t:  78%|███████▊  | 196/250 [00:17<00:10,  5.29it/s, now=None]\u001b[A\n",
            "t:  79%|███████▉  | 197/250 [00:17<00:09,  5.50it/s, now=None]\u001b[A\n",
            "t:  79%|███████▉  | 198/250 [00:17<00:08,  6.01it/s, now=None]\u001b[A\n",
            "t:  80%|███████▉  | 199/250 [00:17<00:08,  6.14it/s, now=None]\u001b[A\n",
            "t:  80%|████████  | 200/250 [00:17<00:10,  4.85it/s, now=None]\u001b[A\n",
            "t:  80%|████████  | 201/250 [00:17<00:09,  5.34it/s, now=None]\u001b[A\n",
            "t:  81%|████████  | 202/250 [00:18<00:07,  6.03it/s, now=None]\u001b[A\n",
            "t:  81%|████████  | 203/250 [00:18<00:08,  5.68it/s, now=None]\u001b[A\n",
            "t:  82%|████████▏ | 204/250 [00:18<00:08,  5.14it/s, now=None]\u001b[A\n",
            "t:  82%|████████▏ | 205/250 [00:18<00:08,  5.60it/s, now=None]\u001b[A\n",
            "t:  82%|████████▏ | 206/250 [00:18<00:06,  6.44it/s, now=None]\u001b[A\n",
            "t:  83%|████████▎ | 208/250 [00:19<00:05,  7.39it/s, now=None]\u001b[A\n",
            "t:  84%|████████▎ | 209/250 [00:19<00:05,  7.70it/s, now=None]\u001b[A\n",
            "t:  84%|████████▍ | 210/250 [00:19<00:05,  7.46it/s, now=None]\u001b[A\n",
            "t:  84%|████████▍ | 211/250 [00:19<00:04,  7.85it/s, now=None]\u001b[A\n",
            "t:  85%|████████▌ | 213/250 [00:19<00:04,  8.41it/s, now=None]\u001b[A\n",
            "t:  86%|████████▌ | 214/250 [00:19<00:04,  7.58it/s, now=None]\u001b[A\n",
            "t:  86%|████████▋ | 216/250 [00:19<00:03,  9.70it/s, now=None]\u001b[A\n",
            "t:  87%|████████▋ | 218/250 [00:20<00:03,  8.56it/s, now=None]\u001b[A\n",
            "t:  88%|████████▊ | 220/250 [00:20<00:03,  8.75it/s, now=None]\u001b[A\n",
            "t:  88%|████████▊ | 221/250 [00:20<00:03,  8.29it/s, now=None]\u001b[A\n",
            "t:  89%|████████▉ | 222/250 [00:20<00:03,  7.97it/s, now=None]\u001b[A\n",
            "t:  89%|████████▉ | 223/250 [00:20<00:03,  7.84it/s, now=None]\u001b[A\n",
            "t:  90%|█████████ | 225/250 [00:20<00:02,  9.69it/s, now=None]\u001b[A\n",
            "t:  90%|█████████ | 226/250 [00:21<00:02,  8.45it/s, now=None]\u001b[A\n",
            "t:  91%|█████████ | 227/250 [00:21<00:02,  8.77it/s, now=None]\u001b[A\n",
            "t:  92%|█████████▏| 229/250 [00:21<00:02,  8.38it/s, now=None]\u001b[A\n",
            "t:  92%|█████████▏| 231/250 [00:21<00:01,  9.57it/s, now=None]\u001b[A\n",
            "t:  93%|█████████▎| 232/250 [00:21<00:02,  8.45it/s, now=None]\u001b[A\n",
            "t:  94%|█████████▎| 234/250 [00:21<00:01,  9.20it/s, now=None]\u001b[A\n",
            "t:  94%|█████████▍| 235/250 [00:22<00:01,  9.10it/s, now=None]\u001b[A\n",
            "t:  94%|█████████▍| 236/250 [00:22<00:01,  9.29it/s, now=None]\u001b[A\n",
            "t:  95%|█████████▍| 237/250 [00:22<00:01,  8.59it/s, now=None]\u001b[A\n",
            "t:  95%|█████████▌| 238/250 [00:22<00:01,  7.36it/s, now=None]\u001b[A\n",
            "t:  96%|█████████▌| 240/250 [00:22<00:01,  9.85it/s, now=None]\u001b[A\n",
            "t:  97%|█████████▋| 242/250 [00:22<00:00, 10.56it/s, now=None]\u001b[A\n",
            "t:  98%|█████████▊| 246/250 [00:22<00:00, 15.38it/s, now=None]\u001b[A\n",
            "t: 100%|█████████▉| 249/250 [00:23<00:00, 18.09it/s, now=None]\u001b[A\n",
            "t:  45%|████▌     | 113/250 [15:39<00:34,  3.93it/s, now=None]"
          ]
        },
        {
          "output_type": "stream",
          "name": "stdout",
          "text": [
            "Moviepy - Done !\n",
            "Moviepy - video ready /content/classified_moments/Happy/happy25.mp4\n"
          ]
        },
        {
          "output_type": "stream",
          "name": "stderr",
          "text": [
            "t:  45%|████▌     | 113/250 [15:40<00:34,  3.93it/s, now=None]"
          ]
        },
        {
          "output_type": "stream",
          "name": "stdout",
          "text": [
            "Moviepy - Building video /content/classified_moments/Loss/loss26.mp4.\n",
            "MoviePy - Writing audio in loss26TEMP_MPY_wvf_snd.mp3\n"
          ]
        },
        {
          "output_type": "stream",
          "name": "stderr",
          "text": [
            "\n",
            "chunk:   0%|          | 0/221 [00:00<?, ?it/s, now=None]\u001b[A\n",
            "chunk:  14%|█▍        | 32/221 [00:00<00:00, 290.95it/s, now=None]\u001b[A\n",
            "chunk:  47%|████▋     | 103/221 [00:00<00:00, 509.24it/s, now=None]\u001b[A\n",
            "chunk:  95%|█████████▌| 210/221 [00:00<00:00, 753.79it/s, now=None]\u001b[A\n",
            "t:  45%|████▌     | 113/250 [15:40<00:34,  3.93it/s, now=None]"
          ]
        },
        {
          "output_type": "stream",
          "name": "stdout",
          "text": [
            "MoviePy - Done.\n",
            "Moviepy - Writing video /content/classified_moments/Loss/loss26.mp4\n",
            "\n"
          ]
        },
        {
          "output_type": "stream",
          "name": "stderr",
          "text": [
            "\n",
            "t:   0%|          | 0/250 [00:00<?, ?it/s, now=None]\u001b[A\n",
            "t:   3%|▎         | 8/250 [00:00<00:03, 73.49it/s, now=None]\u001b[A\n",
            "t:   6%|▋         | 16/250 [00:00<00:04, 55.59it/s, now=None]\u001b[A\n",
            "t:   9%|▉         | 22/250 [00:00<00:03, 57.10it/s, now=None]\u001b[A\n",
            "t:  12%|█▏        | 29/250 [00:00<00:03, 57.49it/s, now=None]\u001b[A\n",
            "t:  14%|█▍        | 36/250 [00:00<00:03, 59.35it/s, now=None]\u001b[A\n",
            "t:  17%|█▋        | 43/250 [00:00<00:03, 56.06it/s, now=None]\u001b[A\n",
            "t:  20%|█▉        | 49/250 [00:00<00:03, 52.17it/s, now=None]\u001b[A\n",
            "t:  22%|██▏       | 55/250 [00:00<00:03, 52.58it/s, now=None]\u001b[A\n",
            "t:  24%|██▍       | 61/250 [00:01<00:07, 24.07it/s, now=None]\u001b[A\n",
            "t:  26%|██▌       | 65/250 [00:01<00:08, 22.08it/s, now=None]\u001b[A\n",
            "t:  28%|██▊       | 69/250 [00:02<00:10, 17.55it/s, now=None]\u001b[A\n",
            "t:  29%|██▉       | 72/250 [00:02<00:10, 17.10it/s, now=None]\u001b[A\n",
            "t:  30%|███       | 75/250 [00:02<00:11, 14.85it/s, now=None]\u001b[A\n",
            "t:  31%|███       | 77/250 [00:02<00:13, 12.71it/s, now=None]\u001b[A\n",
            "t:  32%|███▏      | 79/250 [00:03<00:13, 12.63it/s, now=None]\u001b[A\n",
            "t:  32%|███▏      | 81/250 [00:03<00:14, 11.52it/s, now=None]\u001b[A\n",
            "t:  33%|███▎      | 83/250 [00:03<00:14, 11.23it/s, now=None]\u001b[A\n",
            "t:  34%|███▍      | 85/250 [00:03<00:16, 10.30it/s, now=None]\u001b[A\n",
            "t:  35%|███▍      | 87/250 [00:03<00:15, 10.47it/s, now=None]\u001b[A\n",
            "t:  36%|███▌      | 89/250 [00:04<00:21,  7.54it/s, now=None]\u001b[A\n",
            "t:  36%|███▋      | 91/250 [00:04<00:20,  7.74it/s, now=None]\u001b[A\n",
            "t:  37%|███▋      | 92/250 [00:04<00:21,  7.49it/s, now=None]\u001b[A\n",
            "t:  37%|███▋      | 93/250 [00:05<00:24,  6.34it/s, now=None]\u001b[A\n",
            "t:  38%|███▊      | 95/250 [00:05<00:21,  7.11it/s, now=None]\u001b[A\n",
            "t:  38%|███▊      | 96/250 [00:05<00:21,  7.12it/s, now=None]\u001b[A\n",
            "t:  39%|███▉      | 97/250 [00:05<00:25,  5.91it/s, now=None]\u001b[A\n",
            "t:  39%|███▉      | 98/250 [00:05<00:24,  6.32it/s, now=None]\u001b[A\n",
            "t:  40%|███▉      | 99/250 [00:05<00:24,  6.10it/s, now=None]\u001b[A\n",
            "t:  40%|████      | 101/250 [00:06<00:22,  6.62it/s, now=None]\u001b[A\n",
            "t:  41%|████      | 102/250 [00:06<00:24,  5.99it/s, now=None]\u001b[A\n",
            "t:  41%|████      | 103/250 [00:06<00:22,  6.39it/s, now=None]\u001b[A\n",
            "t:  42%|████▏     | 105/250 [00:06<00:23,  6.08it/s, now=None]\u001b[A\n",
            "t:  42%|████▏     | 106/250 [00:07<00:23,  6.26it/s, now=None]\u001b[A\n",
            "t:  43%|████▎     | 108/250 [00:07<00:19,  7.19it/s, now=None]\u001b[A\n",
            "t:  44%|████▎     | 109/250 [00:07<00:25,  5.43it/s, now=None]\u001b[A\n",
            "t:  44%|████▍     | 111/250 [00:07<00:21,  6.38it/s, now=None]\u001b[A\n",
            "t:  45%|████▍     | 112/250 [00:07<00:20,  6.70it/s, now=None]\u001b[A\n",
            "t:  45%|████▌     | 113/250 [00:08<00:26,  5.16it/s, now=None]\u001b[A\n",
            "t:  46%|████▌     | 114/250 [00:08<00:24,  5.50it/s, now=None]\u001b[A\n",
            "t:  46%|████▋     | 116/250 [00:08<00:19,  6.89it/s, now=None]\u001b[A\n",
            "t:  47%|████▋     | 117/250 [00:08<00:24,  5.41it/s, now=None]\u001b[A\n",
            "t:  47%|████▋     | 118/250 [00:09<00:23,  5.59it/s, now=None]\u001b[A\n",
            "t:  48%|████▊     | 120/250 [00:09<00:25,  5.15it/s, now=None]\u001b[A\n",
            "t:  48%|████▊     | 121/250 [00:09<00:22,  5.67it/s, now=None]\u001b[A\n",
            "t:  49%|████▉     | 122/250 [00:09<00:21,  5.90it/s, now=None]\u001b[A\n",
            "t:  50%|████▉     | 124/250 [00:10<00:23,  5.28it/s, now=None]\u001b[A\n",
            "t:  50%|█████     | 125/250 [00:10<00:22,  5.54it/s, now=None]\u001b[A\n",
            "t:  51%|█████     | 127/250 [00:10<00:16,  7.60it/s, now=None]\u001b[A\n",
            "t:  51%|█████     | 128/250 [00:10<00:21,  5.57it/s, now=None]\u001b[A\n",
            "t:  52%|█████▏    | 129/250 [00:11<00:21,  5.50it/s, now=None]\u001b[A\n",
            "t:  52%|█████▏    | 131/250 [00:11<00:18,  6.48it/s, now=None]\u001b[A\n",
            "t:  53%|█████▎    | 132/250 [00:11<00:20,  5.74it/s, now=None]\u001b[A\n",
            "t:  53%|█████▎    | 133/250 [00:11<00:21,  5.35it/s, now=None]\u001b[A\n",
            "t:  54%|█████▎    | 134/250 [00:11<00:19,  6.02it/s, now=None]\u001b[A\n",
            "t:  54%|█████▍    | 136/250 [00:12<00:16,  7.03it/s, now=None]\u001b[A\n",
            "t:  55%|█████▍    | 137/250 [00:12<00:16,  6.88it/s, now=None]\u001b[A\n",
            "t:  56%|█████▌    | 140/250 [00:12<00:13,  8.20it/s, now=None]\u001b[A\n",
            "t:  56%|█████▋    | 141/250 [00:12<00:14,  7.66it/s, now=None]\u001b[A\n",
            "t:  57%|█████▋    | 143/250 [00:12<00:10,  9.77it/s, now=None]\u001b[A\n",
            "t:  58%|█████▊    | 145/250 [00:13<00:12,  8.17it/s, now=None]\u001b[A\n",
            "t:  59%|█████▉    | 148/250 [00:13<00:10,  9.43it/s, now=None]\u001b[A\n",
            "t:  60%|██████    | 150/250 [00:13<00:11,  8.57it/s, now=None]\u001b[A\n",
            "t:  61%|██████    | 152/250 [00:13<00:09,  9.94it/s, now=None]\u001b[A\n",
            "t:  62%|██████▏   | 154/250 [00:14<00:10,  8.91it/s, now=None]\u001b[A\n",
            "t:  62%|██████▏   | 156/250 [00:14<00:10,  9.30it/s, now=None]\u001b[A\n",
            "t:  63%|██████▎   | 158/250 [00:14<00:10,  9.11it/s, now=None]\u001b[A\n",
            "t:  64%|██████▎   | 159/250 [00:14<00:10,  9.04it/s, now=None]\u001b[A\n",
            "t:  64%|██████▍   | 160/250 [00:14<00:12,  7.36it/s, now=None]\u001b[A\n",
            "t:  65%|██████▍   | 162/250 [00:15<00:10,  8.72it/s, now=None]\u001b[A\n",
            "t:  65%|██████▌   | 163/250 [00:15<00:10,  8.00it/s, now=None]\u001b[A\n",
            "t:  66%|██████▌   | 164/250 [00:15<00:10,  8.22it/s, now=None]\u001b[A\n",
            "t:  66%|██████▋   | 166/250 [00:15<00:09,  8.74it/s, now=None]\u001b[A\n",
            "t:  67%|██████▋   | 167/250 [00:15<00:10,  8.10it/s, now=None]\u001b[A\n",
            "t:  67%|██████▋   | 168/250 [00:15<00:09,  8.42it/s, now=None]\u001b[A\n",
            "t:  68%|██████▊   | 170/250 [00:15<00:08,  9.85it/s, now=None]\u001b[A\n",
            "t:  68%|██████▊   | 171/250 [00:16<00:08,  9.04it/s, now=None]\u001b[A\n",
            "t:  69%|██████▉   | 172/250 [00:16<00:09,  7.95it/s, now=None]\u001b[A\n",
            "t:  70%|██████▉   | 174/250 [00:16<00:07, 10.09it/s, now=None]\u001b[A\n",
            "t:  70%|███████   | 176/250 [00:16<00:08,  8.35it/s, now=None]\u001b[A\n",
            "t:  71%|███████   | 178/250 [00:16<00:08,  8.18it/s, now=None]\u001b[A\n",
            "t:  72%|███████▏  | 180/250 [00:17<00:07,  9.86it/s, now=None]\u001b[A\n",
            "t:  73%|███████▎  | 182/250 [00:17<00:06, 10.15it/s, now=None]\u001b[A\n",
            "t:  74%|███████▍  | 185/250 [00:17<00:04, 13.88it/s, now=None]\u001b[A\n",
            "t:  75%|███████▌  | 188/250 [00:17<00:03, 16.23it/s, now=None]\u001b[A\n",
            "t:  76%|███████▌  | 190/250 [00:17<00:03, 17.03it/s, now=None]\u001b[A\n",
            "t:  77%|███████▋  | 193/250 [00:17<00:02, 19.41it/s, now=None]\u001b[A\n",
            "t:  78%|███████▊  | 196/250 [00:17<00:02, 20.89it/s, now=None]\u001b[A\n",
            "t:  80%|███████▉  | 199/250 [00:17<00:02, 21.45it/s, now=None]\u001b[A\n",
            "t:  81%|████████  | 203/250 [00:18<00:01, 24.14it/s, now=None]\u001b[A\n",
            "t:  83%|████████▎ | 207/250 [00:18<00:01, 26.93it/s, now=None]\u001b[A\n",
            "t:  84%|████████▍ | 210/250 [00:18<00:01, 27.48it/s, now=None]\u001b[A\n",
            "t:  85%|████████▌ | 213/250 [00:18<00:01, 27.63it/s, now=None]\u001b[A\n",
            "t:  87%|████████▋ | 217/250 [00:18<00:01, 29.19it/s, now=None]\u001b[A\n",
            "t:  88%|████████▊ | 221/250 [00:18<00:00, 31.83it/s, now=None]\u001b[A\n",
            "t:  90%|█████████ | 225/250 [00:18<00:00, 30.86it/s, now=None]\u001b[A\n",
            "t:  92%|█████████▏| 229/250 [00:18<00:00, 30.84it/s, now=None]\u001b[A\n",
            "t:  93%|█████████▎| 233/250 [00:19<00:00, 29.29it/s, now=None]\u001b[A\n",
            "t:  95%|█████████▍| 237/250 [00:19<00:00, 28.93it/s, now=None]\u001b[A\n",
            "t:  96%|█████████▋| 241/250 [00:19<00:00, 30.60it/s, now=None]\u001b[A\n",
            "t:  98%|█████████▊| 245/250 [00:19<00:00, 31.77it/s, now=None]\u001b[A\n",
            "t: 100%|█████████▉| 249/250 [00:19<00:00, 32.37it/s, now=None]\u001b[A\n",
            "t:  45%|████▌     | 113/250 [16:00<00:34,  3.93it/s, now=None]"
          ]
        },
        {
          "output_type": "stream",
          "name": "stdout",
          "text": [
            "Moviepy - Done !\n",
            "Moviepy - video ready /content/classified_moments/Loss/loss26.mp4\n"
          ]
        },
        {
          "output_type": "stream",
          "name": "stderr",
          "text": [
            "t:  45%|████▌     | 113/250 [16:01<00:34,  3.93it/s, now=None]"
          ]
        },
        {
          "output_type": "stream",
          "name": "stdout",
          "text": [
            "Moviepy - Building video /content/classified_moments/Loss/loss27.mp4.\n",
            "MoviePy - Writing audio in loss27TEMP_MPY_wvf_snd.mp3\n"
          ]
        },
        {
          "output_type": "stream",
          "name": "stderr",
          "text": [
            "\n",
            "chunk:   0%|          | 0/221 [00:00<?, ?it/s, now=None]\u001b[A\n",
            "chunk:  10%|▉         | 21/221 [00:00<00:00, 209.44it/s, now=None]\u001b[A\n",
            "chunk:  24%|██▎       | 52/221 [00:00<00:00, 256.80it/s, now=None]\u001b[A\n",
            "chunk:  56%|█████▌    | 123/221 [00:00<00:00, 458.39it/s, now=None]\u001b[A\n",
            "chunk:  90%|████████▉ | 198/221 [00:00<00:00, 571.49it/s, now=None]\u001b[A\n",
            "t:  45%|████▌     | 113/250 [16:02<00:34,  3.93it/s, now=None]"
          ]
        },
        {
          "output_type": "stream",
          "name": "stdout",
          "text": [
            "MoviePy - Done.\n",
            "Moviepy - Writing video /content/classified_moments/Loss/loss27.mp4\n",
            "\n"
          ]
        },
        {
          "output_type": "stream",
          "name": "stderr",
          "text": [
            "\n",
            "t:   0%|          | 0/250 [00:00<?, ?it/s, now=None]\u001b[A\n",
            "t:   2%|▏         | 6/250 [00:00<00:04, 56.38it/s, now=None]\u001b[A\n",
            "t:   5%|▍         | 12/250 [00:00<00:04, 49.52it/s, now=None]\u001b[A\n",
            "t:   7%|▋         | 18/250 [00:00<00:05, 39.19it/s, now=None]\u001b[A\n",
            "t:   9%|▉         | 23/250 [00:00<00:06, 36.14it/s, now=None]\u001b[A\n",
            "t:  11%|█         | 27/250 [00:00<00:06, 36.24it/s, now=None]\u001b[A\n",
            "t:  12%|█▏        | 31/250 [00:00<00:06, 35.73it/s, now=None]\u001b[A\n",
            "t:  14%|█▍        | 36/250 [00:00<00:05, 36.02it/s, now=None]\u001b[A\n",
            "t:  16%|█▌        | 40/250 [00:01<00:05, 36.18it/s, now=None]\u001b[A\n",
            "t:  18%|█▊        | 44/250 [00:01<00:05, 36.19it/s, now=None]\u001b[A\n",
            "t:  19%|█▉        | 48/250 [00:01<00:05, 36.95it/s, now=None]\u001b[A\n",
            "t:  21%|██        | 52/250 [00:01<00:05, 36.86it/s, now=None]\u001b[A\n",
            "t:  22%|██▏       | 56/250 [00:01<00:05, 35.65it/s, now=None]\u001b[A\n",
            "t:  24%|██▍       | 60/250 [00:02<00:19,  9.87it/s, now=None]\u001b[A\n",
            "t:  25%|██▌       | 63/250 [00:03<00:20,  9.09it/s, now=None]\u001b[A\n",
            "t:  26%|██▋       | 66/250 [00:03<00:23,  7.90it/s, now=None]\u001b[A\n",
            "t:  27%|██▋       | 68/250 [00:03<00:25,  7.00it/s, now=None]\u001b[A\n",
            "t:  28%|██▊       | 70/250 [00:04<00:24,  7.22it/s, now=None]\u001b[A\n",
            "t:  29%|██▉       | 72/250 [00:04<00:28,  6.31it/s, now=None]\u001b[A\n",
            "t:  30%|██▉       | 74/250 [00:04<00:25,  6.87it/s, now=None]\u001b[A\n",
            "t:  30%|███       | 75/250 [00:05<00:28,  6.19it/s, now=None]\u001b[A\n",
            "t:  30%|███       | 76/250 [00:05<00:31,  5.58it/s, now=None]\u001b[A\n",
            "t:  31%|███       | 77/250 [00:05<00:28,  6.10it/s, now=None]\u001b[A\n",
            "t:  31%|███       | 78/250 [00:05<00:26,  6.45it/s, now=None]\u001b[A\n",
            "t:  32%|███▏      | 79/250 [00:05<00:28,  6.06it/s, now=None]\u001b[A\n",
            "t:  32%|███▏      | 80/250 [00:06<00:35,  4.86it/s, now=None]\u001b[A\n",
            "t:  32%|███▏      | 81/250 [00:06<00:33,  5.12it/s, now=None]\u001b[A\n",
            "t:  33%|███▎      | 82/250 [00:06<00:30,  5.56it/s, now=None]\u001b[A\n",
            "t:  33%|███▎      | 83/250 [00:06<00:27,  6.11it/s, now=None]\u001b[A\n",
            "t:  34%|███▎      | 84/250 [00:06<00:36,  4.60it/s, now=None]\u001b[A\n",
            "t:  34%|███▍      | 85/250 [00:07<00:33,  4.92it/s, now=None]\u001b[A\n",
            "t:  35%|███▍      | 87/250 [00:07<00:27,  5.94it/s, now=None]\u001b[A\n",
            "t:  35%|███▌      | 88/250 [00:07<00:29,  5.53it/s, now=None]\u001b[A\n",
            "t:  36%|███▌      | 89/250 [00:07<00:31,  5.12it/s, now=None]\u001b[A\n",
            "t:  36%|███▌      | 90/250 [00:07<00:28,  5.65it/s, now=None]\u001b[A\n",
            "t:  37%|███▋      | 92/250 [00:08<00:28,  5.46it/s, now=None]\u001b[A\n",
            "t:  37%|███▋      | 93/250 [00:08<00:27,  5.70it/s, now=None]\u001b[A\n",
            "t:  38%|███▊      | 94/250 [00:08<00:27,  5.65it/s, now=None]\u001b[A\n",
            "t:  38%|███▊      | 95/250 [00:08<00:24,  6.34it/s, now=None]\u001b[A\n",
            "t:  38%|███▊      | 96/250 [00:08<00:25,  6.11it/s, now=None]\u001b[A\n",
            "t:  39%|███▉      | 97/250 [00:09<00:30,  5.03it/s, now=None]\u001b[A\n",
            "t:  40%|███▉      | 99/250 [00:09<00:26,  5.74it/s, now=None]\u001b[A\n",
            "t:  40%|████      | 100/250 [00:09<00:25,  5.78it/s, now=None]\u001b[A\n",
            "t:  41%|████      | 102/250 [00:09<00:22,  6.57it/s, now=None]\u001b[A\n",
            "t:  41%|████      | 103/250 [00:10<00:22,  6.60it/s, now=None]\u001b[A\n",
            "t:  42%|████▏     | 106/250 [00:10<00:17,  8.04it/s, now=None]\u001b[A\n",
            "t:  43%|████▎     | 107/250 [00:10<00:18,  7.91it/s, now=None]\u001b[A\n",
            "t:  44%|████▎     | 109/250 [00:10<00:15,  9.12it/s, now=None]\u001b[A\n",
            "t:  44%|████▍     | 110/250 [00:10<00:17,  8.01it/s, now=None]\u001b[A\n",
            "t:  45%|████▍     | 112/250 [00:11<00:16,  8.45it/s, now=None]\u001b[A\n",
            "t:  45%|████▌     | 113/250 [00:11<00:15,  8.58it/s, now=None]\u001b[A\n",
            "t:  46%|████▌     | 115/250 [00:11<00:14,  9.59it/s, now=None]\u001b[A\n",
            "t:  46%|████▋     | 116/250 [00:11<00:15,  8.90it/s, now=None]\u001b[A\n",
            "t:  47%|████▋     | 117/250 [00:11<00:15,  8.46it/s, now=None]\u001b[A\n",
            "t:  48%|████▊     | 119/250 [00:11<00:12, 10.34it/s, now=None]\u001b[A\n",
            "t:  48%|████▊     | 121/250 [00:11<00:13,  9.26it/s, now=None]\u001b[A\n",
            "t:  50%|████▉     | 124/250 [00:12<00:09, 12.78it/s, now=None]\u001b[A\n",
            "t:  51%|█████     | 127/250 [00:12<00:07, 15.55it/s, now=None]\u001b[A\n",
            "t:  52%|█████▏    | 129/250 [00:12<00:07, 16.41it/s, now=None]\u001b[A\n",
            "t:  52%|█████▏    | 131/250 [00:12<00:06, 17.13it/s, now=None]\u001b[A\n",
            "t:  54%|█████▎    | 134/250 [00:12<00:05, 19.42it/s, now=None]\u001b[A\n",
            "t:  55%|█████▍    | 137/250 [00:12<00:05, 20.77it/s, now=None]\u001b[A\n",
            "t:  56%|█████▌    | 140/250 [00:12<00:04, 23.04it/s, now=None]\u001b[A\n",
            "t:  57%|█████▋    | 143/250 [00:12<00:04, 23.86it/s, now=None]\u001b[A\n",
            "t:  59%|█████▉    | 147/250 [00:13<00:03, 25.88it/s, now=None]\u001b[A\n",
            "t:  60%|██████    | 151/250 [00:13<00:03, 28.81it/s, now=None]\u001b[A\n",
            "t:  62%|██████▏   | 155/250 [00:13<00:03, 28.22it/s, now=None]\u001b[A\n",
            "t:  64%|██████▍   | 160/250 [00:13<00:02, 33.03it/s, now=None]\u001b[A\n",
            "t:  66%|██████▌   | 164/250 [00:13<00:02, 31.22it/s, now=None]\u001b[A\n",
            "t:  67%|██████▋   | 168/250 [00:13<00:02, 30.74it/s, now=None]\u001b[A\n",
            "t:  69%|██████▉   | 172/250 [00:13<00:02, 29.61it/s, now=None]\u001b[A\n",
            "t:  70%|███████   | 176/250 [00:13<00:02, 29.85it/s, now=None]\u001b[A\n",
            "t:  72%|███████▏  | 180/250 [00:14<00:02, 31.84it/s, now=None]\u001b[A\n",
            "t:  74%|███████▎  | 184/250 [00:14<00:02, 31.19it/s, now=None]\u001b[A\n",
            "t:  75%|███████▌  | 188/250 [00:14<00:01, 31.88it/s, now=None]\u001b[A\n",
            "t:  77%|███████▋  | 192/250 [00:14<00:01, 32.81it/s, now=None]\u001b[A\n",
            "t:  78%|███████▊  | 196/250 [00:14<00:01, 32.66it/s, now=None]\u001b[A\n",
            "t:  80%|████████  | 200/250 [00:14<00:01, 33.88it/s, now=None]\u001b[A\n",
            "t:  82%|████████▏ | 204/250 [00:14<00:01, 34.55it/s, now=None]\u001b[A\n",
            "t:  83%|████████▎ | 208/250 [00:14<00:01, 34.13it/s, now=None]\u001b[A\n",
            "t:  85%|████████▍ | 212/250 [00:14<00:01, 34.60it/s, now=None]\u001b[A\n",
            "t:  87%|████████▋ | 217/250 [00:15<00:00, 36.20it/s, now=None]\u001b[A\n",
            "t:  89%|████████▉ | 222/250 [00:15<00:00, 36.93it/s, now=None]\u001b[A\n",
            "t:  90%|█████████ | 226/250 [00:15<00:00, 37.25it/s, now=None]\u001b[A\n",
            "t:  92%|█████████▏| 230/250 [00:15<00:00, 37.61it/s, now=None]\u001b[A\n",
            "t:  94%|█████████▎| 234/250 [00:15<00:00, 35.08it/s, now=None]\u001b[A\n",
            "t:  96%|█████████▌| 239/250 [00:15<00:00, 38.61it/s, now=None]\u001b[A\n",
            "t:  97%|█████████▋| 243/250 [00:15<00:00, 36.63it/s, now=None]\u001b[A\n",
            "t:  99%|█████████▉| 247/250 [00:15<00:00, 37.08it/s, now=None]\u001b[A\n",
            "t:  45%|████▌     | 113/250 [16:18<00:34,  3.93it/s, now=None]"
          ]
        },
        {
          "output_type": "stream",
          "name": "stdout",
          "text": [
            "Moviepy - Done !\n",
            "Moviepy - video ready /content/classified_moments/Loss/loss27.mp4\n"
          ]
        },
        {
          "output_type": "stream",
          "name": "stderr",
          "text": [
            "t:  45%|████▌     | 113/250 [16:19<00:34,  3.93it/s, now=None]"
          ]
        },
        {
          "output_type": "stream",
          "name": "stdout",
          "text": [
            "Moviepy - Building video /content/classified_moments/Loss/loss28.mp4.\n",
            "MoviePy - Writing audio in loss28TEMP_MPY_wvf_snd.mp3\n"
          ]
        },
        {
          "output_type": "stream",
          "name": "stderr",
          "text": [
            "\n",
            "chunk:   0%|          | 0/175 [00:00<?, ?it/s, now=None]\u001b[A\n",
            "chunk:  18%|█▊        | 32/175 [00:00<00:00, 316.56it/s, now=None]\u001b[A\n",
            "chunk:  82%|████████▏ | 144/175 [00:00<00:00, 785.62it/s, now=None]\u001b[A\n",
            "t:  45%|████▌     | 113/250 [16:20<00:34,  3.93it/s, now=None]"
          ]
        },
        {
          "output_type": "stream",
          "name": "stdout",
          "text": [
            "MoviePy - Done.\n",
            "Moviepy - Writing video /content/classified_moments/Loss/loss28.mp4\n",
            "\n"
          ]
        },
        {
          "output_type": "stream",
          "name": "stderr",
          "text": [
            "\n",
            "t:   0%|          | 0/199 [00:00<?, ?it/s, now=None]\u001b[A\n",
            "t:   4%|▎         | 7/199 [00:00<00:02, 69.97it/s, now=None]\u001b[A\n",
            "t:   7%|▋         | 14/199 [00:00<00:02, 65.27it/s, now=None]\u001b[A\n",
            "t:  11%|█         | 22/199 [00:00<00:02, 69.16it/s, now=None]\u001b[A\n",
            "t:  15%|█▌        | 30/199 [00:00<00:02, 72.70it/s, now=None]\u001b[A\n",
            "t:  19%|█▉        | 38/199 [00:00<00:02, 72.87it/s, now=None]\u001b[A\n",
            "t:  23%|██▎       | 46/199 [00:00<00:02, 71.80it/s, now=None]\u001b[A\n",
            "t:  27%|██▋       | 54/199 [00:00<00:02, 67.54it/s, now=None]\u001b[A\n",
            "t:  31%|███       | 61/199 [00:01<00:04, 33.61it/s, now=None]\u001b[A\n",
            "t:  34%|███▎      | 67/199 [00:01<00:04, 28.95it/s, now=None]\u001b[A\n",
            "t:  36%|███▌      | 72/199 [00:01<00:04, 26.67it/s, now=None]\u001b[A\n",
            "t:  38%|███▊      | 76/199 [00:01<00:04, 25.28it/s, now=None]\u001b[A\n",
            "t:  40%|████      | 80/199 [00:02<00:05, 23.36it/s, now=None]\u001b[A\n",
            "t:  42%|████▏     | 83/199 [00:02<00:05, 22.49it/s, now=None]\u001b[A\n",
            "t:  43%|████▎     | 86/199 [00:02<00:05, 21.73it/s, now=None]\u001b[A\n",
            "t:  45%|████▍     | 89/199 [00:02<00:05, 21.64it/s, now=None]\u001b[A\n",
            "t:  46%|████▌     | 92/199 [00:02<00:04, 21.63it/s, now=None]\u001b[A\n",
            "t:  48%|████▊     | 95/199 [00:02<00:04, 21.43it/s, now=None]\u001b[A\n",
            "t:  50%|████▉     | 99/199 [00:03<00:04, 24.66it/s, now=None]\u001b[A\n",
            "t:  51%|█████▏    | 102/199 [00:03<00:04, 23.31it/s, now=None]\u001b[A\n",
            "t:  53%|█████▎    | 105/199 [00:03<00:04, 23.45it/s, now=None]\u001b[A\n",
            "t:  54%|█████▍    | 108/199 [00:03<00:04, 21.98it/s, now=None]\u001b[A\n",
            "t:  56%|█████▌    | 111/199 [00:03<00:04, 20.30it/s, now=None]\u001b[A\n",
            "t:  57%|█████▋    | 114/199 [00:03<00:03, 22.00it/s, now=None]\u001b[A\n",
            "t:  59%|█████▉    | 117/199 [00:03<00:03, 21.44it/s, now=None]\u001b[A\n",
            "t:  60%|██████    | 120/199 [00:04<00:03, 22.08it/s, now=None]\u001b[A\n",
            "t:  62%|██████▏   | 123/199 [00:04<00:03, 21.29it/s, now=None]\u001b[A\n",
            "t:  63%|██████▎   | 126/199 [00:04<00:03, 23.06it/s, now=None]\u001b[A\n",
            "t:  65%|██████▍   | 129/199 [00:04<00:02, 23.79it/s, now=None]\u001b[A\n",
            "t:  66%|██████▋   | 132/199 [00:04<00:02, 24.06it/s, now=None]\u001b[A\n",
            "t:  68%|██████▊   | 136/199 [00:04<00:02, 24.85it/s, now=None]\u001b[A\n",
            "t:  70%|██████▉   | 139/199 [00:04<00:02, 25.14it/s, now=None]\u001b[A\n",
            "t:  71%|███████▏  | 142/199 [00:04<00:02, 25.69it/s, now=None]\u001b[A\n",
            "t:  73%|███████▎  | 145/199 [00:05<00:02, 24.32it/s, now=None]\u001b[A\n",
            "t:  74%|███████▍  | 148/199 [00:05<00:02, 25.19it/s, now=None]\u001b[A\n",
            "t:  76%|███████▌  | 151/199 [00:05<00:01, 25.88it/s, now=None]\u001b[A\n",
            "t:  78%|███████▊  | 155/199 [00:05<00:01, 27.43it/s, now=None]\u001b[A\n",
            "t:  79%|███████▉  | 158/199 [00:05<00:01, 26.06it/s, now=None]\u001b[A\n",
            "t:  81%|████████▏ | 162/199 [00:05<00:01, 27.32it/s, now=None]\u001b[A\n",
            "t:  83%|████████▎ | 165/199 [00:05<00:01, 27.16it/s, now=None]\u001b[A\n",
            "t:  84%|████████▍ | 168/199 [00:05<00:01, 26.77it/s, now=None]\u001b[A\n",
            "t:  86%|████████▌ | 171/199 [00:05<00:01, 26.82it/s, now=None]\u001b[A\n",
            "t:  87%|████████▋ | 174/199 [00:06<00:00, 25.44it/s, now=None]\u001b[A\n",
            "t:  89%|████████▉ | 177/199 [00:06<00:00, 24.44it/s, now=None]\u001b[A\n",
            "t:  91%|█████████ | 181/199 [00:06<00:00, 26.82it/s, now=None]\u001b[A\n",
            "t:  92%|█████████▏| 184/199 [00:06<00:00, 25.80it/s, now=None]\u001b[A\n",
            "t:  94%|█████████▍| 188/199 [00:06<00:00, 27.10it/s, now=None]\u001b[A\n",
            "t:  96%|█████████▌| 191/199 [00:06<00:00, 27.19it/s, now=None]\u001b[A\n",
            "t:  97%|█████████▋| 194/199 [00:06<00:00, 27.74it/s, now=None]\u001b[A\n",
            "t:  99%|█████████▉| 197/199 [00:06<00:00, 27.41it/s, now=None]\u001b[AWARNING:py.warnings:/usr/local/lib/python3.10/dist-packages/moviepy/video/io/ffmpeg_reader.py:123: UserWarning: Warning: in file /content/drive/MyDrive/Football analysis videos ICT/Giroud header wins it! _ England v France _ FIFA World Cup Qatar 2022.mp4, 2764800 bytes wanted but 0 bytes read,at frame 3193/3194, at time 127.72/127.73 sec. Using the last valid frame instead.\n",
            "  warnings.warn(\"Warning: in file %s, \"%(self.filename)+\n",
            "\n",
            "\n",
            "t:  45%|████▌     | 113/250 [16:28<00:34,  3.93it/s, now=None]"
          ]
        },
        {
          "output_type": "stream",
          "name": "stdout",
          "text": [
            "Moviepy - Done !\n",
            "Moviepy - video ready /content/classified_moments/Loss/loss28.mp4\n"
          ]
        }
      ]
    },
    {
      "cell_type": "code",
      "source": [
        "!zip -r classified_moments.zip classified_moments/"
      ],
      "metadata": {
        "colab": {
          "base_uri": "https://localhost:8080/"
        },
        "id": "hZnpg6dG97Gv",
        "outputId": "7441beea-f576-4be0-bef3-ceec1c867e2f"
      },
      "execution_count": 125,
      "outputs": [
        {
          "output_type": "stream",
          "name": "stdout",
          "text": [
            "  adding: classified_moments/ (stored 0%)\n",
            "  adding: classified_moments/Happy/ (stored 0%)\n",
            "  adding: classified_moments/Happy/happy3.mp4 (deflated 0%)\n",
            "  adding: classified_moments/Happy/happy23.mp4 (deflated 0%)\n",
            "  adding: classified_moments/Happy/happy25.mp4 (deflated 2%)\n",
            "  adding: classified_moments/Loss/ (stored 0%)\n",
            "  adding: classified_moments/Loss/loss26.mp4 (deflated 3%)\n",
            "  adding: classified_moments/Loss/loss28.mp4 (deflated 28%)\n",
            "  adding: classified_moments/Loss/loss27.mp4 (deflated 7%)\n",
            "  adding: classified_moments/Goal/ (stored 0%)\n",
            "  adding: classified_moments/Goal/goal9.mp4 (deflated 0%)\n",
            "  adding: classified_moments/Goal/goal18.mp4 (deflated 0%)\n",
            "  adding: classified_moments/Goal/goal15.mp4 (deflated 0%)\n",
            "  adding: classified_moments/Goal/goal19.mp4 (deflated 0%)\n",
            "  adding: classified_moments/Goal/goal12.mp4 (deflated 0%)\n",
            "  adding: classified_moments/Goal/goal14.mp4 (deflated 0%)\n",
            "  adding: classified_moments/Goal/goal16.mp4 (deflated 0%)\n",
            "  adding: classified_moments/Goal/goal10.mp4 (deflated 0%)\n",
            "  adding: classified_moments/Goal/goal4.mp4 (deflated 0%)\n",
            "  adding: classified_moments/Goal/goal1.mp4 (deflated 0%)\n",
            "  adding: classified_moments/Goal/goal17.mp4 (deflated 0%)\n",
            "  adding: classified_moments/Goal/goal21.mp4 (deflated 0%)\n",
            "  adding: classified_moments/Goal/goal6.mp4 (deflated 0%)\n",
            "  adding: classified_moments/Goal/goal7.mp4 (deflated 0%)\n",
            "  adding: classified_moments/Goal/goal8.mp4 (deflated 0%)\n",
            "  adding: classified_moments/Goal/goal0.mp4 (deflated 0%)\n",
            "  adding: classified_moments/Goal/goal11.mp4 (deflated 0%)\n",
            "  adding: classified_moments/Goal/goal13.mp4 (deflated 0%)\n",
            "  adding: classified_moments/Goal/goal2.mp4 (deflated 0%)\n",
            "  adding: classified_moments/Goal/goal24.mp4 (deflated 0%)\n",
            "  adding: classified_moments/Goal/goal22.mp4 (deflated 0%)\n",
            "  adding: classified_moments/Goal/goal5.mp4 (deflated 0%)\n",
            "  adding: classified_moments/Goal/goal20.mp4 (deflated 0%)\n"
          ]
        }
      ]
    },
    {
      "cell_type": "code",
      "source": [],
      "metadata": {
        "id": "ltvLmcXc97Je"
      },
      "execution_count": 125,
      "outputs": []
    },
    {
      "cell_type": "code",
      "source": [],
      "metadata": {
        "id": "C7mZcUc597L-"
      },
      "execution_count": 125,
      "outputs": []
    },
    {
      "cell_type": "code",
      "source": [],
      "metadata": {
        "id": "DRkbG3fA97Oi"
      },
      "execution_count": 125,
      "outputs": []
    },
    {
      "cell_type": "code",
      "source": [],
      "metadata": {
        "id": "ucjJNUxO97RS"
      },
      "execution_count": 125,
      "outputs": []
    }
  ]
}